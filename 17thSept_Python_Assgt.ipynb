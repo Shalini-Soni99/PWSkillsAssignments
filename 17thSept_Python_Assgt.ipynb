{
 "cells": [
  {
   "cell_type": "markdown",
   "id": "4c78076c-9ecb-4adf-827f-7fc64f1152ea",
   "metadata": {},
   "source": [
    "For Loop :"
   ]
  },
  {
   "cell_type": "markdown",
   "id": "f87f752d-5e92-4a8a-8228-af64ce22dbe1",
   "metadata": {},
   "source": [
    "1. Write a Python program to print numbers from 1 to 10 using a for loop"
   ]
  },
  {
   "cell_type": "code",
   "execution_count": 2,
   "id": "cdcf6ddf-2f0e-429f-88e0-6cb89825bc53",
   "metadata": {},
   "outputs": [
    {
     "name": "stdout",
     "output_type": "stream",
     "text": [
      "1 2 3 4 5 6 7 8 9 10 "
     ]
    }
   ],
   "source": [
    "for i in range(1,11):\n",
    "    print(i, end =\" \")"
   ]
  },
  {
   "cell_type": "markdown",
   "id": "5fbf4b33-dc0e-436a-a4e7-0624469ef240",
   "metadata": {},
   "source": [
    "2. Explain the difference between a for loop and a while loop in Python.\n"
   ]
  },
  {
   "cell_type": "raw",
   "id": "bb89ce02-8b0d-4ef0-8021-d78120f4ae77",
   "metadata": {},
   "source": [
    "For loop is used to iterate over a sequence of items like a list or a range whereas while loop just repeatedly executes a block of code till the given \n",
    "condition is true."
   ]
  },
  {
   "cell_type": "markdown",
   "id": "080cc34f-94ff-4e73-b35e-5c56f265891a",
   "metadata": {},
   "source": [
    "3. Write a Python program to calculate the sum of all numbers from 1 to 100 using a for loop."
   ]
  },
  {
   "cell_type": "code",
   "execution_count": 5,
   "id": "d8d4d289-49ed-48fd-b81b-ee928362425b",
   "metadata": {},
   "outputs": [
    {
     "name": "stdout",
     "output_type": "stream",
     "text": [
      "sum of numbrs 1-100 is: 5050\n"
     ]
    }
   ],
   "source": [
    "sum = 0\n",
    "for i in range(1,101):\n",
    "    sum = sum+i\n",
    "    \n",
    "print(f\"sum of numbrs 1-100 is: {sum}\")\n",
    "    "
   ]
  },
  {
   "cell_type": "markdown",
   "id": "6c20809c-b189-4e03-851a-a11defbd2f10",
   "metadata": {},
   "source": [
    "4. How do you iterate through a list using a for loop in Python?"
   ]
  },
  {
   "cell_type": "code",
   "execution_count": 1,
   "id": "c8512d06-ed0b-4f89-bd36-ceecb318145b",
   "metadata": {},
   "outputs": [
    {
     "name": "stdout",
     "output_type": "stream",
     "text": [
      "apple\n",
      "mango\n",
      "banana\n"
     ]
    }
   ],
   "source": [
    "#Example showing how to iterate through a for loop in Python\n",
    "\n",
    "my_lst = ['apple', 'mango', 'banana']\n",
    "\n",
    "#Using a for loop to iterate throught the above list and print each of its elements \n",
    "for i in my_lst:\n",
    "    print(i)"
   ]
  },
  {
   "cell_type": "markdown",
   "id": "e7c02a2e-62ae-411e-a2c2-190e8d663f10",
   "metadata": {},
   "source": [
    "5. Write a Python program to find the product of all elements in a list using a for loop"
   ]
  },
  {
   "cell_type": "code",
   "execution_count": 3,
   "id": "ffb632d2-cefb-4963-90ff-57d6661c202d",
   "metadata": {},
   "outputs": [
    {
     "data": {
      "text/plain": [
       "120"
      ]
     },
     "execution_count": 3,
     "metadata": {},
     "output_type": "execute_result"
    }
   ],
   "source": [
    "def list_product(lst):\n",
    "    product = 1\n",
    "    for i in lst:\n",
    "        product = i*product\n",
    "    return product\n",
    "\n",
    "list_product([1,2,3,4,5])"
   ]
  },
  {
   "cell_type": "markdown",
   "id": "fbf3a408-a76b-40cb-a203-02f7c43118f7",
   "metadata": {},
   "source": [
    "6. Create a Python program that prints all even numbers from 1 to 20 using a for loop."
   ]
  },
  {
   "cell_type": "code",
   "execution_count": 4,
   "id": "43d2a6ed-3bbf-437d-8a0a-8cb5f921aaf0",
   "metadata": {},
   "outputs": [
    {
     "name": "stdout",
     "output_type": "stream",
     "text": [
      "2 4 6 8 10 12 14 16 18 20 "
     ]
    }
   ],
   "source": [
    "for i in range(1,21):\n",
    "    if i%2==0:\n",
    "        print(i, end=' ')"
   ]
  },
  {
   "cell_type": "markdown",
   "id": "127e00de-75cf-40f8-8325-21958fa42f27",
   "metadata": {},
   "source": [
    "7. Write a Python program that calculates the factorial of a number using a for loop."
   ]
  },
  {
   "cell_type": "code",
   "execution_count": 9,
   "id": "c5e39d36-03a2-4b8d-a28e-c13eeecf8bf6",
   "metadata": {},
   "outputs": [
    {
     "data": {
      "text/plain": [
       "120"
      ]
     },
     "execution_count": 9,
     "metadata": {},
     "output_type": "execute_result"
    }
   ],
   "source": [
    "def factorial(n):\n",
    "    fact = 1\n",
    "    if n==0 or n==1:\n",
    "        fact = 1\n",
    "    else:\n",
    "        for i in range(2, n+1):\n",
    "            fact = i*fact\n",
    "            \n",
    "    return fact\n",
    "            \n",
    "factorial(5)"
   ]
  },
  {
   "cell_type": "markdown",
   "id": "1986ce5c-f152-4f51-a4ef-20ae6e0c2473",
   "metadata": {},
   "source": [
    "8. How can you iterate through the characters of a string using a for loop in Python?"
   ]
  },
  {
   "cell_type": "code",
   "execution_count": 11,
   "id": "d064b60b-5ce1-47d7-8de0-a08e1e260032",
   "metadata": {},
   "outputs": [
    {
     "name": "stdout",
     "output_type": "stream",
     "text": [
      "S h a l i n i "
     ]
    }
   ],
   "source": [
    "#We can iterate like the following example \n",
    "\n",
    "string = 'Shalini'\n",
    "\n",
    "for i in string: #Iterating using a for loop\n",
    "    print(i, end= ' ') #Printing all the characters with a space in between"
   ]
  },
  {
   "cell_type": "markdown",
   "id": "86deb4c8-5124-4dd3-a585-b3c6d948e191",
   "metadata": {},
   "source": [
    "9. Write a Python program to find the largest number in a list using a for loop.\n"
   ]
  },
  {
   "cell_type": "code",
   "execution_count": 12,
   "id": "9c95aae5-861f-46b8-b3c2-4058f5a13583",
   "metadata": {},
   "outputs": [
    {
     "data": {
      "text/plain": [
       "10"
      ]
     },
     "execution_count": 12,
     "metadata": {},
     "output_type": "execute_result"
    }
   ],
   "source": [
    "def largest_num(lst):\n",
    "    lar_num = 0\n",
    "    for i in lst:\n",
    "        if i>lar_num:\n",
    "            lar_num = i\n",
    "    return lar_num\n",
    "\n",
    "lst = [8,4,5,6,10]\n",
    "largest_num(lst)\n",
    "            "
   ]
  },
  {
   "cell_type": "markdown",
   "id": "c4820f9a-6b7f-40d9-ba22-7d9e19926fd6",
   "metadata": {},
   "source": [
    "10. Create a Python program that prints the Fibonacci sequence up to a specified limit using a for\n",
    "loop."
   ]
  },
  {
   "cell_type": "code",
   "execution_count": 13,
   "id": "97a9fce8-932a-47ea-a803-c8dd9c59bd37",
   "metadata": {},
   "outputs": [
    {
     "name": "stdout",
     "output_type": "stream",
     "text": [
      "0\n",
      "1\n",
      "1\n",
      "2\n",
      "3\n",
      "5\n",
      "8\n",
      "13\n",
      "21\n",
      "34\n",
      "55\n",
      "89\n"
     ]
    }
   ],
   "source": [
    "def Fibo(num):\n",
    "    a = 0\n",
    "    b = 1\n",
    "    if num==1:\n",
    "        print(a)\n",
    "    else:\n",
    "        print(a)\n",
    "        print(b)\n",
    "        for i in range(1, num +1):\n",
    "            c = a+b\n",
    "            a= b\n",
    "            b = c\n",
    "            print(c)\n",
    "            \n",
    "Fibo(10)\n",
    "            \n",
    "    "
   ]
  },
  {
   "cell_type": "markdown",
   "id": "6dac4687-ff0f-4f87-abc3-0dfd2f7237eb",
   "metadata": {},
   "source": [
    "11. Write a Python program to count the number of vowels in a given string using a for loop.\n"
   ]
  },
  {
   "cell_type": "code",
   "execution_count": 14,
   "id": "a226ac74-774e-43b8-bcea-b1896b506fe4",
   "metadata": {},
   "outputs": [
    {
     "name": "stdin",
     "output_type": "stream",
     "text": [
      "Enter string:-  My name is Shalini\n"
     ]
    },
    {
     "name": "stdout",
     "output_type": "stream",
     "text": [
      "Number of vowels: 6\n"
     ]
    }
   ],
   "source": [
    "string = input(\"Enter string:- \")\n",
    "vowels = \"AEIOUaeiou\"\n",
    "count = 0\n",
    "\n",
    "for char in string:\n",
    "    if char in vowels:\n",
    "        count += 1\n",
    "\n",
    "print(\"Number of vowels:\", count)"
   ]
  },
  {
   "cell_type": "markdown",
   "id": "0957d95a-e822-443a-8891-692158595430",
   "metadata": {},
   "source": [
    "12. Create a Python program that generates a multiplication table for a given number using a for\n",
    "loop.\n"
   ]
  },
  {
   "cell_type": "code",
   "execution_count": 18,
   "id": "f480b20a-c0f4-47ce-a8a5-21884d2bea90",
   "metadata": {},
   "outputs": [
    {
     "name": "stdout",
     "output_type": "stream",
     "text": [
      "10 x 1 = 10\n",
      "10 x 2 = 20\n",
      "10 x 3 = 30\n",
      "10 x 4 = 40\n",
      "10 x 5 = 50\n",
      "10 x 6 = 60\n",
      "10 x 7 = 70\n",
      "10 x 8 = 80\n",
      "10 x 9 = 90\n",
      "10 x 10 = 100\n"
     ]
    }
   ],
   "source": [
    "def table(n):\n",
    "    for i in range(1,11):\n",
    "        result = n * i\n",
    "        print(f\"{n} x {i} = {result}\")\n",
    "table(10)"
   ]
  },
  {
   "cell_type": "markdown",
   "id": "82e5a6ae-a8c9-4e93-a4c5-98aa2d5bd09d",
   "metadata": {},
   "source": [
    "13. Write a Python program to reverse a list using a for loop."
   ]
  },
  {
   "cell_type": "code",
   "execution_count": 17,
   "id": "38e6a45d-7ec1-42a9-844c-4211b778ed4d",
   "metadata": {},
   "outputs": [
    {
     "name": "stdout",
     "output_type": "stream",
     "text": [
      "[3, 2, 1]\n"
     ]
    }
   ],
   "source": [
    "def reverse(lst):\n",
    "    reversed_list = lst[::-1]\n",
    "    print(reversed_list)\n",
    "    \n",
    "reverse([1,2,3])"
   ]
  },
  {
   "cell_type": "markdown",
   "id": "ff87e237-12f2-4dea-9f1f-5c065bc8f769",
   "metadata": {},
   "source": [
    "14. Write a Python program to find the common elements between two lists using a for loop."
   ]
  },
  {
   "cell_type": "code",
   "execution_count": 19,
   "id": "9b8b6948-2def-42d1-b3c2-e986dda002ff",
   "metadata": {},
   "outputs": [
    {
     "name": "stdout",
     "output_type": "stream",
     "text": [
      "List 1: [1, 2, 3, 4, 5]\n",
      "List 2: [3, 4, 5, 6, 7]\n",
      "Common Elements: [3, 4, 5]\n"
     ]
    }
   ],
   "source": [
    "# Initialize two lists\n",
    "list1 = [1, 2, 3, 4, 5]\n",
    "list2 = [3, 4, 5, 6, 7]\n",
    "\n",
    "# Create an empty list to store common elements\n",
    "common_elements = []\n",
    "\n",
    "# Use a for loop to iterate through list1\n",
    "for item in list1:\n",
    "    # Check if the item is in list2\n",
    "    if item in list2:\n",
    "        # If it's in both lists, append it to common_elements\n",
    "        common_elements.append(item)\n",
    "\n",
    "# Print the common elements\n",
    "print(\"List 1:\", list1)\n",
    "print(\"List 2:\", list2)\n",
    "print(\"Common Elements:\", common_elements)"
   ]
  },
  {
   "cell_type": "markdown",
   "id": "262d97b6-b523-4031-bbbe-b4f1f6cec98c",
   "metadata": {},
   "source": [
    "15. Explain how to use a for loop to iterate through the keys and values of a dictionary in Python.\n"
   ]
  },
  {
   "cell_type": "code",
   "execution_count": 20,
   "id": "566801a1-954b-4bce-ae33-c5edba59bc26",
   "metadata": {},
   "outputs": [
    {
     "name": "stdout",
     "output_type": "stream",
     "text": [
      "Key: name, Value: Shalini\n",
      "Key: age, Value: 23\n",
      "Key: city, Value: Delhi\n"
     ]
    }
   ],
   "source": [
    "#Example showing how we can iterate throught the keys and values of a dictionary\n",
    "\n",
    "# Create a sample dictionary\n",
    "my_dict = {'name': 'Shalini', 'age': 23, 'city': 'Delhi'}\n",
    "\n",
    "# Iterate through keys and values using a for loop\n",
    "for key, value in my_dict.items():\n",
    "    print(f'Key: {key}, Value: {value}')"
   ]
  },
  {
   "cell_type": "markdown",
   "id": "492f9f00-51eb-4387-aa47-294eb7daf9c9",
   "metadata": {},
   "source": [
    "16. Write a Python program to find the GCD (Greatest Common Divisor) of two numbers using a for\n",
    "loop.\n"
   ]
  },
  {
   "cell_type": "code",
   "execution_count": 21,
   "id": "0bc5c05a-d1f9-4597-a2a1-5ed8328c1aeb",
   "metadata": {},
   "outputs": [
    {
     "name": "stdin",
     "output_type": "stream",
     "text": [
      "Enter the first number:  16\n",
      "Enter the second number:  28\n"
     ]
    },
    {
     "name": "stdout",
     "output_type": "stream",
     "text": [
      "The GCD of 16 and 28 is 4\n"
     ]
    }
   ],
   "source": [
    "# Input two numbers\n",
    "num1 = int(input(\"Enter the first number: \"))\n",
    "num2 = int(input(\"Enter the second number: \"))\n",
    "\n",
    "# Find the minimum of the two numbers\n",
    "min_num = min(num1, num2)\n",
    "\n",
    "# Initialize a variable to store the GCD\n",
    "gcd = 1\n",
    "\n",
    "# Use a for loop to find the GCD\n",
    "for i in range(1, min_num + 1):\n",
    "    if num1 % i == 0 and num2 % i == 0:\n",
    "        gcd = i\n",
    "\n",
    "# Print the GCD\n",
    "print(f\"The GCD of {num1} and {num2} is {gcd}\")"
   ]
  },
  {
   "cell_type": "markdown",
   "id": "c764a054-b31b-4103-a327-f8ec2c3450e9",
   "metadata": {},
   "source": [
    "17. Create a Python program that checks if a string is a palindrome using a for loop."
   ]
  },
  {
   "cell_type": "code",
   "execution_count": 24,
   "id": "0b351764-0956-45ae-a2cb-35decfeef264",
   "metadata": {},
   "outputs": [
    {
     "name": "stdin",
     "output_type": "stream",
     "text": [
      "Enter any string Naman\n"
     ]
    },
    {
     "name": "stdout",
     "output_type": "stream",
     "text": [
      "Palindrome\n"
     ]
    }
   ],
   "source": [
    "input_string = input('Enter any string').replace(\" \", \"\").lower()\n",
    "\n",
    "if input_string == input_string[::-1]:\n",
    "    print('Palindrome')\n",
    "else:\n",
    "    print(\"Not a plaindrome\")\n"
   ]
  },
  {
   "cell_type": "markdown",
   "id": "3526027c-0e40-4e42-8bb5-e56abbf51746",
   "metadata": {},
   "source": [
    "18. Write a Python program to remove duplicates from a list using a for loop.\n"
   ]
  },
  {
   "cell_type": "code",
   "execution_count": 25,
   "id": "8d44db1e-3a1c-441d-b642-f8d9d99ef249",
   "metadata": {},
   "outputs": [
    {
     "name": "stdout",
     "output_type": "stream",
     "text": [
      "Original List: [1, 2, 2, 3, 4, 4, 5, 6, 6]\n",
      "List with Duplicates Removed: [1, 2, 3, 4, 5, 6]\n"
     ]
    }
   ],
   "source": [
    "# Input a list with duplicates\n",
    "input_list = [1, 2, 2, 3, 4, 4, 5, 6, 6]\n",
    "\n",
    "# Create an empty list to store unique elements\n",
    "unique_list = []\n",
    "\n",
    "# Use a for loop to iterate through the input list\n",
    "for item in input_list:\n",
    "    # If the item is not already in the unique list, add it\n",
    "    if item not in unique_list:\n",
    "        unique_list.append(item)\n",
    "\n",
    "# Print the list with duplicates removed\n",
    "print(\"Original List:\", input_list)\n",
    "print(\"List with Duplicates Removed:\", unique_list)"
   ]
  },
  {
   "cell_type": "markdown",
   "id": "c801e5b0-c1ad-436e-b72c-7a3068e445b9",
   "metadata": {},
   "source": [
    "19. Create a Python program that counts the number of words in a sentence using a for loop.\n"
   ]
  },
  {
   "cell_type": "code",
   "execution_count": 30,
   "id": "cab43e40-4acc-428d-a95a-23da8a0c4d9b",
   "metadata": {},
   "outputs": [
    {
     "name": "stdin",
     "output_type": "stream",
     "text": [
      "Enter a sentence:  Shalini Soni PWskills \n"
     ]
    },
    {
     "name": "stdout",
     "output_type": "stream",
     "text": [
      "The number of words in the sentence is: 3\n"
     ]
    }
   ],
   "source": [
    "# Input a sentence\n",
    "sentence = input(\"Enter a sentence: \")\n",
    "\n",
    "# Split the sentence into words using spaces as the delimiter\n",
    "words = sentence.split()\n",
    "\n",
    "# Initialize a variable to count words\n",
    "word_count = 0\n",
    "\n",
    "# Use a for loop to iterate through the list of words\n",
    "for word in words:\n",
    "    word_count += 1\n",
    "\n",
    "# Print the word count\n",
    "print(f\"The number of words in the sentence is: {word_count}\")"
   ]
  },
  {
   "cell_type": "markdown",
   "id": "d1c4563e-f7e0-459a-acb9-13be19ec42b3",
   "metadata": {},
   "source": [
    "20. Write a Python program to find the sum of all odd numbers from 1 to 50 using a for loop."
   ]
  },
  {
   "cell_type": "code",
   "execution_count": 31,
   "id": "4ee3e4f0-212e-42e9-a883-e9fa5295b982",
   "metadata": {},
   "outputs": [
    {
     "name": "stdout",
     "output_type": "stream",
     "text": [
      "The sum of odd numbers from 1 to 50 is: 625\n"
     ]
    }
   ],
   "source": [
    "# Initialize a variable to store the sum\n",
    "sum_of_odds = 0\n",
    "\n",
    "# Use a for loop to iterate through numbers from 1 to 50\n",
    "for num in range(1, 51):\n",
    "    # Check if the number is odd\n",
    "    if num % 2 != 0:\n",
    "        sum_of_odds += num\n",
    "\n",
    "# Print the sum of odd numbers\n",
    "print(\"The sum of odd numbers from 1 to 50 is:\", sum_of_odds)"
   ]
  },
  {
   "cell_type": "markdown",
   "id": "d1a56b29-7790-41dd-9fee-ee93d39c3e20",
   "metadata": {},
   "source": [
    "21. Write a Python program that checks if a given year is a leap year using a for loop."
   ]
  },
  {
   "cell_type": "code",
   "execution_count": 32,
   "id": "cc59deaa-6840-4b38-b4aa-ba967ff5b687",
   "metadata": {},
   "outputs": [
    {
     "name": "stdin",
     "output_type": "stream",
     "text": [
      "Enter a year:  2023\n"
     ]
    },
    {
     "name": "stdout",
     "output_type": "stream",
     "text": [
      "2023 is not a leap year.\n"
     ]
    }
   ],
   "source": [
    "# Input a year from the user\n",
    "year = int(input(\"Enter a year: \"))\n",
    "\n",
    "# Check if it's a leap year\n",
    "if (year % 4 == 0 and year % 100 != 0) or (year % 400 == 0):\n",
    "    print(f\"{year} is a leap year.\")\n",
    "else:\n",
    "    print(f\"{year} is not a leap year.\")"
   ]
  },
  {
   "cell_type": "markdown",
   "id": "ba4a817b-dc9c-4152-b7a8-6c2433083185",
   "metadata": {},
   "source": [
    "22. Create a Python program that calculates the square root of a number using a for loop.\n"
   ]
  },
  {
   "cell_type": "code",
   "execution_count": 2,
   "id": "83f063c6-e516-4476-8c3b-45a1884f450f",
   "metadata": {},
   "outputs": [
    {
     "name": "stdin",
     "output_type": "stream",
     "text": [
      "Enter a number:  55\n"
     ]
    },
    {
     "name": "stdout",
     "output_type": "stream",
     "text": [
      "The square root of 55.0 is approximately 7.42\n"
     ]
    }
   ],
   "source": [
    "# Input a number\n",
    "num = float(input(\"Enter a number: \"))\n",
    "\n",
    "# Initialize an approximate square root\n",
    "approx_sqrt = num / 2  # Starting with an initial guess\n",
    "\n",
    "# Number of iterations\n",
    "iterations = 10  # You can adjust the number of iterations as needed\n",
    "\n",
    "# Use a for loop to refine the approximation\n",
    "for _ in range(iterations):\n",
    "    approx_sqrt = 0.5 * (approx_sqrt + (num / approx_sqrt))\n",
    "\n",
    "# Print the square root approximation\n",
    "print(f\"The square root of {num} is approximately {approx_sqrt:.2f}\")"
   ]
  },
  {
   "cell_type": "markdown",
   "id": "97cfd26e-4e84-4acb-a746-ac13cbb4cd4f",
   "metadata": {},
   "source": [
    "23. Write a Python program to find the LCM (Least Common Multiple) of two numbers using a for\n",
    "loop.\n"
   ]
  },
  {
   "cell_type": "code",
   "execution_count": 7,
   "id": "e2f34586-e48c-46cf-890d-0edfb1fd0708",
   "metadata": {},
   "outputs": [
    {
     "data": {
      "text/plain": [
       "60"
      ]
     },
     "execution_count": 7,
     "metadata": {},
     "output_type": "execute_result"
    }
   ],
   "source": [
    "def lcm(num1, num2):\n",
    "    num = max(num1, num2)\n",
    "    for i in range(num, num1*num2):\n",
    "        if i%num1==0 and i%num2 == 0:\n",
    "            return i\n",
    "            break\n",
    "            \n",
    "lcm(30,12)\n",
    "    "
   ]
  },
  {
   "cell_type": "markdown",
   "id": "105b5a15-b55c-4b32-93a0-864a5b6b934c",
   "metadata": {},
   "source": [
    "If else :\n"
   ]
  },
  {
   "cell_type": "markdown",
   "id": "268445b1-1db2-4873-bf39-6b73721a0fca",
   "metadata": {},
   "source": [
    "1. Write a Python program to check if a number is positive, negative, or zero using an if-else\n",
    "statement.\n"
   ]
  },
  {
   "cell_type": "code",
   "execution_count": 8,
   "id": "d2b2e80d-ad1e-4302-9af1-4fea4effcc14",
   "metadata": {},
   "outputs": [
    {
     "name": "stdin",
     "output_type": "stream",
     "text": [
      "Input any number 5\n"
     ]
    },
    {
     "name": "stdout",
     "output_type": "stream",
     "text": [
      "It is a positive number\n"
     ]
    },
    {
     "name": "stdin",
     "output_type": "stream",
     "text": [
      "Input any number 0\n"
     ]
    },
    {
     "name": "stdout",
     "output_type": "stream",
     "text": [
      "It is zero\n"
     ]
    },
    {
     "name": "stdin",
     "output_type": "stream",
     "text": [
      "Input any number -5\n"
     ]
    },
    {
     "name": "stdout",
     "output_type": "stream",
     "text": [
      "It is a negative number\n"
     ]
    }
   ],
   "source": [
    "#Define a function to check whether a number is positive or negative\n",
    "def check_num():\n",
    "\n",
    "    #Input number\n",
    "    num = int(input(\"Input any number\"))\n",
    "\n",
    "    #Using if-else conditions to check the number\n",
    "    if num>0:\n",
    "        print(\"It is a positive number\")\n",
    "    elif num<0:\n",
    "        print(\"It is a negative number\")\n",
    "    elif num==0:\n",
    "        print(\"It is zero\")\n",
    "\n",
    "check_num()\n",
    "check_num()\n",
    "check_num()"
   ]
  },
  {
   "cell_type": "markdown",
   "id": "860f530a-9ce9-4cbe-8979-d0091674831b",
   "metadata": {},
   "source": [
    "2. Create a Python program that checks if a given number is even or odd using an if-else statement.\n"
   ]
  },
  {
   "cell_type": "code",
   "execution_count": 11,
   "id": "bde00680-59dc-4450-a2d0-595d22e9cdcc",
   "metadata": {},
   "outputs": [
    {
     "name": "stdout",
     "output_type": "stream",
     "text": [
      "55 is odd\n",
      "22 is even\n"
     ]
    }
   ],
   "source": [
    "def check_odd_even(num):\n",
    "    if num%2==0:\n",
    "        print(f'{num} is even')\n",
    "    else:\n",
    "        print(num, \"is odd\")\n",
    "\n",
    "check_odd_even(55)\n",
    "check_odd_even(22)"
   ]
  },
  {
   "cell_type": "markdown",
   "id": "353aac18-8971-4479-baac-7f779af00883",
   "metadata": {},
   "source": [
    "3. How can you use nested if-else statements in Python, and provide an example?\n"
   ]
  },
  {
   "cell_type": "code",
   "execution_count": 12,
   "id": "aa968e50-eb53-4be0-a3e9-42bbc32e9117",
   "metadata": {},
   "outputs": [
    {
     "name": "stdout",
     "output_type": "stream",
     "text": [
      "Not a leap year\n",
      "Leap year\n",
      "Leap Year\n",
      "Not a leap year\n"
     ]
    }
   ],
   "source": [
    "#This example shows a nested if-else statement \n",
    "def if_leap(year):\n",
    "    if year%100==0:\n",
    "        if year%400==0:\n",
    "            print(\"Leap Year\")\n",
    "        else:\n",
    "            print(\"Not a leap year\")\n",
    "    elif year%4==0:\n",
    "        print(\"Leap year\")\n",
    "    else:\n",
    "        print(\"Not a leap year\")\n",
    "        \n",
    "if_leap(2023)\n",
    "if_leap(2024)\n",
    "if_leap(2000)\n",
    "if_leap(2100)\n"
   ]
  },
  {
   "cell_type": "markdown",
   "id": "c5c67f0f-4692-48b0-b696-23428265af9a",
   "metadata": {},
   "source": [
    "4. Write a Python program to determine the largest of three numbers using if-else.\n"
   ]
  },
  {
   "cell_type": "code",
   "execution_count": 13,
   "id": "4ba72ede-d404-4781-a430-04d23b80148c",
   "metadata": {},
   "outputs": [
    {
     "name": "stdout",
     "output_type": "stream",
     "text": [
      "5  is the greatest\n",
      "11  is the greatest\n"
     ]
    }
   ],
   "source": [
    "def largest_num(a,b,c):\n",
    "    if a>b and a>c:\n",
    "        print(a, \" is the greatest\")\n",
    "    elif b>a and b>c:\n",
    "        print(b, \" is the greatest\")\n",
    "    elif c>a and c>b:\n",
    "        print(c, \" is the greatest\")\n",
    "    \n",
    "largest_num(2,3,5)\n",
    "largest_num(9,2,11)"
   ]
  },
  {
   "cell_type": "markdown",
   "id": "c6c8f81a-16a6-402c-a74d-5d14da82e8fd",
   "metadata": {},
   "source": [
    "5. Write a Python program that calculates the absolute value of a number using if-else."
   ]
  },
  {
   "cell_type": "code",
   "execution_count": 1,
   "id": "b08074ef-9e7e-46e6-94b1-c16e001f506b",
   "metadata": {},
   "outputs": [
    {
     "name": "stdout",
     "output_type": "stream",
     "text": [
      "Absolute value: 20.5\n",
      "Absolute value: 33.0\n"
     ]
    }
   ],
   "source": [
    "def abs_value(num):\n",
    "    if num<0:\n",
    "        print(\"Absolute value:\", -(num))\n",
    "    else:\n",
    "        print(\"Absolute value:\", num)\n",
    "        \n",
    "abs_value(-20.5)\n",
    "abs_value(33.0)"
   ]
  },
  {
   "cell_type": "markdown",
   "id": "e6f24c0c-0f2b-47a9-a548-bc012280b9af",
   "metadata": {},
   "source": [
    "6. Create a Python program that checks if a given character is a vowel or consonant using if-else."
   ]
  },
  {
   "cell_type": "code",
   "execution_count": 2,
   "id": "7f4d7ee4-0059-42b4-8a00-686815962ead",
   "metadata": {},
   "outputs": [
    {
     "name": "stdout",
     "output_type": "stream",
     "text": [
      "N is a consonant\n",
      "U is a vowel\n"
     ]
    }
   ],
   "source": [
    "def check_vowel_cons(char):\n",
    "    if char in 'AEIOUaeiou':\n",
    "        print(char, \"is a vowel\")\n",
    "    else:\n",
    "        print(char, \"is a consonant\")\n",
    "\n",
    "check_vowel_cons('N')\n",
    "check_vowel_cons('U')"
   ]
  },
  {
   "cell_type": "markdown",
   "id": "3e1eb8fb-c235-4d57-ac28-65fafcd14a29",
   "metadata": {},
   "source": [
    "7. Write a Python program to determine if a user is eligible to vote based on their age using if-else."
   ]
  },
  {
   "cell_type": "code",
   "execution_count": 3,
   "id": "f6d7a798-c83a-4d24-bc07-82c68f9c1887",
   "metadata": {},
   "outputs": [
    {
     "name": "stdout",
     "output_type": "stream",
     "text": [
      "Eligible to vote\n",
      "Not eligible to vote\n"
     ]
    }
   ],
   "source": [
    "#Defining a function to check the voting eligibility\n",
    "\n",
    "def vote_elig(age):\n",
    "    if age>=18:\n",
    "        print(\"Eligible to vote\")\n",
    "    else:\n",
    "        print(\"Not eligible to vote\")\n",
    "vote_elig(22)\n",
    "vote_elig(12)"
   ]
  },
  {
   "cell_type": "markdown",
   "id": "d37dcd63-886b-4b0c-a335-c446035b4bd6",
   "metadata": {},
   "source": [
    "8. Create a Python program that calculates the discount amount based on the purchase amount\n",
    "using if-else."
   ]
  },
  {
   "cell_type": "code",
   "execution_count": 4,
   "id": "ee26d9f2-deb2-45e6-bdc6-ea3653c9a12c",
   "metadata": {},
   "outputs": [
    {
     "name": "stdout",
     "output_type": "stream",
     "text": [
      "Discounted price is: 5600.0\n",
      "Discounted price is: 1080.0\n"
     ]
    }
   ],
   "source": [
    "def discounted_price(amnt):\n",
    "    if amnt>5000: \n",
    "        discounted_price = amnt-0.2*amnt\n",
    "    elif amnt>1000:\n",
    "        discounted_price = amnt-0.1*amnt\n",
    "    elif amnt>500:\n",
    "        discounted_price = amnt-0.05*amnt\n",
    "        \n",
    "    print(\"Discounted price is:\",  discounted_price)\n",
    "    \n",
    "discounted_price(7000)\n",
    "discounted_price(1200)"
   ]
  },
  {
   "cell_type": "markdown",
   "id": "8d07562b-3dbb-4218-b16c-4b3143d217b3",
   "metadata": {},
   "source": [
    "9. Write a Python program to check if a number is within a specified range using if-else."
   ]
  },
  {
   "cell_type": "code",
   "execution_count": 5,
   "id": "99c6de10-4f91-43ab-af8b-a025530192aa",
   "metadata": {},
   "outputs": [
    {
     "name": "stdin",
     "output_type": "stream",
     "text": [
      "Enter a number:  33\n",
      "Enter lower limit of the range:  42\n",
      "Enter upper limit of the range:  1443\n"
     ]
    },
    {
     "name": "stdout",
     "output_type": "stream",
     "text": [
      "Number is outside the specified range.\n"
     ]
    }
   ],
   "source": [
    "# Get user input for number and range\n",
    "num = float(input(\"Enter a number: \"))\n",
    "lower_limit = float(input(\"Enter lower limit of the range: \"))\n",
    "upper_limit = float(input(\"Enter upper limit of the range: \"))\n",
    "\n",
    "# Check if the number is within the specified range using if-else\n",
    "if lower_limit <= num <= upper_limit:\n",
    "    print(\"Number is within the specified range.\")\n",
    "else:\n",
    "    print(\"Number is outside the specified range.\")"
   ]
  },
  {
   "cell_type": "markdown",
   "id": "c8a30a52-f8f5-44aa-b317-b3f4b3f5124a",
   "metadata": {},
   "source": [
    "10. Create a Python program that determines the grade of a student based on their score using\n",
    "if-else.\n"
   ]
  },
  {
   "cell_type": "code",
   "execution_count": 6,
   "id": "b97d9c54-f7a1-4b05-a5ce-c9b0b2aee0ae",
   "metadata": {},
   "outputs": [
    {
     "name": "stdout",
     "output_type": "stream",
     "text": [
      "Grade C\n",
      "Grade A\n",
      "Invalid Score Entered\n"
     ]
    }
   ],
   "source": [
    "def score_to_grade(score):\n",
    "    if score>=85 and score<=100:\n",
    "        print(\"Grade A\")\n",
    "    elif score>=70 and score<=84:\n",
    "        print(\"Grade B\")\n",
    "    elif score>=55 and score<=69:\n",
    "        print(\"Grade C\")\n",
    "    elif score>=40 and score<=54:\n",
    "        print(\"Grade D\")\n",
    "    elif score<=39 and score>=0:\n",
    "        print(\"Grade E\")\n",
    "    else:\n",
    "        print(\"Invalid Score Entered\")\n",
    "        \n",
    "score_to_grade(56.4)\n",
    "score_to_grade(86.3)\n",
    "score_to_grade(895)"
   ]
  },
  {
   "cell_type": "markdown",
   "id": "08e998b0-58a1-4d36-8039-1cf9a7cfdcaf",
   "metadata": {},
   "source": [
    "11. Write a Python program to check if a string is empty or not using if-else."
   ]
  },
  {
   "cell_type": "code",
   "execution_count": 7,
   "id": "1b9c11d8-35c1-4f79-9c97-8c2299f814b0",
   "metadata": {},
   "outputs": [
    {
     "name": "stdin",
     "output_type": "stream",
     "text": [
      "Enter a string:  \n"
     ]
    },
    {
     "name": "stdout",
     "output_type": "stream",
     "text": [
      "The string is empty.\n"
     ]
    }
   ],
   "source": [
    "# Get user input\n",
    "string = input(\"Enter a string: \")\n",
    "\n",
    "# Check if the string is empty or not using if-else\n",
    "if string:\n",
    "    print(\"The string is not empty.\")\n",
    "else:\n",
    "    print(\"The string is empty.\") "
   ]
  },
  {
   "cell_type": "markdown",
   "id": "7c05559b-955e-4b9f-83f4-fbc507062456",
   "metadata": {},
   "source": [
    "12. Create a Python program that identifies the type of a triangle (e.g., equilateral, isosceles, or\n",
    "scalene) based on input values using if-else.\n"
   ]
  },
  {
   "cell_type": "code",
   "execution_count": 8,
   "id": "1c37db9f-60b4-4158-bd1a-8797a1da74d4",
   "metadata": {},
   "outputs": [
    {
     "name": "stdout",
     "output_type": "stream",
     "text": [
      "Scalene Triangle\n",
      "Isosceles Triangle\n",
      "Equilateral Triangle\n"
     ]
    }
   ],
   "source": [
    "def triangle_type(side1, side2, side3):\n",
    "    if side1==side2==side3:\n",
    "        print(\"Equilateral Triangle\")\n",
    "    elif side1==side2 or side1==side3 or side2==side3:\n",
    "        print(\"Isosceles Triangle\")\n",
    "    else:\n",
    "        print(\"Scalene Triangle\")\n",
    "\n",
    "triangle_type(12, 13, 14)\n",
    "triangle_type(15, 20, 15)\n",
    "triangle_type(11, 11, 11)"
   ]
  },
  {
   "cell_type": "markdown",
   "id": "5baca96a-25fa-41aa-9658-8316edbf2cdd",
   "metadata": {},
   "source": [
    "13. Write a Python program to determine the day of the week based on a user-provided number\n",
    "using if-else."
   ]
  },
  {
   "cell_type": "code",
   "execution_count": 9,
   "id": "793e76d5-274a-4fbb-8177-5582aea5ee86",
   "metadata": {},
   "outputs": [
    {
     "name": "stdout",
     "output_type": "stream",
     "text": [
      "Thursday\n",
      "Monday\n"
     ]
    }
   ],
   "source": [
    "def weekis(n):\n",
    "    if n==1:\n",
    "        print(\"Monday\")\n",
    "    elif n==2:\n",
    "        print(\"Tuesday\")\n",
    "    elif n==3:\n",
    "        print(\"Wednesday\")\n",
    "    elif n==4:\n",
    "        print(\"Thursday\")\n",
    "    elif n==5:\n",
    "        print(\"Friday\")\n",
    "    elif n==6:\n",
    "        print(\"Saturday\")\n",
    "    elif n==7:\n",
    "        print(\"Sunday\")\n",
    "    else:\n",
    "        print(\"Invalid Input\")\n",
    "        \n",
    "weekis(4)\n",
    "weekis(1)"
   ]
  },
  {
   "cell_type": "markdown",
   "id": "73e6ae47-5b87-48b3-800e-55a41cc5dda0",
   "metadata": {},
   "source": [
    "14. Create a Python program that checks if a given year is a leap year using both if-else and a\n",
    "function.\n"
   ]
  },
  {
   "cell_type": "code",
   "execution_count": 10,
   "id": "e66bac92-5f40-4fb9-b98b-fa25c426ca34",
   "metadata": {},
   "outputs": [
    {
     "name": "stdout",
     "output_type": "stream",
     "text": [
      "Leap year\n"
     ]
    }
   ],
   "source": [
    "def if_leap(year):\n",
    "    if year%100==0:\n",
    "        if year%400==0:\n",
    "            print(\"Leap Year\")\n",
    "        else:\n",
    "            print(\"Not a leap year\")\n",
    "    elif year%4==0:\n",
    "        print(\"Leap year\")\n",
    "    else:\n",
    "        print(\"Not a leap year\")\n",
    "        \n",
    "if_leap(2024)"
   ]
  },
  {
   "cell_type": "markdown",
   "id": "0be53c17-82e2-49f6-9171-3c6935f901c5",
   "metadata": {},
   "source": [
    "15. How do you use the \"assert\" statement in Python to add debugging checks within if-else blocks?"
   ]
  },
  {
   "cell_type": "code",
   "execution_count": 12,
   "id": "009dd60c-6017-4514-9e14-e6eb8d4ebf58",
   "metadata": {},
   "outputs": [
    {
     "name": "stdin",
     "output_type": "stream",
     "text": [
      "Enter age:  100\n"
     ]
    },
    {
     "name": "stdout",
     "output_type": "stream",
     "text": [
      "Discount: 0.2\n"
     ]
    }
   ],
   "source": [
    "age = int(input(\"Enter age: \"))\n",
    "\n",
    "# Check if age is greater than or equal to 60 for senior citizen discount\n",
    "if age >= 60:\n",
    "    discount = 0.2  # 20% senior citizen discount\n",
    "else:\n",
    "    discount = 0\n",
    "\n",
    "# Debugging check: Assert that discount is between 0 and 1\n",
    "assert 0 <= discount <= 1, \"Discount should be between 0 and 1\"\n",
    "print(\"Discount:\", discount)\n"
   ]
  },
  {
   "cell_type": "markdown",
   "id": "c7f77270-e6f1-4190-9f1f-96200f6feb3f",
   "metadata": {},
   "source": [
    "16. Create a Python program that determines the eligibility of a person for a senior citizen discount\n",
    "based on age using if-else"
   ]
  },
  {
   "cell_type": "code",
   "execution_count": 13,
   "id": "ded38796-5d0d-44cb-b2ae-744f05deec36",
   "metadata": {},
   "outputs": [
    {
     "name": "stdout",
     "output_type": "stream",
     "text": [
      "Not senior citizen\n"
     ]
    }
   ],
   "source": [
    "def if_senior(age):\n",
    "    if age>=60:\n",
    "        print(\"Senior citizen\")\n",
    "    else:\n",
    "        print(\"Not senior citizen\")\n",
    "        \n",
    "if_senior(45)\n"
   ]
  },
  {
   "cell_type": "markdown",
   "id": "ff9e0b2c-f049-414b-9119-0d758f4baa7e",
   "metadata": {},
   "source": [
    "17. Write a Python program to categorize a given character as uppercase, lowercase, or neither\n",
    "using if-else.\n"
   ]
  },
  {
   "cell_type": "code",
   "execution_count": 14,
   "id": "fab9e5c5-bf4e-4cf5-88dd-3b716a3af276",
   "metadata": {},
   "outputs": [
    {
     "name": "stdin",
     "output_type": "stream",
     "text": [
      "Enter a character:  h\n"
     ]
    },
    {
     "name": "stdout",
     "output_type": "stream",
     "text": [
      "Lowercase letter\n"
     ]
    }
   ],
   "source": [
    "# Get user input for a character\n",
    "char = input(\"Enter a character: \")\n",
    "\n",
    "# Check if the character is uppercase, lowercase, or neither using if-else\n",
    "if char.isupper():\n",
    "    print(\"Uppercase letter\")\n",
    "elif char.islower():\n",
    "    print(\"Lowercase letter\")\n",
    "else:\n",
    "    print(\"Neither uppercase nor lowercase letter\")\n"
   ]
  },
  {
   "cell_type": "markdown",
   "id": "aea8057f-9562-4183-a0fc-ed00ad1b4b27",
   "metadata": {},
   "source": [
    "18. Write a Python program to determine the roots of a quadratic equation using if-else.\n"
   ]
  },
  {
   "cell_type": "code",
   "execution_count": 20,
   "id": "363f9817-1a7c-4ce0-938b-bc1c42fe3fd3",
   "metadata": {},
   "outputs": [
    {
     "name": "stdout",
     "output_type": "stream",
     "text": [
      "Root 1 =, -0.3944487245360109\n",
      "Root 2 = -7.60555127546399\n",
      "Root 1 = -0.75 + 1.1989578808281798 i\n",
      "Root 2 = -0.75 - 1.1989578808281798 i\n"
     ]
    }
   ],
   "source": [
    "import math\n",
    "\n",
    "def find_roots(a,b,c):\n",
    "\n",
    "    # Calculate the discriminant\n",
    "    discriminant = b**2 - 4*a*c\n",
    "\n",
    "    # Check the discriminant to determine the nature of roots\n",
    "    if discriminant > 0:\n",
    "        # Two real and distinct roots\n",
    "        root1 = (-b + math.sqrt(discriminant)) / (2*a)\n",
    "        root2 = (-b - math.sqrt(discriminant)) / (2*a)\n",
    "        print(f\"Root 1 =, {root1}\")\n",
    "        print(\"Root 2 =\", root2)\n",
    "    elif discriminant == 0:\n",
    "        # One real root (repeated)\n",
    "        root = -b / (2*a)\n",
    "        print(\"Root =\", root)\n",
    "    else:\n",
    "        # Complex roots\n",
    "        real_part = -b / (2*a)\n",
    "        imaginary_part = math.sqrt(abs(discriminant)) / (2*a)\n",
    "        print(\"Root 1 =\", real_part, \"+\", imaginary_part, \"i\")\n",
    "        print(\"Root 2 =\", real_part, \"-\", imaginary_part, \"i\")\n",
    "        \n",
    "find_roots(1,8,3)\n",
    "find_roots(2,3,4)"
   ]
  },
  {
   "cell_type": "markdown",
   "id": "60ec7874-b22b-4e9f-b753-1f58b82a4342",
   "metadata": {},
   "source": [
    "19. Create a Python program that checks if a given year is a century year or not using if-else"
   ]
  },
  {
   "cell_type": "code",
   "execution_count": 21,
   "id": "6bde0a9c-5b8a-45ac-827f-0413b958b848",
   "metadata": {},
   "outputs": [
    {
     "name": "stdout",
     "output_type": "stream",
     "text": [
      "Not a century year\n",
      "Century year\n"
     ]
    }
   ],
   "source": [
    "def if_century(year):\n",
    "    if year%100==0:\n",
    "        print(\"Century year\")\n",
    "    else:\n",
    "        print(\"Not a century year\")\n",
    "        \n",
    "if_century(2024)\n",
    "if_century(1000)"
   ]
  },
  {
   "cell_type": "markdown",
   "id": "8091c454-6873-49a7-b79f-e967f86a95c3",
   "metadata": {},
   "source": [
    "20. Write a Python program to determine if a given number is a perfect square using if-else."
   ]
  },
  {
   "cell_type": "code",
   "execution_count": 23,
   "id": "a0ade3c7-b5e0-490a-94e5-9d4a80dae314",
   "metadata": {},
   "outputs": [
    {
     "name": "stdin",
     "output_type": "stream",
     "text": [
      "Enter a number:  16\n"
     ]
    },
    {
     "name": "stdout",
     "output_type": "stream",
     "text": [
      "16 is a perfect square\n"
     ]
    }
   ],
   "source": [
    "# Get user input for the number\n",
    "num = int(input(\"Enter a number: \"))\n",
    "\n",
    "# Check if the number is a perfect square using if-else\n",
    "if num > 0 and math.isqrt(num)**2 == num:\n",
    "    print(num, \"is a perfect square\")\n",
    "else:\n",
    "    print(num, \"is not a perfect square\")"
   ]
  },
  {
   "cell_type": "markdown",
   "id": "2664d486-b882-4b76-8402-9c33b665dac9",
   "metadata": {},
   "source": [
    "21. Explain the purpose of the \"continue\" and \"break\" statements within if-else loops."
   ]
  },
  {
   "cell_type": "markdown",
   "id": "36d7d0be-8ee1-4d56-b346-6e43f7cfe2fe",
   "metadata": {},
   "source": [
    "Break statement stops the entire process of the loop. Continue statement only stops the current iteration of the loop. Break also terminates the remaining iterations. Continue doesn't terminate the next iterations; it resumes with the successive iterations."
   ]
  },
  {
   "cell_type": "markdown",
   "id": "fd54ce1e-b5ee-4cd0-a8a6-9dd83b7d2b93",
   "metadata": {},
   "source": [
    "22. Create a Python program that calculates the BMI (Body Mass Index) of a person based on their\n",
    "weight and height using if-else.\n"
   ]
  },
  {
   "cell_type": "code",
   "execution_count": 24,
   "id": "3fcf8195-bc2f-44a1-a00a-3a8309ccfe3e",
   "metadata": {},
   "outputs": [
    {
     "name": "stdout",
     "output_type": "stream",
     "text": [
      "Healthy\n"
     ]
    }
   ],
   "source": [
    "def check_bmi(height, weight):\n",
    "    bmi = weight/(height**2)\n",
    "    \n",
    "    if bmi<18.5:\n",
    "        print(\"Underweight\")\n",
    "    elif bmi>=18.5 and bmi<25:\n",
    "        print(\"Healthy\")\n",
    "    elif bmi>=25 and bmi<30:\n",
    "        print(\"Overweight\")\n",
    "    elif bmi>=30:\n",
    "        print(\"Obese\")\n",
    "    else:\n",
    "        print(\"Invalid Input\")\n",
    "\n",
    "check_bmi(1.56,60)"
   ]
  },
  {
   "cell_type": "markdown",
   "id": "62702a53-0d26-4130-8fc8-f106130904ea",
   "metadata": {},
   "source": [
    "23. How can you use the \"filter()\" function with if-else statements to filter elements from a list?"
   ]
  },
  {
   "cell_type": "code",
   "execution_count": 25,
   "id": "c52d45b4-adf5-4fc6-81e2-ee994d69a9c8",
   "metadata": {},
   "outputs": [
    {
     "name": "stdout",
     "output_type": "stream",
     "text": [
      "Even numbers: [2, 4, 6, 8, 10]\n"
     ]
    }
   ],
   "source": [
    "#The filter() function in Python is used to filter the elements from the list. Let’s discuss this filter() method by providing different parameters like lambda expressions, and custom functions.\n",
    "#Example\n",
    "# Define a list of numbers\n",
    "numbers = [1, 2, 3, 4, 5, 6, 7, 8, 9, 10]\n",
    "\n",
    "# Use filter() to filter even numbers from the list using if-else\n",
    "even_numbers = list(filter(lambda x: x % 2 == 0, numbers))\n",
    "\n",
    "# Print the filtered even numbers\n",
    "print(\"Even numbers:\", even_numbers)"
   ]
  },
  {
   "cell_type": "markdown",
   "id": "f183d0b8-7655-4789-971f-ba8bce8de84f",
   "metadata": {},
   "source": [
    "24. Write a Python program to determine if a given number is prime or not using if-else."
   ]
  },
  {
   "cell_type": "code",
   "execution_count": 40,
   "id": "98bd1716-da2c-4d11-a310-f2b0e241dc89",
   "metadata": {},
   "outputs": [
    {
     "name": "stdout",
     "output_type": "stream",
     "text": [
      "not prime\n"
     ]
    }
   ],
   "source": [
    "def is_prime(num):\n",
    "    if num<=1:\n",
    "        return False\n",
    "    elif num<=3:\n",
    "        return True\n",
    "    else:\n",
    "        for i in range(4, num):\n",
    "            if num%i==0:\n",
    "                return False\n",
    "                break\n",
    "    return True\n",
    "\n",
    "                \n",
    "if is_prime(14):\n",
    "    print('prime')\n",
    "else:\n",
    "    print('not prime')"
   ]
  },
  {
   "cell_type": "markdown",
   "id": "d04e91d5-8acd-403f-9e71-2435bb052843",
   "metadata": {},
   "source": [
    "Map :-"
   ]
  },
  {
   "cell_type": "markdown",
   "id": "386402a7-bb35-4029-b739-789a921f0692",
   "metadata": {},
   "source": [
    "1. Explain the purpose of the `map()` function in Python and provide an example of how it can be\n",
    "used to apply a function to each element of an iterable.\n"
   ]
  },
  {
   "cell_type": "code",
   "execution_count": 2,
   "id": "61a3a6a9-3fcf-454a-afe1-e95950f13820",
   "metadata": {},
   "outputs": [
    {
     "name": "stdout",
     "output_type": "stream",
     "text": [
      "[2, 4, 6, 8, 10]\n"
     ]
    }
   ],
   "source": [
    "#map() function returns a map object(which is an iterator) of the results after applying the given function to each item of a given iterable (list, tuple etc.)\n",
    "#Example\n",
    "#Defining a double function\n",
    "\n",
    "def double(n):\n",
    "    return n*2\n",
    "#list of numbers\n",
    "num_list = [1,2,3,4,5]\n",
    "\n",
    "#Applying map function to the double funtion and list\n",
    "result= map(double, num_list)\n",
    "print(list(result))"
   ]
  },
  {
   "cell_type": "markdown",
   "id": "414b8d9f-9784-4cb3-bc02-119b3b3a5e4f",
   "metadata": {},
   "source": [
    "2. Write a Python program that uses the `map()` function to square each element of a list of\n",
    "numbers."
   ]
  },
  {
   "cell_type": "code",
   "execution_count": 3,
   "id": "48afd2fe-2709-4c80-a479-3f18fdfd9c86",
   "metadata": {},
   "outputs": [
    {
     "name": "stdout",
     "output_type": "stream",
     "text": [
      "[1, 4, 9, 16, 25]\n"
     ]
    }
   ],
   "source": [
    "# Using map() to square each element of a list of numbers\n",
    "numbers = [1, 2, 3, 4, 5]\n",
    "squared_numbers = list(map(lambda x: x ** 2, numbers))\n",
    "print(squared_numbers)"
   ]
  },
  {
   "cell_type": "markdown",
   "id": "3132f371-a33c-4859-bf0b-acc020c20652",
   "metadata": {},
   "source": [
    "3. How does the `map()` function differ from a list comprehension in Python, and when would you\n",
    "choose one over the other?\n"
   ]
  },
  {
   "cell_type": "markdown",
   "id": "8b78249e-b1aa-47d4-94d4-12dd11f6b6ea",
   "metadata": {},
   "source": [
    "Use map() when you want to apply a specific function to all items in an iterable. Suitable for complex operations where you want to separate the function's logic from the mapping operation. Returns an iterator, so it's memory efficient for large datasets. List Comprehension: Use list comprehensions when the operation is simple and can be expressed in a single line. Generally more readable for straightforward transformations. Creates a new list, making it suitable when you need a list as the output."
   ]
  },
  {
   "cell_type": "markdown",
   "id": "d11b044f-0c4b-4a6a-a3e1-80861ae3439e",
   "metadata": {},
   "source": [
    "4. Create a Python program that uses the `map()` function to convert a list of names to uppercase."
   ]
  },
  {
   "cell_type": "code",
   "execution_count": 5,
   "id": "2223dd0a-55d8-4073-b6ce-12b1c52b6150",
   "metadata": {},
   "outputs": [
    {
     "name": "stdout",
     "output_type": "stream",
     "text": [
      "['SHALINI', 'VIVEK', 'NAMAN']\n"
     ]
    }
   ],
   "source": [
    "names_list = ['Shalini', 'Vivek', 'Naman']\n",
    "\n",
    "new_list = list(map(lambda x: x.upper(), names_list))\n",
    "print(new_list)"
   ]
  },
  {
   "cell_type": "markdown",
   "id": "e4b02535-d539-41cf-adab-c796c885f62a",
   "metadata": {},
   "source": [
    "5. Write a Python program that uses the `map()` function to calculate the length of each word in a\n",
    "list of strings."
   ]
  },
  {
   "cell_type": "code",
   "execution_count": 6,
   "id": "adf1e45f-0228-469e-8f65-96b1bb9eacf2",
   "metadata": {},
   "outputs": [
    {
     "name": "stdout",
     "output_type": "stream",
     "text": [
      "[7, 5, 5]\n"
     ]
    }
   ],
   "source": [
    "names_list = ['Shalini', 'Vivek', 'Naman']\n",
    "\n",
    "len_list = list(map(len, names_list))\n",
    "print(len_list)"
   ]
  },
  {
   "cell_type": "markdown",
   "id": "31d2f1af-8f7d-4da0-81fc-6028d2e61f6a",
   "metadata": {},
   "source": [
    "6. How can you use the `map()` function to apply a custom function to elements of multiple lists\n",
    "simultaneously in Python?\n"
   ]
  },
  {
   "cell_type": "markdown",
   "id": "8238e214-bc9b-4681-9d5e-0523cc928596",
   "metadata": {},
   "source": [
    "Using map() to Apply a Custom Function to Elements of Multiple Lists Simultaneously:\n",
    "To use the map() function with multiple lists and a custom function, you can define a function that takes multiple arguments and then pass those lists as additional arguments to the map() function. \n"
   ]
  },
  {
   "cell_type": "markdown",
   "id": "24a8219f-4aa8-4803-9063-68e17c723358",
   "metadata": {},
   "source": [
    "7. Create a Python program that uses `map()` to convert a list of temperatures from Celsius to\n",
    "Fahrenheit.\n"
   ]
  },
  {
   "cell_type": "code",
   "execution_count": 15,
   "id": "3491e10c-00fa-4085-a569-9143fbbbc5b0",
   "metadata": {},
   "outputs": [
    {
     "name": "stdout",
     "output_type": "stream",
     "text": [
      "[77.0, 86.0, 95.0, 68.0]\n"
     ]
    }
   ],
   "source": [
    "def custom_function(celsius_temp):\n",
    "    # Custom function to convert Celsius to Fahrenheit\n",
    "    return (9/5) * celsius_temp + 32\n",
    "\n",
    "# List of temperatures in Celsius\n",
    "celsius_temperatures = [25, 30, 35, 20]\n",
    "\n",
    "# Using map() to apply the custom function to elements of the celsius_temperatures list\n",
    "fahrenheit_temperatures = list(map(custom_function, celsius_temperatures))\n",
    "\n",
    "print(fahrenheit_temperatures)"
   ]
  },
  {
   "cell_type": "markdown",
   "id": "45ae136d-2b15-465f-b3a8-0cc6d41df6d8",
   "metadata": {},
   "source": [
    "8. Write a Python program that uses the `map()` function to round each element of a list of\n",
    "floating-point numbers to the nearest integer.\n"
   ]
  },
  {
   "cell_type": "code",
   "execution_count": 16,
   "id": "3665be70-b2e5-4d83-89e5-3115ebcd8eb8",
   "metadata": {},
   "outputs": [
    {
     "name": "stdout",
     "output_type": "stream",
     "text": [
      "[3, 3, 2, 5]\n"
     ]
    }
   ],
   "source": [
    "float_numbers = [3.14, 2.718, 1.618, 4.669]\n",
    "\n",
    "# Using map() to round each element of the float_numbers list to the nearest integer\n",
    "rounded_numbers = list(map(round, float_numbers))\n",
    "\n",
    "print(rounded_numbers)"
   ]
  },
  {
   "cell_type": "markdown",
   "id": "fe418657-a12e-43d4-8372-0cc8ed045562",
   "metadata": {},
   "source": [
    "Reduce :-"
   ]
  },
  {
   "cell_type": "markdown",
   "id": "66e2e5c5-7596-4b56-a5c2-3da066636806",
   "metadata": {},
   "source": [
    "1. What is the `reduce()` function in Python, and what module should you import to use it? Provide\n",
    "an example of its basic usage"
   ]
  },
  {
   "cell_type": "code",
   "execution_count": 17,
   "id": "a99c76b8-8db1-40c2-a50a-9acc906cf37f",
   "metadata": {},
   "outputs": [
    {
     "name": "stdout",
     "output_type": "stream",
     "text": [
      "The sum of the list elements is : 17\n"
     ]
    }
   ],
   "source": [
    "#The reduce(fun,seq) function is used to apply a particular function passed in its argument to all of the list elements mentioned in the sequence passed along.This function is defined in “functools” module.\n",
    "\n",
    "#functools module is used to import it\n",
    "import functools\n",
    "\n",
    "# initializing list \n",
    "lis = [1, 3, 5, 6, 2] \n",
    "  \n",
    "# using reduce to compute sum of list \n",
    "print(\"The sum of the list elements is : \", end=\"\") \n",
    "print(functools.reduce(lambda a, b: a+b, lis)) "
   ]
  },
  {
   "cell_type": "markdown",
   "id": "1743fd75-4c5d-4402-8259-cd7e48b394ef",
   "metadata": {},
   "source": [
    "2. Write a Python program that uses the `reduce()` function to find the product of all elements in a\n",
    "list.\n"
   ]
  },
  {
   "cell_type": "code",
   "execution_count": 18,
   "id": "a2c7ee96-02c8-4954-aabc-8f1b3d2786a9",
   "metadata": {},
   "outputs": [
    {
     "name": "stdout",
     "output_type": "stream",
     "text": [
      "The product of the list elements is : 180\n"
     ]
    }
   ],
   "source": [
    "# initializing list \n",
    "lis = [1, 3, 5, 6, 2] \n",
    "  \n",
    "# using reduce to compute product of list \n",
    "print(\"The product of the list elements is : \", end=\"\") \n",
    "print(functools.reduce(lambda a, b: a*b, lis)) "
   ]
  },
  {
   "cell_type": "markdown",
   "id": "da2e1bc2-5acb-4dc4-9c90-ed622ae5bed8",
   "metadata": {},
   "source": [
    "3. Create a Python program that uses `reduce()` to find the maximum element in a list of numbers.\n"
   ]
  },
  {
   "cell_type": "code",
   "execution_count": 19,
   "id": "2b0fca08-1b8a-4f22-ab26-3bb84b92a687",
   "metadata": {},
   "outputs": [
    {
     "name": "stdout",
     "output_type": "stream",
     "text": [
      "The maximum element of the list is : 6\n"
     ]
    }
   ],
   "source": [
    "# initializing list \n",
    "lis = [1, 3, 5, 6, 2] \n",
    "\n",
    "# using reduce to compute maximum element from list \n",
    "print(\"The maximum element of the list is : \", end=\"\") \n",
    "print(functools.reduce(lambda a, b: a if a > b else b, lis))"
   ]
  },
  {
   "cell_type": "markdown",
   "id": "904f303e-ac7f-4c1b-b730-fa631fc94e82",
   "metadata": {},
   "source": [
    "4. How can you use the `reduce()` function to concatenate a list of strings into a single string?\n"
   ]
  },
  {
   "cell_type": "code",
   "execution_count": 21,
   "id": "bfd75691-7beb-4ab2-a9a9-8c8d4364bd36",
   "metadata": {},
   "outputs": [
    {
     "name": "stdout",
     "output_type": "stream",
     "text": [
      "My name is Shalini \n"
     ]
    }
   ],
   "source": [
    "string_list = ['My ', 'name ', 'is ', 'Shalini ']\n",
    "\n",
    "new_string = functools.reduce(lambda a, b: a+b, string_list)\n",
    "print(new_string)\n",
    "                              "
   ]
  },
  {
   "cell_type": "markdown",
   "id": "dfd4de48-6c30-43cb-97df-7e9172228c39",
   "metadata": {},
   "source": [
    "5. Write a Python program that calculates the factorial of a number using the `reduce()` function"
   ]
  },
  {
   "cell_type": "code",
   "execution_count": 22,
   "id": "05528be7-d530-4d9f-a0cc-dde1a5b06396",
   "metadata": {},
   "outputs": [
    {
     "name": "stdout",
     "output_type": "stream",
     "text": [
      "Factorial of 5 : 120\n"
     ]
    }
   ],
   "source": [
    "from functools import reduce\n",
    "\n",
    "# Function to calculate factorial\n",
    "def factorial(n, x):\n",
    "    return n * x\n",
    "\n",
    "# Number for which factorial needs to be calculated\n",
    "number = 5\n",
    "\n",
    "# Using reduce() to calculate factorial\n",
    "factorial_result = reduce(factorial, range(1, number+1))\n",
    "print(\"Factorial of\", number, \":\", factorial_result)"
   ]
  },
  {
   "cell_type": "markdown",
   "id": "cc2c8755-7ff2-4544-83ee-3e55402b3ed6",
   "metadata": {},
   "source": [
    "6. Create a Python program that uses `reduce()` to find the GCD (Greatest Common Divisor) of a list\n",
    "of number"
   ]
  },
  {
   "cell_type": "code",
   "execution_count": 23,
   "id": "4a5d3291-497a-447f-a481-10a3769b58d1",
   "metadata": {},
   "outputs": [
    {
     "name": "stdout",
     "output_type": "stream",
     "text": [
      "GCD of the numbers: 12\n"
     ]
    }
   ],
   "source": [
    "from functools import reduce\n",
    "import math\n",
    "\n",
    "# List of numbers\n",
    "numbers = [24, 36, 48, 60]\n",
    "\n",
    "# Function to find GCD using math.gcd\n",
    "gcd = reduce(math.gcd, numbers)\n",
    "print(\"GCD of the numbers:\", gcd)"
   ]
  },
  {
   "cell_type": "markdown",
   "id": "478f2a08-2275-4d98-84e2-dd6a3dd8db17",
   "metadata": {},
   "source": [
    "7. Write a Python program that uses the `reduce()` function to find the sum of the digits of a given\n",
    "number.\n"
   ]
  },
  {
   "cell_type": "code",
   "execution_count": 24,
   "id": "d183a166-1524-4213-8692-ab6b27880c26",
   "metadata": {},
   "outputs": [
    {
     "name": "stdout",
     "output_type": "stream",
     "text": [
      "Sum of digits of 12345 : 15\n"
     ]
    }
   ],
   "source": [
    "from functools import reduce\n",
    "\n",
    "# Function to sum the digits of a number\n",
    "def sum_digits(x, y):\n",
    "    return int(x) + int(y)\n",
    "\n",
    "# Input number\n",
    "number = 12345\n",
    "\n",
    "# Using reduce() to find the sum of digits\n",
    "digit_sum = reduce(sum_digits, str(number))\n",
    "print(\"Sum of digits of\", number, \":\", digit_sum)"
   ]
  },
  {
   "cell_type": "markdown",
   "id": "e04deb64-4863-42a9-9759-8f5590821882",
   "metadata": {},
   "source": [
    "Filter :-"
   ]
  },
  {
   "cell_type": "markdown",
   "id": "4d6e600f-c2a9-4544-9306-7943bbd14898",
   "metadata": {},
   "source": [
    "1. Explain the purpose of the `filter()` function in Python and provide an example of how it can be\n",
    "used to filter elements from an iterable.\n"
   ]
  },
  {
   "cell_type": "code",
   "execution_count": 25,
   "id": "d72468a0-9616-4a8e-ae74-4881a07f1516",
   "metadata": {},
   "outputs": [
    {
     "name": "stdout",
     "output_type": "stream",
     "text": [
      "[2, 4, 6, 8, 10]\n"
     ]
    }
   ],
   "source": [
    "#The filter() function selects elements from an iterable (list, tuple etc.) based on the output of a function. The function is applied to each element of the iterable and if it returns True , the element is selected by the filter() function.\n",
    "\n",
    "#Example\n",
    "\n",
    "def check_even(number):\n",
    "    if number % 2 == 0:\n",
    "          return True  \n",
    "\n",
    "    return False\n",
    "\n",
    "\n",
    "numbers = [1, 2, 3, 4, 5, 6, 7, 8, 9, 10]\n",
    "\n",
    "# if an element passed to check_even() returns True, select it\n",
    "even_numbers_iterator = filter(check_even, numbers)\n",
    "\n",
    "# converting to list\n",
    "even_numbers = list(even_numbers_iterator)\n",
    "\n",
    "print(even_numbers)\n"
   ]
  },
  {
   "cell_type": "markdown",
   "id": "1cdd0a05-3d46-409e-a210-1f07720b2e42",
   "metadata": {},
   "source": [
    "2. Write a Python program that uses the `filter()` function to select even numbers from a list of\n",
    "integers.\n"
   ]
  },
  {
   "cell_type": "code",
   "execution_count": 27,
   "id": "6bc3bad3-983f-4ce9-89bc-22abeef96d0d",
   "metadata": {},
   "outputs": [
    {
     "name": "stdout",
     "output_type": "stream",
     "text": [
      "[2, 4, 6, 8, 10]\n"
     ]
    }
   ],
   "source": [
    "\n",
    "def check_even(number):\n",
    "    if number % 2 == 0:\n",
    "          return True  \n",
    "\n",
    "    return False\n",
    "\n",
    "\n",
    "numbers = [1, 2, 3, 4, 5, 6, 7, 8, 9, 10]\n",
    "\n",
    "# if an element passed to check_even() returns True, select it\n",
    "even_numbers_iterator = filter(check_even, numbers)\n",
    "\n",
    "# converting to list\n",
    "even_numbers = list(even_numbers_iterator)\n",
    "\n",
    "print(even_numbers)\n"
   ]
  },
  {
   "cell_type": "markdown",
   "id": "10f2dec4-1303-454f-bd5c-848bd548c698",
   "metadata": {},
   "source": [
    "3. Create a Python program that uses the `filter()` function to select names that start with a specific\n",
    "letter from a list of strings"
   ]
  },
  {
   "cell_type": "code",
   "execution_count": 28,
   "id": "c717ef93-69bb-42aa-a448-07efc5e48740",
   "metadata": {},
   "outputs": [
    {
     "name": "stdout",
     "output_type": "stream",
     "text": [
      "Names starting with 'D': ['David']\n"
     ]
    }
   ],
   "source": [
    "# List of strings (names)\n",
    "names = [\"Alice\", \"Bob\", \"Charlie\", \"David\", \"Eva\"]\n",
    "\n",
    "# Using filter() to select names starting with 'D'\n",
    "selected_names = list(filter(lambda x: x.startswith('D'), names))\n",
    "print(\"Names starting with 'D':\", selected_names)"
   ]
  },
  {
   "cell_type": "markdown",
   "id": "1f8684d5-bb23-4c70-82b6-38b59cd77023",
   "metadata": {},
   "source": [
    "4. Write a Python program that uses the `filter()` function to select prime numbers from a list of\n",
    "integers.\n"
   ]
  },
  {
   "cell_type": "code",
   "execution_count": 29,
   "id": "5609e785-687a-4595-9808-9b959ed67e82",
   "metadata": {},
   "outputs": [
    {
     "name": "stdout",
     "output_type": "stream",
     "text": [
      "Prime Numbers: [2, 3, 5, 7]\n"
     ]
    }
   ],
   "source": [
    "# List of integers\n",
    "numbers = [2, 3, 4, 5, 6, 7, 8, 9, 10]\n",
    "\n",
    "# Function to check if a number is prime\n",
    "def is_prime(num):\n",
    "    if num <= 1:\n",
    "        return False\n",
    "    for i in range(2, int(num**0.5) + 1):\n",
    "        if num % i == 0:\n",
    "            return False\n",
    "    return True\n",
    "\n",
    "# Using filter() to select prime numbers\n",
    "prime_numbers = list(filter(is_prime, numbers))\n",
    "print(\"Prime Numbers:\", prime_numbers)"
   ]
  },
  {
   "cell_type": "markdown",
   "id": "b6794066-bde0-4973-8f4d-69771886bf0e",
   "metadata": {},
   "source": [
    "5. How can you use the `filter()` function to remove None values from a list in Python?"
   ]
  },
  {
   "cell_type": "code",
   "execution_count": 30,
   "id": "530cd1c6-4144-48fe-8079-11f41e0b961f",
   "metadata": {},
   "outputs": [
    {
     "name": "stdout",
     "output_type": "stream",
     "text": [
      "Filtered Values: [1, 3, 5, 7]\n"
     ]
    }
   ],
   "source": [
    "# List with None values\n",
    "values = [1, None, 3, None, 5, None, 7]\n",
    "\n",
    "# Using filter() to remove None values\n",
    "filtered_values = list(filter(lambda x: x is not None, values))\n",
    "print(\"Filtered Values:\", filtered_values)"
   ]
  },
  {
   "cell_type": "markdown",
   "id": "39ec88fd-8a27-491b-9e00-c70eb4d87679",
   "metadata": {},
   "source": [
    "6. Create a Python program that uses `filter()` to select words longer than a certain length from a\n",
    "list of strings."
   ]
  },
  {
   "cell_type": "code",
   "execution_count": 31,
   "id": "5dfb3412-177c-42bb-8609-be360bc09c4f",
   "metadata": {},
   "outputs": [
    {
     "name": "stdout",
     "output_type": "stream",
     "text": [
      "Words longer than 5 characters: ['banana', 'orange']\n"
     ]
    }
   ],
   "source": [
    "# List of strings (words)\n",
    "words = [\"apple\", \"banana\", \"kiwi\", \"orange\", \"grape\"]\n",
    "\n",
    "# Using filter() to select words longer than 5 characters\n",
    "selected_words = list(filter(lambda x: len(x) > 5, words))\n",
    "print(\"Words longer than 5 characters:\", selected_words)"
   ]
  },
  {
   "cell_type": "markdown",
   "id": "72547ce0-216d-42a3-81e1-3f20916e3a8a",
   "metadata": {},
   "source": [
    "7. Write a Python program that uses the `filter()` function to select elements greater than a\n",
    "specified threshold from a list of values.\n"
   ]
  },
  {
   "cell_type": "code",
   "execution_count": 32,
   "id": "04029a08-41e6-4676-bd97-0b1af5700b86",
   "metadata": {},
   "outputs": [
    {
     "name": "stdout",
     "output_type": "stream",
     "text": [
      "Values greater than 20 : [25, 30, 42]\n"
     ]
    }
   ],
   "source": [
    "# List of values\n",
    "values = [10, 25, 8, 30, 15, 7, 42]\n",
    "\n",
    "# Threshold value\n",
    "threshold = 20\n",
    "\n",
    "# Using filter() to select elements greater than the threshold\n",
    "filtered_values = list(filter(lambda x: x > threshold, values))\n",
    "\n",
    "# Printing the filtered values\n",
    "print(\"Values greater than\", threshold, \":\", filtered_values)"
   ]
  },
  {
   "cell_type": "markdown",
   "id": "0057867e-9b5d-428d-8ffc-ee7b9a6181ee",
   "metadata": {},
   "source": [
    "Recursion:-"
   ]
  },
  {
   "cell_type": "markdown",
   "id": "824b0c3b-1ab8-434f-8069-7e9d28ab83ec",
   "metadata": {},
   "source": [
    "1. Explain the concept of recursion in Python. How does it differ from iteration?"
   ]
  },
  {
   "cell_type": "markdown",
   "id": "06cc415a-488a-4172-a573-3219e8336ad0",
   "metadata": {},
   "source": [
    "Recursion is a programming technique where a function calls itself in order to solve a problem. In recursive functions, the problem is divided into smaller subproblems until a base case is reached, at which point the function stops calling itself and starts returning values back through the chain of function calls. Recursion differs from iteration in that iteration uses loops to repeat a set of instructions until a specific condition is met, while recursion breaks down a problem into smaller subproblems and solves them recursively."
   ]
  },
  {
   "cell_type": "markdown",
   "id": "534a79d6-ac78-4ced-b71b-99318a23b6c7",
   "metadata": {},
   "source": [
    "2. Write a Python program to calculate the factorial of a number using recursion."
   ]
  },
  {
   "cell_type": "code",
   "execution_count": 1,
   "id": "b94826a2-38ab-4a92-baca-fa1630257a7e",
   "metadata": {},
   "outputs": [
    {
     "data": {
      "text/plain": [
       "120"
      ]
     },
     "execution_count": 1,
     "metadata": {},
     "output_type": "execute_result"
    }
   ],
   "source": [
    "def factorial(n):\n",
    "    if n==0:\n",
    "        return 1\n",
    "    else:\n",
    "        return n*factorial(n-1)\n",
    "    \n",
    "factorial(5)"
   ]
  },
  {
   "cell_type": "markdown",
   "id": "0df1ae46-34b1-4b06-91d9-d45aa547a4ed",
   "metadata": {},
   "source": [
    "3. Create a recursive Python function to find the nth Fibonacci number.\n"
   ]
  },
  {
   "cell_type": "code",
   "execution_count": 2,
   "id": "7ef6fe66-5c42-40e4-8e13-5ece6db38637",
   "metadata": {},
   "outputs": [
    {
     "data": {
      "text/plain": [
       "3"
      ]
     },
     "execution_count": 2,
     "metadata": {},
     "output_type": "execute_result"
    }
   ],
   "source": [
    "def fibonacci(n):\n",
    "    if n==1:\n",
    "        return 0\n",
    "    if n==2:\n",
    "        return 1\n",
    "    else:\n",
    "        return fibonacci(n-1) + fibonacci(n-2)\n",
    "    \n",
    "fibonacci(5)\n",
    "    "
   ]
  },
  {
   "cell_type": "markdown",
   "id": "a98b49da-c06f-43dd-9fba-abc711711951",
   "metadata": {},
   "source": [
    "4. Write a recursive Python function to calculate the sum of all elements in a list.\n"
   ]
  },
  {
   "cell_type": "code",
   "execution_count": 3,
   "id": "ac1b0d64-f968-41bb-b013-937da70bc2a1",
   "metadata": {},
   "outputs": [
    {
     "data": {
      "text/plain": [
       "15"
      ]
     },
     "execution_count": 3,
     "metadata": {},
     "output_type": "execute_result"
    }
   ],
   "source": [
    "def re_sum(lis):\n",
    "    if not lis:\n",
    "        return 0\n",
    "    else:\n",
    "        return lis[0] + re_sum(lis[1:])\n",
    "    \n",
    "re_sum([1,2,3,4,5])"
   ]
  },
  {
   "cell_type": "markdown",
   "id": "70db62dc-39cc-4ada-850c-df744e2368cd",
   "metadata": {},
   "source": [
    "5. How can you prevent a recursive function from running indefinitely, causing a stack overflow\n",
    "error?\n"
   ]
  },
  {
   "cell_type": "markdown",
   "id": "2f98df85-12e2-4a05-a9aa-ccf63e885fb1",
   "metadata": {},
   "source": [
    " To prevent a recursive function from running indefinitely, you must ensure that there is a termination condition (base case) that will eventually be met. If the base case is never met, the function will keep calling itself infinitely and cause a stack overflow error"
   ]
  },
  {
   "cell_type": "markdown",
   "id": "25dce948-1f8d-481c-9b42-0f41058e7711",
   "metadata": {},
   "source": [
    "6. Create a recursive Python function to find the greatest common divisor (GCD) of two numbers\n",
    "using the Euclidean algorithm."
   ]
  },
  {
   "cell_type": "code",
   "execution_count": 4,
   "id": "9a7c9147-623c-4a24-8063-0b4d03c6d2d3",
   "metadata": {},
   "outputs": [
    {
     "data": {
      "text/plain": [
       "20"
      ]
     },
     "execution_count": 4,
     "metadata": {},
     "output_type": "execute_result"
    }
   ],
   "source": [
    "def rec_gcd(a,b):\n",
    "    if b==0:\n",
    "        return a\n",
    "    else:\n",
    "        return rec_gcd(b, a%b)\n",
    "    \n",
    "rec_gcd(40,100)\n",
    "        \n"
   ]
  },
  {
   "cell_type": "markdown",
   "id": "917cf8ef-63a9-479b-a3dc-42cec04c39be",
   "metadata": {},
   "source": [
    "7. Write a recursive Python function to reverse a string.\n"
   ]
  },
  {
   "cell_type": "code",
   "execution_count": 5,
   "id": "55261efb-91ed-4c4d-b0fc-197c2632b206",
   "metadata": {},
   "outputs": [
    {
     "data": {
      "text/plain": [
       "'inilahS'"
      ]
     },
     "execution_count": 5,
     "metadata": {},
     "output_type": "execute_result"
    }
   ],
   "source": [
    "def reverse_string(s):\n",
    "    if len(s) == 0:\n",
    "        return s\n",
    "    else:\n",
    "        return reverse_string(s[1:]) + s[0]\n",
    "    \n",
    "reverse_string('Shalini')"
   ]
  },
  {
   "cell_type": "markdown",
   "id": "6a6f0f1b-fd91-4ffb-9da1-2c8f5281d7d7",
   "metadata": {},
   "source": [
    "8. Create a recursive Python function to calculate the power of a number (x^n)."
   ]
  },
  {
   "cell_type": "code",
   "execution_count": 6,
   "id": "8da6672e-8521-4864-8932-bc2b932ee2f9",
   "metadata": {},
   "outputs": [
    {
     "data": {
      "text/plain": [
       "125"
      ]
     },
     "execution_count": 6,
     "metadata": {},
     "output_type": "execute_result"
    }
   ],
   "source": [
    "def power(x,n):\n",
    "    if n==0:\n",
    "        return 1\n",
    "    else:\n",
    "        return x*power(x, n-1)\n",
    "    \n",
    "power(5,3)"
   ]
  },
  {
   "cell_type": "markdown",
   "id": "bfdd40fb-2caa-4c23-9567-bce503aa463b",
   "metadata": {},
   "source": [
    "9. Write a recursive Python function to find all permutations of a given string."
   ]
  },
  {
   "cell_type": "code",
   "execution_count": 15,
   "id": "eb3ed4e5-36bc-4506-b349-3cb0a2909e8c",
   "metadata": {},
   "outputs": [
    {
     "data": {
      "text/plain": [
       "['sha', 'sah', 'hsa', 'has', 'ash', 'ahs']"
      ]
     },
     "execution_count": 15,
     "metadata": {},
     "output_type": "execute_result"
    }
   ],
   "source": [
    "def permutation(s):\n",
    "    if len(s)<=1:\n",
    "        return [s]\n",
    "    else:\n",
    "        perms = []\n",
    "        for i, c in enumerate(s):\n",
    "            for perm in permutation(s[:i] + s[i+1:]):\n",
    "                perms.append(c + perm)\n",
    "        return perms\n",
    "\n",
    "s = 'sha'\n",
    "permutation(s)\n",
    "    "
   ]
  },
  {
   "cell_type": "markdown",
   "id": "920f83f9-54bc-4af9-9ed9-ddc12782f53b",
   "metadata": {},
   "source": [
    "10. Write a recursive Python function to check if a string is a palindrome."
   ]
  },
  {
   "cell_type": "code",
   "execution_count": 17,
   "id": "5d5b7389-3b33-470e-8623-753965411466",
   "metadata": {},
   "outputs": [
    {
     "data": {
      "text/plain": [
       "False"
      ]
     },
     "execution_count": 17,
     "metadata": {},
     "output_type": "execute_result"
    }
   ],
   "source": [
    "def is_palindrome(s):\n",
    "    if len(s) <= 1:\n",
    "        return True\n",
    "    else:\n",
    "        if s[0] != s[-1]:\n",
    "            return False\n",
    "        else:\n",
    "            return is_palindrome(s[1:-1])\n",
    "is_palindrome('naman')\n",
    "is_palindrome('Shalini')"
   ]
  },
  {
   "cell_type": "markdown",
   "id": "1c060b7e-d1bf-41d1-8dc4-fb0c24cc96b6",
   "metadata": {},
   "source": [
    "11. Create a recursive Python function to generate all possible combinations of a list of elements."
   ]
  },
  {
   "cell_type": "code",
   "execution_count": 21,
   "id": "9d8c1f8a-7b47-4aa6-9469-70679fd913a2",
   "metadata": {},
   "outputs": [
    {
     "data": {
      "text/plain": [
       "[[2, 1], [3, 1], [3, 2]]"
      ]
     },
     "execution_count": 21,
     "metadata": {},
     "output_type": "execute_result"
    }
   ],
   "source": [
    "\n",
    "def combinations(arr, k):\n",
    "    if k == 0:\n",
    "        return [[]]\n",
    "    if len(arr) == 0:\n",
    "        return []\n",
    "    head, tail = arr[0], arr[1:]\n",
    "    without_head = combinations(tail, k)\n",
    "    with_head = combinations(tail, k - 1)\n",
    "    for item in with_head:\n",
    "        item.append(head)\n",
    "    return with_head + without_head\n",
    "\n",
    "combinations([1,2,3], 2)"
   ]
  },
  {
   "cell_type": "markdown",
   "id": "45ce481d-42f3-4609-a192-54a444362f13",
   "metadata": {},
   "source": [
    "Basics of Functions:"
   ]
  },
  {
   "cell_type": "markdown",
   "id": "c3c6f0fc-fd07-4c27-b406-2c1d2e024087",
   "metadata": {},
   "source": [
    "1. What is a function in Python, and why is it used?"
   ]
  },
  {
   "cell_type": "code",
   "execution_count": 35,
   "id": "d4fa09d2-56ba-46e1-878b-833223e5608b",
   "metadata": {},
   "outputs": [],
   "source": [
    "#A function is a piece of code written to carry out a specified task.\n",
    "\n",
    "#It is used when a task has to performed repeatedly, so it is very helpful if we define a function to perform the task and call it as and when needed"
   ]
  },
  {
   "cell_type": "markdown",
   "id": "cf266c51-d5ad-4d81-b6fd-b625d60ff2aa",
   "metadata": {},
   "source": [
    "2. How do you define a function in Python? Provide an example.\n"
   ]
  },
  {
   "cell_type": "code",
   "execution_count": 36,
   "id": "56cf1d92-40c7-4c3a-893d-0da9bcc0ea19",
   "metadata": {},
   "outputs": [
    {
     "name": "stdout",
     "output_type": "stream",
     "text": [
      "Shalini\n"
     ]
    }
   ],
   "source": [
    "#example to define a function \n",
    "\n",
    "def my_fun():\n",
    "    print(\"Shalini\")\n",
    "    \n",
    "my_fun()"
   ]
  },
  {
   "cell_type": "markdown",
   "id": "bfe6639f-537c-48a8-8d50-9b9dd0acc181",
   "metadata": {},
   "source": [
    "3. Explain the difference between a function definition and a function call."
   ]
  },
  {
   "cell_type": "markdown",
   "id": "0fcc5001-d3f2-427b-8ced-47f83b16659f",
   "metadata": {},
   "source": [
    "A function definition defines the name of a function and the block of code that performs a specific task, while a function call is an expression that invokes a function and executes the code in the function"
   ]
  },
  {
   "cell_type": "markdown",
   "id": "cf5a2c3a-6f3b-46ca-ba0d-cb812ba0aa2b",
   "metadata": {},
   "source": [
    "4. Write a Python program that defines a function to calculate the sum of two numbers and then\n",
    "calls the function.\n"
   ]
  },
  {
   "cell_type": "code",
   "execution_count": 34,
   "id": "d1079506-c5a6-4170-ae81-2d8c1761830b",
   "metadata": {},
   "outputs": [
    {
     "data": {
      "text/plain": [
       "9"
      ]
     },
     "execution_count": 34,
     "metadata": {},
     "output_type": "execute_result"
    }
   ],
   "source": [
    "def sum_nums(a,b):\n",
    "    return a+b\n",
    "\n",
    "sum_nums(7,2)"
   ]
  },
  {
   "cell_type": "markdown",
   "id": "06f46c6d-bf9c-474d-af54-546609a7c09a",
   "metadata": {},
   "source": [
    "5. What is a function signature, and what information does it typically include?"
   ]
  },
  {
   "cell_type": "markdown",
   "id": "879a399d-e257-4db7-b458-993e5bad2d6e",
   "metadata": {},
   "source": [
    "In general the signature of a function is defined by the number and type of input arguments the function takes and the type of the result the function returns. It includes the names and types of the input arguments, and (with type annotations) the type of the returned result(s) of a function or method."
   ]
  },
  {
   "cell_type": "markdown",
   "id": "f652df8a-e3ef-4975-b81b-d5ed6d92ac1b",
   "metadata": {},
   "source": [
    "6. Create a Python function that takes two arguments and returns their product."
   ]
  },
  {
   "cell_type": "code",
   "execution_count": 33,
   "id": "520c74db-fbb7-4ca6-8d83-325515d757e4",
   "metadata": {},
   "outputs": [
    {
     "data": {
      "text/plain": [
       "24"
      ]
     },
     "execution_count": 33,
     "metadata": {},
     "output_type": "execute_result"
    }
   ],
   "source": [
    "def product(x,y):\n",
    "    return x*y\n",
    "\n",
    "product(8,3)"
   ]
  },
  {
   "cell_type": "markdown",
   "id": "e74e9990-299b-4c9d-9f6a-a303291b6171",
   "metadata": {},
   "source": [
    "Function Parameters and Arguments:"
   ]
  },
  {
   "cell_type": "markdown",
   "id": "706d631d-0ef5-49ff-a701-6cabd6a4a256",
   "metadata": {},
   "source": [
    "1. Explain the concepts of formal parameters and actual arguments in Python functions"
   ]
  },
  {
   "cell_type": "markdown",
   "id": "68c9f9aa-1a8c-4adf-943e-24e00e2d1223",
   "metadata": {},
   "source": [
    "when a function is defined, it may have some parameters. These parameters are useful to receive values from outside of the function. They are called 'formal arguments'. When we call the function, we should pass data or values to the function. These values are called 'actual arguments'. In the following code, 'a' and 'b' are formal arguments and 'x' and 'y' are actual arguments.\n",
    "\n"
   ]
  },
  {
   "cell_type": "code",
   "execution_count": 37,
   "id": "1f474d37-8d54-428d-9221-1c5f9a376953",
   "metadata": {},
   "outputs": [
    {
     "name": "stdout",
     "output_type": "stream",
     "text": [
      "25\n"
     ]
    }
   ],
   "source": [
    "#Example\n",
    "def sum(a, b): #a, b are formal arguments\n",
    "    c = a+b \n",
    "    print(c)\n",
    "\n",
    "#call the function \n",
    "x = 10; y = 15\n",
    "sum(x, y) #x, y are actual arguments"
   ]
  },
  {
   "cell_type": "markdown",
   "id": "aee691d6-9ff1-441b-aa8e-1286b0f498f8",
   "metadata": {},
   "source": [
    "2. Write a Python program that defines a function with default argument values"
   ]
  },
  {
   "cell_type": "code",
   "execution_count": 44,
   "id": "08bbd9bb-b6ac-4db8-9c98-a6e459b8907d",
   "metadata": {},
   "outputs": [
    {
     "name": "stdout",
     "output_type": "stream",
     "text": [
      "Shalini Soni studies in PWSkills\n"
     ]
    }
   ],
   "source": [
    "\n",
    "def student(firstname, lastname ='Soni', place ='PWSkills'):\n",
    " \n",
    "     print(firstname, lastname, 'studies in', place)\n",
    "    \n",
    "student(firstname='Shalini') #Default values Soni and PWskills are printed"
   ]
  },
  {
   "cell_type": "markdown",
   "id": "a6f21e7c-9dc4-4a47-8db1-f0f421de58fc",
   "metadata": {},
   "source": [
    "3. How do you use keyword arguments in Python function calls? Provide an example."
   ]
  },
  {
   "cell_type": "code",
   "execution_count": 46,
   "id": "35aad4fd-3aed-406b-ba5b-ac423147057b",
   "metadata": {},
   "outputs": [
    {
     "name": "stdout",
     "output_type": "stream",
     "text": [
      "First Name: Shalini\n",
      "Last Name: Soni\n"
     ]
    }
   ],
   "source": [
    "#In keyword arguments, arguments are assigned based on the name of arguments. For example,\n",
    "\n",
    "def display_info(first_name, last_name):\n",
    "    print('First Name:', first_name)\n",
    "    print('Last Name:', last_name)\n",
    "\n",
    "display_info(last_name = 'Soni', first_name = 'Shalini')"
   ]
  },
  {
   "cell_type": "markdown",
   "id": "188759cc-6d22-4ff6-bdc4-d0bb70ce504f",
   "metadata": {},
   "source": [
    "4. Create a Python function that accepts a variable number of arguments and calculates their sum"
   ]
  },
  {
   "cell_type": "code",
   "execution_count": 49,
   "id": "5076f837-8482-403a-9f79-8a6f5ec13024",
   "metadata": {},
   "outputs": [
    {
     "name": "stdout",
     "output_type": "stream",
     "text": [
      "25\n"
     ]
    }
   ],
   "source": [
    "def sum_all(*args): \n",
    "    t=() \n",
    "    s=0 \n",
    "    for i in args: \n",
    "        s=s+i \n",
    "    print(s)\n",
    "    \n",
    "sum_all(20, 2, 3)"
   ]
  },
  {
   "cell_type": "markdown",
   "id": "5b6dbf54-2240-4a41-a451-b90ac1bfb502",
   "metadata": {},
   "source": [
    "5. What is the purpose of the `*args` and `**kwargs` syntax in function parameter lists?\n"
   ]
  },
  {
   "cell_type": "markdown",
   "id": "3224ea83-6a50-4822-a0b0-581d2428a093",
   "metadata": {},
   "source": [
    "*args passes variable number of non-keyworded arguments and on which operation of the tuple can be performed. **kwargs passes variable number of keyword arguments dictionary to function on which operation of a dictionary can be performed."
   ]
  },
  {
   "cell_type": "markdown",
   "id": "fbbd0fd4-7c25-475b-860c-1f88d27815cf",
   "metadata": {},
   "source": [
    "Return Values and Scoping:\n"
   ]
  },
  {
   "cell_type": "markdown",
   "id": "755e0657-bcf5-4fb7-a67b-3069b5db42a9",
   "metadata": {},
   "source": [
    "1. Describe the role of the `return` statement in Python functions and provide examples.\n"
   ]
  },
  {
   "cell_type": "code",
   "execution_count": 51,
   "id": "97c4e68b-c564-4084-83c7-741f047286f9",
   "metadata": {},
   "outputs": [
    {
     "name": "stdout",
     "output_type": "stream",
     "text": [
      "Sum: 8\n"
     ]
    }
   ],
   "source": [
    "#Role of the return Statement in Python Functions:\n",
    "#The return statement in Python functions is used to exit the function and return a value back to the caller. \n",
    "#Functions can perform computations and produce results, and these results can be utilized outside the function through the return statement. \"\"\"\n",
    "\n",
    "\n",
    "def add(a, b):\n",
    "    result = a + b\n",
    "    return result\n",
    "\n",
    "sum_result = add(3, 5)\n",
    "print(\"Sum:\", sum_result)  "
   ]
  },
  {
   "cell_type": "markdown",
   "id": "8bf3ec1d-4c0b-4fc8-94c7-aeebef0c5440",
   "metadata": {},
   "source": [
    "2. Explain the concept of variable scope in Python, including local and global variables.\n"
   ]
  },
  {
   "cell_type": "code",
   "execution_count": 52,
   "id": "2b0db08f-734b-4a52-bd5c-7b97734825cd",
   "metadata": {},
   "outputs": [],
   "source": [
    "#Local Variables: Variables declared inside a function have local scope. They can only be accessed within that function.\n",
    "#Once the function execution is over, the local variables are destroyed.\n",
    "\n",
    "#Global Variables: Variables declared outside of any function or declared with the global keyword inside a function have global scope.\n",
    "#They can be accessed from any part of the program, including inside functions. \n"
   ]
  },
  {
   "cell_type": "markdown",
   "id": "3d6eac5b-6b9c-4306-a13b-1bbaee9287cd",
   "metadata": {},
   "source": [
    "3. Write a Python program that demonstrates the use of global variables within functions.\n"
   ]
  },
  {
   "cell_type": "code",
   "execution_count": 53,
   "id": "173cd21c-7c1b-4e96-a4d0-7d1aa2a8885d",
   "metadata": {},
   "outputs": [
    {
     "name": "stdout",
     "output_type": "stream",
     "text": [
      "Global Variable after modification: 15\n"
     ]
    }
   ],
   "source": [
    "global_var = 10\n",
    "\n",
    "def modify_global():\n",
    "    global global_var\n",
    "    global_var = global_var + 5\n",
    "\n",
    "modify_global()\n",
    "print(\"Global Variable after modification:\", global_var)"
   ]
  },
  {
   "cell_type": "markdown",
   "id": "d72e0da2-75cf-4bbe-876e-71d8fa132502",
   "metadata": {},
   "source": [
    "4. Create a Python function that calculates the factorial of a number and returns it.\n"
   ]
  },
  {
   "cell_type": "code",
   "execution_count": 54,
   "id": "8ef193b1-7f0b-499b-9c2d-c03ed8a8a842",
   "metadata": {},
   "outputs": [
    {
     "name": "stdout",
     "output_type": "stream",
     "text": [
      "Factorial of 5 is 120\n"
     ]
    }
   ],
   "source": [
    "def factorial(n):\n",
    "    if n == 0:\n",
    "        return 1\n",
    "    else:\n",
    "        return n * factorial(n - 1)\n",
    "\n",
    "# Function call\n",
    "num = 5\n",
    "factorial_result = factorial(num)\n",
    "print(\"Factorial of\", num, \"is\", factorial_result)  "
   ]
  },
  {
   "cell_type": "markdown",
   "id": "5dff3391-608c-4ce2-ab97-db6dc4dca212",
   "metadata": {},
   "source": [
    "5. How can you access variables defined outside a function from within the function?\n"
   ]
  },
  {
   "cell_type": "markdown",
   "id": "2a647b69-e034-4f02-8cd7-d21bdcfca0b9",
   "metadata": {},
   "source": [
    "Variables defined outside a function are accessible within the function's scope. They can be read, but if you want to modify a global variable inside a function, you need to use the global keyword, as demonstrated in the global variable example above."
   ]
  },
  {
   "cell_type": "markdown",
   "id": "19ec14fa-12c8-4ea3-b87d-cbf8ecbd19c8",
   "metadata": {},
   "source": [
    "Lambda Functions and Higher-Order Functions:\n"
   ]
  },
  {
   "cell_type": "markdown",
   "id": "2395ef68-b128-467a-9f87-c8f8aabded04",
   "metadata": {},
   "source": [
    "1. What are lambda functions in Python, and when are they typically used?\n"
   ]
  },
  {
   "cell_type": "code",
   "execution_count": 64,
   "id": "d8b3f808-7786-4608-a336-16e5a8eeb196",
   "metadata": {},
   "outputs": [],
   "source": [
    "# Lambda functions, also known as anonymous functions, are small, inline functions defined using the lambda keyword. \n",
    "#They are typically used for short, simple operations where a full function definition seems unnecessary.\n",
    "#Lambda functions can take any number of arguments but have only one expression.\n",
    "\n",
    "#Lambda functions are often used in scenarios where functions are needed temporarily for a short period and are not intended to be reused.\n",
    "#They are commonly used in functions like map(), filter(), and sorted()."
   ]
  },
  {
   "cell_type": "markdown",
   "id": "107cd837-1ff9-452e-964f-bdf1014eb820",
   "metadata": {},
   "source": [
    "2. Write a Python program that uses lambda functions to sort a list of tuples based on the second\n",
    "element."
   ]
  },
  {
   "cell_type": "code",
   "execution_count": 65,
   "id": "8ee669c9-a570-4772-9d70-bcd19a571e26",
   "metadata": {},
   "outputs": [
    {
     "name": "stdout",
     "output_type": "stream",
     "text": [
      "Sorted list of tuples based on the second element:\n",
      "[(4, 1), (2, 2), (1, 3), (3, 4)]\n"
     ]
    }
   ],
   "source": [
    "pairs = [(1, 3), (2, 2), (4, 1), (3, 4)]\n",
    "\n",
    "# Sort the list of tuples based on the second element using lambda function\n",
    "sorted_pairs = sorted(pairs, key=lambda x: x[1])\n",
    "\n",
    "print(\"Sorted list of tuples based on the second element:\")\n",
    "print(sorted_pairs)"
   ]
  },
  {
   "cell_type": "markdown",
   "id": "5b5c92b5-9618-46a7-a006-c7b71c63dd89",
   "metadata": {},
   "source": [
    "3. Explain the concept of higher-order functions in Python, and provide an example.\n"
   ]
  },
  {
   "cell_type": "markdown",
   "id": "250db7bb-400f-4f87-a73d-5664f0d5f380",
   "metadata": {},
   "source": [
    " A higher-order function is a function that takes one or more functions as arguments or returns a function as its result. Higher-order functions enable functional programming paradigms, allowing functions to be manipulated and passed around like any other values. "
   ]
  },
  {
   "cell_type": "markdown",
   "id": "a6ccf421-1098-4e91-ba3a-7d9b547cd010",
   "metadata": {},
   "source": [
    "4. Create a Python function that takes a list of numbers and a function as arguments, applying the\n",
    "function to each element in the list.\n"
   ]
  },
  {
   "cell_type": "code",
   "execution_count": 70,
   "id": "d5d7fc67-4f22-40c4-aab1-cf4146b064ec",
   "metadata": {},
   "outputs": [
    {
     "name": "stdout",
     "output_type": "stream",
     "text": [
      "Doubled numbers: [2, 4, 6, 8]\n",
      "Squared numbers: [1, 4, 9, 16]\n"
     ]
    }
   ],
   "source": [
    "def apply_function_to_list(numbers, func):\n",
    "    result = []\n",
    "    for number in numbers:\n",
    "        result.append(func(number))\n",
    "    return result\n",
    "\n",
    "\n",
    "# Function to double a number\n",
    "def double(x):\n",
    "    return x * 2\n",
    "\n",
    "# Function to square a number\n",
    "def square(x):\n",
    "    return x ** 2\n",
    "\n",
    "numbers = [1, 2, 3, 4]\n",
    "\n",
    "doubled_numbers = apply_function_to_list(numbers, double)\n",
    "squared_numbers = apply_function_to_list(numbers, square)\n",
    "\n",
    "print(\"Doubled numbers:\", doubled_numbers)  \n",
    "print(\"Squared numbers:\", squared_numbers)"
   ]
  },
  {
   "cell_type": "markdown",
   "id": "55001d29-d3cc-4dcc-8602-5a7449be66c5",
   "metadata": {},
   "source": [
    "Built-in Functions:\n"
   ]
  },
  {
   "cell_type": "markdown",
   "id": "0e76ed51-fd9a-474e-a7bc-52bcc3df72b3",
   "metadata": {},
   "source": [
    "1. Describe the role of built-in functions like `len()`, `max()`, and `min()` in Python.\n"
   ]
  },
  {
   "cell_type": "code",
   "execution_count": 61,
   "id": "aa69a49a-51a9-4315-a48f-708a39efd61b",
   "metadata": {},
   "outputs": [],
   "source": [
    "#len(): len() is used to find the length of a sequence, such as a string, list, tuple, or dictionary. It returns the number of elements in the sequence.\n",
    "\n",
    "#Example:\n",
    "my_list = [1, 2, 3, 4, 5]\n",
    "length = len(my_list) \n",
    "#max(): max() returns the largest item in an iterable or the largest of two or more arguments passed. \"\"\"\n",
    "\n",
    "\n",
    "numbers = [1, 5, 2, 8, 3]\n",
    "maximum = max(numbers)  \n",
    "\n",
    "\n",
    "#min(): min() returns the smallest item in an iterable or the smallest of two or more arguments passed. \"\"\"\n",
    "\n",
    "numbers = [1, 5, 2, 8, 3]\n",
    "minimum = min(numbers) "
   ]
  },
  {
   "cell_type": "markdown",
   "id": "e5d2f429-2726-4f30-92c3-c191850ae4ea",
   "metadata": {},
   "source": [
    "2. Write a Python program that uses the `map()` function to apply a function to each element of a\n",
    "list"
   ]
  },
  {
   "cell_type": "code",
   "execution_count": 62,
   "id": "8f704a6b-8cd1-4b34-9ebf-3abed7a0f807",
   "metadata": {},
   "outputs": [
    {
     "name": "stdout",
     "output_type": "stream",
     "text": [
      "Doubled numbers: [2, 4, 6, 8, 10]\n"
     ]
    }
   ],
   "source": [
    "# Function to double a number\n",
    "def double(x):\n",
    "    return x * 2\n",
    "\n",
    "# List of numbers\n",
    "numbers = [1, 2, 3, 4, 5]\n",
    "\n",
    "# Using map() to apply the function to each element of the list\n",
    "doubled_numbers = list(map(double, numbers))\n",
    "\n",
    "print(\"Doubled numbers:\", doubled_numbers)"
   ]
  },
  {
   "cell_type": "markdown",
   "id": "1c917f7a-c085-4abe-a605-85f5881bfd9f",
   "metadata": {},
   "source": [
    "3. How does the `filter()` function work in Python, and when would you use it?"
   ]
  },
  {
   "cell_type": "code",
   "execution_count": null,
   "id": "e9eb38f4-0d2b-4eee-a1c6-b1308fe8930d",
   "metadata": {},
   "outputs": [],
   "source": [
    "#The filter() function constructs an iterator from elements of an iterable for which a specified function returns True.\n",
    "#It filters the elements based on the provided function.\n",
    "\n",
    "\n",
    "# Function to filter even numbers\n",
    "def is_even(x):\n",
    "    return x % 2 == 0\n",
    "\n",
    "# List of numbers\n",
    "numbers = [1, 2, 3, 4, 5, 6, 7, 8, 9]\n",
    "\n",
    "# Using filter() to filter even numbers\n",
    "even_numbers = list(filter(is_even, numbers))\n",
    "\n",
    "print(\"Even numbers:\", even_numbers) "
   ]
  },
  {
   "cell_type": "markdown",
   "id": "47623bf4-fbe3-406a-8371-141365afcb55",
   "metadata": {},
   "source": [
    "4. Create a Python program that uses the `reduce()` function to find the product of all elements in\n",
    "a list.\n"
   ]
  },
  {
   "cell_type": "code",
   "execution_count": 63,
   "id": "536568c1-8c53-4a20-bdb7-a811fdabab1d",
   "metadata": {},
   "outputs": [
    {
     "name": "stdout",
     "output_type": "stream",
     "text": [
      "Product of all numbers: 120\n"
     ]
    }
   ],
   "source": [
    "from functools import reduce\n",
    "\n",
    "# Function to multiply two numbers\n",
    "def multiply(x, y):\n",
    "    return x * y\n",
    "\n",
    "# List of numbers\n",
    "numbers = [1, 2, 3, 4, 5]\n",
    "\n",
    "# Using reduce() to find the product of all elements in the list\n",
    "product = reduce(multiply, numbers)\n",
    "\n",
    "print(\"Product of all numbers:\", product)"
   ]
  },
  {
   "cell_type": "markdown",
   "id": "f3c14afd-df5d-4be4-9981-34e94818c438",
   "metadata": {},
   "source": [
    "Function Documentation and Best Practices:\n"
   ]
  },
  {
   "cell_type": "markdown",
   "id": "f1d597e5-fefa-430a-b5dc-09494350134f",
   "metadata": {},
   "source": [
    "1. Explain the purpose of docstrings in Python functions and how to write them."
   ]
  },
  {
   "cell_type": "code",
   "execution_count": 56,
   "id": "2dacf4dc-e24f-4720-903e-c5b8a150ba69",
   "metadata": {},
   "outputs": [
    {
     "data": {
      "text/plain": [
       "' Docstrings are used in Python to provide documentation for functions, classes, and modules. They serve as a form of inline documentation that explains what the function does, what parameters it accepts, what it returns, and any other relevant information. Properly documented code is essential for readability, maintainability, and collaboration, especially in larger projects where multiple developers might work together.\\n\\nHow to Write Docstrings:\\nDocstrings are placed within triple quotes (either single or double) immediately after the function, class, or module definition. There are different styles of docstrings, but one of the common styles is the Google-style docstring, which provides a brief description, details about parameters, return values, and optional sections for more detailed explanations.\\n\\n '"
      ]
     },
     "execution_count": 56,
     "metadata": {},
     "output_type": "execute_result"
    }
   ],
   "source": [
    "\"\"\" Docstrings are used in Python to provide documentation for functions, classes, and modules. They serve as a form of inline documentation that explains what the function does, what parameters it accepts, what it returns, and any other relevant information. Properly documented code is essential for readability, maintainability, and collaboration, especially in larger projects where multiple developers might work together.\n",
    "\n",
    "How to Write Docstrings:\n",
    "Docstrings are placed within triple quotes (either single or double) immediately after the function, class, or module definition. There are different styles of docstrings, but one of the common styles is the Google-style docstring, which provides a brief description, details about parameters, return values, and optional sections for more detailed explanations.\n",
    "\n",
    " \"\"\""
   ]
  },
  {
   "cell_type": "markdown",
   "id": "43093897-fcda-4496-8e81-aa8cdce7af36",
   "metadata": {},
   "source": [
    "2. Describe some best practices for naming functions and variables in Python, including naming conventions and guidelines."
   ]
  },
  {
   "cell_type": "code",
   "execution_count": 57,
   "id": "c68ec84a-a147-4129-9b4e-c733afc83089",
   "metadata": {},
   "outputs": [],
   "source": [
    "#1.Use lowercase letters and underscores. \n",
    "#2.Be descriptive. ...\n",
    "#3.Avoid using special characters. ...\n",
    "#4.Avoid using Python keywords. ...\n",
    "#5.Avoid starting a function name with a number"
   ]
  }
 ],
 "metadata": {
  "kernelspec": {
   "display_name": "Python 3 (ipykernel)",
   "language": "python",
   "name": "python3"
  },
  "language_info": {
   "codemirror_mode": {
    "name": "ipython",
    "version": 3
   },
   "file_extension": ".py",
   "mimetype": "text/x-python",
   "name": "python",
   "nbconvert_exporter": "python",
   "pygments_lexer": "ipython3",
   "version": "3.10.8"
  }
 },
 "nbformat": 4,
 "nbformat_minor": 5
}
