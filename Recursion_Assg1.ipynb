{
 "cells": [
  {
   "cell_type": "markdown",
   "metadata": {},
   "source": [
    "Recursion Assignment 1"
   ]
  },
  {
   "cell_type": "markdown",
   "metadata": {},
   "source": [
    "Q.1 Can you explain the logic and working of the Tower of Hanoi algorithm by writing a program? \n",
    "\n",
    "How does the recursion work, and how are the movements of disks between rods accomplished?"
   ]
  },
  {
   "cell_type": "code",
   "execution_count": 1,
   "metadata": {},
   "outputs": [
    {
     "name": "stdout",
     "output_type": "stream",
     "text": [
      "Solution for 3 disks:\n",
      "Move disk 1 from A to C\n",
      "Move disk 2 from A to B\n",
      "Move disk 1 from C to B\n",
      "Move disk 3 from A to C\n",
      "Move disk 1 from B to A\n",
      "Move disk 2 from B to C\n",
      "Move disk 1 from A to C\n"
     ]
    }
   ],
   "source": [
    "#Tower of Hanoi working using a Python program\n",
    "def tower_of_hanoi(n, source, auxiliary, destination):\n",
    "    if n == 1:\n",
    "        print(f\"Move disk 1 from {source} to {destination}\")\n",
    "        return\n",
    "    \n",
    "    # Move (n-1) disks from source to auxiliary, using destination as buffer\n",
    "    tower_of_hanoi(n - 1, source, destination, auxiliary)\n",
    "    \n",
    "    # Move the nth disk from source to destination\n",
    "    print(f\"Move disk {n} from {source} to {destination}\")\n",
    "    \n",
    "    # Move (n-1) disks from auxiliary to destination, using source as buffer\n",
    "    tower_of_hanoi(n - 1, auxiliary, source, destination)\n",
    "\n",
    "# Driver Code\n",
    "num_disks = 3  # You can change the number of disks\n",
    "print(f\"Solution for {num_disks} disks:\")\n",
    "tower_of_hanoi(num_disks, 'A', 'B', 'C')  # A = source, B = auxiliary, C = destination\n",
    "\n"
   ]
  },
  {
   "cell_type": "markdown",
   "metadata": {},
   "source": [
    "Q.2 Given two strings word1 and word2, return the minimum number of operations required to convert word1 \n",
    "\n",
    "to word2.\n",
    "\n",
    "Example 1:\n",
    "\n",
    " Input: word1 = \"horse\", word2 = \"ros\"\n",
    "\n",
    " Output: 3\n",
    "\n",
    " Explanation: \n",
    "\n",
    " horse -> rorse (replace 'h' with 'r')\n",
    "\n",
    " rorse -> rose (remove 'r')\n",
    "\n",
    " rose -> ros (remove 'e')\n",
    "\n",
    "Example 2:\n",
    "\n",
    " Input: word1 = \"intention\", word2 = \"execution\"\n",
    "\n",
    " Output: 5\n",
    "\n",
    " Explanation: \n",
    "\n",
    " intention -> inention (remove 't')\n",
    "\n",
    " inention -> enention (replace 'i' with 'e')\n",
    "\n",
    " enention -> exention (replace 'n' with 'x')\n",
    "\n",
    " exention -> exection (replace 'n' with 'c')\n",
    "\n",
    " exection -> execution (insert 'u')"
   ]
  },
  {
   "cell_type": "code",
   "execution_count": 2,
   "metadata": {},
   "outputs": [
    {
     "name": "stdout",
     "output_type": "stream",
     "text": [
      "Minimum operations: 3\n",
      "Minimum operations: 5\n"
     ]
    }
   ],
   "source": [
    "#2  Given two strings word1 and word2, return the minimum number of operations required to convert word1 to word2\n",
    "def minDistance(word1: str, word2: str) -> int:\n",
    "    m, n = len(word1), len(word2)\n",
    "    \n",
    "    # DP table (m+1 x n+1) for storing results\n",
    "    dp = [[0] * (n + 1) for _ in range(m + 1)]\n",
    "    \n",
    "    # Base Case: Convert empty word1 to word2 by inserting characters\n",
    "    for i in range(m + 1):\n",
    "        dp[i][0] = i  # Delete all characters to make word1 empty\n",
    "        \n",
    "    # Base Case: Convert empty word2 to word1 by inserting characters\n",
    "    for j in range(n + 1):\n",
    "        dp[0][j] = j  # Insert all characters to make word2\n",
    "    \n",
    "    # Fill DP table\n",
    "    for i in range(1, m + 1):\n",
    "        for j in range(1, n + 1):\n",
    "            if word1[i - 1] == word2[j - 1]:  # If characters match, no operation needed\n",
    "                dp[i][j] = dp[i - 1][j - 1]\n",
    "            else:\n",
    "                dp[i][j] = 1 + min(\n",
    "                    dp[i - 1][j],    # Delete\n",
    "                    dp[i][j - 1],    # Insert\n",
    "                    dp[i - 1][j - 1] # Replace\n",
    "                )\n",
    "    \n",
    "    return dp[m][n]  # Minimum edits needed\n",
    "\n",
    "# Example Usage:\n",
    "word1 = \"horse\"\n",
    "word2 = \"ros\"\n",
    "print(\"Minimum operations:\", minDistance(word1, word2))\n",
    "\n",
    "word1 = \"intention\"\n",
    "word2 = \"execution\"\n",
    "print(\"Minimum operations:\", minDistance(word1, word2))\n"
   ]
  },
  {
   "cell_type": "markdown",
   "metadata": {},
   "source": [
    "Q. 3 Print the max value of the array [ 13, 1, -3, 22, 5]."
   ]
  },
  {
   "cell_type": "code",
   "execution_count": 3,
   "metadata": {},
   "outputs": [
    {
     "name": "stdout",
     "output_type": "stream",
     "text": [
      "Maximum value: 22\n"
     ]
    }
   ],
   "source": [
    "#Print the max value of the array\n",
    "arr = [13, 1, -3, 22, 5]\n",
    "max_value = arr[0]  # Assume first element is max\n",
    "\n",
    "for num in arr:\n",
    "    if num > max_value:\n",
    "        max_value = num\n",
    "\n",
    "print(\"Maximum value:\", max_value)\n"
   ]
  },
  {
   "cell_type": "markdown",
   "metadata": {},
   "source": [
    "Q.4 Find the sum of the values of the array [92, 23, 15, -20, 10]."
   ]
  },
  {
   "cell_type": "code",
   "execution_count": 4,
   "metadata": {},
   "outputs": [
    {
     "name": "stdout",
     "output_type": "stream",
     "text": [
      "Sum of array values: 120\n"
     ]
    }
   ],
   "source": [
    "#Finding the sum of values of the given array\n",
    "arr = [92, 23, 15, -20, 10]\n",
    "total_sum = 0\n",
    "\n",
    "for num in arr:\n",
    "    total_sum += num\n",
    "\n",
    "print(\"Sum of array values:\", total_sum)\n"
   ]
  },
  {
   "cell_type": "markdown",
   "metadata": {},
   "source": [
    "Q.5 Given a number n. Print if it is an armstrong number or not.An armstrong number is a number if the sum\n",
    "of every digit in that number raised to the power of total digits in that number is equal to the number.\n",
    "\n",
    "Example : 153 = 1^3 + 5^3 + 3^3 = 1 + 125 + 27 = 153 hence 153 is an armstrong number. (Easy)\n",
    "\n",
    "\n",
    "Input1 : 153\n",
    "\n",
    "\n",
    "Output1 : Yes\n",
    "\n",
    "\n",
    "\n",
    "Input 2 : 134\n",
    "\n",
    "Output2 : No"
   ]
  },
  {
   "cell_type": "code",
   "execution_count": null,
   "metadata": {},
   "outputs": [],
   "source": [
    "#To check is armstrong number or   not\n",
    "def is_armstrong(n):\n",
    "    num_str = str(n)  # Convert number to string to count digits\n",
    "    num_digits = len(num_str)  # Total number of digits\n",
    "    armstrong_sum = sum(int(digit) ** num_digits for digit in num_str)  # Compute sum of powers\n",
    "    \n",
    "    return armstrong_sum == n  # Check if sum matches original number\n",
    "\n",
    "# Example Inputs\n",
    "n1 = 153\n",
    "print(\"Yes\" if is_armstrong(n1) else \"No\")  # Output: Yes\n",
    "\n",
    "n2 = 134\n",
    "print(\"Yes\" if is_armstrong(n2) else \"No\")  # Output: No\n"
   ]
  }
 ],
 "metadata": {
  "kernelspec": {
   "display_name": "Python 3",
   "language": "python",
   "name": "python3"
  },
  "language_info": {
   "codemirror_mode": {
    "name": "ipython",
    "version": 3
   },
   "file_extension": ".py",
   "mimetype": "text/x-python",
   "name": "python",
   "nbconvert_exporter": "python",
   "pygments_lexer": "ipython3",
   "version": "3.13.1"
  }
 },
 "nbformat": 4,
 "nbformat_minor": 2
}
