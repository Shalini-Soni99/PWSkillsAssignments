{
 "cells": [
  {
   "cell_type": "markdown",
   "id": "1006826b-d13f-4b12-aa9f-98bcf0a086be",
   "metadata": {},
   "source": [
    "Basic Level:"
   ]
  },
  {
   "cell_type": "markdown",
   "id": "466e1148-6f1c-4baf-823b-a054c89d299e",
   "metadata": {},
   "source": [
    "1. Write a Python program to print the numbers from 1 to 10 using a `for` loop."
   ]
  },
  {
   "cell_type": "code",
   "execution_count": 1,
   "id": "b8fa443a-6319-47f3-8921-7377e4df2f31",
   "metadata": {},
   "outputs": [
    {
     "name": "stdout",
     "output_type": "stream",
     "text": [
      "1\n",
      "2\n",
      "3\n",
      "4\n",
      "5\n",
      "6\n",
      "7\n",
      "8\n",
      "9\n",
      "10\n"
     ]
    }
   ],
   "source": [
    "for i in range(1,11):\n",
    "    print(i)"
   ]
  },
  {
   "cell_type": "markdown",
   "id": "2813d797-779a-42bd-b24c-12ce52d1e995",
   "metadata": {},
   "source": [
    "2. Create a program that calculates the sum of all numbers in a list using a `for` loop."
   ]
  },
  {
   "cell_type": "code",
   "execution_count": 3,
   "id": "f586f21c-db1b-4071-95ef-382ea16d37eb",
   "metadata": {},
   "outputs": [
    {
     "data": {
      "text/plain": [
       "15"
      ]
     },
     "execution_count": 3,
     "metadata": {},
     "output_type": "execute_result"
    }
   ],
   "source": [
    "list1 = [1,2,3,4,5]\n",
    "add_num = 0\n",
    "for i in list1:\n",
    "    add_num += i\n",
    "add_num"
   ]
  },
  {
   "cell_type": "markdown",
   "id": "5c839c2b-ffc4-4d13-82cb-93b404b5d5db",
   "metadata": {},
   "source": [
    "3. Write a program to print the characters of a string in reverse order using a `for` loop"
   ]
  },
  {
   "cell_type": "code",
   "execution_count": 5,
   "id": "f93b9c35-9050-4e06-92e0-ccef7156a967",
   "metadata": {},
   "outputs": [
    {
     "name": "stdin",
     "output_type": "stream",
     "text": [
      "Enter the string SHalini\n"
     ]
    },
    {
     "name": "stdout",
     "output_type": "stream",
     "text": [
      "i\n",
      "n\n",
      "i\n",
      "l\n",
      "a\n",
      "H\n",
      "S\n"
     ]
    }
   ],
   "source": [
    "string = input(\"Enter the string\")\n",
    "\n",
    "for i in string[::-1]:\n",
    "    print(i)\n"
   ]
  },
  {
   "cell_type": "markdown",
   "id": "856d1f44-6566-430d-a8b3-3c935dc80b69",
   "metadata": {},
   "source": [
    "4. Develop a program that finds the factorial of a given number using a `for` loop"
   ]
  },
  {
   "cell_type": "code",
   "execution_count": 8,
   "id": "ebc72717-7915-4494-91a0-d2428fbbaeb0",
   "metadata": {},
   "outputs": [
    {
     "name": "stdin",
     "output_type": "stream",
     "text": [
      "Enter a number:  4\n"
     ]
    },
    {
     "data": {
      "text/plain": [
       "24"
      ]
     },
     "execution_count": 8,
     "metadata": {},
     "output_type": "execute_result"
    }
   ],
   "source": [
    "num = int(input(\"Enter a number: \"))\n",
    "\n",
    "factorial = 1\n",
    "for i in range(1,num+1):\n",
    "    factorial = factorial*i\n",
    "factorial"
   ]
  },
  {
   "cell_type": "markdown",
   "id": "cf1eea0e-51fb-4b6f-8057-09a6f734dd60",
   "metadata": {},
   "source": [
    "5. Create a program to print the multiplication table of a given number using a `for` loop."
   ]
  },
  {
   "cell_type": "code",
   "execution_count": 9,
   "id": "1d3ce401-979c-47e5-b86f-2ad0abed2189",
   "metadata": {},
   "outputs": [
    {
     "name": "stdin",
     "output_type": "stream",
     "text": [
      "Enter a number:  2\n"
     ]
    },
    {
     "name": "stdout",
     "output_type": "stream",
     "text": [
      "2\n",
      "4\n",
      "6\n",
      "8\n",
      "10\n",
      "12\n",
      "14\n",
      "16\n",
      "18\n",
      "20\n"
     ]
    }
   ],
   "source": [
    "num = int(input(\"Enter a number: \"))\n",
    "\n",
    "for i in range(1,11):\n",
    "    print(i*num)\n",
    "    "
   ]
  },
  {
   "cell_type": "markdown",
   "id": "0ed05807-7635-485b-a1a2-3d1503a21d58",
   "metadata": {},
   "source": [
    "6. Write a program that counts the number of even and odd numbers in a list using a `for` loop"
   ]
  },
  {
   "cell_type": "code",
   "execution_count": 11,
   "id": "c81f94a9-775a-47d0-beab-484226a2c0bf",
   "metadata": {},
   "outputs": [
    {
     "name": "stdout",
     "output_type": "stream",
     "text": [
      "No.of even numbers: 2\n",
      "No.of odd numbers: 3\n"
     ]
    }
   ],
   "source": [
    "my_list = [1,3,2,4,5]\n",
    "\n",
    "count_odd = 0\n",
    "count_even = 0\n",
    "\n",
    "for i in my_list:\n",
    "    if i%2==0:\n",
    "        count_even += 1\n",
    "    else:\n",
    "        count_odd += 1\n",
    "        \n",
    "print(\"No.of even numbers:\", count_even)\n",
    "print(\"No.of odd numbers:\", count_odd)\n",
    "    "
   ]
  },
  {
   "cell_type": "markdown",
   "id": "b5d76e23-4c9a-4dbc-9830-208547a6c148",
   "metadata": {},
   "source": [
    "7. Develop a program that prints the squares of numbers from 1 to 5 using a `for` loop."
   ]
  },
  {
   "cell_type": "code",
   "execution_count": 12,
   "id": "d98a9230-96eb-4f53-8d14-05caa62848fd",
   "metadata": {},
   "outputs": [
    {
     "name": "stdout",
     "output_type": "stream",
     "text": [
      "1\n",
      "4\n",
      "9\n",
      "16\n",
      "25\n"
     ]
    }
   ],
   "source": [
    "for i in range(1,6):\n",
    "    print(i**2)"
   ]
  },
  {
   "cell_type": "markdown",
   "id": "27494696-3233-420e-99ca-f8f4fde98451",
   "metadata": {},
   "source": [
    "8. Create a program to find the length of a string without using the `len()` function."
   ]
  },
  {
   "cell_type": "code",
   "execution_count": 13,
   "id": "256325c1-2595-4251-a089-b8f35f02a2cc",
   "metadata": {},
   "outputs": [
    {
     "name": "stdin",
     "output_type": "stream",
     "text": [
      "Enter any string Hello PWSkills\n"
     ]
    },
    {
     "name": "stdout",
     "output_type": "stream",
     "text": [
      "Length of string is 14\n"
     ]
    }
   ],
   "source": [
    "string = input(\"Enter any string\")\n",
    "\n",
    "length = 0\n",
    "\n",
    "for i in string:\n",
    "    length +=1\n",
    "print(\"Length of string is\", length)\n"
   ]
  },
  {
   "cell_type": "markdown",
   "id": "00812b62-6472-4d1a-9dfa-3ea1a14fa13d",
   "metadata": {},
   "source": [
    "9. Write a program that calculates the average of a list of numbers using a `for` loop."
   ]
  },
  {
   "cell_type": "code",
   "execution_count": 14,
   "id": "cf9f124f-2d3f-427c-b904-405aefa970e9",
   "metadata": {},
   "outputs": [
    {
     "name": "stdout",
     "output_type": "stream",
     "text": [
      "average is: 3.0\n"
     ]
    }
   ],
   "source": [
    "list1 = [1,2,3,4,5]\n",
    "add_num = 0\n",
    "for i in list1:\n",
    "    add_num += i\n",
    "average = add_num/len(list1)\n",
    "print(\"average is:\", average)"
   ]
  },
  {
   "cell_type": "markdown",
   "id": "04bdb82f-15ad-4ce0-bb35-1bfcbb677a4f",
   "metadata": {},
   "source": [
    "10. Develop a program that prints the first `n` Fibonacci numbers using a `for` loop."
   ]
  },
  {
   "cell_type": "code",
   "execution_count": 19,
   "id": "d74ffda3-d33c-45d1-bb6c-a33ce580d57d",
   "metadata": {},
   "outputs": [
    {
     "name": "stdout",
     "output_type": "stream",
     "text": [
      "0\n",
      "1\n",
      "1\n",
      "2\n",
      "3\n"
     ]
    }
   ],
   "source": [
    "def fibonacci(n):\n",
    "    first = 0\n",
    "    second = 1\n",
    "    print(first)\n",
    "    print(second)\n",
    "    for i in range(1,n-1):\n",
    "        third = first + second\n",
    "        print(third)\n",
    "        first, second = second, third\n",
    "fibonacci(5)"
   ]
  },
  {
   "cell_type": "markdown",
   "id": "a27d57fc-d12e-4563-85d2-e37610bfcd94",
   "metadata": {},
   "source": [
    "Intermediate Level:"
   ]
  },
  {
   "cell_type": "markdown",
   "id": "addc9862-9c77-4dae-a958-2bea9ca228ef",
   "metadata": {},
   "source": [
    "11. Write a program to check if a given list contains any duplicates using a `for` loop."
   ]
  },
  {
   "cell_type": "code",
   "execution_count": 26,
   "id": "62dd20c8-7750-4e56-a31a-f7fa6ec843d6",
   "metadata": {},
   "outputs": [
    {
     "name": "stdout",
     "output_type": "stream",
     "text": [
      "Contains duplicates\n"
     ]
    }
   ],
   "source": [
    "my_list = [1,2,2,3,4]\n",
    "\n",
    "for i in my_list:\n",
    "    n = my_list.count(i)\n",
    "    if n>1:\n",
    "        print(\"Contains duplicates\")\n",
    "        break"
   ]
  },
  {
   "cell_type": "markdown",
   "id": "95ed8f06-c8ee-4072-be91-316d6f2fd35d",
   "metadata": {},
   "source": [
    "12. Create a program that prints the prime numbers in a given range using a `for` loop."
   ]
  },
  {
   "cell_type": "code",
   "execution_count": 29,
   "id": "b06d916b-8aa7-42fc-a6dc-dcd3a95ec66f",
   "metadata": {},
   "outputs": [
    {
     "name": "stdout",
     "output_type": "stream",
     "text": [
      "2\n",
      "3\n",
      "5\n",
      "7\n",
      "11\n",
      "13\n",
      "17\n",
      "19\n"
     ]
    }
   ],
   "source": [
    "#First we define a function to check if a given no. is prime \n",
    "def is_prime(n):\n",
    "    if n<=1 or n==4: \n",
    "        return False\n",
    "    if n==3 and n==2:\n",
    "        return True\n",
    "    for i in range(2,n//2):\n",
    "        if n%i==0:\n",
    "            return False\n",
    "            break \n",
    "    return True\n",
    "#Now, we make a function that accepts the range as its parameters between which we want to find the prime numbers and use the above function to check the primes\n",
    "def list_primes(n1,n2):\n",
    "    if n1<n2: #Will only work if n1<n2\n",
    "        for i in range(n1,n2+1):\n",
    "            if is_prime(i):\n",
    "                print(i)\n",
    "                \n",
    "                \n",
    "list_primes(1,20)\n",
    "        "
   ]
  },
  {
   "cell_type": "markdown",
   "id": "4757b0ab-2517-4030-b9d9-05d870a5ee9a",
   "metadata": {},
   "source": [
    "13. Develop a program that counts the number of vowels in a string using a `for` loop."
   ]
  },
  {
   "cell_type": "code",
   "execution_count": 32,
   "id": "bc5203e6-a68b-4089-9bd3-bdd153253383",
   "metadata": {},
   "outputs": [
    {
     "data": {
      "text/plain": [
       "5"
      ]
     },
     "execution_count": 32,
     "metadata": {},
     "output_type": "execute_result"
    }
   ],
   "source": [
    "def count_vowels(string): #Defining a fucntion that will count the vowels with string as a parameter\n",
    "    vowels = 0\n",
    "    for i in string:\n",
    "        if i in 'aeiouAEIOU':\n",
    "            vowels += 1\n",
    "    return vowels\n",
    "\n",
    "string = 'Shalini Soni'\n",
    "count_vowels(string)"
   ]
  },
  {
   "cell_type": "markdown",
   "id": "d4188662-a314-48f2-b0d7-b9d85f368f49",
   "metadata": {},
   "source": [
    "14. Write a program to find the maximum element in a 2D list using a nested `for` loop."
   ]
  },
  {
   "cell_type": "code",
   "execution_count": 36,
   "id": "a9d6781c-c904-425e-808a-222032e215ff",
   "metadata": {},
   "outputs": [
    {
     "name": "stdout",
     "output_type": "stream",
     "text": [
      "Maximum element is:  21\n"
     ]
    }
   ],
   "source": [
    "# Making the given 2D list\n",
    "my_list = [[1,2,3],[4,2,6],[6,7,8],[21,12,9]]\n",
    "\n",
    "# Using a nested for loop to find the maximum element\n",
    "max_element = 0\n",
    "for i in my_list:\n",
    "    for j in i:\n",
    "        if j > max_element:\n",
    "            max_element = j\n",
    "            \n",
    "print(\"Maximum element is: \", max_element)     "
   ]
  },
  {
   "cell_type": "markdown",
   "id": "a7ddae99-eb8f-407e-b2db-8aee57afea4a",
   "metadata": {},
   "source": [
    "15. Create a program that removes all occurrences of a specific element from a list using a `for` loop."
   ]
  },
  {
   "cell_type": "code",
   "execution_count": 54,
   "id": "ab922b31-64b5-41c1-b6b9-482b011557fd",
   "metadata": {},
   "outputs": [
    {
     "name": "stdout",
     "output_type": "stream",
     "text": [
      "Given list:  [1, 3, 2, 3, 3, 4, 3, 5, 5]\n",
      "element to be removed from the list:  5\n",
      "New List:  [1, 3, 2, 3, 3, 4, 3, 5]\n"
     ]
    }
   ],
   "source": [
    "#Define a function that takes the input of the item to be removed and the list\n",
    "\n",
    "def remove_element(lst, element):\n",
    "    print(\"Given list: \", lst)\n",
    "    print(\"element to be removed from the list: \", element)\n",
    "    if element in lst: #Only proceed when element is in the list\n",
    "        for i in lst:\n",
    "            if i==element:\n",
    "                lst.remove(i)\n",
    "    print(\"New List: \", lst)\n",
    "    \n",
    "remove_element([1,3,2,3,3,4,3,5,5],5)\n",
    "                \n",
    "        "
   ]
  },
  {
   "cell_type": "markdown",
   "id": "54f9f046-0d5a-4c9e-8c25-636803fed585",
   "metadata": {},
   "source": [
    "16. Develop a program that generates a multiplication table for numbers from 1 to 5 using a nested `for` loop."
   ]
  },
  {
   "cell_type": "code",
   "execution_count": 1,
   "id": "47292fa0-5bd9-49bc-bf4a-c9054170615b",
   "metadata": {},
   "outputs": [
    {
     "name": "stdout",
     "output_type": "stream",
     "text": [
      "1 2 3 4 5 6 7 8 9 10 \n",
      "2 4 6 8 10 12 14 16 18 20 \n",
      "3 6 9 12 15 18 21 24 27 30 \n",
      "4 8 12 16 20 24 28 32 36 40 \n",
      "5 10 15 20 25 30 35 40 45 50 \n"
     ]
    }
   ],
   "source": [
    "for i in range(1,6):\n",
    "    for j in range(1,11):\n",
    "        print(i*j, end=' ')\n",
    "    print()"
   ]
  },
  {
   "cell_type": "markdown",
   "id": "0a88a130-021b-4efd-8cb0-c5c7750a4768",
   "metadata": {},
   "source": [
    "17. Write a program that converts a list of Fahrenheit temperatures to Celsius using a `for` loop."
   ]
  },
  {
   "cell_type": "code",
   "execution_count": 50,
   "id": "0ee10139-f619-4b08-932c-b3071e1d858d",
   "metadata": {},
   "outputs": [
    {
     "data": {
      "text/plain": [
       "[37.77777777777778, 50.77777777777778, 161.11111111111111]"
      ]
     },
     "execution_count": 50,
     "metadata": {},
     "output_type": "execute_result"
    }
   ],
   "source": [
    "#List of the given temperatures in Fahrenheit \n",
    "Fahrenheit_list = [100, 123.4, 322]\n",
    "\n",
    "#An empty list for storing the Celcius values\n",
    "Celsius_list = []\n",
    "\n",
    "#Using a for loop to convert each temperature in Celcius and adding it to the list\n",
    "for f in Fahrenheit_list:\n",
    "    c = 5*(f-32)/9\n",
    "    Celsius_list.append(c)\n",
    "    \n",
    "Celsius_list"
   ]
  },
  {
   "cell_type": "markdown",
   "id": "6be744e1-9c55-4024-8f4c-78156908e9fc",
   "metadata": {},
   "source": [
    "18. Create a program to print the common elements from two lists using a `for` loop"
   ]
  },
  {
   "cell_type": "code",
   "execution_count": 55,
   "id": "b2ce8683-6eb9-41cf-a819-cd38f0a8e193",
   "metadata": {},
   "outputs": [
    {
     "data": {
      "text/plain": [
       "[3, 4, 5, 6]"
      ]
     },
     "execution_count": 55,
     "metadata": {},
     "output_type": "execute_result"
    }
   ],
   "source": [
    "lst1 = [1,2,3,4,5,6]\n",
    "lst2 = [5,6,3,4,7,8]\n",
    "\n",
    "common_lst = []\n",
    "for i in lst1:\n",
    "    if i in lst2:\n",
    "        common_lst.append(i)\n",
    "        \n",
    "common_lst"
   ]
  },
  {
   "cell_type": "markdown",
   "id": "872df60c-6974-4569-bf34-f519a891bbd0",
   "metadata": {},
   "source": [
    "19. Develop a program that prints the pattern of right-angled triangles using a `for` loop. Use ‘*’ to draw the\n",
    "pattern"
   ]
  },
  {
   "cell_type": "code",
   "execution_count": 58,
   "id": "8253f797-bc78-4cb2-bea0-2fffa95be575",
   "metadata": {},
   "outputs": [
    {
     "name": "stdout",
     "output_type": "stream",
     "text": [
      "* \n",
      "* * \n",
      "* * * \n",
      "* * * * \n",
      "* * * * * \n"
     ]
    }
   ],
   "source": [
    "#right-angled triangle pattern\n",
    "for i in range(5):\n",
    "    for j in range(i+1):\n",
    "        print('*', end=' ')\n",
    "    print()"
   ]
  },
  {
   "cell_type": "markdown",
   "id": "c3d4c33b-ca1d-4e2d-97f9-35693806df78",
   "metadata": {},
   "source": [
    "20. Write a program to find the greatest common divisor (GCD) of two numbers using a `for` loop."
   ]
  },
  {
   "cell_type": "code",
   "execution_count": 3,
   "id": "017b5941-1d68-4daa-8b71-a1d9d7229dd8",
   "metadata": {},
   "outputs": [
    {
     "name": "stdout",
     "output_type": "stream",
     "text": [
      "GSD is:  3\n",
      "GSD is:  5\n",
      "GSD is:  12\n"
     ]
    }
   ],
   "source": [
    "#Defining a function which takes two numbers as the arguements and finds their GCD\n",
    "def GCD(n1,n2):\n",
    "    if n1>n2:\n",
    "        n = n2\n",
    "    else:\n",
    "        n = n1\n",
    "    for i in range(1, n+1):\n",
    "        if (n1%i==0) and (n2%i==0):\n",
    "            gcd = i\n",
    "        \n",
    "    print(\"GSD is: \" , gcd)\n",
    "    \n",
    "GCD(3,9)\n",
    "GCD(25,70)\n",
    "GCD(36,60)\n",
    "    \n",
    "            \n",
    "    "
   ]
  },
  {
   "cell_type": "markdown",
   "id": "23a4839a-a76f-44f5-a734-0e62416eb00e",
   "metadata": {},
   "source": [
    "21. Create a program that calculates the sum of the digits of numbers in a list using a list comprehension."
   ]
  },
  {
   "cell_type": "code",
   "execution_count": 7,
   "id": "367c4287-ecff-46f4-9ba3-f276651b23c2",
   "metadata": {},
   "outputs": [
    {
     "name": "stdout",
     "output_type": "stream",
     "text": [
      "Given_list: [123, 456, 12, 567]\n",
      "Sum_List: [6, 15, 3, 18]\n"
     ]
    }
   ],
   "source": [
    "#Function to return the sum of digits for any number\n",
    "def digit_sum(num):\n",
    "    digit_sum = 0\n",
    "    for i in range(len(str(num))):\n",
    "        digit_sum += num%10\n",
    "        num = num//10\n",
    "    return digit_sum\n",
    "\n",
    "#Function to take a list and return the list of sum of the digits in the given list\n",
    "def sum_list(list1):\n",
    "    print(\"Given_list:\", list1)\n",
    "    sum_list = [digit_sum(i) for i in list1]\n",
    "    print(\"Sum_List:\", sum_list)\n",
    "    \n",
    "sum_list([123,456,12,567])"
   ]
  },
  {
   "cell_type": "markdown",
   "id": "4f08a16d-4702-4df6-91a8-847d3c0dbf78",
   "metadata": {},
   "source": [
    "22. Write a program to find the prime factors of a given number using a `for` loop and list comprehension."
   ]
  },
  {
   "cell_type": "code",
   "execution_count": 4,
   "id": "69814e3f-4210-45fd-8b8e-bb054f5623ce",
   "metadata": {},
   "outputs": [
    {
     "data": {
      "text/plain": [
       "[2, 3, 5]"
      ]
     },
     "execution_count": 4,
     "metadata": {},
     "output_type": "execute_result"
    }
   ],
   "source": [
    "#First we define a function to check if a given no. is prime \n",
    "def is_prime(n):\n",
    "    if n<=1 or n==4: \n",
    "        return False\n",
    "    if n==3 and n==2:\n",
    "        return True\n",
    "    for i in range(2,n//2):\n",
    "        if n%i==0:\n",
    "            return False\n",
    "            break \n",
    "    return True\n",
    "\n",
    "#Given_no.\n",
    "num= 30\n",
    "#Using a for loop to check the prime factors and make a list  \n",
    "prime_factors = [i for i in range(1, num) if num%i==0 and is_prime(i)]\n",
    "prime_factors\n",
    "\n"
   ]
  },
  {
   "cell_type": "markdown",
   "id": "f64268c7-235e-4f64-9e0d-682bdabc28a4",
   "metadata": {},
   "source": [
    "23. Develop a program that extracts unique elements from a list and stores them in a new list using a list\n",
    "comprehension."
   ]
  },
  {
   "cell_type": "code",
   "execution_count": 5,
   "id": "3341515d-1939-454d-97c7-7325fa2f580e",
   "metadata": {},
   "outputs": [
    {
     "name": "stdout",
     "output_type": "stream",
     "text": [
      "Given List: [1, 2, 1, 2, 2, 3, 3, 4, 5, 4]\n",
      "New Unique elements list: [1, 2, 3, 4, 5]\n"
     ]
    }
   ],
   "source": [
    "list1 = [1,2,1,2,2,3,3,4,5,4] #Given_list\n",
    "\n",
    "#Using a list comprehension to print the uniques elements\n",
    "#To filter out the unique elements, given the list has been converted into set first \n",
    "\n",
    "list2 = [i for i in set(list1)]\n",
    "\n",
    "print(\"Given List:\", list1)\n",
    "print(\"New Unique elements list:\", list2)"
   ]
  },
  {
   "cell_type": "markdown",
   "id": "dd926c08-5824-409a-a9df-32ccfe14d13a",
   "metadata": {},
   "source": [
    "24. Create a program that generates a list of all palindromic numbers up to a specified limit using a list\n",
    "comprehension."
   ]
  },
  {
   "cell_type": "code",
   "execution_count": 9,
   "id": "e970af7d-80ac-4651-87c9-dc4002a30eeb",
   "metadata": {},
   "outputs": [
    {
     "data": {
      "text/plain": [
       "[11, 22, 33, 44, 55, 66, 77, 88, 99, 101, 111, 121, 131, 141, 151, 161, 171]"
      ]
     },
     "execution_count": 10,
     "metadata": {},
     "output_type": "execute_result"
    }
   ],
   "source": [
    "#Creating a function that check if a number is palindrome\n",
    "\n",
    "def check_palindrome(n):\n",
    "    \n",
    "    reverse = 0\n",
    "    temp = n\n",
    "    while (temp != 0):\n",
    "        reverse = (reverse * 10) + (temp %10)\n",
    "        temp = temp//10\n",
    "    return (reverse == n)\n",
    "\n",
    "#Limit to generate the palindromic numbers upto\n",
    "limit = 1800\n",
    "\n",
    "#Using list comprehension to create a list of all palindromes upto the given limit\n",
    "palindromes_list = [i for i in range(10, limit + 1) if check_palindrome(i)]\n",
    "palindromes_list"
   ]
  },
  {
   "cell_type": "markdown",
   "id": "9664dce1-4a59-4df4-9075-d225292eef35",
   "metadata": {},
   "source": [
    "25. Write a program to flatten a nested list using list comprehension."
   ]
  },
  {
   "cell_type": "code",
   "execution_count": 10,
   "id": "6846020f-d3a8-4c39-b25b-1d71130ed791",
   "metadata": {},
   "outputs": [
    {
     "name": "stdout",
     "output_type": "stream",
     "text": [
      "Nested List:  [[1, 2, 3], [4, 5, 6], [7, 8, 9, 10]]\n",
      "Flattened List:  [1, 2, 3, 4, 5, 6, 7, 8, 9, 10]\n"
     ]
    }
   ],
   "source": [
    "#Given nested list\n",
    "nested_list = [[1,2,3],[4,5,6],[7,8,9,10]]\n",
    "\n",
    "#Using list comprehension to flatten the nested list\n",
    "flattened_list = [j for i in nested_list for j in i]\n",
    "\n",
    "print(\"Nested List: \", nested_list)\n",
    "print(\"Flattened List: \", flattened_list)"
   ]
  },
  {
   "cell_type": "markdown",
   "id": "79774aaa-efd9-42c0-9cd9-fd77ce2cd56b",
   "metadata": {},
   "source": [
    "26. Develop a program that computes the sum of even and odd numbers in a list separately using list\n",
    "comprehension."
   ]
  },
  {
   "cell_type": "code",
   "execution_count": 15,
   "id": "543e8ee2-f05e-4241-9d69-0ffc33c69aa8",
   "metadata": {},
   "outputs": [
    {
     "name": "stdout",
     "output_type": "stream",
     "text": [
      "Sum of even numbers in the given list: 30\n",
      "Sum of odd numbers in the given list: 25\n"
     ]
    }
   ],
   "source": [
    "#Given list\n",
    "list1 = list(range(1,11))\n",
    "\n",
    "#Using list comprehension to compute the sum of odd numbers and the even numbers in the given list\n",
    "odd_sum = 0\n",
    "even_sum = 0\n",
    "\n",
    "odd_sum += sum([i for i in list1 if i%2!=0])\n",
    "even_sum += sum([i for i in list1 if i%2==0])\n",
    "\n",
    "\n",
    "print(\"Sum of even numbers in the given list:\", even_sum)\n",
    "print(\"Sum of odd numbers in the given list:\", odd_sum)"
   ]
  },
  {
   "cell_type": "markdown",
   "id": "5217aa4c-6b08-42a9-bb32-fee2badf3c51",
   "metadata": {},
   "source": [
    "27. Create a program that generates a list of squares of odd numbers between 1 and 10 using list\n",
    "comprehension."
   ]
  },
  {
   "cell_type": "code",
   "execution_count": 16,
   "id": "665277d5-192c-4c28-8ad3-55fe5212a3f0",
   "metadata": {},
   "outputs": [
    {
     "data": {
      "text/plain": [
       "[1, 9, 25, 49, 81]"
      ]
     },
     "execution_count": 16,
     "metadata": {},
     "output_type": "execute_result"
    }
   ],
   "source": [
    "odd_num_sq = [i*i for i in range(1,11) if i%2!=0]\n",
    "odd_num_sq"
   ]
  },
  {
   "cell_type": "markdown",
   "id": "e11c2242-95a7-40af-9a46-86d77b6e47d3",
   "metadata": {},
   "source": [
    "28. Write a program that combines two lists into a dictionary using list comprehension"
   ]
  },
  {
   "cell_type": "code",
   "execution_count": 18,
   "id": "861ae580-f9fb-4c70-a786-7be4d4014069",
   "metadata": {},
   "outputs": [
    {
     "data": {
      "text/plain": [
       "{1: 'Apple', 2: 'Banana', 3: 'Mango', 4: 'Pear', 5: 'Kiwi'}"
      ]
     },
     "execution_count": 18,
     "metadata": {},
     "output_type": "execute_result"
    }
   ],
   "source": [
    "# Given lists\n",
    "list1 = [1,2,3,4,5]\n",
    "list2 = ['Apple', 'Banana', 'Mango', 'Pear', 'Kiwi']\n",
    "\n",
    "#Dictionary by using list1 elements as keys and list2 elements as values\n",
    "\n",
    "combine_dict = {list1[i] : list2[i] for i in range(len(list1))}\n",
    "combine_dict"
   ]
  },
  {
   "cell_type": "markdown",
   "id": "691cf6ff-6659-494c-a170-4ea0cc6605b0",
   "metadata": {},
   "source": [
    "29. Develop a program that extracts the vowels from a string and stores them in a list using list comprehension."
   ]
  },
  {
   "cell_type": "code",
   "execution_count": 19,
   "id": "690335c7-1217-42cf-a211-3bd351881cdf",
   "metadata": {},
   "outputs": [
    {
     "name": "stdin",
     "output_type": "stream",
     "text": [
      "Write any string: Shalini Soni\n"
     ]
    },
    {
     "data": {
      "text/plain": [
       "['a', 'i', 'i', 'o', 'i']"
      ]
     },
     "execution_count": 19,
     "metadata": {},
     "output_type": "execute_result"
    }
   ],
   "source": [
    "string = input(\"Write any string:\")\n",
    "\n",
    "vowels_list = [i for i in string if i in 'aeiouAEIOU']\n",
    "vowels_list"
   ]
  },
  {
   "cell_type": "markdown",
   "id": "eab353a1-4fd9-44ca-a973-5f629598a6a9",
   "metadata": {},
   "source": [
    "30. Create a program that removes all non-numeric characters from a list of strings using list comprehension"
   ]
  },
  {
   "cell_type": "code",
   "execution_count": 22,
   "id": "c3db1941-cab9-45fb-8762-04e64796ef14",
   "metadata": {},
   "outputs": [
    {
     "data": {
      "text/plain": [
       "['11', '22', '08', '101']"
      ]
     },
     "execution_count": 22,
     "metadata": {},
     "output_type": "execute_result"
    }
   ],
   "source": [
    "#Given list of strings\n",
    "string_list = ['Shalini11', 'Sadika22', 'Naman08', '101Pwskills']\n",
    "\n",
    "new_list = [''.join(j for j in i if j.isnumeric()) for i in string_list]\n",
    "new_list\n"
   ]
  },
  {
   "cell_type": "markdown",
   "id": "8b2e5217-5ba6-48ee-a3ec-88a817910924",
   "metadata": {},
   "source": [
    "Challenge Level:"
   ]
  },
  {
   "cell_type": "markdown",
   "id": "a1836d91-e156-48c2-b251-b65b6aeac4db",
   "metadata": {},
   "source": [
    "31. Write a program to generate a list of prime numbers using the Sieve of Eratosthenes algorithm and list\n",
    "comprehension."
   ]
  },
  {
   "cell_type": "code",
   "execution_count": 12,
   "id": "494b73a4-ab5b-425f-a32d-9f73b857bee4",
   "metadata": {},
   "outputs": [
    {
     "data": {
      "text/plain": [
       "[2, 3, 5, 7]"
      ]
     },
     "execution_count": 12,
     "metadata": {},
     "output_type": "execute_result"
    }
   ],
   "source": [
    "#Find the prime numbers upto n\n",
    "#General range of numbers on which we need to apply the sieve of erosthenes algorithm \n",
    "n = 10\n",
    "gen_list = [i for i in range(2, n+1)]\n",
    "\n",
    "new_list= [gen_list.remove(j) for i in range(2, n) for j in range(i*2, n+1, i) if j in gen_list]\n",
    "gen_list"
   ]
  },
  {
   "cell_type": "markdown",
   "id": "dfa05182-b287-4f79-ad4c-9e2445adf239",
   "metadata": {},
   "source": [
    "32. Create a program that generates a list of all Pythagorean triplets up to a specified limit using list\n",
    "comprehension."
   ]
  },
  {
   "cell_type": "code",
   "execution_count": 20,
   "id": "5fba35d1-c1d3-4619-b45c-4857fe8c6925",
   "metadata": {},
   "outputs": [
    {
     "data": {
      "text/plain": [
       "[(3, 4, 5),\n",
       " (5, 12, 13),\n",
       " (6, 8, 10),\n",
       " (7, 24, 25),\n",
       " (8, 15, 17),\n",
       " (9, 12, 15),\n",
       " (9, 40, 41),\n",
       " (10, 24, 26),\n",
       " (12, 16, 20),\n",
       " (12, 35, 37),\n",
       " (14, 48, 50),\n",
       " (15, 20, 25),\n",
       " (15, 36, 39),\n",
       " (16, 30, 34),\n",
       " (18, 24, 30),\n",
       " (20, 21, 29),\n",
       " (21, 28, 35),\n",
       " (24, 32, 40),\n",
       " (27, 36, 45),\n",
       " (30, 40, 50)]"
      ]
     },
     "execution_count": 20,
     "metadata": {},
     "output_type": "execute_result"
    }
   ],
   "source": [
    "\n",
    "#Specifying the limit upto which the Pythagorean triplets to be found\n",
    "n = 50\n",
    "\n",
    "#Using list comprehension to find the triplets\n",
    "triplets = [(a, b, c) for a in range(1, n + 1) for b in range(a, n + 1) for c in range(b, n + 1) if a**2 + b**2 == c**2]\n",
    "triplets"
   ]
  },
  {
   "cell_type": "markdown",
   "id": "1fb0c50a-000a-4ba3-8914-db7253bed8e5",
   "metadata": {},
   "source": [
    "33. Develop a program that generates a list of all possible combinations of two lists using list comprehension."
   ]
  },
  {
   "cell_type": "code",
   "execution_count": 22,
   "id": "675ed9ff-d259-4e2e-844a-54248e21923c",
   "metadata": {},
   "outputs": [
    {
     "data": {
      "text/plain": [
       "[(1, 1),\n",
       " (1, 2),\n",
       " (1, 3),\n",
       " (2, 1),\n",
       " (2, 2),\n",
       " (2, 3),\n",
       " (3, 1),\n",
       " (3, 2),\n",
       " (3, 3),\n",
       " (4, 1),\n",
       " (4, 2),\n",
       " (4, 3),\n",
       " (5, 1),\n",
       " (5, 2),\n",
       " (5, 3)]"
      ]
     },
     "execution_count": 22,
     "metadata": {},
     "output_type": "execute_result"
    }
   ],
   "source": [
    "#Given lists\n",
    "list1 = [1,2,3,4,5]\n",
    "list2 = [1,2,3]\n",
    "\n",
    "#Writing all the combinations using a nested for loop in list comprehension\n",
    "combination_list = [(i,j) for i in list1 for j in list2]\n",
    "combination_list"
   ]
  },
  {
   "cell_type": "markdown",
   "id": "02a33494-0363-44d6-8c72-6865fc5d28d1",
   "metadata": {},
   "source": [
    "34. Write a program that calculates the mean, median, and mode of a list of numbers using list\n",
    "comprehension."
   ]
  },
  {
   "cell_type": "code",
   "execution_count": 48,
   "id": "4fb4f475-8277-4536-b203-2552765dfc4a",
   "metadata": {},
   "outputs": [
    {
     "name": "stdout",
     "output_type": "stream",
     "text": [
      "Given list:  [1, 2, 3, 3, 4, 4, 4, 5, 6, 7, 7, 7, 7, 8, 9, 10, 7, 7, 2, 3, 1]\n",
      "Mean: [5.095238095238095]\n",
      "Median:  [5]\n",
      "Mode:  [7]\n"
     ]
    }
   ],
   "source": [
    "#Given List\n",
    "list1 = [1,2,3,3,4,4,4,5,6,7,7,7,7,8,9,10,7,7,2,3,1]\n",
    "\n",
    "#Finding mean using list comprehension\n",
    "list_mean = [sum(list1)/len(list1)]\n",
    "\n",
    "#Finding median using list comprehension\n",
    "list_median = [sorted(list1)[len(list1)//2] if len(list1)%2!=0 else sum(sorted(list1)[len(list1)//2-1: len(list1)//2+1])/2]\n",
    "\n",
    "#Finding mode using list comprehension\n",
    "dist = {}\n",
    "for i in list1:\n",
    "    if i in dist.keys():\n",
    "        dist[i] +=1\n",
    "    else:\n",
    "        dist[i] = 1\n",
    "list_mode = [i for (i,j) in dist.items() if j == max(dist.values())]\n",
    "\n",
    "print(\"Given list: \", list1)\n",
    "print(\"Mean:\", list_mean)\n",
    "print(\"Median: \", list_median)\n",
    "print(\"Mode: \", list_mode)\n"
   ]
  },
  {
   "cell_type": "markdown",
   "id": "e2ecc4a1-d725-4715-91d0-1d7b9f2e2ef4",
   "metadata": {},
   "source": [
    "35. Create a program that generates Pascal's triangle up to a specified number of rows using list\n",
    "comprehension."
   ]
  },
  {
   "cell_type": "code",
   "execution_count": 60,
   "id": "0282d3f1-dc0c-4b6d-bd57-0c1c812f1932",
   "metadata": {},
   "outputs": [
    {
     "data": {
      "text/plain": [
       "[1,\n",
       " 11,\n",
       " 121,\n",
       " 1331,\n",
       " 14641,\n",
       " 161051,\n",
       " 1771561,\n",
       " 19487171,\n",
       " 214358881,\n",
       " 2357947691,\n",
       " 25937424601,\n",
       " 285311670611,\n",
       " 3138428376721,\n",
       " 34522712143931,\n",
       " 379749833583241]"
      ]
     },
     "execution_count": 60,
     "metadata": {},
     "output_type": "execute_result"
    }
   ],
   "source": [
    "#No. of rows\n",
    "rows = 15\n",
    "#Pascal's triangle using list comprehension\n",
    "pascal_triangle = [11**i for i in range(rows)]\n",
    "pascal_triangle"
   ]
  },
  {
   "cell_type": "markdown",
   "id": "b40f617e-61fc-4723-8346-e2b1ba33eb6b",
   "metadata": {},
   "source": [
    "36. Develop a program that calculates the sum of the digits of a factorial of numbers from 1 to 5 using list\n",
    "comprehension."
   ]
  },
  {
   "cell_type": "code",
   "execution_count": 3,
   "id": "3a523e2c-c36d-4ab9-84df-21c1d305339e",
   "metadata": {},
   "outputs": [
    {
     "name": "stdout",
     "output_type": "stream",
     "text": [
      "List of factorials [1, 2, 6, 24, 120]\n",
      "List of sum fo digits [1, 2, 6, 6, 3]\n"
     ]
    }
   ],
   "source": [
    "#First we define a function to calculate the factorial of a number\n",
    "def factorial(n):\n",
    "    if n == 0 or n == 1:\n",
    "        return 1\n",
    "    else:\n",
    "        return n * factorial(n - 1)\n",
    "\n",
    "# Calculate the factorials of numbers from 1 to 5 using list comprehension\n",
    "factorials = [factorial(i) for i in range(1, 6)]\n",
    "\n",
    "# Calculate the sum of digits of each factorial using list comprehension\n",
    "sum_of_digits = [sum(int(digit) for digit in str(factorial)) for factorial in factorials]\n",
    "print(\"List of factorials\", factorials)\n",
    "print(\"List of sum fo digits\", sum_of_digits)"
   ]
  },
  {
   "cell_type": "markdown",
   "id": "3adaac3c-ef85-400b-842c-5b20cdabe8de",
   "metadata": {},
   "source": [
    "37. Write a program that finds the longest word in a sentence using list comprehension."
   ]
  },
  {
   "cell_type": "code",
   "execution_count": 6,
   "id": "63a6cab0-160e-4308-8eeb-94f5a744e116",
   "metadata": {},
   "outputs": [
    {
     "name": "stdin",
     "output_type": "stream",
     "text": [
      "Enter any sentence My name is Shalini Soni\n"
     ]
    },
    {
     "data": {
      "text/plain": [
       "['Shalini']"
      ]
     },
     "execution_count": 6,
     "metadata": {},
     "output_type": "execute_result"
    }
   ],
   "source": [
    "#Taking user input and splitting that in a  list of words\n",
    "input_text = input(\"Enter any sentence\").split()\n",
    "\n",
    "longest_word = [word for word in input_text if len(word) == max(len(word) for word in input_text)]\n",
    "longest_word"
   ]
  },
  {
   "cell_type": "markdown",
   "id": "cc635314-dadb-4f5d-8ca0-4f1f00b0526c",
   "metadata": {},
   "source": [
    "38. Create a program that filters a list of strings to include only those with more than three vowels using list\n",
    "comprehension."
   ]
  },
  {
   "cell_type": "code",
   "execution_count": 12,
   "id": "15518f50-fc28-492c-8eb2-42dd553d5003",
   "metadata": {},
   "outputs": [
    {
     "data": {
      "text/plain": [
       "['Creativity', 'awesomeness', 'ShaliniSoni']"
      ]
     },
     "execution_count": 12,
     "metadata": {},
     "output_type": "execute_result"
    }
   ],
   "source": [
    "#Given string\n",
    "string = [\"Creativity\", \"awesomeness\", \"ShaliniSoni\", \"chikoo\", \"coconut\", \"pear\", \"guava\"]\n",
    "\n",
    "#We count the number of vowels in a string\n",
    "def count_vowels(string):\n",
    "    vowels = \"AEIOUaeiou\"\n",
    "    return sum(1 for char in string if char in vowels)\n",
    "\n",
    "#Using list comprehension to filter out the strings with more than three vowels\n",
    "filtered_list = [word for word in string if count_vowels(word)>3]\n",
    "filtered_list"
   ]
  },
  {
   "cell_type": "markdown",
   "id": "ff02a757-08db-4243-9a58-5008531a52f8",
   "metadata": {},
   "source": [
    "39. Develop a program that calculates the sum of the digits of numbers from 1 to 1000 using list\n",
    "comprehension."
   ]
  },
  {
   "cell_type": "code",
   "execution_count": 13,
   "id": "4f91c53a-6ecd-4dd5-9225-fb42fc4d4d42",
   "metadata": {},
   "outputs": [
    {
     "data": {
      "text/plain": [
       "[1,\n",
       " 2,\n",
       " 3,\n",
       " 4,\n",
       " 5,\n",
       " 6,\n",
       " 7,\n",
       " 8,\n",
       " 9,\n",
       " 1,\n",
       " 2,\n",
       " 3,\n",
       " 4,\n",
       " 5,\n",
       " 6,\n",
       " 7,\n",
       " 8,\n",
       " 9,\n",
       " 10,\n",
       " 2,\n",
       " 3,\n",
       " 4,\n",
       " 5,\n",
       " 6,\n",
       " 7,\n",
       " 8,\n",
       " 9,\n",
       " 10,\n",
       " 11,\n",
       " 3,\n",
       " 4,\n",
       " 5,\n",
       " 6,\n",
       " 7,\n",
       " 8,\n",
       " 9,\n",
       " 10,\n",
       " 11,\n",
       " 12,\n",
       " 4,\n",
       " 5,\n",
       " 6,\n",
       " 7,\n",
       " 8,\n",
       " 9,\n",
       " 10,\n",
       " 11,\n",
       " 12,\n",
       " 13,\n",
       " 5,\n",
       " 6,\n",
       " 7,\n",
       " 8,\n",
       " 9,\n",
       " 10,\n",
       " 11,\n",
       " 12,\n",
       " 13,\n",
       " 14,\n",
       " 6,\n",
       " 7,\n",
       " 8,\n",
       " 9,\n",
       " 10,\n",
       " 11,\n",
       " 12,\n",
       " 13,\n",
       " 14,\n",
       " 15,\n",
       " 7,\n",
       " 8,\n",
       " 9,\n",
       " 10,\n",
       " 11,\n",
       " 12,\n",
       " 13,\n",
       " 14,\n",
       " 15,\n",
       " 16,\n",
       " 8,\n",
       " 9,\n",
       " 10,\n",
       " 11,\n",
       " 12,\n",
       " 13,\n",
       " 14,\n",
       " 15,\n",
       " 16,\n",
       " 17,\n",
       " 9,\n",
       " 10,\n",
       " 11,\n",
       " 12,\n",
       " 13,\n",
       " 14,\n",
       " 15,\n",
       " 16,\n",
       " 17,\n",
       " 18,\n",
       " 1,\n",
       " 2,\n",
       " 3,\n",
       " 4,\n",
       " 5,\n",
       " 6,\n",
       " 7,\n",
       " 8,\n",
       " 9,\n",
       " 10,\n",
       " 2,\n",
       " 3,\n",
       " 4,\n",
       " 5,\n",
       " 6,\n",
       " 7,\n",
       " 8,\n",
       " 9,\n",
       " 10,\n",
       " 11,\n",
       " 3,\n",
       " 4,\n",
       " 5,\n",
       " 6,\n",
       " 7,\n",
       " 8,\n",
       " 9,\n",
       " 10,\n",
       " 11,\n",
       " 12,\n",
       " 4,\n",
       " 5,\n",
       " 6,\n",
       " 7,\n",
       " 8,\n",
       " 9,\n",
       " 10,\n",
       " 11,\n",
       " 12,\n",
       " 13,\n",
       " 5,\n",
       " 6,\n",
       " 7,\n",
       " 8,\n",
       " 9,\n",
       " 10,\n",
       " 11,\n",
       " 12,\n",
       " 13,\n",
       " 14,\n",
       " 6,\n",
       " 7,\n",
       " 8,\n",
       " 9,\n",
       " 10,\n",
       " 11,\n",
       " 12,\n",
       " 13,\n",
       " 14,\n",
       " 15,\n",
       " 7,\n",
       " 8,\n",
       " 9,\n",
       " 10,\n",
       " 11,\n",
       " 12,\n",
       " 13,\n",
       " 14,\n",
       " 15,\n",
       " 16,\n",
       " 8,\n",
       " 9,\n",
       " 10,\n",
       " 11,\n",
       " 12,\n",
       " 13,\n",
       " 14,\n",
       " 15,\n",
       " 16,\n",
       " 17,\n",
       " 9,\n",
       " 10,\n",
       " 11,\n",
       " 12,\n",
       " 13,\n",
       " 14,\n",
       " 15,\n",
       " 16,\n",
       " 17,\n",
       " 18,\n",
       " 10,\n",
       " 11,\n",
       " 12,\n",
       " 13,\n",
       " 14,\n",
       " 15,\n",
       " 16,\n",
       " 17,\n",
       " 18,\n",
       " 19,\n",
       " 2,\n",
       " 3,\n",
       " 4,\n",
       " 5,\n",
       " 6,\n",
       " 7,\n",
       " 8,\n",
       " 9,\n",
       " 10,\n",
       " 11,\n",
       " 3,\n",
       " 4,\n",
       " 5,\n",
       " 6,\n",
       " 7,\n",
       " 8,\n",
       " 9,\n",
       " 10,\n",
       " 11,\n",
       " 12,\n",
       " 4,\n",
       " 5,\n",
       " 6,\n",
       " 7,\n",
       " 8,\n",
       " 9,\n",
       " 10,\n",
       " 11,\n",
       " 12,\n",
       " 13,\n",
       " 5,\n",
       " 6,\n",
       " 7,\n",
       " 8,\n",
       " 9,\n",
       " 10,\n",
       " 11,\n",
       " 12,\n",
       " 13,\n",
       " 14,\n",
       " 6,\n",
       " 7,\n",
       " 8,\n",
       " 9,\n",
       " 10,\n",
       " 11,\n",
       " 12,\n",
       " 13,\n",
       " 14,\n",
       " 15,\n",
       " 7,\n",
       " 8,\n",
       " 9,\n",
       " 10,\n",
       " 11,\n",
       " 12,\n",
       " 13,\n",
       " 14,\n",
       " 15,\n",
       " 16,\n",
       " 8,\n",
       " 9,\n",
       " 10,\n",
       " 11,\n",
       " 12,\n",
       " 13,\n",
       " 14,\n",
       " 15,\n",
       " 16,\n",
       " 17,\n",
       " 9,\n",
       " 10,\n",
       " 11,\n",
       " 12,\n",
       " 13,\n",
       " 14,\n",
       " 15,\n",
       " 16,\n",
       " 17,\n",
       " 18,\n",
       " 10,\n",
       " 11,\n",
       " 12,\n",
       " 13,\n",
       " 14,\n",
       " 15,\n",
       " 16,\n",
       " 17,\n",
       " 18,\n",
       " 19,\n",
       " 11,\n",
       " 12,\n",
       " 13,\n",
       " 14,\n",
       " 15,\n",
       " 16,\n",
       " 17,\n",
       " 18,\n",
       " 19,\n",
       " 20,\n",
       " 3,\n",
       " 4,\n",
       " 5,\n",
       " 6,\n",
       " 7,\n",
       " 8,\n",
       " 9,\n",
       " 10,\n",
       " 11,\n",
       " 12,\n",
       " 4,\n",
       " 5,\n",
       " 6,\n",
       " 7,\n",
       " 8,\n",
       " 9,\n",
       " 10,\n",
       " 11,\n",
       " 12,\n",
       " 13,\n",
       " 5,\n",
       " 6,\n",
       " 7,\n",
       " 8,\n",
       " 9,\n",
       " 10,\n",
       " 11,\n",
       " 12,\n",
       " 13,\n",
       " 14,\n",
       " 6,\n",
       " 7,\n",
       " 8,\n",
       " 9,\n",
       " 10,\n",
       " 11,\n",
       " 12,\n",
       " 13,\n",
       " 14,\n",
       " 15,\n",
       " 7,\n",
       " 8,\n",
       " 9,\n",
       " 10,\n",
       " 11,\n",
       " 12,\n",
       " 13,\n",
       " 14,\n",
       " 15,\n",
       " 16,\n",
       " 8,\n",
       " 9,\n",
       " 10,\n",
       " 11,\n",
       " 12,\n",
       " 13,\n",
       " 14,\n",
       " 15,\n",
       " 16,\n",
       " 17,\n",
       " 9,\n",
       " 10,\n",
       " 11,\n",
       " 12,\n",
       " 13,\n",
       " 14,\n",
       " 15,\n",
       " 16,\n",
       " 17,\n",
       " 18,\n",
       " 10,\n",
       " 11,\n",
       " 12,\n",
       " 13,\n",
       " 14,\n",
       " 15,\n",
       " 16,\n",
       " 17,\n",
       " 18,\n",
       " 19,\n",
       " 11,\n",
       " 12,\n",
       " 13,\n",
       " 14,\n",
       " 15,\n",
       " 16,\n",
       " 17,\n",
       " 18,\n",
       " 19,\n",
       " 20,\n",
       " 12,\n",
       " 13,\n",
       " 14,\n",
       " 15,\n",
       " 16,\n",
       " 17,\n",
       " 18,\n",
       " 19,\n",
       " 20,\n",
       " 21,\n",
       " 4,\n",
       " 5,\n",
       " 6,\n",
       " 7,\n",
       " 8,\n",
       " 9,\n",
       " 10,\n",
       " 11,\n",
       " 12,\n",
       " 13,\n",
       " 5,\n",
       " 6,\n",
       " 7,\n",
       " 8,\n",
       " 9,\n",
       " 10,\n",
       " 11,\n",
       " 12,\n",
       " 13,\n",
       " 14,\n",
       " 6,\n",
       " 7,\n",
       " 8,\n",
       " 9,\n",
       " 10,\n",
       " 11,\n",
       " 12,\n",
       " 13,\n",
       " 14,\n",
       " 15,\n",
       " 7,\n",
       " 8,\n",
       " 9,\n",
       " 10,\n",
       " 11,\n",
       " 12,\n",
       " 13,\n",
       " 14,\n",
       " 15,\n",
       " 16,\n",
       " 8,\n",
       " 9,\n",
       " 10,\n",
       " 11,\n",
       " 12,\n",
       " 13,\n",
       " 14,\n",
       " 15,\n",
       " 16,\n",
       " 17,\n",
       " 9,\n",
       " 10,\n",
       " 11,\n",
       " 12,\n",
       " 13,\n",
       " 14,\n",
       " 15,\n",
       " 16,\n",
       " 17,\n",
       " 18,\n",
       " 10,\n",
       " 11,\n",
       " 12,\n",
       " 13,\n",
       " 14,\n",
       " 15,\n",
       " 16,\n",
       " 17,\n",
       " 18,\n",
       " 19,\n",
       " 11,\n",
       " 12,\n",
       " 13,\n",
       " 14,\n",
       " 15,\n",
       " 16,\n",
       " 17,\n",
       " 18,\n",
       " 19,\n",
       " 20,\n",
       " 12,\n",
       " 13,\n",
       " 14,\n",
       " 15,\n",
       " 16,\n",
       " 17,\n",
       " 18,\n",
       " 19,\n",
       " 20,\n",
       " 21,\n",
       " 13,\n",
       " 14,\n",
       " 15,\n",
       " 16,\n",
       " 17,\n",
       " 18,\n",
       " 19,\n",
       " 20,\n",
       " 21,\n",
       " 22,\n",
       " 5,\n",
       " 6,\n",
       " 7,\n",
       " 8,\n",
       " 9,\n",
       " 10,\n",
       " 11,\n",
       " 12,\n",
       " 13,\n",
       " 14,\n",
       " 6,\n",
       " 7,\n",
       " 8,\n",
       " 9,\n",
       " 10,\n",
       " 11,\n",
       " 12,\n",
       " 13,\n",
       " 14,\n",
       " 15,\n",
       " 7,\n",
       " 8,\n",
       " 9,\n",
       " 10,\n",
       " 11,\n",
       " 12,\n",
       " 13,\n",
       " 14,\n",
       " 15,\n",
       " 16,\n",
       " 8,\n",
       " 9,\n",
       " 10,\n",
       " 11,\n",
       " 12,\n",
       " 13,\n",
       " 14,\n",
       " 15,\n",
       " 16,\n",
       " 17,\n",
       " 9,\n",
       " 10,\n",
       " 11,\n",
       " 12,\n",
       " 13,\n",
       " 14,\n",
       " 15,\n",
       " 16,\n",
       " 17,\n",
       " 18,\n",
       " 10,\n",
       " 11,\n",
       " 12,\n",
       " 13,\n",
       " 14,\n",
       " 15,\n",
       " 16,\n",
       " 17,\n",
       " 18,\n",
       " 19,\n",
       " 11,\n",
       " 12,\n",
       " 13,\n",
       " 14,\n",
       " 15,\n",
       " 16,\n",
       " 17,\n",
       " 18,\n",
       " 19,\n",
       " 20,\n",
       " 12,\n",
       " 13,\n",
       " 14,\n",
       " 15,\n",
       " 16,\n",
       " 17,\n",
       " 18,\n",
       " 19,\n",
       " 20,\n",
       " 21,\n",
       " 13,\n",
       " 14,\n",
       " 15,\n",
       " 16,\n",
       " 17,\n",
       " 18,\n",
       " 19,\n",
       " 20,\n",
       " 21,\n",
       " 22,\n",
       " 14,\n",
       " 15,\n",
       " 16,\n",
       " 17,\n",
       " 18,\n",
       " 19,\n",
       " 20,\n",
       " 21,\n",
       " 22,\n",
       " 23,\n",
       " 6,\n",
       " 7,\n",
       " 8,\n",
       " 9,\n",
       " 10,\n",
       " 11,\n",
       " 12,\n",
       " 13,\n",
       " 14,\n",
       " 15,\n",
       " 7,\n",
       " 8,\n",
       " 9,\n",
       " 10,\n",
       " 11,\n",
       " 12,\n",
       " 13,\n",
       " 14,\n",
       " 15,\n",
       " 16,\n",
       " 8,\n",
       " 9,\n",
       " 10,\n",
       " 11,\n",
       " 12,\n",
       " 13,\n",
       " 14,\n",
       " 15,\n",
       " 16,\n",
       " 17,\n",
       " 9,\n",
       " 10,\n",
       " 11,\n",
       " 12,\n",
       " 13,\n",
       " 14,\n",
       " 15,\n",
       " 16,\n",
       " 17,\n",
       " 18,\n",
       " 10,\n",
       " 11,\n",
       " 12,\n",
       " 13,\n",
       " 14,\n",
       " 15,\n",
       " 16,\n",
       " 17,\n",
       " 18,\n",
       " 19,\n",
       " 11,\n",
       " 12,\n",
       " 13,\n",
       " 14,\n",
       " 15,\n",
       " 16,\n",
       " 17,\n",
       " 18,\n",
       " 19,\n",
       " 20,\n",
       " 12,\n",
       " 13,\n",
       " 14,\n",
       " 15,\n",
       " 16,\n",
       " 17,\n",
       " 18,\n",
       " 19,\n",
       " 20,\n",
       " 21,\n",
       " 13,\n",
       " 14,\n",
       " 15,\n",
       " 16,\n",
       " 17,\n",
       " 18,\n",
       " 19,\n",
       " 20,\n",
       " 21,\n",
       " 22,\n",
       " 14,\n",
       " 15,\n",
       " 16,\n",
       " 17,\n",
       " 18,\n",
       " 19,\n",
       " 20,\n",
       " 21,\n",
       " 22,\n",
       " 23,\n",
       " 15,\n",
       " 16,\n",
       " 17,\n",
       " 18,\n",
       " 19,\n",
       " 20,\n",
       " 21,\n",
       " 22,\n",
       " 23,\n",
       " 24,\n",
       " 7,\n",
       " 8,\n",
       " 9,\n",
       " 10,\n",
       " 11,\n",
       " 12,\n",
       " 13,\n",
       " 14,\n",
       " 15,\n",
       " 16,\n",
       " 8,\n",
       " 9,\n",
       " 10,\n",
       " 11,\n",
       " 12,\n",
       " 13,\n",
       " 14,\n",
       " 15,\n",
       " 16,\n",
       " 17,\n",
       " 9,\n",
       " 10,\n",
       " 11,\n",
       " 12,\n",
       " 13,\n",
       " 14,\n",
       " 15,\n",
       " 16,\n",
       " 17,\n",
       " 18,\n",
       " 10,\n",
       " 11,\n",
       " 12,\n",
       " 13,\n",
       " 14,\n",
       " 15,\n",
       " 16,\n",
       " 17,\n",
       " 18,\n",
       " 19,\n",
       " 11,\n",
       " 12,\n",
       " 13,\n",
       " 14,\n",
       " 15,\n",
       " 16,\n",
       " 17,\n",
       " 18,\n",
       " 19,\n",
       " 20,\n",
       " 12,\n",
       " 13,\n",
       " 14,\n",
       " 15,\n",
       " 16,\n",
       " 17,\n",
       " 18,\n",
       " 19,\n",
       " 20,\n",
       " 21,\n",
       " 13,\n",
       " 14,\n",
       " 15,\n",
       " 16,\n",
       " 17,\n",
       " 18,\n",
       " 19,\n",
       " 20,\n",
       " 21,\n",
       " 22,\n",
       " 14,\n",
       " 15,\n",
       " 16,\n",
       " 17,\n",
       " 18,\n",
       " 19,\n",
       " 20,\n",
       " 21,\n",
       " 22,\n",
       " 23,\n",
       " 15,\n",
       " 16,\n",
       " 17,\n",
       " 18,\n",
       " 19,\n",
       " 20,\n",
       " 21,\n",
       " 22,\n",
       " 23,\n",
       " 24,\n",
       " 16,\n",
       " 17,\n",
       " 18,\n",
       " 19,\n",
       " 20,\n",
       " 21,\n",
       " 22,\n",
       " 23,\n",
       " 24,\n",
       " 25,\n",
       " 8,\n",
       " 9,\n",
       " 10,\n",
       " 11,\n",
       " 12,\n",
       " 13,\n",
       " 14,\n",
       " 15,\n",
       " 16,\n",
       " 17,\n",
       " 9,\n",
       " 10,\n",
       " 11,\n",
       " 12,\n",
       " 13,\n",
       " 14,\n",
       " 15,\n",
       " 16,\n",
       " 17,\n",
       " 18,\n",
       " 10,\n",
       " 11,\n",
       " 12,\n",
       " 13,\n",
       " 14,\n",
       " 15,\n",
       " 16,\n",
       " 17,\n",
       " 18,\n",
       " 19,\n",
       " 11,\n",
       " 12,\n",
       " 13,\n",
       " 14,\n",
       " 15,\n",
       " 16,\n",
       " 17,\n",
       " 18,\n",
       " 19,\n",
       " 20,\n",
       " 12,\n",
       " 13,\n",
       " 14,\n",
       " 15,\n",
       " 16,\n",
       " 17,\n",
       " 18,\n",
       " 19,\n",
       " 20,\n",
       " 21,\n",
       " 13,\n",
       " 14,\n",
       " 15,\n",
       " 16,\n",
       " 17,\n",
       " 18,\n",
       " 19,\n",
       " 20,\n",
       " 21,\n",
       " 22,\n",
       " 14,\n",
       " 15,\n",
       " 16,\n",
       " 17,\n",
       " 18,\n",
       " 19,\n",
       " 20,\n",
       " 21,\n",
       " 22,\n",
       " 23,\n",
       " 15,\n",
       " 16,\n",
       " 17,\n",
       " 18,\n",
       " 19,\n",
       " 20,\n",
       " 21,\n",
       " 22,\n",
       " 23,\n",
       " 24,\n",
       " 16,\n",
       " 17,\n",
       " 18,\n",
       " 19,\n",
       " 20,\n",
       " 21,\n",
       " 22,\n",
       " 23,\n",
       " 24,\n",
       " 25,\n",
       " 17,\n",
       " 18,\n",
       " 19,\n",
       " 20,\n",
       " 21,\n",
       " 22,\n",
       " 23,\n",
       " 24,\n",
       " 25,\n",
       " 26,\n",
       " 9,\n",
       " 10,\n",
       " 11,\n",
       " 12,\n",
       " 13,\n",
       " 14,\n",
       " 15,\n",
       " 16,\n",
       " 17,\n",
       " 18,\n",
       " 10,\n",
       " 11,\n",
       " 12,\n",
       " 13,\n",
       " 14,\n",
       " 15,\n",
       " 16,\n",
       " 17,\n",
       " 18,\n",
       " 19,\n",
       " 11,\n",
       " 12,\n",
       " 13,\n",
       " 14,\n",
       " 15,\n",
       " 16,\n",
       " 17,\n",
       " 18,\n",
       " 19,\n",
       " 20,\n",
       " 12,\n",
       " 13,\n",
       " 14,\n",
       " 15,\n",
       " 16,\n",
       " 17,\n",
       " 18,\n",
       " 19,\n",
       " 20,\n",
       " 21,\n",
       " 13,\n",
       " 14,\n",
       " 15,\n",
       " 16,\n",
       " 17,\n",
       " 18,\n",
       " 19,\n",
       " 20,\n",
       " 21,\n",
       " 22,\n",
       " 14,\n",
       " 15,\n",
       " 16,\n",
       " 17,\n",
       " 18,\n",
       " 19,\n",
       " 20,\n",
       " 21,\n",
       " 22,\n",
       " 23,\n",
       " 15,\n",
       " 16,\n",
       " 17,\n",
       " 18,\n",
       " 19,\n",
       " 20,\n",
       " 21,\n",
       " 22,\n",
       " 23,\n",
       " 24,\n",
       " 16,\n",
       " 17,\n",
       " 18,\n",
       " 19,\n",
       " 20,\n",
       " 21,\n",
       " 22,\n",
       " 23,\n",
       " 24,\n",
       " 25,\n",
       " 17,\n",
       " 18,\n",
       " 19,\n",
       " 20,\n",
       " 21,\n",
       " 22,\n",
       " 23,\n",
       " 24,\n",
       " 25,\n",
       " 26,\n",
       " 18,\n",
       " 19,\n",
       " 20,\n",
       " 21,\n",
       " 22,\n",
       " 23,\n",
       " 24,\n",
       " 25,\n",
       " 26,\n",
       " 27,\n",
       " 1]"
      ]
     },
     "execution_count": 13,
     "metadata": {},
     "output_type": "execute_result"
    }
   ],
   "source": [
    "# Using list comprehension to calculate the sum of digits for numbers from 1 to 1000\n",
    "sum_of_digits_list = [sum(int(digit) for digit in str(num)) for num in range(1, 1001)]\n",
    "sum_of_digits_list"
   ]
  },
  {
   "cell_type": "markdown",
   "id": "fc8b66ce-36c2-46e5-980d-6f8ff12587d2",
   "metadata": {},
   "source": [
    "40. Write a program that generates a list of prime palindromic numbers using list comprehension."
   ]
  },
  {
   "cell_type": "code",
   "execution_count": 19,
   "id": "5bc76b64-9af5-48a2-96b6-75b0d332f8fc",
   "metadata": {},
   "outputs": [
    {
     "data": {
      "text/plain": [
       "[2,\n",
       " 3,\n",
       " 5,\n",
       " 7,\n",
       " 11,\n",
       " 101,\n",
       " 131,\n",
       " 151,\n",
       " 181,\n",
       " 191,\n",
       " 313,\n",
       " 353,\n",
       " 373,\n",
       " 383,\n",
       " 727,\n",
       " 757,\n",
       " 787,\n",
       " 797,\n",
       " 919,\n",
       " 929]"
      ]
     },
     "execution_count": 19,
     "metadata": {},
     "output_type": "execute_result"
    }
   ],
   "source": [
    "#Function to check if a number is prime\n",
    "\n",
    "def is_prime(n):\n",
    "    if n<=1 or n==4: \n",
    "        return False\n",
    "    if n==3 and n==2:\n",
    "        return True\n",
    "    for i in range(2,n//2):\n",
    "        if n%i==0:\n",
    "            return False\n",
    "            break \n",
    "    return True\n",
    "\n",
    "#Using list comprehension to get a list of all prime palindromic numbers upto a given limit\n",
    "limit = 1000\n",
    "prime_palindromic_numbers = [n for n in range(1, limit + 1) if str(n) == str(n)[::-1] and is_prime(n)]\n",
    "prime_palindromic_numbers"
   ]
  }
 ],
 "metadata": {
  "kernelspec": {
   "display_name": "Python 3 (ipykernel)",
   "language": "python",
   "name": "python3"
  },
  "language_info": {
   "codemirror_mode": {
    "name": "ipython",
    "version": 3
   },
   "file_extension": ".py",
   "mimetype": "text/x-python",
   "name": "python",
   "nbconvert_exporter": "python",
   "pygments_lexer": "ipython3",
   "version": "3.10.8"
  }
 },
 "nbformat": 4,
 "nbformat_minor": 5
}
