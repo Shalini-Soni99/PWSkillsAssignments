{
 "cells": [
  {
   "cell_type": "markdown",
   "metadata": {},
   "source": [
    "Q1. Find the value of T(2) for the recurrence relation T(n) = 3T(n-1) + 12n, given that T(0)=5.\n",
    "\n",
    "\n",
    "Using the recurrence relation for n=1:\n",
    "T(1)=3T(0)+12(1) \n",
    "Substituting T(0)=5T:\n",
    "T(1)=3(5)+12=15+12=27\n",
    "\n",
    "\n",
    "Using the recurrence relation for n=2:\n",
    "T(2)=3T(1)+12(2)\n",
    "Substituting T(1)=27T(1) = 27T(1)=27:\n",
    "T(2)=3(27)+24=81+24=105\n",
    "\n",
    "So, T(2)=105"
   ]
  },
  {
   "cell_type": "markdown",
   "metadata": {},
   "source": [
    "Q2. Given a recurrence relation, solve it using the substitution method:"
   ]
  },
  {
   "cell_type": "markdown",
   "metadata": {},
   "source": [
    "a. T(n) = T(n-1) + c\n",
    "\n",
    "Expanding the recurrence by repeatedly substituting for previous terms:\n",
    "T(n)=T(n−1)+c\n",
    "T(n−1)=T(n−2)+c\n",
    "T(n−2)=T(n−3)+c\n",
    "Continuing this process up to T(1):\n",
    "T(n)=T(n−1)+c=(T(n−2)+c)+c=(T(n−3)+c)+c+c=⋯=T(0)+nc\n",
    "\n",
    "\n",
    "Solution for the recurrence relation is:\n",
    "T(n)=T(0)+nc\n"
   ]
  },
  {
   "cell_type": "markdown",
   "metadata": {},
   "source": [
    "b. T(n) = 2T(n/2) + n\n",
    "\n",
    "We expand the recurrence by substituting T(n/2)recursively.\n",
    "1st expansion:\n",
    "T(n)=2T(n/2)+n\n",
    "2nd expansion substituting T(n/2)=2T(n/4)+n/2:\n",
    "T(n)=2(2T(n/4)+n/2)+n=4T(n/4)+2n\n",
    "3rd expansion substituting T(n/4)=2T(n/8)+n/4T(n/4):\n",
    "T(n)=4(2T(n/8)+n/4)+2n=8T(n/8)+3n\n",
    "After k steps, we observe the pattern:\n",
    "T(n)=2kT(n/2k)+kn\n",
    "\n",
    "\n",
    "We stop expanding when n/2k=1, i.e., when:\n",
    "2k=n⇒k=log2n\n",
    "\n",
    "\n",
    "\n",
    "\n",
    "At the base case, we assume T(1) is some constant T(1)=c, so:\n",
    "T(n/2^k) = T(1) = c \n",
    "Substituting k=log2n:\n",
    "T(n) = 2^{\\log_2 n} T(1) + (\\log_2 n) n \n",
    "Since 2^{\\log_2 n} = n, we get:\n",
    "T(n)=nc+nlog2n\n"
   ]
  },
  {
   "cell_type": "markdown",
   "metadata": {},
   "source": [
    "c. T(n) = 2T(n/2) + c\n",
    "\n",
    "\n",
    "T(n)=2T(n/2)+c \n",
    "2nd expansion (substituting T(n/2)):\n",
    "T(n)=2(2T(n/4)+c)+c=4T(n/4)+2c+c=4T(n/4)+3c \n",
    "3rd expansion (substituting T(n/4)):\n",
    "T(n)=4(2T(n/8)+c)+3c=8T(n/8)+7c \n",
    "After k steps, the pattern emerges:\n",
    "T(n)=2^k T(n/2^k) + (2^k - 1)c\n",
    "\n",
    "We stop when n/2^k = 1, i.e., when:\n",
    "2^k = n⇒k=log2n \n",
    "Substituting k=log2n:\n",
    "TT(n) = 2^{\\log_2 n} T(1) + (2^{\\log_2 n} - 1)c \n",
    "Since 2^{\\log_2 n} = n, we get:\n",
    "T(n)=nT(1)+(n−1)c \n",
    "\n",
    "Assuming T(1)=d, we substitute:\n",
    "T(n)=nd+(n−1)c \n",
    "For large n, ignoring constants:\n",
    "T(n)=O(n)\n",
    "\n",
    "The solution to the recurrence is:\n",
    "T(n)=O(n)T(n) = O(n)T(n)=O(n) \n",
    "This confirms a linear time complexity."
   ]
  },
  {
   "cell_type": "markdown",
   "metadata": {},
   "source": [
    "d. T(n) = T(n/2) + c\n",
    "\n",
    "1st expansion:\n",
    "T(n)=T(n/2)+c \n",
    "2nd expansion substituting T(n/2)):\n",
    "T(n)=(T(n/4)+c)+c=T(n/4)+2c \n",
    "3rd expansion (substituting T(n/4)):\n",
    "T(n)=(T(n/8)+c)+2c=T(n/8)+3c\n",
    "After k steps, the pattern emerges:\n",
    "T(n)=T(n/2k)+kc\n",
    "\n",
    "\n",
    "We stop when n/2k=1, i.e., when:\n",
    "2^k = n⇒k=log2n \n",
    "Substituting k=log2n:\n",
    "T(n)=T(1)+(log2n)c\n",
    "\n",
    "Assuming T(1)=d, we get:\n",
    "T(n)=d+clog2n \n",
    "For large n, ignoring constants:\n",
    "T(n)=O(logn)\n",
    "Logarithmic Time Complexity"
   ]
  },
  {
   "cell_type": "markdown",
   "metadata": {},
   "source": [
    "3. Given a recurrence relation, solve it using the recursive tree approach:"
   ]
  },
  {
   "cell_type": "markdown",
   "metadata": {},
   "source": [
    "a. T(n) = 2T(n-1) +1\n",
    "\n",
    "1st expansion:\n",
    "T(n)=2T(n−1)+1\n",
    "2nd expansion (substituting T(n−1)):\n",
    "T(n)=2(2T(n−2)+1)+1=4T(n−2)+2+1\n",
    "3rd expansion (substituting T(n−2)):\n",
    "T(n)=2(4T(n−3)+3)+1=8T(n−3)+4+2+1 \n",
    "Observing the pattern:\n",
    "T(n)=2kT(n−k)+(2k−1)\n",
    "\n",
    "\n",
    "The recursion stops when n−k=0, i.e., when:\n",
    "k=n\n",
    "At the base case, we assume T(0)=C, so:\n",
    "T(n) = 2^n T(0) + (2^n - 1) \n",
    "Substituting T(0)=C:\n",
    "T(n)=2nC+2n−1\n",
    "For asymptotic complexity, ignoring constants:\n",
    "T(n) = O(2^n)\n",
    "\n"
   ]
  },
  {
   "cell_type": "markdown",
   "metadata": {},
   "source": [
    "b. T(n) = 2T(n/2) + n\n",
    "\n",
    "Expanding for the first few levels:\n",
    "T(n)=2T(n−1)+1T\n",
    "T(n−1)=2T(n−2)+1\n",
    "T(n−2)=2T(n−3)+1 \n",
    "Expanding up to level k:\n",
    "T(n)=2(2T(n−2)+1)+1=4T(n−2)+2+1\n",
    "T(n)=8T(n−3)+4+2+1 \n",
    "Observing the pattern at depth k:\n",
    "T(n)=2kT(n−k)+(2k−1)\n",
    "\n",
    "The recursion stops when n−k=0, i.e., when:\n",
    "k=n\n",
    "At the base case, we assume T(0)=C, so:\n",
    "T(n) = 2^n T(0) + (2^n - 1) \n",
    "Substituting T(0)=C:\n",
    "T(n)=2nC+2n−1\n",
    "For asymptotic complexity, ignoring constants:\n",
    "T(n) = O(2^n)\n"
   ]
  }
 ],
 "metadata": {
  "language_info": {
   "name": "python"
  }
 },
 "nbformat": 4,
 "nbformat_minor": 2
}
