{
 "cells": [
  {
   "cell_type": "markdown",
   "id": "38c27827-eb9d-4c22-96e0-f328c151e75d",
   "metadata": {},
   "source": [
    "Topic: Python Basic Variable"
   ]
  },
  {
   "cell_type": "markdown",
   "id": "14727c0a-d332-4e0f-8060-95a11a295ac7",
   "metadata": {},
   "source": [
    "1. Declare two variables, `x` and `y`, and assign them integer values. Swap the\n",
    "values of these variables without using any temporary variable.\n"
   ]
  },
  {
   "cell_type": "code",
   "execution_count": 3,
   "id": "1c621e30-2e39-485f-a58b-592a265082a1",
   "metadata": {},
   "outputs": [
    {
     "name": "stdout",
     "output_type": "stream",
     "text": [
      "5\n",
      "10\n"
     ]
    }
   ],
   "source": [
    "#Declaring the variables x and y and assigning integer values to them\n",
    "x, y = 10, 5\n",
    "\n",
    "#Swapping the values of x and y\n",
    "y, x = x, y\n",
    "\n",
    "#Checking the new swapped values of x and y\n",
    "print(x)\n",
    "print(y)"
   ]
  },
  {
   "cell_type": "markdown",
   "id": "9407344f-c975-4da6-ae91-5a0b8a88db0f",
   "metadata": {},
   "source": [
    "2. Create a program that calculates the area of a rectangle. Take the length and\n",
    "width as inputs from the user and store them in variables. Calculate and\n",
    "display the area."
   ]
  },
  {
   "cell_type": "code",
   "execution_count": 10,
   "id": "024ce27e-4b9c-408f-bac2-365563957581",
   "metadata": {},
   "outputs": [
    {
     "name": "stdout",
     "output_type": "stream",
     "text": [
      "Input Length \n"
     ]
    },
    {
     "name": "stdin",
     "output_type": "stream",
     "text": [
      " 3\n"
     ]
    },
    {
     "name": "stdout",
     "output_type": "stream",
     "text": [
      "length is  3.0\n",
      "Input width \n"
     ]
    },
    {
     "name": "stdin",
     "output_type": "stream",
     "text": [
      " 4\n"
     ]
    },
    {
     "name": "stdout",
     "output_type": "stream",
     "text": [
      "width is  4.0\n",
      "area is  12.0\n"
     ]
    }
   ],
   "source": [
    "#To calculate the area of a rectangle\n",
    "\n",
    "#Taking length as input, it needs to be typecasted as float.\n",
    "print(\"Input Length \")\n",
    "l = float(input())\n",
    "print(\"length is \" , l)\n",
    "\n",
    "#Taking width as input,  it needs to be typecasted as float.\n",
    "print(\"Input width \")\n",
    "w = float(input())\n",
    "print(\"width is \" , w)\n",
    "\n",
    "#Using the formula to find the area of a rectangle \n",
    "area = l*w\n",
    "print(\"area is \" , area)"
   ]
  },
  {
   "cell_type": "markdown",
   "id": "7f17b972-510c-4c71-b1e1-4f5698e3fed8",
   "metadata": {},
   "source": [
    "3. Write a Python program that converts temperatures from Celsius to\n",
    "Fahrenheit. Take the temperature in Celsius as input, store it in a variable,\n",
    "convert it to Fahrenheit, and display the result"
   ]
  },
  {
   "cell_type": "code",
   "execution_count": 14,
   "id": "cfeaa174-ef28-4299-8200-0ce31eecccb0",
   "metadata": {},
   "outputs": [
    {
     "name": "stdout",
     "output_type": "stream",
     "text": [
      "Write the temperature in Celcius:\n"
     ]
    },
    {
     "name": "stdin",
     "output_type": "stream",
     "text": [
      " 0\n"
     ]
    },
    {
     "name": "stdout",
     "output_type": "stream",
     "text": [
      "Temperature in Fahrenheit: 32.0\n"
     ]
    }
   ],
   "source": [
    "#To convert the temperature from Celsius to Fahrenheit\n",
    "\n",
    "#To take the input from the user in Celsius\n",
    "print(\"Write the temperature in Celcius:\")\n",
    "c = float(input())\n",
    "      \n",
    "#To use the formla to convert from Celcius to Fahrenheit\n",
    "f = c*(9/5) + 32\n",
    "print(\"Temperature in Fahrenheit:\" , f)\n"
   ]
  },
  {
   "cell_type": "markdown",
   "id": "cee07e2f-dc2a-4aca-8dda-befed29b1fef",
   "metadata": {},
   "source": [
    "TOPIC: String Based Questions"
   ]
  },
  {
   "cell_type": "markdown",
   "id": "81c3f6cf-1eec-4916-9b12-79fd11af10f9",
   "metadata": {},
   "source": [
    "1. Write a Python program that takes a string as input and prints the length of\n",
    "the string."
   ]
  },
  {
   "cell_type": "code",
   "execution_count": 15,
   "id": "d2d22e31-20e1-4ae2-b19c-99fbee9367da",
   "metadata": {},
   "outputs": [
    {
     "name": "stdout",
     "output_type": "stream",
     "text": [
      "Input any string\n"
     ]
    },
    {
     "name": "stdin",
     "output_type": "stream",
     "text": [
      " Shalini\n"
     ]
    },
    {
     "name": "stdout",
     "output_type": "stream",
     "text": [
      "7\n"
     ]
    }
   ],
   "source": [
    "#Asking the user to input a string\n",
    "print(\"Input any string\")\n",
    "s = input()\n",
    "\n",
    "#Using the length function to get the length of the string\n",
    "length = len(s)\n",
    "print(length)"
   ]
  },
  {
   "cell_type": "markdown",
   "id": "1529e5f7-9fdb-442a-83c4-87974d335cd6",
   "metadata": {},
   "source": [
    "2. Create a program that takes a sentence from the user and counts the number\n",
    "of vowels (a, e, i, o, u) in the string.\n"
   ]
  },
  {
   "cell_type": "code",
   "execution_count": 17,
   "id": "821107a3-bff4-4300-9c5a-cd8606601364",
   "metadata": {},
   "outputs": [
    {
     "name": "stdout",
     "output_type": "stream",
     "text": [
      "Write a sentence\n"
     ]
    },
    {
     "name": "stdin",
     "output_type": "stream",
     "text": [
      " xnsjdnekjnfkj\n"
     ]
    },
    {
     "name": "stdout",
     "output_type": "stream",
     "text": [
      "No. of vowels =  1\n"
     ]
    }
   ],
   "source": [
    "#Asking the user to input a sentence\n",
    "print(\"Write a sentence\")\n",
    "sen = input()\n",
    "'''As we need to count the vowels, we will initialize the variable vowels as 0 and as we come across the vowels when running a for \n",
    "loop we will keep adding 1 to it, to get the count of vowels in the sentence the user has input'''\n",
    "vowels = 0\n",
    "for i in sen: #Running a for loop \n",
    "    if(i=='a' or i=='e' or i=='i' or i=='o' or i=='u' or i=='A' or i=='E' or i=='I' or i=='O' or i=='U'): #Condition for counting i.e. vowels\n",
    "        vowels = vowels + 1 #adding 1 everytime we get a vowel in the sentence\n",
    "print(\"No. of vowels = \" , vowels) #printing the no. of vowels"
   ]
  },
  {
   "cell_type": "markdown",
   "id": "bb0bda3d-733b-4671-b53f-0bbaada2899c",
   "metadata": {},
   "source": [
    "3. Given a string, reverse the order of characters using string slicing and print\n",
    "the reversed string.\n"
   ]
  },
  {
   "cell_type": "code",
   "execution_count": 18,
   "id": "ac034ab5-be9b-4645-a292-b000652df0de",
   "metadata": {},
   "outputs": [
    {
     "data": {
      "text/plain": [
       "'inilahS'"
      ]
     },
     "execution_count": 18,
     "metadata": {},
     "output_type": "execute_result"
    }
   ],
   "source": [
    "#Let the given string be Shalini\n",
    "s1 = \"Shalini\"\n",
    "\n",
    "#Reversing the string and saving that value in some other variable\n",
    "s2 = s1[::-1]\n",
    "s2"
   ]
  },
  {
   "cell_type": "markdown",
   "id": "7abe8e16-1701-4f62-886a-8ff580860d38",
   "metadata": {},
   "source": [
    "4. Write a program that takes a string as input and checks if it is a palindrome\n",
    "(reads the same forwards and backwards).\n"
   ]
  },
  {
   "cell_type": "code",
   "execution_count": 21,
   "id": "d98f17b9-112d-4669-809b-4672f07083b8",
   "metadata": {},
   "outputs": [
    {
     "name": "stdout",
     "output_type": "stream",
     "text": [
      "Input any string\n"
     ]
    },
    {
     "name": "stdin",
     "output_type": "stream",
     "text": [
      " smkdm\n"
     ]
    },
    {
     "name": "stdout",
     "output_type": "stream",
     "text": [
      "Not a palindrome\n"
     ]
    }
   ],
   "source": [
    "#Asking the user to input a string\n",
    "print(\"Input any string\")\n",
    "s3 = input()\n",
    "\n",
    "#Reversing the string and saving that value in some other variable\n",
    "s4 = s3[::-1]\n",
    "\n",
    "#Checking if the input string and reversed string are the same\n",
    "if s3==s4:\n",
    "    print(\"It's a palindrome\")\n",
    "else:\n",
    "    print(\"Not a palindrome\")"
   ]
  },
  {
   "cell_type": "markdown",
   "id": "bfe1255b-5995-407f-837a-a3bb3e06cdcf",
   "metadata": {},
   "source": [
    "5. Create a program that takes a string as input and removes all the spaces from\n",
    "it. Print the modified string without spaces.\n"
   ]
  },
  {
   "cell_type": "code",
   "execution_count": null,
   "id": "8123464f-de5d-4dbe-a956-a834c481308e",
   "metadata": {},
   "outputs": [
    {
     "name": "stdout",
     "output_type": "stream",
     "text": [
      "Input any string\n"
     ]
    }
   ],
   "source": [
    "print(\"Input any string\")\n",
    "s5 = input()\n",
    "\n",
    "# Removing spaces from the string using replace function\n",
    "s6 = s5.replace(\" \", \"\")\n",
    "print(s6)"
   ]
  },
  {
   "cell_type": "code",
   "execution_count": null,
   "id": "f948c8f2-38c1-4396-b23c-974dfb42cec2",
   "metadata": {},
   "outputs": [],
   "source": []
  }
 ],
 "metadata": {
  "kernelspec": {
   "display_name": "Python 3 (ipykernel)",
   "language": "python",
   "name": "python3"
  },
  "language_info": {
   "codemirror_mode": {
    "name": "ipython",
    "version": 3
   },
   "file_extension": ".py",
   "mimetype": "text/x-python",
   "name": "python",
   "nbconvert_exporter": "python",
   "pygments_lexer": "ipython3",
   "version": "3.10.8"
  }
 },
 "nbformat": 4,
 "nbformat_minor": 5
}
