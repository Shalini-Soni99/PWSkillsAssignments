{
 "cells": [
  {
   "cell_type": "markdown",
   "id": "492573a1-fad0-4c26-b2b5-55075a717dd1",
   "metadata": {},
   "source": [
    "TOPIC: String Based Assignment Problem"
   ]
  },
  {
   "cell_type": "markdown",
   "id": "2595fc99-168a-4807-b391-5f18b7b8f45f",
   "metadata": {},
   "source": [
    "1. Write a program to reverse a string.\n"
   ]
  },
  {
   "cell_type": "code",
   "execution_count": 1,
   "id": "74e81716-316d-4fb4-b5d1-868ef71c194d",
   "metadata": {},
   "outputs": [
    {
     "name": "stdin",
     "output_type": "stream",
     "text": [
      "Enter any word/sentence Shalini\n"
     ]
    },
    {
     "data": {
      "text/plain": [
       "'inilahS'"
      ]
     },
     "execution_count": 1,
     "metadata": {},
     "output_type": "execute_result"
    }
   ],
   "source": [
    "#Making a function that takes input of any string and returns it's reverse\n",
    "def reverse():\n",
    "    input_string= input(\"Enter any word/sentence\")\n",
    "    reverse_string = input_string[::-1]\n",
    "    return reverse_string\n",
    "\n",
    "reverse()\n",
    "\n"
   ]
  },
  {
   "cell_type": "markdown",
   "id": "6974a438-ac32-440d-993f-f137ac5e5863",
   "metadata": {},
   "source": [
    "2. Check if a string is a palindrome.\n"
   ]
  },
  {
   "cell_type": "code",
   "execution_count": 6,
   "id": "d08b858b-ecac-45a3-8c0f-52aa19c50c8f",
   "metadata": {},
   "outputs": [
    {
     "name": "stdin",
     "output_type": "stream",
     "text": [
      "Enter any Word Naman\n"
     ]
    },
    {
     "data": {
      "text/plain": [
       "'Naman is a palindrome'"
      ]
     },
     "execution_count": 6,
     "metadata": {},
     "output_type": "execute_result"
    }
   ],
   "source": [
    "#A function that takes the input for a word and check if it's a palindrome\n",
    "def check_palindrome():\n",
    "    input_string = input(\"Enter any Word\")\n",
    "    #making all the characters lower\n",
    "    all_lower_input_string= input_string.lower()\n",
    "    \n",
    "    #reversing the string\n",
    "    reverse_string = all_lower_input_string[::-1]\n",
    "    \n",
    "    #Checking if the reverse string and the input string is same\n",
    "    if reverse_string == all_lower_input_string:\n",
    "        return (input_string + \" is a palindrome\")\n",
    "    else:\n",
    "        return (input_string + \" is not a plaindrome\")\n",
    "    \n",
    "check_palindrome()\n",
    "\n",
    "    "
   ]
  },
  {
   "cell_type": "markdown",
   "id": "ee29f20c-6fd4-4a9c-91f5-764adcf14d49",
   "metadata": {},
   "source": [
    "3. Convert a string to uppercase.\n"
   ]
  },
  {
   "cell_type": "code",
   "execution_count": 9,
   "id": "a4b86ea3-13dc-45ac-be6b-8502e6a5300e",
   "metadata": {},
   "outputs": [
    {
     "name": "stdin",
     "output_type": "stream",
     "text": [
      "Enter a string: Shalini\n"
     ]
    },
    {
     "name": "stdout",
     "output_type": "stream",
     "text": [
      "SHALINI\n"
     ]
    }
   ],
   "source": [
    "#Take input of a string from the user\n",
    "input_string = input(\"Enter a string:\")\n",
    "uppercase_string = input_string.upper() #upper method to convert the string in uppercase\n",
    "# Printing the converted string\n",
    "print(uppercase_string)"
   ]
  },
  {
   "cell_type": "markdown",
   "id": "4cbdf1b3-58ce-4173-894a-ce148dec1d89",
   "metadata": {},
   "source": [
    "4. Convert a string to lowercase.\n"
   ]
  },
  {
   "cell_type": "code",
   "execution_count": 10,
   "id": "c684cdac-0773-4bc1-8ba5-89a02add71ff",
   "metadata": {},
   "outputs": [
    {
     "name": "stdin",
     "output_type": "stream",
     "text": [
      "Enter a string: SHALINI\n"
     ]
    },
    {
     "name": "stdout",
     "output_type": "stream",
     "text": [
      "shalini\n"
     ]
    }
   ],
   "source": [
    "#Take input of a string from the user\n",
    "input_string = input(\"Enter a string:\")\n",
    "lowercase_string = input_string.lower() #lower method to convert the string in lowercase\n",
    "# Printing the converted string\n",
    "print(lowercase_string)\n"
   ]
  },
  {
   "cell_type": "markdown",
   "id": "37ec6547-7fb9-4952-9ffb-a80421395197",
   "metadata": {},
   "source": [
    "5. Count the number of vowels in a string."
   ]
  },
  {
   "cell_type": "code",
   "execution_count": 9,
   "id": "99036c9d-5de1-4a83-b32a-871740f3cc29",
   "metadata": {},
   "outputs": [
    {
     "name": "stdin",
     "output_type": "stream",
     "text": [
      "Enter a string: Shalini Soni\n"
     ]
    },
    {
     "name": "stdout",
     "output_type": "stream",
     "text": [
      "No. of Vowels are: 5\n"
     ]
    }
   ],
   "source": [
    "#Take input of a string from the user\n",
    "input_string = input(\"Enter a string:\")\n",
    "vowels = 0\n",
    "lowercase_string = input_string.lower() #lower method to convert the string in lowercase\n",
    "\n",
    "#Counting the number of vowels in the lowecase_string using a for loop\n",
    "for i in lowercase_string:\n",
    "    if i=='a' or i=='e' or i=='i' or i=='o' or i=='u':\n",
    "        vowels += 1\n",
    "    \n",
    "print(\"No. of Vowels are:\" , vowels)\n",
    "    "
   ]
  },
  {
   "cell_type": "markdown",
   "id": "ea4bd604-9eb6-4f7b-b9bb-28e63080a6db",
   "metadata": {},
   "source": [
    "6. Count the number of consonants in a string.\n"
   ]
  },
  {
   "cell_type": "code",
   "execution_count": 14,
   "id": "cb11e9f0-c11c-4183-8351-25c93f54879b",
   "metadata": {},
   "outputs": [
    {
     "name": "stdin",
     "output_type": "stream",
     "text": [
      "Enter a string: Shalini Soni\n"
     ]
    },
    {
     "name": "stdout",
     "output_type": "stream",
     "text": [
      "No. of consonants are: 6\n"
     ]
    }
   ],
   "source": [
    "#Take input of a string from the user\n",
    "input_string = input(\"Enter a string:\")\n",
    "consonants = 0\n",
    "lowercase_string = input_string.lower() #lower method to convert the string in lowercase\n",
    "\n",
    "#Counting the number of consonantss in the lowecase_string using a for loop\n",
    "for i in lowercase_string:\n",
    "    if i!='a' and i!='e' and i!='i' and i!='o' and i!='u' and i!=\" \":\n",
    "        consonants += 1\n",
    "       \n",
    "    \n",
    "print(\"No. of consonants are:\" , consonants)"
   ]
  },
  {
   "cell_type": "markdown",
   "id": "33795588-8a5f-4d34-9a35-e4eb1830f5e4",
   "metadata": {},
   "source": [
    "7. Remove all whitespaces from a string."
   ]
  },
  {
   "cell_type": "code",
   "execution_count": 15,
   "id": "e18d0686-a736-45ba-a769-9bb645f460be",
   "metadata": {},
   "outputs": [
    {
     "name": "stdin",
     "output_type": "stream",
     "text": [
      "Enter a string: Shalini Soni\n"
     ]
    },
    {
     "data": {
      "text/plain": [
       "'ShaliniSoni'"
      ]
     },
     "execution_count": 15,
     "metadata": {},
     "output_type": "execute_result"
    }
   ],
   "source": [
    "#Take input of a string from the user\n",
    "input_string = input(\"Enter a string:\")\n",
    "\n",
    "#New string after replacing the whitespaces using replace function\n",
    "new_string = input_string.replace(\" \", \"\")\n",
    "\n",
    "new_string"
   ]
  },
  {
   "cell_type": "markdown",
   "id": "f05f8220-ebe9-47f8-b6b6-38304fae6261",
   "metadata": {},
   "source": [
    "8. Find the length of a string without using the `len()` function.\n"
   ]
  },
  {
   "cell_type": "code",
   "execution_count": 16,
   "id": "15485e16-98ca-4ee7-900e-156ccd60dd72",
   "metadata": {},
   "outputs": [
    {
     "name": "stdin",
     "output_type": "stream",
     "text": [
      "Enter a string: Shalini Soni\n"
     ]
    },
    {
     "name": "stdout",
     "output_type": "stream",
     "text": [
      "Length of the string is: 12\n"
     ]
    }
   ],
   "source": [
    "#Take input of a string from the user\n",
    "input_string = input(\"Enter a string:\")\n",
    "length = 0\n",
    "\n",
    "#Finding the legth of the string using for lopp\n",
    "for i in input_string:\n",
    "    length += 1\n",
    "print(\"Length of the string is:\" , length)"
   ]
  },
  {
   "cell_type": "markdown",
   "id": "ca64e9e0-583d-40a5-87d5-8f82b938d0fe",
   "metadata": {},
   "source": [
    "9. Check if a string contains a specific word.\n"
   ]
  },
  {
   "cell_type": "code",
   "execution_count": 19,
   "id": "b2a8abad-b6c7-4be7-b578-72b7610a5286",
   "metadata": {},
   "outputs": [
    {
     "name": "stdin",
     "output_type": "stream",
     "text": [
      "Enter a string: The Superman\n"
     ]
    },
    {
     "name": "stdout",
     "output_type": "stream",
     "text": [
      "Yes\n"
     ]
    }
   ],
   "source": [
    "#Take input of a string from the user\n",
    "input_string = input(\"Enter a string:\")\n",
    "\n",
    "lowercase_string = input_string.lower() #lower method to convert the string in lowercase\n",
    "\n",
    "#Checking if the string contains the word 'the' in it.\n",
    "if 'the' in lowercase_string:\n",
    "    print(\"Yes\")\n",
    "else:\n",
    "    print(\"No\")\n",
    "    \n",
    "    \n"
   ]
  },
  {
   "cell_type": "markdown",
   "id": "5c9aaec7-76a2-4dd6-a09b-bbb867e715f8",
   "metadata": {},
   "source": [
    "10. Replace a word in a string with another word"
   ]
  },
  {
   "cell_type": "code",
   "execution_count": 21,
   "id": "0071a868-8d67-4a83-ad33-941f2ed1a371",
   "metadata": {},
   "outputs": [
    {
     "name": "stdin",
     "output_type": "stream",
     "text": [
      "Enter a string: Does she go to the market?\n"
     ]
    },
    {
     "data": {
      "text/plain": [
       "\"doesn't she go to the market?\""
      ]
     },
     "execution_count": 21,
     "metadata": {},
     "output_type": "execute_result"
    }
   ],
   "source": [
    "#Function that replaces a word in the given string with another word \n",
    "\n",
    "#Take input of a string from the user\n",
    "input_string = input(\"Enter a string:\")\n",
    "\n",
    "lowercase_string = input_string.lower() #lower method to convert the string in lowercase\n",
    "\n",
    "def change_words(original_word, replaced_word):\n",
    "    new_string = lowercase_string.replace(original_word,replaced_word)\n",
    "    return new_string\n",
    "\n",
    "change_words(\"does\", \"doesn't\")\n"
   ]
  },
  {
   "cell_type": "markdown",
   "id": "909632f8-0ac1-4a5d-939d-3e08b3d91d5b",
   "metadata": {},
   "source": [
    "11. Count the occurrences of a word in a string.\n"
   ]
  },
  {
   "cell_type": "code",
   "execution_count": 6,
   "id": "dc0a2405-299c-4b94-9892-c7e925e63742",
   "metadata": {},
   "outputs": [
    {
     "name": "stdin",
     "output_type": "stream",
     "text": [
      "Enter a string: The Taj Mahal is the best\n"
     ]
    },
    {
     "data": {
      "text/plain": [
       "2"
      ]
     },
     "execution_count": 6,
     "metadata": {},
     "output_type": "execute_result"
    }
   ],
   "source": [
    "#Function to count the occurance of a word in a string\n",
    "\n",
    "#Take input of a string from the user\n",
    "input_string = input(\"Enter a string:\")\n",
    "\n",
    "lowercase_string = input_string.lower() #lower method to convert the string in lowercase\n",
    "\n",
    "lst_string = lowercase_string.split() #split the string\n",
    "\n",
    "\n",
    "def word_count(word):\n",
    "    count = 0\n",
    "    for i in lst_string:\n",
    "        if i==word:\n",
    "            count += 1\n",
    "    return count\n",
    "\n",
    "word_count('the')"
   ]
  },
  {
   "cell_type": "markdown",
   "id": "6e3a1865-f2cc-4cab-b4a5-f79526a16583",
   "metadata": {},
   "source": [
    "12. Find the first occurrence of a word in a string"
   ]
  },
  {
   "cell_type": "code",
   "execution_count": 3,
   "id": "3f72430f-d6ca-4e40-a250-e41cfa3c9611",
   "metadata": {},
   "outputs": [
    {
     "name": "stdin",
     "output_type": "stream",
     "text": [
      "Enter a string: He is smart\n",
      "Type the word to be found is\n"
     ]
    },
    {
     "data": {
      "text/plain": [
       "3"
      ]
     },
     "execution_count": 3,
     "metadata": {},
     "output_type": "execute_result"
    }
   ],
   "source": [
    "#Take input of a string from the user\n",
    "input_string = input(\"Enter a string:\")\n",
    "\n",
    "#Take the input of the word to be found\n",
    "word = input(\"Type the word to be found\")\n",
    "\n",
    "#USing find method to find the first occurance of the word\n",
    "input_string.find(word)"
   ]
  },
  {
   "cell_type": "markdown",
   "id": "8b2964fe-9d00-461b-942a-c02cf3047383",
   "metadata": {},
   "source": [
    "13. Find the last occurrence of a word in a string.\n"
   ]
  },
  {
   "cell_type": "code",
   "execution_count": 4,
   "id": "efc1d9d1-1de2-425d-a0fb-40e6a2d71f2b",
   "metadata": {},
   "outputs": [
    {
     "name": "stdin",
     "output_type": "stream",
     "text": [
      "Enter a string: pwskills pwskills pwskills\n",
      "Type the word to be found pw\n"
     ]
    },
    {
     "data": {
      "text/plain": [
       "18"
      ]
     },
     "execution_count": 4,
     "metadata": {},
     "output_type": "execute_result"
    }
   ],
   "source": [
    "#Take input of a string from the user\n",
    "input_string = input(\"Enter a string:\")\n",
    "\n",
    "#Take the input of the word to be found\n",
    "word = input(\"Type the word to be found\")\n",
    "\n",
    "##USing rfind method to find the last occurance of the word\n",
    "input_string.rfind(word)\n"
   ]
  },
  {
   "cell_type": "markdown",
   "id": "d110f9b2-a519-47ef-85ba-8bd25a8f5bb1",
   "metadata": {},
   "source": [
    "14. Split a string into a list of words."
   ]
  },
  {
   "cell_type": "code",
   "execution_count": 6,
   "id": "4a3faea4-a92f-40d2-bf70-83c302fda17e",
   "metadata": {},
   "outputs": [
    {
     "name": "stdin",
     "output_type": "stream",
     "text": [
      "Enter a string: Hi How are you\n"
     ]
    },
    {
     "data": {
      "text/plain": [
       "['Hi', 'How', 'are', 'you']"
      ]
     },
     "execution_count": 6,
     "metadata": {},
     "output_type": "execute_result"
    }
   ],
   "source": [
    "#Take input of a string from the user\n",
    "input_string = input(\"Enter a string:\")\n",
    "\n",
    "#Using the split() method to split the input string into a list of words\n",
    "x = input_string.split()\n",
    "x"
   ]
  },
  {
   "cell_type": "markdown",
   "id": "6178564a-d1d0-44c1-b3bc-b260e7b6f919",
   "metadata": {},
   "source": [
    "15. Join a list of words into a string.\n"
   ]
  },
  {
   "cell_type": "code",
   "execution_count": 13,
   "id": "6fe9494f-461a-41bd-88a6-f6e176a9793b",
   "metadata": {},
   "outputs": [
    {
     "data": {
      "text/plain": [
       "'Hey! How are you'"
      ]
     },
     "execution_count": 13,
     "metadata": {},
     "output_type": "execute_result"
    }
   ],
   "source": [
    "#Creating a list of words\n",
    "word_list = ['Hey!', 'How', 'are', 'you']\n",
    "\n",
    "#joing the list to form a string using join method\n",
    "s= \" \"\n",
    "string = s.join(word_list)\n",
    "string"
   ]
  },
  {
   "cell_type": "markdown",
   "id": "ab83d7dc-6452-446f-b035-2d54d8694ecf",
   "metadata": {},
   "source": [
    "16. Convert a string where words are separated by spaces to one where words\n",
    "are separated by underscores"
   ]
  },
  {
   "cell_type": "code",
   "execution_count": 15,
   "id": "309a6bf6-e5f1-424e-a54d-4630b021ffe2",
   "metadata": {},
   "outputs": [
    {
     "name": "stdin",
     "output_type": "stream",
     "text": [
      "Enter a string where words are separated by spaces: My name is Shalini\n"
     ]
    },
    {
     "data": {
      "text/plain": [
       "'My_name_is_Shalini'"
      ]
     },
     "execution_count": 15,
     "metadata": {},
     "output_type": "execute_result"
    }
   ],
   "source": [
    "#Take input of a string from the user\n",
    "input_string = input(\"Enter a string where words are separated by spaces:\")\n",
    "\n",
    "#Creating a string where words are separated by underscore\n",
    "new_string = input_string.replace(\" \", \"_\")\n",
    "new_string"
   ]
  },
  {
   "cell_type": "markdown",
   "id": "d686ae29-9619-435e-b472-40486432c16c",
   "metadata": {},
   "source": [
    "17. Check if a string starts with a specific word or phrase.\n"
   ]
  },
  {
   "cell_type": "code",
   "execution_count": 18,
   "id": "1b1d52eb-fbba-49a4-acfc-3f6294f425ad",
   "metadata": {},
   "outputs": [
    {
     "name": "stdin",
     "output_type": "stream",
     "text": [
      "Enter a string: My name is Shalini\n",
      "Enter the word: I\n"
     ]
    },
    {
     "data": {
      "text/plain": [
       "False"
      ]
     },
     "execution_count": 18,
     "metadata": {},
     "output_type": "execute_result"
    }
   ],
   "source": [
    "#Take input of a string from the user\n",
    "input_string = (input(\"Enter a string:\")).lower() \n",
    "\n",
    "#Take input of the word to check if the input_string starts wuth that word\n",
    "input_word = (input(\"Enter the word:\")).lower()\n",
    "\n",
    "#To check of the input string starts with that word\n",
    "check = input_string.startswith(input_word)\n",
    "check"
   ]
  },
  {
   "cell_type": "markdown",
   "id": "6aac16a4-31fc-4cdd-8735-de047814bd34",
   "metadata": {},
   "source": [
    "18. Check if a string ends with a specific word or phrase."
   ]
  },
  {
   "cell_type": "code",
   "execution_count": 19,
   "id": "b75c26bd-0478-463c-8b5b-15484307d7cf",
   "metadata": {},
   "outputs": [
    {
     "name": "stdin",
     "output_type": "stream",
     "text": [
      "Enter a string: Hello pwskills\n",
      "Enter the word: skills\n"
     ]
    },
    {
     "data": {
      "text/plain": [
       "True"
      ]
     },
     "execution_count": 19,
     "metadata": {},
     "output_type": "execute_result"
    }
   ],
   "source": [
    "#Take input of a string from the user\n",
    "input_string = (input(\"Enter a string:\")).lower() \n",
    "\n",
    "#Take input of the word to check if the input_string ends with that word\n",
    "input_word = (input(\"Enter the word:\")).lower()\n",
    "\n",
    "#To check of the input string ends with that word\n",
    "check = input_string.endswith(input_word)\n",
    "check"
   ]
  },
  {
   "cell_type": "markdown",
   "id": "7ffed123-e0a0-496e-bca7-b48a40d8c7a9",
   "metadata": {},
   "source": [
    "19. Convert a string to title case (e.g., \"hello world\" to \"Hello World\").\n"
   ]
  },
  {
   "cell_type": "code",
   "execution_count": 20,
   "id": "aea0a7f2-bb82-4c17-a613-217d95d597d3",
   "metadata": {},
   "outputs": [
    {
     "name": "stdin",
     "output_type": "stream",
     "text": [
      "Enter a string: hey pwskills\n"
     ]
    },
    {
     "data": {
      "text/plain": [
       "'Hey Pwskills'"
      ]
     },
     "execution_count": 20,
     "metadata": {},
     "output_type": "execute_result"
    }
   ],
   "source": [
    "#Take input of a string from the user\n",
    "input_string = input(\"Enter a string:\")\n",
    "\n",
    "#Changing it in the title case\n",
    "new_string = input_string.title()\n",
    "new_string"
   ]
  },
  {
   "cell_type": "markdown",
   "id": "dbb7ff8a-07cd-43e6-b033-321403a9675f",
   "metadata": {},
   "source": [
    "20. Find the longest word in a string"
   ]
  },
  {
   "cell_type": "code",
   "execution_count": 22,
   "id": "ef7f8eae-643b-43e4-a234-0d218d3b56b9",
   "metadata": {},
   "outputs": [
    {
     "name": "stdin",
     "output_type": "stream",
     "text": [
      "Enter a string: Python is an awesome language\n"
     ]
    },
    {
     "name": "stdout",
     "output_type": "stream",
     "text": [
      "language\n"
     ]
    }
   ],
   "source": [
    "#Take input of a string from the user and splitting the words to form a list\n",
    "input_string = (input(\"Enter a string:\")).split()\n",
    "\n",
    "#Finding and printing the word wirh the maximum length in the list\n",
    "print(max(input_string, key = len))\n"
   ]
  },
  {
   "cell_type": "markdown",
   "id": "42684780-5f01-45f4-9082-4fa1dd58ea0c",
   "metadata": {},
   "source": [
    "21. Find the shortest word in a string.\n"
   ]
  },
  {
   "cell_type": "code",
   "execution_count": 24,
   "id": "f97d93e7-8ee6-459a-bd69-ab445ca16dcb",
   "metadata": {},
   "outputs": [
    {
     "name": "stdin",
     "output_type": "stream",
     "text": [
      "Enter a string: Hardwork is the key to success\n"
     ]
    },
    {
     "name": "stdout",
     "output_type": "stream",
     "text": [
      "is\n"
     ]
    }
   ],
   "source": [
    "#Take input of a string from the user and splitting the words to form a list\n",
    "input_string = (input(\"Enter a string:\")).split()\n",
    "\n",
    "#Finding and printing the word wirh the minimum length in the list\n",
    "print(min(input_string, key = len))"
   ]
  },
  {
   "cell_type": "markdown",
   "id": "30be4b32-2f82-476b-ad2e-5eb270ac8fe7",
   "metadata": {},
   "source": [
    "22. Reverse the order of words in a string."
   ]
  },
  {
   "cell_type": "code",
   "execution_count": 25,
   "id": "20aea61f-c8cc-4965-98fe-cf77c150965b",
   "metadata": {},
   "outputs": [
    {
     "name": "stdin",
     "output_type": "stream",
     "text": [
      "Enter a string: My name is Shalini\n"
     ]
    },
    {
     "data": {
      "text/plain": [
       "'Shalini is name My'"
      ]
     },
     "execution_count": 25,
     "metadata": {},
     "output_type": "execute_result"
    }
   ],
   "source": [
    "#Take input of a string from the user and splitting the words to form a list\n",
    "input_string = (input(\"Enter a string:\")).split()\n",
    "\n",
    "#reversing the list and joining the words to form the reversed string\n",
    "s=\" \"\n",
    "reverse_string = s.join(input_string[::-1])\n",
    "reverse_string"
   ]
  },
  {
   "cell_type": "markdown",
   "id": "14889253-72c5-43f9-b096-e49ab70b3230",
   "metadata": {},
   "source": [
    "23. Check if a string is alphanumeric.\n"
   ]
  },
  {
   "cell_type": "code",
   "execution_count": 30,
   "id": "4df97024-37c2-4800-a516-1665515348d5",
   "metadata": {},
   "outputs": [
    {
     "name": "stdin",
     "output_type": "stream",
     "text": [
      "Enter a string: s\n"
     ]
    },
    {
     "data": {
      "text/plain": [
       "True"
      ]
     },
     "execution_count": 30,
     "metadata": {},
     "output_type": "execute_result"
    }
   ],
   "source": [
    "#Take input of a string from the user \n",
    "input_string = input(\"Enter a string:\")\n",
    "\n",
    "#using the isalnum() function to check if the string is alpha numberic\n",
    "input_string.isalnum()\n"
   ]
  },
  {
   "cell_type": "markdown",
   "id": "c5e2eb48-0fea-46c4-ad46-c9b3fb39832d",
   "metadata": {},
   "source": [
    "24. Extract all digits from a string.\n"
   ]
  },
  {
   "cell_type": "code",
   "execution_count": 36,
   "id": "9e1b256c-cf2e-48de-9092-83ed72ee454b",
   "metadata": {},
   "outputs": [
    {
     "name": "stdin",
     "output_type": "stream",
     "text": [
      "Enter a string: sndjn45\n"
     ]
    },
    {
     "data": {
      "text/plain": [
       "[4, 5]"
      ]
     },
     "execution_count": 36,
     "metadata": {},
     "output_type": "execute_result"
    }
   ],
   "source": [
    "#Take input of a string from the user \n",
    "input_string = input(\"Enter a string:\")\n",
    "\n",
    "#Checking if there is digit in string using isdigit() function\n",
    "digits = []\n",
    "for i in input_string:\n",
    "    if i.isdigit() :\n",
    "        digits.append(int(i))\n",
    "\n",
    "digits\n"
   ]
  },
  {
   "cell_type": "markdown",
   "id": "ac0704de-c479-448a-a1fd-92279ed57e7d",
   "metadata": {},
   "source": [
    "25. Extract all alphabets from a string"
   ]
  },
  {
   "cell_type": "code",
   "execution_count": 37,
   "id": "502ef2ac-5f40-4bb5-a937-afbf7523c77e",
   "metadata": {},
   "outputs": [
    {
     "name": "stdin",
     "output_type": "stream",
     "text": [
      "Enter a string: xbhsdj123\n"
     ]
    },
    {
     "data": {
      "text/plain": [
       "['x', 'b', 'h', 's', 'd', 'j']"
      ]
     },
     "execution_count": 37,
     "metadata": {},
     "output_type": "execute_result"
    }
   ],
   "source": [
    "#Take input of a string from the user \n",
    "input_string = input(\"Enter a string:\")\n",
    "\n",
    "#Checking if there is alphabet in string using isalpha() function\n",
    "alphabets = []\n",
    "for i in input_string:\n",
    "    if i.isalpha() :\n",
    "        alphabets.append(i)\n",
    "\n",
    "alphabets"
   ]
  },
  {
   "cell_type": "markdown",
   "id": "15b68de7-4c04-4c16-84b8-ed1b54aae488",
   "metadata": {},
   "source": [
    "26. Count the number of uppercase letters in a string.\n"
   ]
  },
  {
   "cell_type": "code",
   "execution_count": 40,
   "id": "daa1af8c-4f30-4056-835f-9f2cfd6f11e6",
   "metadata": {},
   "outputs": [
    {
     "name": "stdin",
     "output_type": "stream",
     "text": [
      "Enter a string: dmdTH\n"
     ]
    },
    {
     "data": {
      "text/plain": [
       "2"
      ]
     },
     "execution_count": 40,
     "metadata": {},
     "output_type": "execute_result"
    }
   ],
   "source": [
    "#Take input of a string from the user \n",
    "input_string = input(\"Enter a string:\")\n",
    "\n",
    "#Checking if there is uppercase letters in string using isupper() function and counting them using a for loop\n",
    "upper_letters = 0\n",
    "for i in input_string:\n",
    "    if i.isupper() :\n",
    "       upper_letters += 1\n",
    "upper_letters\n"
   ]
  },
  {
   "cell_type": "markdown",
   "id": "9d09d40f-df85-42fb-8caf-c86ccfe01331",
   "metadata": {},
   "source": [
    "27. Count the number of lowercase letters in a string.\n"
   ]
  },
  {
   "cell_type": "code",
   "execution_count": 41,
   "id": "abbe9d15-0bbd-4ef4-b6e7-0f46197f455f",
   "metadata": {},
   "outputs": [
    {
     "name": "stdin",
     "output_type": "stream",
     "text": [
      "Enter a string: x jdj2\n"
     ]
    },
    {
     "data": {
      "text/plain": [
       "4"
      ]
     },
     "execution_count": 41,
     "metadata": {},
     "output_type": "execute_result"
    }
   ],
   "source": [
    "#Take input of a string from the user \n",
    "input_string = input(\"Enter a string:\")\n",
    "\n",
    "#Checking if there is lowercase letters in string using islower() function and counting them using a for loop\n",
    "lower_letters = 0\n",
    "for i in input_string:\n",
    "    if i.islower() :\n",
    "       lower_letters += 1\n",
    "lower_letters"
   ]
  },
  {
   "cell_type": "markdown",
   "id": "4bf9a11a-82f7-469d-933d-3fe98cce4ef3",
   "metadata": {},
   "source": [
    "28. Swap the case of each character in a string.\n"
   ]
  },
  {
   "cell_type": "code",
   "execution_count": 43,
   "id": "578cb0fd-4843-4f67-8725-b96f9c77caef",
   "metadata": {},
   "outputs": [
    {
     "name": "stdin",
     "output_type": "stream",
     "text": [
      "Enter a string: Hey\n"
     ]
    },
    {
     "data": {
      "text/plain": [
       "'hEY'"
      ]
     },
     "execution_count": 43,
     "metadata": {},
     "output_type": "execute_result"
    }
   ],
   "source": [
    "#Take input of a string from the user \n",
    "input_string = input(\"Enter a string:\")\n",
    "\n",
    "#Swapping the case of each character using swapcase method\n",
    "swapped_string = input_string.swapcase()\n",
    "swapped_string"
   ]
  },
  {
   "cell_type": "markdown",
   "id": "122ae933-9232-46d1-bc87-c72efcfdafa8",
   "metadata": {},
   "source": [
    "29. Remove a specific word from a string.\n"
   ]
  },
  {
   "cell_type": "code",
   "execution_count": 1,
   "id": "0fe624d6-af10-438e-b4c2-c4f5d59c7d90",
   "metadata": {},
   "outputs": [
    {
     "name": "stdin",
     "output_type": "stream",
     "text": [
      "Enter a string: My name is not not not Shalini\n",
      "Enter the word: not\n"
     ]
    },
    {
     "data": {
      "text/plain": [
       "'my name is    shalini'"
      ]
     },
     "execution_count": 1,
     "metadata": {},
     "output_type": "execute_result"
    }
   ],
   "source": [
    "#Take input of a string from the user\n",
    "input_string = (input(\"Enter a string:\")).lower() \n",
    "\n",
    "#Take input of the word to be removed from the input_string \n",
    "input_word = (input(\"Enter the word:\")).lower()\n",
    "\n",
    "#USing replace funtion to remove the word\n",
    "new_string = input_string.replace(input_word,\"\")\n",
    "new_string"
   ]
  },
  {
   "cell_type": "markdown",
   "id": "7c830902-f1cb-4475-86ac-d80ad2f27111",
   "metadata": {},
   "source": [
    "30. Check if a string is a valid email address."
   ]
  },
  {
   "cell_type": "code",
   "execution_count": 6,
   "id": "a5ab7d7d-6a9d-427f-954c-bb5c66275195",
   "metadata": {},
   "outputs": [
    {
     "name": "stdin",
     "output_type": "stream",
     "text": [
      "Enter email: xnsjdks\n"
     ]
    },
    {
     "name": "stdout",
     "output_type": "stream",
     "text": [
      "Invalid email\n"
     ]
    }
   ],
   "source": [
    "#Importing the regular expression module\n",
    "import re\n",
    "\n",
    "#Take input of an email from the user\n",
    "input_email = (input(\"Enter email:\"))\n",
    "\n",
    "#Writing the usual expression for an email\n",
    "valid_email_ex = r'^[\\w\\.-]+@[\\w\\.-]+\\.\\w+$'\n",
    "if re.match(valid_email_ex, input_email):\n",
    "    print(\"Valid email\")\n",
    "else:\n",
    "    print(\"Invalid email\")\n",
    "\n"
   ]
  },
  {
   "cell_type": "markdown",
   "id": "3ea5ff3d-e550-482f-89de-f1e9a5c6c838",
   "metadata": {},
   "source": [
    "31. Extract the username from an email address string.\n"
   ]
  },
  {
   "cell_type": "code",
   "execution_count": 8,
   "id": "0e30f739-af0d-47db-8170-909359191ae7",
   "metadata": {},
   "outputs": [
    {
     "name": "stdin",
     "output_type": "stream",
     "text": [
      "Enter email: shalsi@sndjs.cpm\n"
     ]
    },
    {
     "data": {
      "text/plain": [
       "'shalsi'"
      ]
     },
     "execution_count": 8,
     "metadata": {},
     "output_type": "execute_result"
    }
   ],
   "source": [
    "#Take input of an email from the user\n",
    "input_email = (input(\"Enter email:\"))\n",
    "#splitting the email with @ as delimiter and taking the 1st part\n",
    "username = input_email.split('@')[0]\n",
    "username"
   ]
  },
  {
   "cell_type": "markdown",
   "id": "69e438b6-696a-4511-a8c2-b782987d4eb7",
   "metadata": {},
   "source": [
    "32. Extract the domain name from an email address string.\n"
   ]
  },
  {
   "cell_type": "code",
   "execution_count": 9,
   "id": "946c0796-8c2d-486f-8dfb-4e88a8113417",
   "metadata": {},
   "outputs": [
    {
     "name": "stdin",
     "output_type": "stream",
     "text": [
      "Enter email: shalini99soni@gmail.com\n"
     ]
    },
    {
     "data": {
      "text/plain": [
       "'gmail.com'"
      ]
     },
     "execution_count": 9,
     "metadata": {},
     "output_type": "execute_result"
    }
   ],
   "source": [
    "#Take input of an email from the user\n",
    "input_email = (input(\"Enter email:\"))\n",
    "#splitting the email with @ as delimiter and taking the 2nd part\n",
    "domain_name = input_email.split('@')[1]\n",
    "domain_name"
   ]
  },
  {
   "cell_type": "markdown",
   "id": "12529a3e-1937-4609-bd03-c43cff23cf42",
   "metadata": {},
   "source": [
    "33. Replace multiple spaces in a string with a single space.\n"
   ]
  },
  {
   "cell_type": "code",
   "execution_count": 10,
   "id": "6840222a-3813-42c3-9e69-6a757726d562",
   "metadata": {},
   "outputs": [
    {
     "name": "stdin",
     "output_type": "stream",
     "text": [
      "Enter the string:  Shalini      Soni\n"
     ]
    },
    {
     "data": {
      "text/plain": [
       "'Shalini Soni'"
      ]
     },
     "execution_count": 10,
     "metadata": {},
     "output_type": "execute_result"
    }
   ],
   "source": [
    "#Take input from the user and split it \n",
    "input_string = input(\"Enter the string: \").split()\n",
    "\n",
    "#joining the split string with single spcae\n",
    "new_string = ' '.join(input_string)\n",
    "new_string"
   ]
  },
  {
   "cell_type": "markdown",
   "id": "4b86a43a-ff91-49e7-98cd-41d20bf3e267",
   "metadata": {},
   "source": [
    "34. Check if a string is a valid URL.\n"
   ]
  },
  {
   "cell_type": "code",
   "execution_count": 23,
   "id": "1839be88-31a3-4c7e-9fa9-42f25550a240",
   "metadata": {},
   "outputs": [
    {
     "name": "stdin",
     "output_type": "stream",
     "text": [
      "Enter url:  jsxjsk\n"
     ]
    },
    {
     "name": "stdout",
     "output_type": "stream",
     "text": [
      "Invalid URL\n"
     ]
    }
   ],
   "source": [
    "#importing the module from url lib to check the url\n",
    "from urllib.parse import urlparse\n",
    "\n",
    "#Taking the url input\n",
    "input_url = input(\"Enter url: \")\n",
    "\n",
    "#Checking if the URL is VAlid\n",
    "result = urlparse(input_url)\n",
    "if all([result.scheme, result.netloc]):\n",
    "    print(\"Valid URL\")\n",
    "else:\n",
    "    print(\"Invalid URL\")"
   ]
  },
  {
   "cell_type": "markdown",
   "id": "68890f6f-c9fd-4597-9aee-abd039f14cb1",
   "metadata": {},
   "source": [
    "35. Extract the protocol (http or https) from a URL string."
   ]
  },
  {
   "cell_type": "code",
   "execution_count": 24,
   "id": "cf54ea59-2cd2-41d1-80b6-e0554844b365",
   "metadata": {},
   "outputs": [
    {
     "name": "stdin",
     "output_type": "stream",
     "text": [
      "Enter url:  https://mango-policeman-jpnfk.pwskills.app/lab/tree/work/20th_August_Assignment.ipynb\n"
     ]
    },
    {
     "data": {
      "text/plain": [
       "'https'"
      ]
     },
     "execution_count": 24,
     "metadata": {},
     "output_type": "execute_result"
    }
   ],
   "source": [
    "#Taking the url input\n",
    "input_url = input(\"Enter url: \")\n",
    "\n",
    "#Finding the index of ://, to find the end of protocol\n",
    "protocol_end = input_url.find(\"://\")\n",
    "\n",
    "#Extracting the protocol\n",
    "protocol = input_url[:protocol_end]\n",
    "protocol\n"
   ]
  },
  {
   "cell_type": "markdown",
   "id": "fcafcf07-1ecd-4a4a-802f-e5267316970f",
   "metadata": {},
   "source": [
    "36. Find the frequency of each character in a string.\n"
   ]
  },
  {
   "cell_type": "code",
   "execution_count": 25,
   "id": "bf289ba8-748e-495d-b180-34c6a9b7330c",
   "metadata": {},
   "outputs": [
    {
     "name": "stdin",
     "output_type": "stream",
     "text": [
      "Enter the string Shalini Soni\n"
     ]
    },
    {
     "name": "stdout",
     "output_type": "stream",
     "text": [
      "{'S': 2, 'h': 1, 'a': 1, 'l': 1, 'i': 3, 'n': 2, ' ': 1, 'o': 1}\n"
     ]
    }
   ],
   "source": [
    "#Taking the user input of a string\n",
    "input_string = input(\"Enter the string\")\n",
    "\n",
    "#Creating a dictionary where the frequesncy for each character will be stored \n",
    "frequency= {}\n",
    "\n",
    "#Using a for loop to get the frequency of each character \n",
    "\n",
    "for i in input_string:\n",
    "    if i in frequency:\n",
    "        frequency[i] += 1\n",
    "    else:\n",
    "        frequency[i] = 1\n",
    "print(frequency)"
   ]
  },
  {
   "cell_type": "markdown",
   "id": "2140acd3-769c-49d9-a35b-b9f8d843a9ee",
   "metadata": {},
   "source": [
    "37. Remove all punctuation from a string"
   ]
  },
  {
   "cell_type": "code",
   "execution_count": 26,
   "id": "2d79612b-acd6-4c32-99ad-68ca536de898",
   "metadata": {},
   "outputs": [
    {
     "name": "stdin",
     "output_type": "stream",
     "text": [
      "Enter the string Hey! PW skills course,, is the best?\n"
     ]
    },
    {
     "data": {
      "text/plain": [
       "'Hey PW skills course is the best'"
      ]
     },
     "execution_count": 26,
     "metadata": {},
     "output_type": "execute_result"
    }
   ],
   "source": [
    "#Taking the user input of a string\n",
    "input_string = input(\"Enter the string\")\n",
    "\n",
    "#Importing the string module \n",
    "import string\n",
    "\n",
    "#removing the punctuation\n",
    "new_string = input_string.translate(str.maketrans('','',string.punctuation))\n",
    "new_string"
   ]
  },
  {
   "cell_type": "markdown",
   "id": "bb434df9-b119-4ee2-b807-dded1e4eb35a",
   "metadata": {},
   "source": [
    "38. Check if a string contains only digits.\n"
   ]
  },
  {
   "cell_type": "code",
   "execution_count": 29,
   "id": "14bf223e-20c8-40a4-a725-46924c1c78f6",
   "metadata": {},
   "outputs": [
    {
     "name": "stdin",
     "output_type": "stream",
     "text": [
      "Enter the string sbn55\n"
     ]
    },
    {
     "name": "stdout",
     "output_type": "stream",
     "text": [
      "No, it doesn't contain only digits\n"
     ]
    }
   ],
   "source": [
    "#Taking the user input of a string\n",
    "input_string = input(\"Enter the string\")\n",
    "\n",
    "#Checking if it only contains digitis\n",
    "if input_string.isdigit():\n",
    "    print(\"Yes, it contains only digits\")\n",
    "else:\n",
    "    print(\"No, it doesn't contain only digits\") "
   ]
  },
  {
   "cell_type": "markdown",
   "id": "7c1db980-9875-4a7e-9edb-ae4b35225c75",
   "metadata": {},
   "source": [
    "39. Check if a string contains only alphabets."
   ]
  },
  {
   "cell_type": "code",
   "execution_count": 31,
   "id": "5bd4244a-0da6-42a2-8461-271159ff5006",
   "metadata": {},
   "outputs": [
    {
     "name": "stdin",
     "output_type": "stream",
     "text": [
      "Enter the string 23jm\n"
     ]
    },
    {
     "name": "stdout",
     "output_type": "stream",
     "text": [
      "No, it doesn't contain only alphabets\n"
     ]
    }
   ],
   "source": [
    "#Taking the user input of a string\n",
    "input_string = input(\"Enter the string\")\n",
    "\n",
    "#Checking if it only contains alphabets\n",
    "if input_string.isalpha():\n",
    "    print(\"Yes, it contains only alphabets\")\n",
    "else:\n",
    "    print(\"No, it doesn't contain only alphabets\") "
   ]
  },
  {
   "cell_type": "markdown",
   "id": "8c870ebc-74ad-4f53-a5f6-02c8fa2feef3",
   "metadata": {},
   "source": [
    "40. Convert a string to a list of characters"
   ]
  },
  {
   "cell_type": "code",
   "execution_count": 33,
   "id": "cefc5159-b239-49d7-92ad-b3100b59013a",
   "metadata": {},
   "outputs": [
    {
     "name": "stdin",
     "output_type": "stream",
     "text": [
      "Enter the string dnj\n"
     ]
    },
    {
     "data": {
      "text/plain": [
       "['d', 'n', 'j']"
      ]
     },
     "execution_count": 33,
     "metadata": {},
     "output_type": "execute_result"
    }
   ],
   "source": [
    "#Taking the user input of a string and remove the spaces \n",
    "input_string = input(\"Enter the string\").replace(\" \", \"\")\n",
    "\n",
    "char_list=[]\n",
    "\n",
    "for char in input_string:\n",
    "    if char in char_list:\n",
    "        pass\n",
    "    else:\n",
    "        char_list.append(char)\n",
    "        \n",
    "char_list"
   ]
  },
  {
   "cell_type": "markdown",
   "id": "62ad7a83-d580-4fe8-8359-15aaaa97b0c0",
   "metadata": {},
   "source": [
    "41. Check if two strings are anagrams.\n"
   ]
  },
  {
   "cell_type": "code",
   "execution_count": 42,
   "id": "d8dd51de-741f-4f46-8eab-0d35bbf47fbe",
   "metadata": {},
   "outputs": [
    {
     "name": "stdin",
     "output_type": "stream",
     "text": [
      "Enter the string hsjs\n",
      "Enter the string dnm\n"
     ]
    },
    {
     "name": "stdout",
     "output_type": "stream",
     "text": [
      "Not anagrams\n"
     ]
    }
   ],
   "source": [
    "#Taking the user input of a string and remove the spaces \n",
    "input_string1 = input(\"Enter the string\").replace(\" \", \"\").lower()\n",
    "input_string2 = input(\"Enter the string\").replace(\" \", \"\").lower()\n",
    "\n",
    "char_set1 = set()\n",
    "\n",
    "for char in input_string1:\n",
    "    char_set1.add(char)\n",
    "        \n",
    "char_set2 = set()\n",
    "\n",
    "for char in input_string2:\n",
    "    char_set2.add(char)\n",
    "        \n",
    "if char_set1==char_set2:\n",
    "    print(\"Anagrams\")\n",
    "else:\n",
    "    print(\"Not anagrams\")"
   ]
  },
  {
   "cell_type": "markdown",
   "id": "6a651946-719f-4d6d-b996-15e659b35e7e",
   "metadata": {},
   "source": [
    "42. Encode a string using a Caesar cipher.\n"
   ]
  },
  {
   "cell_type": "code",
   "execution_count": 48,
   "id": "f452ffb8-6fce-4936-a1d2-2b8951a36a66",
   "metadata": {},
   "outputs": [
    {
     "name": "stdin",
     "output_type": "stream",
     "text": [
      "Enter the text to be encoded Shalini\n",
      "Enter shift 1\n"
     ]
    },
    {
     "data": {
      "text/plain": [
       "'tibmjoj'"
      ]
     },
     "execution_count": 48,
     "metadata": {},
     "output_type": "execute_result"
    }
   ],
   "source": [
    "#Taking the user text to be encoded \n",
    "input_string = input(\"Enter the text to be encoded\").lower()\n",
    "\n",
    "#User input for the expected shift in the position of alphabest\n",
    "input_shift = int(input(\"Enter shift\"))\n",
    "\n",
    "encoded_text = \"\"\n",
    "\n",
    "#Using a for loop to encode the text\n",
    "for char in input_string:\n",
    "    if char.isalpha():\n",
    "       encoded_char = chr((ord(char) + input_shift - ord('a')) % 26 + ord('a'))\n",
    "    else:\n",
    "        encoded_char = char\n",
    "    encoded_text += encoded_char\n",
    "encoded_text\n",
    "    \n"
   ]
  },
  {
   "cell_type": "markdown",
   "id": "b89f2c6e-dd57-47da-89e8-489213f8ba54",
   "metadata": {},
   "source": [
    "43. Decode a Caesar cipher encoded string.\n"
   ]
  },
  {
   "cell_type": "code",
   "execution_count": 51,
   "id": "a348eb50-4efb-478b-9130-c796c913f605",
   "metadata": {},
   "outputs": [
    {
     "name": "stdin",
     "output_type": "stream",
     "text": [
      "Enter the text to be decoded tibmjoj\n",
      "Enter shift 1\n"
     ]
    },
    {
     "data": {
      "text/plain": [
       "'shalini'"
      ]
     },
     "execution_count": 51,
     "metadata": {},
     "output_type": "execute_result"
    }
   ],
   "source": [
    "#Taking the user text to be decoded \n",
    "input_string = input(\"Enter the text to be decoded\").lower()\n",
    "\n",
    "#User input for the expected shift in the position of alphabest\n",
    "input_shift = int(input(\"Enter shift\"))\n",
    "\n",
    "decoded_text = ''\n",
    "\n",
    "#Using a for loop to decode the text\n",
    "for char in input_string:\n",
    "    if input_string.isalpha():\n",
    "        decoded_char = chr((ord(char) - input_shift - ord('a')) % 26 + ord('a'))\n",
    "    else:\n",
    "        decoded_char = char\n",
    "    decoded_text += decoded_char\n",
    "decoded_text"
   ]
  },
  {
   "cell_type": "markdown",
   "id": "d99f89cf-03a7-4eed-9dbd-dc567c7d6088",
   "metadata": {},
   "source": [
    "44. Find the most frequent word in a string.\n"
   ]
  },
  {
   "cell_type": "code",
   "execution_count": 2,
   "id": "bd0017f3-eecd-4f0c-a6f2-8be5f7bbb50d",
   "metadata": {},
   "outputs": [
    {
     "name": "stdin",
     "output_type": "stream",
     "text": [
      "Enter the text hey hey hi hi hi no no no no ok ok ok\n"
     ]
    },
    {
     "name": "stdout",
     "output_type": "stream",
     "text": [
      "Most frequent word is  no\n"
     ]
    }
   ],
   "source": [
    "#Takign the user input and converting it in lowercase\n",
    "input_string = input(\"Enter the text\").lower()\n",
    "\n",
    "#Splitting the string into words\n",
    "words = input_string.split()\n",
    "\n",
    "word_count = {}\n",
    "\n",
    "#Using a for loop to get the frequency of each word\n",
    "\n",
    "for i in words:\n",
    "    if i in word_count:\n",
    "        word_count[i] += 1\n",
    "    else:\n",
    "        word_count[i] = 1\n",
    "        \n",
    "most_freq_word = \"\"\n",
    "max_num= 0\n",
    "\n",
    "for i in word_count:\n",
    "    if word_count[i]> max_num:\n",
    "        max_num=word_count[i]\n",
    "        most_freq_word=i\n",
    "print(\"Most frequent word is \", most_freq_word)\n"
   ]
  },
  {
   "cell_type": "markdown",
   "id": "c27ea5d1-608d-46dc-bee6-5194188932a5",
   "metadata": {},
   "source": [
    "45. Find all unique words in a string.\n"
   ]
  },
  {
   "cell_type": "code",
   "execution_count": 4,
   "id": "00cd477a-95ee-48f0-bc47-031aa92b0d16",
   "metadata": {},
   "outputs": [
    {
     "name": "stdin",
     "output_type": "stream",
     "text": [
      "Enter the text hey hello hello pwskillls pwskills has given a lot lot of assignments question\n"
     ]
    },
    {
     "data": {
      "text/plain": [
       "{'a',\n",
       " 'assignments',\n",
       " 'given',\n",
       " 'has',\n",
       " 'hello',\n",
       " 'hey',\n",
       " 'lot',\n",
       " 'of',\n",
       " 'pwskillls',\n",
       " 'pwskills',\n",
       " 'question'}"
      ]
     },
     "execution_count": 4,
     "metadata": {},
     "output_type": "execute_result"
    }
   ],
   "source": [
    "#Taking the user input and converting it in lowercase\n",
    "input_string = input(\"Enter the text\").lower()\n",
    "\n",
    "#Splitting the string into words\n",
    "words = input_string.split()\n",
    "\n",
    "#Converting the above list in set to get unique values\n",
    "unique_words = set(words)\n",
    "\n",
    "unique_words"
   ]
  },
  {
   "cell_type": "markdown",
   "id": "85db64f9-1ab4-41d3-93ac-db9ce0afe275",
   "metadata": {},
   "source": [
    "46. Count the number of syllables in a string."
   ]
  },
  {
   "cell_type": "code",
   "execution_count": 6,
   "id": "c91429f7-8efd-43b0-9917-ef2bdc95fff0",
   "metadata": {},
   "outputs": [
    {
     "name": "stdin",
     "output_type": "stream",
     "text": [
      "Enter the text My name is Shalini\n"
     ]
    },
    {
     "name": "stdout",
     "output_type": "stream",
     "text": [
      "The no. of syllables are:  7\n"
     ]
    }
   ],
   "source": [
    "#importing the re module\n",
    "import re\n",
    "\n",
    "#Taking the user input\n",
    "input_string = input(\"Enter the text\")\n",
    "\n",
    "#Using re.findall() method with regular expression [aeiouy]+ to find all the sequences of vowels(vowel groups) and ignoring the case\n",
    "\n",
    "vowel_groups = re.findall(r'[aeiouy]+', input_string, re.IGNORECASE)\n",
    "\n",
    "print(\"The no. of syllables are: \", len(vowel_groups))\n",
    "    "
   ]
  },
  {
   "cell_type": "markdown",
   "id": "161cf281-ce9f-4b2e-87d8-a4bfbad232eb",
   "metadata": {},
   "source": [
    "47. Check if a string contains any special characters.\n"
   ]
  },
  {
   "cell_type": "code",
   "execution_count": 9,
   "id": "15a1dd1d-1924-4592-9a95-9d6d1a4283d4",
   "metadata": {},
   "outputs": [
    {
     "name": "stdin",
     "output_type": "stream",
     "text": [
      "Enter the text Sh#\n"
     ]
    },
    {
     "name": "stdout",
     "output_type": "stream",
     "text": [
      "Yes, it contains special character\n"
     ]
    },
    {
     "name": "stdin",
     "output_type": "stream",
     "text": [
      "Enter the text 344\n"
     ]
    }
   ],
   "source": [
    "sp_char = '!@#$%^&*()_{}[]|\\/?<>~:' #All the special characters\n",
    "\n",
    "#Using a for loop to check for the special character\n",
    "\n",
    "def sp_char_check():\n",
    "#Taking the user input\n",
    "    input_string = input(\"Enter the text\")\n",
    "    for i in input_string:\n",
    "        if i in sp_char:\n",
    "            print(\"Yes, it contains special character\")\n",
    "            break\n",
    "            \n",
    "sp_char_check()\n",
    "sp_char_check()"
   ]
  },
  {
   "cell_type": "markdown",
   "id": "e5da684e-dbe2-4111-ad57-b60a7bf71292",
   "metadata": {},
   "source": [
    "48. Remove the nth word from a string"
   ]
  },
  {
   "cell_type": "code",
   "execution_count": 14,
   "id": "45305fed-38de-44f4-91ab-43facf4f62c0",
   "metadata": {},
   "outputs": [
    {
     "name": "stdin",
     "output_type": "stream",
     "text": [
      "Enter a sentence:  My name is Shalini\n",
      "Enter the n position of word to be removed:  3\n"
     ]
    },
    {
     "data": {
      "text/plain": [
       "'My name Shalini'"
      ]
     },
     "execution_count": 14,
     "metadata": {},
     "output_type": "execute_result"
    }
   ],
   "source": [
    "def remove_nth_word():\n",
    "    \n",
    "    #Asking tht user for the input of sentence and n\n",
    "    input_string = input(\"Enter a sentence: \")\n",
    "    n = int(input(\"Enter the n position of word to be removed: \"))\n",
    "    \n",
    "    #Making a list of words using split()\n",
    "    words_list = input_string.split()\n",
    "    \n",
    "    #removing the nth word \n",
    "    removed_word = words_list.pop(n-1) #Assumed here that the position user will enter will be as per general counting and not started from 0\n",
    "    \n",
    "    #Joining the words to form the new string\n",
    "    new_string = ' '.join(words_list)\n",
    "    return new_string\n",
    "\n",
    "remove_nth_word()"
   ]
  },
  {
   "cell_type": "markdown",
   "id": "c4ef4ea9-1d4e-4f28-88f9-50d4eda2ec73",
   "metadata": {},
   "source": [
    "49. Insert a word at the nth position in a string"
   ]
  },
  {
   "cell_type": "code",
   "execution_count": 19,
   "id": "ffce2ca5-7dd3-43a4-b3cc-825cea09cafa",
   "metadata": {},
   "outputs": [
    {
     "name": "stdin",
     "output_type": "stream",
     "text": [
      "Enter a sentence:  My name is \n",
      "Enter the n position of word to be inserted:  4\n",
      "Enter the word to be inserted Shalini\n"
     ]
    },
    {
     "data": {
      "text/plain": [
       "'My name is Shalini'"
      ]
     },
     "execution_count": 19,
     "metadata": {},
     "output_type": "execute_result"
    }
   ],
   "source": [
    "def insert_word():\n",
    "    \n",
    "    #Asking tht user for the input of sentence and n and the word\n",
    "    input_string = input(\"Enter a sentence: \")\n",
    "    n = int(input(\"Enter the n position of word to be inserted: \"))\n",
    "    word = input(\"Enter the word to be inserted\")\n",
    "    \n",
    "    word_list = input_string.split()\n",
    "    word_list.insert(n-1, word)\n",
    "    \n",
    "    new_string = ' '.join(word_list)\n",
    "    return new_string\n",
    "\n",
    "insert_word()"
   ]
  },
  {
   "cell_type": "markdown",
   "id": "ed012a3d-4f82-4331-84d7-80160237c5ea",
   "metadata": {},
   "source": [
    "50. Convert a CSV string to a list of lists."
   ]
  },
  {
   "cell_type": "code",
   "execution_count": null,
   "id": "3fb7c6b1-1c59-4504-9e4f-8264fb64f816",
   "metadata": {},
   "outputs": [
    {
     "name": "stdout",
     "output_type": "stream",
     "text": [
      "['Name', ' Age', ' Country']\n",
      "['Shalini', ' 23', ' India']\n",
      "['Vivek', ' 24', ' India']\n",
      "['Joe', ' 22', ' UK']\n"
     ]
    }
   ],
   "source": [
    "def csv_to_list(input_csv):\n",
    "    \n",
    "    \n",
    "    #Splitting the CSV files into lines\n",
    "    lines = input_csv.split('\\n')\n",
    "    \n",
    "    #Initializing an empty list to store the result\n",
    "    result = []\n",
    "    \n",
    "    for line in lines:\n",
    "        #Splitting each line into fields using comma as the delimiter\n",
    "        fields = line.split(',')\n",
    "        result.append(fields)\n",
    "        \n",
    "    return result \n",
    "csv_data = \"Name, Age, Country\\nShalini, 23, India\\nVivek, 24, India\\nJoe, 22, UK\"\n",
    "\n",
    "d = csv_to_list(csv_data)\n",
    "\n",
    "for row in d:\n",
    "        print(row)"
   ]
  },
  {
   "cell_type": "markdown",
   "id": "2a44b7d0-b962-44e5-aed7-0417abdb3c5a",
   "metadata": {},
   "source": [
    "List Based Practice Problem :\n"
   ]
  },
  {
   "cell_type": "markdown",
   "id": "1c1e0fa9-6fe8-40ad-822a-3252f506a833",
   "metadata": {},
   "source": [
    "1. Create a list with integers from 1 to 10."
   ]
  },
  {
   "cell_type": "code",
   "execution_count": 29,
   "id": "54949da3-d9cf-4d50-a5f7-59ec96ce6706",
   "metadata": {},
   "outputs": [
    {
     "data": {
      "text/plain": [
       "[1, 2, 3, 4, 5, 6, 7, 8, 9, 10]"
      ]
     },
     "execution_count": 29,
     "metadata": {},
     "output_type": "execute_result"
    }
   ],
   "source": [
    "lst = list(range(1,11))\n",
    "lst"
   ]
  },
  {
   "cell_type": "markdown",
   "id": "e3b8aeb2-164f-466a-b6b0-85fe9fabd3a7",
   "metadata": {},
   "source": [
    "2. Find the length of a list without using the `len()` function"
   ]
  },
  {
   "cell_type": "code",
   "execution_count": 30,
   "id": "5e4a622d-a9fd-43a6-ba42-44eb518c06b9",
   "metadata": {},
   "outputs": [
    {
     "name": "stdout",
     "output_type": "stream",
     "text": [
      "length 10\n"
     ]
    }
   ],
   "source": [
    "#Finding the length of the list created above\n",
    "\n",
    "length = 0\n",
    "\n",
    "for i in lst:\n",
    "    length += 1\n",
    "print(\"length\", length)"
   ]
  },
  {
   "cell_type": "markdown",
   "id": "358aa7a5-d0d3-443e-847a-633dde1016d3",
   "metadata": {},
   "source": [
    "3. Append an element to the end of a list.\n"
   ]
  },
  {
   "cell_type": "code",
   "execution_count": 31,
   "id": "b9ed6eab-6581-47f8-9d9d-163320889d60",
   "metadata": {},
   "outputs": [
    {
     "data": {
      "text/plain": [
       "[1, 2, 3, 4, 5, 6, 7, 8, 9, 10, 20]"
      ]
     },
     "execution_count": 31,
     "metadata": {},
     "output_type": "execute_result"
    }
   ],
   "source": [
    "#Using append() method to add an element to the above list\n",
    "lst.append(20)\n",
    "lst\n"
   ]
  },
  {
   "cell_type": "markdown",
   "id": "9a50f787-02bb-48f5-a7ff-f3d22de9cefe",
   "metadata": {},
   "source": [
    "4. Insert an element at a specific index in a list.\n"
   ]
  },
  {
   "cell_type": "code",
   "execution_count": 33,
   "id": "152cd831-ebf2-4699-be00-2d3068829af9",
   "metadata": {},
   "outputs": [
    {
     "data": {
      "text/plain": [
       "[1, 2, 3, 4, 5, 90, 6, 7, 8, 9, 10, 20]"
      ]
     },
     "execution_count": 33,
     "metadata": {},
     "output_type": "execute_result"
    }
   ],
   "source": [
    "#Using insert to add an element at a specific position\n",
    "lst.insert(5,90)\n",
    "lst"
   ]
  },
  {
   "cell_type": "markdown",
   "id": "8f04bd3e-0c8d-4f4c-aaae-97de68667e4a",
   "metadata": {},
   "source": [
    "5. Remove an element from a list by its value."
   ]
  },
  {
   "cell_type": "code",
   "execution_count": 34,
   "id": "58740894-5df7-40e2-a8e0-18a57c55cd17",
   "metadata": {},
   "outputs": [
    {
     "data": {
      "text/plain": [
       "[1, 2, 3, 4, 5, 6, 7, 8, 9, 10, 20]"
      ]
     },
     "execution_count": 34,
     "metadata": {},
     "output_type": "execute_result"
    }
   ],
   "source": [
    "#removing an element by its value using the remove() method\n",
    "lst.remove(90)\n",
    "lst"
   ]
  },
  {
   "cell_type": "markdown",
   "id": "901e993e-f3db-47ca-8bcc-408ac2b93ea7",
   "metadata": {},
   "source": [
    "6. Remove an element from a list by its index.\n"
   ]
  },
  {
   "cell_type": "code",
   "execution_count": 35,
   "id": "110857b6-8cc2-428b-ac6f-2a431befcf4b",
   "metadata": {},
   "outputs": [
    {
     "data": {
      "text/plain": [
       "[1, 2, 3, 4, 5, 6, 7, 8, 9, 10]"
      ]
     },
     "execution_count": 35,
     "metadata": {},
     "output_type": "execute_result"
    }
   ],
   "source": [
    "#removing an element by its index using pop() method\n",
    "lst.pop(10)\n",
    "lst\n"
   ]
  },
  {
   "cell_type": "markdown",
   "id": "b1b86d7a-4c0e-41fd-8aed-e0ea43e30482",
   "metadata": {},
   "source": [
    "7. Check if an element exists in a list."
   ]
  },
  {
   "cell_type": "code",
   "execution_count": 39,
   "id": "31894da7-7583-4278-a9a1-b1587a02d3ea",
   "metadata": {},
   "outputs": [
    {
     "name": "stdin",
     "output_type": "stream",
     "text": [
      "Enter the element to be checked 22\n"
     ]
    },
    {
     "name": "stdout",
     "output_type": "stream",
     "text": [
      "22 doesn't exist in the list\n"
     ]
    }
   ],
   "source": [
    "#Taking input from the user to check the element\n",
    "x = int(input(\"Enter the element to be checked\"))\n",
    "if x in lst:\n",
    "    print(x, \"exists in the list\")\n",
    "else:\n",
    "    print(x, \"doesn't exist in the list\")"
   ]
  },
  {
   "cell_type": "markdown",
   "id": "77b32202-66c1-4d2a-8549-68324353dacd",
   "metadata": {},
   "source": [
    "8. Find the index of the first occurrence of an element in a list.\n"
   ]
  },
  {
   "cell_type": "code",
   "execution_count": 40,
   "id": "93649706-12d6-4cb3-9518-f79d573a156f",
   "metadata": {},
   "outputs": [
    {
     "name": "stdout",
     "output_type": "stream",
     "text": [
      "8 is at  7 position\n"
     ]
    }
   ],
   "source": [
    "#Using index() to find the first occurance of an element in the list\n",
    "element_to_find = 8\n",
    "ind = lst.index(8)\n",
    "\n",
    "print(element_to_find, \"is at \", ind, \"position\")"
   ]
  },
  {
   "cell_type": "markdown",
   "id": "ed37e0e5-8ba7-4e23-91a8-381791b90af2",
   "metadata": {},
   "source": [
    "9. Count the occurrences of an element in a list.\n"
   ]
  },
  {
   "cell_type": "code",
   "execution_count": 41,
   "id": "1700511f-f73f-4be5-ad24-cf85a70cf27b",
   "metadata": {},
   "outputs": [
    {
     "data": {
      "text/plain": [
       "2"
      ]
     },
     "execution_count": 41,
     "metadata": {},
     "output_type": "execute_result"
    }
   ],
   "source": [
    "#Using .count() to count the no. of elements \n",
    "lst_1 = [20,30,30,50,50,70,90]\n",
    "element_to_count = 30\n",
    "\n",
    "count = lst_1.count(element_to_count)\n",
    "count"
   ]
  },
  {
   "cell_type": "markdown",
   "id": "9d24c37c-18e7-484f-b896-8e439ddca814",
   "metadata": {},
   "source": [
    "10. Reverse the order of elements in a list."
   ]
  },
  {
   "cell_type": "code",
   "execution_count": 42,
   "id": "c8695a10-4c30-41c2-8fe2-b71d7b71e011",
   "metadata": {},
   "outputs": [
    {
     "data": {
      "text/plain": [
       "[10, 9, 8, 7, 6, 5, 4, 3, 2, 1]"
      ]
     },
     "execution_count": 42,
     "metadata": {},
     "output_type": "execute_result"
    }
   ],
   "source": [
    "#Reversing the order of list using reverse()\n",
    "lst.reverse()\n",
    "lst\n",
    "\n"
   ]
  },
  {
   "cell_type": "markdown",
   "id": "5e8cffca-e102-429b-87c6-f8e3040e41ea",
   "metadata": {},
   "source": [
    "11. Sort a list in ascending order."
   ]
  },
  {
   "cell_type": "code",
   "execution_count": 43,
   "id": "fea7e6b8-7825-445f-9d12-8d5b3befc80d",
   "metadata": {},
   "outputs": [
    {
     "data": {
      "text/plain": [
       "[1, 2, 3, 4, 9]"
      ]
     },
     "execution_count": 43,
     "metadata": {},
     "output_type": "execute_result"
    }
   ],
   "source": [
    "#Sorting a list in ascending order using sort\n",
    "lst_1 = [3,4,2,1,9]\n",
    "lst_1.sort()\n",
    "lst_1"
   ]
  },
  {
   "cell_type": "markdown",
   "id": "b398198f-33b6-473e-9287-c1c47ac7937f",
   "metadata": {},
   "source": [
    "12. Sort a list in descending order.\n"
   ]
  },
  {
   "cell_type": "code",
   "execution_count": 45,
   "id": "131ff818-50c8-470f-998b-3dfd9695998b",
   "metadata": {},
   "outputs": [
    {
     "data": {
      "text/plain": [
       "[12, 11, 9, 8, 7]"
      ]
     },
     "execution_count": 45,
     "metadata": {},
     "output_type": "execute_result"
    }
   ],
   "source": [
    "#Sorting a list in descending order using reverse as true in sort\n",
    "lst_1 = [8,9,12,11,7]\n",
    "lst_1.sort(reverse=True)\n",
    "lst_1"
   ]
  },
  {
   "cell_type": "markdown",
   "id": "321cac5b-e339-48ef-b76c-04584ca0dab9",
   "metadata": {},
   "source": [
    "13. Create a list of even numbers from 1 to 20.\n"
   ]
  },
  {
   "cell_type": "code",
   "execution_count": 47,
   "id": "31ce02dc-efe3-43e8-a48b-9fea73e67a13",
   "metadata": {},
   "outputs": [
    {
     "data": {
      "text/plain": [
       "[2, 4, 6, 8, 10, 12, 14, 16, 18, 20]"
      ]
     },
     "execution_count": 47,
     "metadata": {},
     "output_type": "execute_result"
    }
   ],
   "source": [
    "#Using list comprehension to create even no. list\n",
    "even_list = [i for i in range(1,21) if i%2==0]\n",
    "even_list"
   ]
  },
  {
   "cell_type": "markdown",
   "id": "1ad2b8d8-7d7b-4b1e-aef6-9b701966fea9",
   "metadata": {},
   "source": [
    "14. Create a list of odd numbers from 1 to 20."
   ]
  },
  {
   "cell_type": "code",
   "execution_count": 48,
   "id": "acf66da4-a51a-4078-aaef-dc095391e905",
   "metadata": {},
   "outputs": [
    {
     "data": {
      "text/plain": [
       "[1, 3, 5, 7, 9, 11, 13, 15, 17, 19]"
      ]
     },
     "execution_count": 48,
     "metadata": {},
     "output_type": "execute_result"
    }
   ],
   "source": [
    "#Using list comprehension to create odd no. list\n",
    "odd_list = [i for i in range(1,21) if i%2!=0]\n",
    "odd_list"
   ]
  },
  {
   "cell_type": "markdown",
   "id": "f55cfa68-f980-4be3-bfd5-eff15dfa5f88",
   "metadata": {},
   "source": [
    "15. Find the sum of all elements in a list.\n"
   ]
  },
  {
   "cell_type": "code",
   "execution_count": 49,
   "id": "6bd092fb-087c-40c4-a6ac-ee728f0ec149",
   "metadata": {},
   "outputs": [
    {
     "data": {
      "text/plain": [
       "45"
      ]
     },
     "execution_count": 49,
     "metadata": {},
     "output_type": "execute_result"
    }
   ],
   "source": [
    "#Using sum method to find the sum \n",
    "lst = list(range(10))\n",
    "sum_lst = sum(lst)\n",
    "sum_lst"
   ]
  },
  {
   "cell_type": "markdown",
   "id": "1e8ff46e-9bb7-4945-aa57-f1d1ac6ad4ac",
   "metadata": {},
   "source": [
    "16. Find the maximum value in a list.\n"
   ]
  },
  {
   "cell_type": "code",
   "execution_count": 50,
   "id": "b15b9700-c927-47f5-b07b-305cfa5e72d6",
   "metadata": {},
   "outputs": [
    {
     "data": {
      "text/plain": [
       "99"
      ]
     },
     "execution_count": 50,
     "metadata": {},
     "output_type": "execute_result"
    }
   ],
   "source": [
    "#finding the maximum value using max()\n",
    "lst = [9,11,34,8,99,10]\n",
    "max_value = max(lst)\n",
    "max_value"
   ]
  },
  {
   "cell_type": "markdown",
   "id": "61e2b38f-680e-4115-bd04-91765ac4caa4",
   "metadata": {},
   "source": [
    "17. Find the minimum value in a list.\n"
   ]
  },
  {
   "cell_type": "code",
   "execution_count": 51,
   "id": "d8011be0-df7c-467a-9fcd-7714cd83c44f",
   "metadata": {},
   "outputs": [
    {
     "data": {
      "text/plain": [
       "8"
      ]
     },
     "execution_count": 51,
     "metadata": {},
     "output_type": "execute_result"
    }
   ],
   "source": [
    "#finding the minimum value using min()\n",
    "lst = [9,11,34,8,99,10]\n",
    "min_value = min(lst)\n",
    "min_value"
   ]
  },
  {
   "cell_type": "markdown",
   "id": "a7af7b4a-0421-4dd7-9925-75d9bb0e7d38",
   "metadata": {},
   "source": [
    "18. Create a list of squares of numbers from 1 to 10.\n"
   ]
  },
  {
   "cell_type": "code",
   "execution_count": 52,
   "id": "b945ff86-4108-4b6e-804d-b184f591f754",
   "metadata": {},
   "outputs": [
    {
     "data": {
      "text/plain": [
       "[1, 4, 9, 16, 25, 36, 49, 64, 81, 100]"
      ]
     },
     "execution_count": 52,
     "metadata": {},
     "output_type": "execute_result"
    }
   ],
   "source": [
    "Sq_list= [i*i for i in range(1,11)]\n",
    "Sq_list"
   ]
  },
  {
   "cell_type": "markdown",
   "id": "80fd759d-eb7f-469e-978c-cc026624362c",
   "metadata": {},
   "source": [
    "19. Create a list of random numbers.\n"
   ]
  },
  {
   "cell_type": "code",
   "execution_count": 56,
   "id": "2dcd0d2d-0f73-47cb-93f1-fe52f7159747",
   "metadata": {},
   "outputs": [
    {
     "data": {
      "text/plain": [
       "[1, 7, 11, 5, 10, 12, 4, 10, 10, 3]"
      ]
     },
     "execution_count": 56,
     "metadata": {},
     "output_type": "execute_result"
    }
   ],
   "source": [
    "#Importing random\n",
    "import random\n",
    "\n",
    "#Using random function to get random numbers \n",
    "rand_int = [random.randint(1,12) for i in range(10)]\n",
    "rand_int\n",
    "\n"
   ]
  },
  {
   "cell_type": "markdown",
   "id": "0b5f913f-9dde-43ad-b0e2-a32ea985bfc0",
   "metadata": {},
   "source": [
    "20. Remove duplicates from a list.\n"
   ]
  },
  {
   "cell_type": "code",
   "execution_count": 57,
   "id": "e9590804-c5dd-446e-b693-c7f26e83983d",
   "metadata": {},
   "outputs": [
    {
     "data": {
      "text/plain": [
       "[1, 2, 3]"
      ]
     },
     "execution_count": 57,
     "metadata": {},
     "output_type": "execute_result"
    }
   ],
   "source": [
    "#First we will convert the list in set to remove the duplicates then we convert it back to list\n",
    "lst = [1,2,2,3,3,3]\n",
    "unique_list = list(set(lst))\n",
    "unique_list"
   ]
  },
  {
   "cell_type": "markdown",
   "id": "6a61fdd6-f515-4e7b-b9c2-2e181dbda762",
   "metadata": {},
   "source": [
    "21. Find the common elements between two lists.\n"
   ]
  },
  {
   "cell_type": "code",
   "execution_count": 60,
   "id": "8c6882b5-181f-439c-877e-f7c1beac1999",
   "metadata": {},
   "outputs": [
    {
     "data": {
      "text/plain": [
       "[3, 4, 5, 9]"
      ]
     },
     "execution_count": 60,
     "metadata": {},
     "output_type": "execute_result"
    }
   ],
   "source": [
    "#Finding the common elemets by iterating over list 1 and matching each element with list 2\n",
    "lst1 = [1,2,3,4,5,8,9,11]\n",
    "lst2 = [3,4,5,9,12,13]\n",
    "common_elements = [i for i in lst1 if i in lst2]\n",
    "common_elements"
   ]
  },
  {
   "cell_type": "markdown",
   "id": "94f8f2c1-9df3-4559-b145-c8de4a1a4302",
   "metadata": {},
   "source": [
    "22. Find the difference between two lists.\n"
   ]
  },
  {
   "cell_type": "code",
   "execution_count": 62,
   "id": "bc0616ce-b2e1-4798-b67b-e79e40fff946",
   "metadata": {},
   "outputs": [
    {
     "data": {
      "text/plain": [
       "[8, 1, 2, 11]"
      ]
     },
     "execution_count": 62,
     "metadata": {},
     "output_type": "execute_result"
    }
   ],
   "source": [
    "lst1 = [1,2,3,4,5,8,9,11]\n",
    "lst2 = [3,4,5,9,12,13]\n",
    "\n",
    "#Finding the difference by first converting the lists into sets and then using the difference() function\n",
    "difference = list(set(lst1).difference(set(lst2)))\n",
    "difference"
   ]
  },
  {
   "cell_type": "markdown",
   "id": "b33eab94-a0bb-49c2-a0ec-ed3857df617d",
   "metadata": {},
   "source": [
    "23. Merge two lists."
   ]
  },
  {
   "cell_type": "code",
   "execution_count": 63,
   "id": "747b9b10-c2f1-4dd2-9225-6b54418e5cbc",
   "metadata": {},
   "outputs": [
    {
     "data": {
      "text/plain": [
       "[1, 2, 3, 4, 5, 8, 9, 11, 3, 4, 5, 9, 12, 13]"
      ]
     },
     "execution_count": 63,
     "metadata": {},
     "output_type": "execute_result"
    }
   ],
   "source": [
    "lst1 = [1,2,3,4,5,8,9,11]\n",
    "lst2 = [3,4,5,9,12,13]\n",
    "\n",
    "merged_list = lst1 + lst2\n",
    "merged_list"
   ]
  },
  {
   "cell_type": "markdown",
   "id": "157ec4e5-5a23-4495-bda8-321100e386a9",
   "metadata": {},
   "source": [
    "24. Multiply all elements in a list by 2.\n"
   ]
  },
  {
   "cell_type": "code",
   "execution_count": 64,
   "id": "219b9360-2596-46cf-af51-63ef4f42669a",
   "metadata": {},
   "outputs": [
    {
     "data": {
      "text/plain": [
       "[2, 4, 6, 8, 10, 16, 18, 22]"
      ]
     },
     "execution_count": 64,
     "metadata": {},
     "output_type": "execute_result"
    }
   ],
   "source": [
    "lst1 = [1,2,3,4,5,8,9,11]\n",
    "multiplied_list= [i*2 for i in lst1]\n",
    "multiplied_list"
   ]
  },
  {
   "cell_type": "markdown",
   "id": "d25133dd-6699-4edb-9e45-cec599314b8e",
   "metadata": {},
   "source": [
    "25. Filter out all even numbers from a list."
   ]
  },
  {
   "cell_type": "code",
   "execution_count": 66,
   "id": "cf95d1e1-b4bc-4eee-9d9d-54b4109ab476",
   "metadata": {},
   "outputs": [
    {
     "data": {
      "text/plain": [
       "[2, 4, 8]"
      ]
     },
     "execution_count": 66,
     "metadata": {},
     "output_type": "execute_result"
    }
   ],
   "source": [
    "lst1 = [1,2,3,4,5,8,9,11]\n",
    "even_num_list= [i for i in lst1 if i%2==0]\n",
    "even_num_list"
   ]
  },
  {
   "cell_type": "markdown",
   "id": "8f506089-0de4-42f7-a8f8-f9c9db7a5951",
   "metadata": {},
   "source": [
    "26. Convert a list of strings to a list of integers."
   ]
  },
  {
   "cell_type": "code",
   "execution_count": 67,
   "id": "c93a4515-0d50-41cb-92cf-1ddd371ae490",
   "metadata": {},
   "outputs": [
    {
     "data": {
      "text/plain": [
       "[3, 4, 8]"
      ]
     },
     "execution_count": 67,
     "metadata": {},
     "output_type": "execute_result"
    }
   ],
   "source": [
    "string_list = ['3','4','8']\n",
    "\n",
    "integer_list = [int(i) for i in string_list]\n",
    "integer_list"
   ]
  },
  {
   "cell_type": "markdown",
   "id": "05d22180-a18e-461d-a62b-76137be4e331",
   "metadata": {},
   "source": [
    "27. Convert a list of integers to a list of strings.\n"
   ]
  },
  {
   "cell_type": "code",
   "execution_count": 68,
   "id": "741083d5-e9d8-417b-9910-c605d356a037",
   "metadata": {},
   "outputs": [
    {
     "data": {
      "text/plain": [
       "['1', '2', '5', '7', '8']"
      ]
     },
     "execution_count": 68,
     "metadata": {},
     "output_type": "execute_result"
    }
   ],
   "source": [
    "int_lst = [1,2,5,7,8]\n",
    "string_lst = [str(i) for i in int_lst]\n",
    "string_lst"
   ]
  },
  {
   "cell_type": "markdown",
   "id": "fb607802-b29c-4e44-9047-297cd1232535",
   "metadata": {},
   "source": [
    "28. Flatten a nested list"
   ]
  },
  {
   "cell_type": "code",
   "execution_count": 70,
   "id": "1bd56bac-8dcb-40a8-b358-53037dbafa2b",
   "metadata": {},
   "outputs": [
    {
     "data": {
      "text/plain": [
       "[1, 2, 3, 4, 5, 6, 7, 8, 9, 10]"
      ]
     },
     "execution_count": 70,
     "metadata": {},
     "output_type": "execute_result"
    }
   ],
   "source": [
    "nested_list = [[1,2],[3,4,5],[6,7,8,9],[10]]\n",
    "\n",
    "#Using nested loop to remove each element and add it in the falttened_list\n",
    "flattened_list = []\n",
    "for i in nested_list:\n",
    "    for j in i:\n",
    "        flattened_list.append(j)\n",
    "        \n",
    "flattened_list\n",
    "        "
   ]
  },
  {
   "cell_type": "markdown",
   "id": "ef254610-0df8-405b-9d8e-96c3cee62dfb",
   "metadata": {},
   "source": [
    "29. Create a list of the first 10 Fibonacci numbers.\n"
   ]
  },
  {
   "cell_type": "code",
   "execution_count": 73,
   "id": "7c659859-39c5-4484-b3a6-d43a6c437afb",
   "metadata": {},
   "outputs": [
    {
     "data": {
      "text/plain": [
       "[0, 1, 1, 2, 3, 5, 8, 13, 21, 34]"
      ]
     },
     "execution_count": 73,
     "metadata": {},
     "output_type": "execute_result"
    }
   ],
   "source": [
    "# initializing the list with the frst two elements and then using a for loop to append each next fibonacci no. based on the last two elements in the list\n",
    "\n",
    "fibo_num = [0,1]\n",
    "for i in range(8):\n",
    "    fibo_num.append(fibo_num[-1] + fibo_num[-2])\n",
    "fibo_num"
   ]
  },
  {
   "cell_type": "markdown",
   "id": "f9466d5b-07c0-45ea-a055-1db9bc730e2d",
   "metadata": {},
   "source": [
    "30. Check if a list is sorted.\n"
   ]
  },
  {
   "cell_type": "code",
   "execution_count": 87,
   "id": "5b7eebd9-de47-4910-84e5-2d680f97be83",
   "metadata": {},
   "outputs": [
    {
     "name": "stdout",
     "output_type": "stream",
     "text": [
      "Not sorted\n",
      "It is sorted\n"
     ]
    }
   ],
   "source": [
    "#To check if a list is sorted in ascending order\n",
    "'''def sorted_check(lst):\n",
    "    for i in lst:\n",
    "        if lst[i]<lst[i-1]:\n",
    "            return False\n",
    "        return True\n",
    "\n",
    "lst1 = [2,3,4,5]\n",
    "lst2 = [9,2,3]\n",
    "\n",
    "if sorted_check(lst1):\n",
    "    print(\"The list is sorted\")\n",
    "else:\n",
    "    print(\"The list is not sorted\")'''\n",
    "\n",
    "lst1 = [1,2,4,3]\n",
    "lst2= [1,2,3,4]\n",
    "\n",
    "def sorted_check(lst):\n",
    "    sorted_list = lst.copy()\n",
    "    sorted_list.sort()\n",
    "    if sorted_list == lst:\n",
    "        print(\"It is sorted\")\n",
    "    else:\n",
    "        print(\"Not sorted\")\n",
    "        \n",
    "sorted_check(lst1)\n",
    "sorted_check(lst2)\n",
    "        "
   ]
  },
  {
   "cell_type": "markdown",
   "id": "f20ce759-100e-448b-82d1-3b2afec9a693",
   "metadata": {},
   "source": [
    "31. Rotate a list to the left by `n` positions"
   ]
  },
  {
   "cell_type": "code",
   "execution_count": 90,
   "id": "54c4e5e4-799a-4f75-bb62-55bece89d755",
   "metadata": {},
   "outputs": [
    {
     "data": {
      "text/plain": [
       "[1, 2, 3, 4, 5, 6, 7, 8, 9, 0]"
      ]
     },
     "execution_count": 90,
     "metadata": {},
     "output_type": "execute_result"
    }
   ],
   "source": [
    "def rotate_left(lst, n):\n",
    "    rotated_list = lst[n:] + lst[:n]\n",
    "    return rotated_list\n",
    "\n",
    "lst = list(range(10))\n",
    "n = 1\n",
    "rotate_left(lst, n)"
   ]
  },
  {
   "cell_type": "markdown",
   "id": "bce0cdf6-f014-47e5-aff2-c750806fe44e",
   "metadata": {},
   "source": [
    "32. Rotate a list to the right by `n` positions"
   ]
  },
  {
   "cell_type": "code",
   "execution_count": 92,
   "id": "fbf37c62-16a9-4691-9087-8b3aeabb328e",
   "metadata": {},
   "outputs": [
    {
     "data": {
      "text/plain": [
       "[9, 0, 1, 2, 3, 4, 5, 6, 7, 8]"
      ]
     },
     "execution_count": 92,
     "metadata": {},
     "output_type": "execute_result"
    }
   ],
   "source": [
    "def rotate_right(lst, n):\n",
    "    rotated_list = lst[-n:] + lst[:-n]\n",
    "    return rotated_list\n",
    "\n",
    "lst = list(range(10))\n",
    "n = 1\n",
    "rotate_right(lst, n)"
   ]
  },
  {
   "cell_type": "markdown",
   "id": "70bc370a-b67d-495d-9774-9675176c47ed",
   "metadata": {},
   "source": [
    "33. Create a list of prime numbers up to 50."
   ]
  },
  {
   "cell_type": "code",
   "execution_count": 98,
   "id": "71b4bbe9-86a7-4f83-b0af-3d07c515ebdb",
   "metadata": {},
   "outputs": [
    {
     "data": {
      "text/plain": [
       "[2, 3, 5, 7, 11, 13, 17, 19, 23, 29, 31, 37, 41, 43, 47]"
      ]
     },
     "execution_count": 98,
     "metadata": {},
     "output_type": "execute_result"
    }
   ],
   "source": [
    "#Creating a function to check if a number is prime\n",
    "def check_prime(num):\n",
    "    if num==1:\n",
    "        return False\n",
    "    if num==2 or num==3:\n",
    "        return True\n",
    "    if num % 2 == 0 or num % 3 == 0:\n",
    "        return False\n",
    "    i = 5\n",
    "    while i*i<= num:\n",
    "        if num%i == 0 or num%(i+2)==0:\n",
    "            return False\n",
    "        i += 6\n",
    "    return True\n",
    "\n",
    "#Creating a list of prime numbers \n",
    "prime_numbers = [num for num in range (2,50) if check_prime(num)]\n",
    "prime_numbers"
   ]
  },
  {
   "cell_type": "markdown",
   "id": "777a1fd9-32f3-4735-910f-3a5359010f07",
   "metadata": {},
   "source": [
    "34. Split a list into chunks of size `n`"
   ]
  },
  {
   "cell_type": "code",
   "execution_count": 102,
   "id": "ba24bc1f-e9ac-428d-be4b-55ebe635d56d",
   "metadata": {},
   "outputs": [
    {
     "name": "stdout",
     "output_type": "stream",
     "text": [
      "[0, 1]\n",
      "[2, 3]\n",
      "[4, 5]\n",
      "[6, 7]\n",
      "[8, 9]\n"
     ]
    }
   ],
   "source": [
    "#Function for splitting the list of size n\n",
    "def split_n(lst, n):\n",
    "    for i in range(0,len(lst), n):\n",
    "        print(lst[i:i+n])\n",
    "lst = list(range(0,10))\n",
    "n = 2\n",
    "split_n(lst, n)"
   ]
  },
  {
   "cell_type": "markdown",
   "id": "2467b1a7-9922-4ddb-a175-384a0760048e",
   "metadata": {},
   "source": [
    "35. Find the second largest number in a list"
   ]
  },
  {
   "cell_type": "code",
   "execution_count": 103,
   "id": "66861df7-350c-4eb9-a90f-de7d557a3cc7",
   "metadata": {},
   "outputs": [
    {
     "name": "stdout",
     "output_type": "stream",
     "text": [
      "2nd largest number is  19\n"
     ]
    }
   ],
   "source": [
    "lst = [1,2,4,19,24,12,11,10]\n",
    "lst.sort()\n",
    "print(\"2nd largest number is \", lst[-2])"
   ]
  },
  {
   "cell_type": "markdown",
   "id": "64144c28-fc30-41d5-9710-408c19a3c2be",
   "metadata": {},
   "source": [
    "36. Replace every element in a list with its square.\n"
   ]
  },
  {
   "cell_type": "code",
   "execution_count": 105,
   "id": "d450d8f4-d0a5-4ba0-9c60-64fe03c50112",
   "metadata": {},
   "outputs": [
    {
     "data": {
      "text/plain": [
       "[1, 4, 9]"
      ]
     },
     "execution_count": 105,
     "metadata": {},
     "output_type": "execute_result"
    }
   ],
   "source": [
    "lst = [1,2,3]\n",
    "sq_lst = [i*i for i in lst]\n",
    "sq_lst"
   ]
  },
  {
   "cell_type": "markdown",
   "id": "3b22c396-0f22-46fb-aa17-56b2e7c95f62",
   "metadata": {},
   "source": [
    "37. Convert a list to a dictionary where list elements become keys and their\n",
    "indices become values.\n"
   ]
  },
  {
   "cell_type": "code",
   "execution_count": 106,
   "id": "8ef3f7f7-45e2-4726-8281-b5de8fdc21ed",
   "metadata": {},
   "outputs": [
    {
     "data": {
      "text/plain": [
       "{'Naman': 0, 'Shalini': 1, 'Sadika': 2}"
      ]
     },
     "execution_count": 106,
     "metadata": {},
     "output_type": "execute_result"
    }
   ],
   "source": [
    "lst = ['Naman', 'Shalini', 'Sadika']\n",
    "lst_to_dict = {element : index for index, element in enumerate(lst)}\n",
    "lst_to_dict"
   ]
  },
  {
   "cell_type": "markdown",
   "id": "1f5018a2-85de-4fc5-880b-f4b677d35f3d",
   "metadata": {},
   "source": [
    "38. Shuffle the elements of a list randomly.\n"
   ]
  },
  {
   "cell_type": "code",
   "execution_count": 108,
   "id": "354a8f43-c454-4a3f-b729-d91611abe2c4",
   "metadata": {},
   "outputs": [
    {
     "data": {
      "text/plain": [
       "[2, 1, 8, 4, 6, 5, 9, 3, 0, 7]"
      ]
     },
     "execution_count": 108,
     "metadata": {},
     "output_type": "execute_result"
    }
   ],
   "source": [
    "#Importing random\n",
    "import random\n",
    "\n",
    "lst = list(range(10))\n",
    "#Using shuffle() method to shuffle the elements of the list\n",
    "random.shuffle(lst)\n",
    "lst"
   ]
  },
  {
   "cell_type": "markdown",
   "id": "e56d0e76-2731-4e01-9762-319a1b444824",
   "metadata": {},
   "source": [
    "39. Create a list of the first 10 factorial numbers."
   ]
  },
  {
   "cell_type": "code",
   "execution_count": 110,
   "id": "356b690c-db82-4f2c-ae0d-773e2a17ae47",
   "metadata": {},
   "outputs": [
    {
     "data": {
      "text/plain": [
       "[1, 1, 2, 6, 24, 120, 720, 5040, 40320, 362880]"
      ]
     },
     "execution_count": 110,
     "metadata": {},
     "output_type": "execute_result"
    }
   ],
   "source": [
    "#Function to create factorial \n",
    "def factorial(n):\n",
    "    if n==0 or n==1:\n",
    "        return 1\n",
    "    else:\n",
    "        return n*factorial(n-1)\n",
    "    \n",
    "#Creating a list of the first 10 factorials\n",
    "fact_list = [factorial(n) for n in range(10)]\n",
    "fact_list"
   ]
  },
  {
   "cell_type": "markdown",
   "id": "a7f598ef-9183-493d-a245-05ade6c0ec95",
   "metadata": {},
   "source": [
    "40. Check if two lists have at least one element in common.\n"
   ]
  },
  {
   "cell_type": "code",
   "execution_count": 112,
   "id": "b0a458cd-b719-4eb9-b15c-965376f423b8",
   "metadata": {},
   "outputs": [
    {
     "name": "stdout",
     "output_type": "stream",
     "text": [
      "No common element\n"
     ]
    }
   ],
   "source": [
    "def check_common(list1, list2):\n",
    "    for i in list1:\n",
    "        if i in list2:\n",
    "            return True\n",
    "    return False\n",
    "\n",
    "list1 = [1,2,3]\n",
    "list2 = [9,4,5]\n",
    "\n",
    "if check_common(list1, list2):\n",
    "    print(\"Has common element\")\n",
    "else:\n",
    "    print(\"No common element\")"
   ]
  },
  {
   "cell_type": "markdown",
   "id": "9851d833-0d92-46fd-b021-0db318fe63bf",
   "metadata": {},
   "source": [
    "41. Remove all elements from a list.\n"
   ]
  },
  {
   "cell_type": "code",
   "execution_count": 115,
   "id": "b818be0b-9fca-4276-aeca-2c46aff994bc",
   "metadata": {},
   "outputs": [
    {
     "name": "stdout",
     "output_type": "stream",
     "text": [
      "[0, 1, 2, 3, 4, 5, 6, 7, 8, 9]\n"
     ]
    },
    {
     "data": {
      "text/plain": [
       "[]"
      ]
     },
     "execution_count": 115,
     "metadata": {},
     "output_type": "execute_result"
    }
   ],
   "source": [
    "lst = list(range(10))\n",
    "print(lst)\n",
    "lst.clear()\n",
    "lst"
   ]
  },
  {
   "cell_type": "markdown",
   "id": "7f0ffa39-7095-4f0e-bdad-eea4c75315f0",
   "metadata": {},
   "source": [
    "42. Replace negative numbers in a list with 0."
   ]
  },
  {
   "cell_type": "code",
   "execution_count": 116,
   "id": "3bec00cd-3e66-4be6-8f01-1faa774cda87",
   "metadata": {},
   "outputs": [
    {
     "data": {
      "text/plain": [
       "[0, 0, 3, 0, 1]"
      ]
     },
     "execution_count": 116,
     "metadata": {},
     "output_type": "execute_result"
    }
   ],
   "source": [
    "lst = [-1,0,3,-2,1]\n",
    "for i in range(len(lst)):\n",
    "    if lst[i]<0:\n",
    "        lst[i]=0\n",
    "        \n",
    "lst"
   ]
  },
  {
   "cell_type": "markdown",
   "id": "255dded4-2036-4892-ba76-4a9d324a8972",
   "metadata": {},
   "source": [
    "43. Convert a string into a list of words."
   ]
  },
  {
   "cell_type": "code",
   "execution_count": 117,
   "id": "18a4b41d-e221-459f-bd58-444fe670efa4",
   "metadata": {},
   "outputs": [
    {
     "name": "stdin",
     "output_type": "stream",
     "text": [
      "Enter the string: Shalini Soni Pwskills\n"
     ]
    },
    {
     "data": {
      "text/plain": [
       "['Shalini', 'Soni', 'Pwskills']"
      ]
     },
     "execution_count": 117,
     "metadata": {},
     "output_type": "execute_result"
    }
   ],
   "source": [
    "#Taking input of a string and using split to make list for words\n",
    "input_string = input(\"Enter the string:\").split()\n",
    "input_string"
   ]
  },
  {
   "cell_type": "markdown",
   "id": "2dc7a0f9-e804-4306-a1c9-e3024bfa87e8",
   "metadata": {},
   "source": [
    "44. Convert a list of words into a string"
   ]
  },
  {
   "cell_type": "code",
   "execution_count": 118,
   "id": "8eec4f50-35a8-45a1-8e01-395525e2f748",
   "metadata": {},
   "outputs": [
    {
     "data": {
      "text/plain": [
       "'PW Skills is the best'"
      ]
     },
     "execution_count": 118,
     "metadata": {},
     "output_type": "execute_result"
    }
   ],
   "source": [
    "list_of_words = [\"PW\", \"Skills\", \"is\", \"the\", \"best\"]\n",
    "string = ' '.join(list_of_words)\n",
    "string"
   ]
  },
  {
   "cell_type": "markdown",
   "id": "4cedf1c6-36ba-477b-bf3f-d58b34706316",
   "metadata": {},
   "source": [
    "45. Create a list of the first `n` powers of 2.\n"
   ]
  },
  {
   "cell_type": "code",
   "execution_count": 120,
   "id": "006001e7-bb0a-451a-af87-56d539cdc0dd",
   "metadata": {},
   "outputs": [
    {
     "data": {
      "text/plain": [
       "[1, 2, 4, 8, 16]"
      ]
     },
     "execution_count": 120,
     "metadata": {},
     "output_type": "execute_result"
    }
   ],
   "source": [
    "def power_2(n):\n",
    "    lst = []\n",
    "    for i in range(n):\n",
    "        lst.append(2**i)\n",
    "    return lst\n",
    "power_2(5)\n",
    "        "
   ]
  },
  {
   "cell_type": "markdown",
   "id": "999af78b-698d-4586-a0cf-7974658909b7",
   "metadata": {},
   "source": [
    "46. Find the longest string in a list of strings.\n"
   ]
  },
  {
   "cell_type": "code",
   "execution_count": 5,
   "id": "000087c5-6009-4d1b-b0ae-3615c540aa78",
   "metadata": {},
   "outputs": [
    {
     "data": {
      "text/plain": [
       "'pineapple'"
      ]
     },
     "execution_count": 5,
     "metadata": {},
     "output_type": "execute_result"
    }
   ],
   "source": [
    "string_list = ['apple', 'banana', 'coconut', 'pineapple', 'pear', 'papaya']\n",
    "\n",
    "longest_string = ''\n",
    "for word in string_list:\n",
    "    if len(longest_string)<len(word):\n",
    "        longest_string=word\n",
    "        \n",
    "longest_string"
   ]
  },
  {
   "cell_type": "markdown",
   "id": "cb3a9c13-976f-4e76-ae55-6f06a788827d",
   "metadata": {},
   "source": [
    "47. Find the shortest string in a list of strings."
   ]
  },
  {
   "cell_type": "code",
   "execution_count": 8,
   "id": "b008d141-12f8-4124-a8b9-7c947ada7e54",
   "metadata": {},
   "outputs": [
    {
     "data": {
      "text/plain": [
       "'pear'"
      ]
     },
     "execution_count": 8,
     "metadata": {},
     "output_type": "execute_result"
    }
   ],
   "source": [
    "string_list = ['apple', 'banana', 'coconut', 'pineapple', 'pear', 'papaya']\n",
    "\n",
    "shortest_string = string_list[0]\n",
    "for word in string_list:\n",
    "    if len(shortest_string)>len(word):\n",
    "        shortest_string=word\n",
    "        \n",
    "shortest_string"
   ]
  },
  {
   "cell_type": "markdown",
   "id": "ed2d4b94-a629-4b8d-9f7e-c7844004e731",
   "metadata": {},
   "source": [
    "48. Create a list of the first `n` triangular numbers.\n"
   ]
  },
  {
   "cell_type": "code",
   "execution_count": 10,
   "id": "81e90b47-211f-4b7c-adb1-8c0157231a4e",
   "metadata": {},
   "outputs": [
    {
     "data": {
      "text/plain": [
       "[1, 3, 6, 10, 15]"
      ]
     },
     "execution_count": 10,
     "metadata": {},
     "output_type": "execute_result"
    }
   ],
   "source": [
    "def tri_num(n):\n",
    "    lst = []\n",
    "    x = 0\n",
    "    for i in range(1,n+1):\n",
    "        x=i+x\n",
    "        lst.append(x)\n",
    "    return lst\n",
    "tri_num(5)"
   ]
  },
  {
   "cell_type": "markdown",
   "id": "b8f99088-1c8c-4101-9333-1e6487fcd0a0",
   "metadata": {},
   "source": [
    "49. Check if a list contains another list as a subsequence.\n"
   ]
  },
  {
   "cell_type": "code",
   "execution_count": 12,
   "id": "231e166b-fafa-4b15-b359-bed19be3fd60",
   "metadata": {},
   "outputs": [
    {
     "name": "stdout",
     "output_type": "stream",
     "text": [
      "Yes, the list contains the other list as subsequence\n"
     ]
    }
   ],
   "source": [
    "def check_subseq(sub, lst):\n",
    "    sub_index = 0\n",
    "    for element in lst:\n",
    "        if element==sub[sub_index]:\n",
    "            sub_index += 1\n",
    "            if sub_index == len(sub):\n",
    "                return True\n",
    "    return False\n",
    "\n",
    "lst = [5,4,5,3,21]\n",
    "sub=[4,5]\n",
    "\n",
    "if check_subseq(sub, lst):\n",
    "    print(\"Yes, the list contains the other list as subsequence\")\n",
    "else:\n",
    "    print(\"No, it doesn't\")"
   ]
  },
  {
   "cell_type": "markdown",
   "id": "43d6fb50-f21d-4069-b649-197a310d61dc",
   "metadata": {},
   "source": [
    "50. Swap two elements in a list by their indices.\n"
   ]
  },
  {
   "cell_type": "code",
   "execution_count": 14,
   "id": "3b4e1cc4-e271-4ac5-8873-309f8e5fa30a",
   "metadata": {},
   "outputs": [
    {
     "data": {
      "text/plain": [
       "[1, 2, 5, 4, 3]"
      ]
     },
     "execution_count": 14,
     "metadata": {},
     "output_type": "execute_result"
    }
   ],
   "source": [
    "lst = [1,2,3,4,5]\n",
    "\n",
    "index1 = 2\n",
    "index2 = 4\n",
    "\n",
    "temp = lst[index1]\n",
    "lst[index1] = lst[index2]\n",
    "lst[index2] = temp\n",
    "\n",
    "lst"
   ]
  },
  {
   "cell_type": "markdown",
   "id": "afeb64ef-27e4-4425-a8f6-59d55412bda6",
   "metadata": {},
   "source": [
    "Tuple Based Practice Problem :"
   ]
  },
  {
   "cell_type": "markdown",
   "id": "a950c340-dc88-421d-87be-14ca3d0613b9",
   "metadata": {},
   "source": [
    "1. Create a tuple with integers from 1 to 5.\n"
   ]
  },
  {
   "cell_type": "code",
   "execution_count": 1,
   "id": "815b90d8-cf73-494f-8d02-3bdaf5a8b8d7",
   "metadata": {},
   "outputs": [
    {
     "data": {
      "text/plain": [
       "(1, 2, 3, 4, 5)"
      ]
     },
     "execution_count": 1,
     "metadata": {},
     "output_type": "execute_result"
    }
   ],
   "source": [
    "tuple1 = tuple(range(1,6))\n",
    "tuple1"
   ]
  },
  {
   "cell_type": "markdown",
   "id": "f40fc644-e4dd-4324-8728-43bbf625987a",
   "metadata": {},
   "source": [
    "2. Access the third element of a tuple.\n"
   ]
  },
  {
   "cell_type": "code",
   "execution_count": 3,
   "id": "6e7236f6-a4eb-4bc6-b377-fd7a5f589186",
   "metadata": {},
   "outputs": [
    {
     "data": {
      "text/plain": [
       "3"
      ]
     },
     "execution_count": 3,
     "metadata": {},
     "output_type": "execute_result"
    }
   ],
   "source": [
    "tuple1= (1,2,3,4,5)\n",
    "third_element = tuple1[2]\n",
    "third_element"
   ]
  },
  {
   "cell_type": "markdown",
   "id": "b5061374-ce5e-44aa-82ce-c8e0c132508c",
   "metadata": {},
   "source": [
    "3. Find the length of a tuple without using the `len()` function"
   ]
  },
  {
   "cell_type": "code",
   "execution_count": 5,
   "id": "53f36472-1fee-4210-a56c-9936e5f8d391",
   "metadata": {},
   "outputs": [
    {
     "data": {
      "text/plain": [
       "9"
      ]
     },
     "execution_count": 5,
     "metadata": {},
     "output_type": "execute_result"
    }
   ],
   "source": [
    "tuple1 = (1,2,3,4,5,6,6,6,6)\n",
    "count = 0\n",
    "for i in tuple1:\n",
    "    count +=1\n",
    "count"
   ]
  },
  {
   "cell_type": "markdown",
   "id": "840c1010-a5ef-4fa8-adf3-7c1426424daa",
   "metadata": {},
   "source": [
    "4. Count the occurrences of an element in a tuple.\n"
   ]
  },
  {
   "cell_type": "code",
   "execution_count": 7,
   "id": "fbb26568-d69a-465b-8739-60e4ea9016c4",
   "metadata": {},
   "outputs": [
    {
     "data": {
      "text/plain": [
       "5"
      ]
     },
     "execution_count": 7,
     "metadata": {},
     "output_type": "execute_result"
    }
   ],
   "source": [
    "tuple1 = (1,4,5,6,3,3,3,5,5,5,3,3)\n",
    "element = 3\n",
    "\n",
    "count = 0\n",
    "for i in tuple1:\n",
    "    if i==element:\n",
    "        count += 1\n",
    "count"
   ]
  },
  {
   "cell_type": "markdown",
   "id": "31eeb4b6-dac6-439b-baa1-f11cd8f44173",
   "metadata": {},
   "source": [
    "5. Find the index of the first occurrence of an element in a tuple.\n"
   ]
  },
  {
   "cell_type": "code",
   "execution_count": 1,
   "id": "a3b84215-1df4-46de-be95-eddbddd34ea6",
   "metadata": {},
   "outputs": [
    {
     "data": {
      "text/plain": [
       "4"
      ]
     },
     "execution_count": 1,
     "metadata": {},
     "output_type": "execute_result"
    }
   ],
   "source": [
    "tuple1 = (2,4,7,8,1,3,4)\n",
    "element_to_find = 1\n",
    "\n",
    "tuple1.index(1)"
   ]
  },
  {
   "cell_type": "markdown",
   "id": "7dc81d28-9875-4c55-a101-c6038c45ca6a",
   "metadata": {},
   "source": [
    "6. Check if an element exists in a tuple.\n"
   ]
  },
  {
   "cell_type": "code",
   "execution_count": 5,
   "id": "2ab889e3-f835-497c-bf5e-3cee20d3911d",
   "metadata": {},
   "outputs": [
    {
     "name": "stdout",
     "output_type": "stream",
     "text": [
      "The element doesn't exist in the tuple\n"
     ]
    }
   ],
   "source": [
    "tuple1 = (2,4,7,8,1,3,4)\n",
    "element_to_find = 5\n",
    "if element_to_find in tuple1:\n",
    "    print(\"The element exists in the tupele\")\n",
    "else:\n",
    "    print(\"The element doesn't exist in the tuple\")\n"
   ]
  },
  {
   "cell_type": "markdown",
   "id": "9f55c352-89cb-42c2-8e9d-9aeca4e286a9",
   "metadata": {},
   "source": [
    "7. Convert a tuple to a list."
   ]
  },
  {
   "cell_type": "code",
   "execution_count": 6,
   "id": "7c2d2108-8117-4895-be68-626fad25ec59",
   "metadata": {},
   "outputs": [
    {
     "data": {
      "text/plain": [
       "[2, 4, 7, 8, 1, 3, 4]"
      ]
     },
     "execution_count": 6,
     "metadata": {},
     "output_type": "execute_result"
    }
   ],
   "source": [
    "tuple1 = (2,4,7,8,1,3,4)\n",
    "\n",
    "tuple_to_list = list(tuple1)\n",
    "tuple_to_list\n"
   ]
  },
  {
   "cell_type": "markdown",
   "id": "6705e2f6-0734-4e1b-a5fd-d5cf625c30d2",
   "metadata": {},
   "source": [
    "8. Convert a list to a tuple."
   ]
  },
  {
   "cell_type": "code",
   "execution_count": 7,
   "id": "1bf8d07c-27d1-48d2-95bf-02f121f003eb",
   "metadata": {},
   "outputs": [
    {
     "data": {
      "text/plain": [
       "(1, 3, 5, 6)"
      ]
     },
     "execution_count": 7,
     "metadata": {},
     "output_type": "execute_result"
    }
   ],
   "source": [
    "list1 = [1,3,5,6]\n",
    "list_to_tuple = tuple(list1)\n",
    "list_to_tuple"
   ]
  },
  {
   "cell_type": "markdown",
   "id": "1adb8a04-c4a7-4276-acd1-ad4a3cdf6b31",
   "metadata": {},
   "source": [
    "9. Unpack the elements of a tuple into variables.\n"
   ]
  },
  {
   "cell_type": "code",
   "execution_count": 8,
   "id": "522b57fb-72b4-4a90-8640-3f012610ae1d",
   "metadata": {},
   "outputs": [
    {
     "name": "stdout",
     "output_type": "stream",
     "text": [
      "Variable1 1\n",
      "Variable2 2\n",
      "Variable3 3\n"
     ]
    }
   ],
   "source": [
    "tuple1 = (1,2,3)\n",
    "var1, var2, var3 = tuple1\n",
    "\n",
    "print(\"Variable1\", var1)\n",
    "print(\"Variable2\", var2)\n",
    "print(\"Variable3\", var3)"
   ]
  },
  {
   "cell_type": "markdown",
   "id": "a17552f0-d115-4783-9d8e-95fed0c45ea3",
   "metadata": {},
   "source": [
    "10. Create a tuple of even numbers from 1 to 10.\n"
   ]
  },
  {
   "cell_type": "code",
   "execution_count": 9,
   "id": "d18a9f3f-af9a-4a3f-ab82-9b66b9b44ad8",
   "metadata": {},
   "outputs": [
    {
     "data": {
      "text/plain": [
       "(2, 4, 6, 8, 10)"
      ]
     },
     "execution_count": 9,
     "metadata": {},
     "output_type": "execute_result"
    }
   ],
   "source": [
    "even_num_tuple = tuple([i for i in range(1,11) if i%2==0])\n",
    "even_num_tuple"
   ]
  },
  {
   "cell_type": "markdown",
   "id": "16e608dd-a066-4d65-9587-4b0b3f294c32",
   "metadata": {},
   "source": [
    "11. Create a tuple of odd numbers from 1 to 10."
   ]
  },
  {
   "cell_type": "code",
   "execution_count": 10,
   "id": "57588ba4-7be4-47ae-ae03-1f21a4bd7147",
   "metadata": {},
   "outputs": [
    {
     "data": {
      "text/plain": [
       "(1, 3, 5, 7, 9)"
      ]
     },
     "execution_count": 10,
     "metadata": {},
     "output_type": "execute_result"
    }
   ],
   "source": [
    "odd_num_tuple = tuple([i for i in range(1,11) if i%2!=0])\n",
    "odd_num_tuple"
   ]
  },
  {
   "cell_type": "markdown",
   "id": "09c6c99e-0526-46f9-8b36-40fce3b5331b",
   "metadata": {},
   "source": [
    "12. Concatenate two tuples."
   ]
  },
  {
   "cell_type": "code",
   "execution_count": 11,
   "id": "3151f279-31bd-4bbf-a856-dd948829c139",
   "metadata": {},
   "outputs": [
    {
     "data": {
      "text/plain": [
       "(1, 2, 3, 4, 5, 6)"
      ]
     },
     "execution_count": 11,
     "metadata": {},
     "output_type": "execute_result"
    }
   ],
   "source": [
    "tuple1 = (1,2,3)\n",
    "tuple2 = (4,5,6)\n",
    "\n",
    "tuple3 = tuple1 + tuple2\n",
    "tuple3"
   ]
  },
  {
   "cell_type": "markdown",
   "id": "97da89b4-81c5-454e-9e5f-dea113b8292b",
   "metadata": {},
   "source": [
    "13. Repeat a tuple three times"
   ]
  },
  {
   "cell_type": "code",
   "execution_count": 12,
   "id": "e6d72030-9e3f-4f69-994f-2c83bc384b59",
   "metadata": {},
   "outputs": [
    {
     "data": {
      "text/plain": [
       "(1, 2, 1, 2, 1, 2)"
      ]
     },
     "execution_count": 12,
     "metadata": {},
     "output_type": "execute_result"
    }
   ],
   "source": [
    "tuple1= (1,2)\n",
    "repeated_tuple = tuple1*3\n",
    "repeated_tuple"
   ]
  },
  {
   "cell_type": "markdown",
   "id": "5434c3bb-4e27-4544-9d18-719014cebb80",
   "metadata": {},
   "source": [
    "14. Check if a tuple is empty"
   ]
  },
  {
   "cell_type": "code",
   "execution_count": 15,
   "id": "5a8b3393-de33-40bb-886d-00f91f3bfb0f",
   "metadata": {},
   "outputs": [
    {
     "name": "stdout",
     "output_type": "stream",
     "text": [
      "tuple is not-empty\n",
      "tuple is empty\n"
     ]
    }
   ],
   "source": [
    "tuple1 = (1,2,3)\n",
    "tuple2 = ()\n",
    "\n",
    "def check_empty(tuples):\n",
    "    if len(tuples)==0:\n",
    "        print(\"tuple is empty\")\n",
    "    else:\n",
    "        print(\"tuple is not-empty\")\n",
    "        \n",
    "check_empty(tuple1)\n",
    "check_empty(tuple2)"
   ]
  },
  {
   "cell_type": "markdown",
   "id": "ee0ae8fc-7886-40bd-8714-e45eb486abcd",
   "metadata": {},
   "source": [
    "15. Create a nested tuple.\n"
   ]
  },
  {
   "cell_type": "code",
   "execution_count": 16,
   "id": "c59fedf2-059d-4771-885b-e0d739b5f9ec",
   "metadata": {},
   "outputs": [
    {
     "data": {
      "text/plain": [
       "((1, 2, 3), (4, 5, 6), (7, 8, 9))"
      ]
     },
     "execution_count": 16,
     "metadata": {},
     "output_type": "execute_result"
    }
   ],
   "source": [
    "nested_tuple = ((1,2,3),(4,5,6),(7,8,9))\n",
    "nested_tuple"
   ]
  },
  {
   "cell_type": "markdown",
   "id": "12e97eb9-5046-4a64-b337-3e5c58b618f2",
   "metadata": {},
   "source": [
    "16. Access the first element of a nested tuple.\n"
   ]
  },
  {
   "cell_type": "code",
   "execution_count": 17,
   "id": "5e5845c0-b36d-4654-b356-d1ddf825f785",
   "metadata": {},
   "outputs": [
    {
     "data": {
      "text/plain": [
       "(1, 2, 3)"
      ]
     },
     "execution_count": 17,
     "metadata": {},
     "output_type": "execute_result"
    }
   ],
   "source": [
    "first_element = nested_tuple[0]\n",
    "first_element"
   ]
  },
  {
   "cell_type": "markdown",
   "id": "bf3a2bc8-294b-4427-b68a-b0135794092e",
   "metadata": {},
   "source": [
    "17. Create a tuple with a single element."
   ]
  },
  {
   "cell_type": "code",
   "execution_count": 20,
   "id": "cfe180c8-3aec-4af0-9dcb-e38b981c6ddb",
   "metadata": {},
   "outputs": [
    {
     "data": {
      "text/plain": [
       "(12,)"
      ]
     },
     "execution_count": 20,
     "metadata": {},
     "output_type": "execute_result"
    }
   ],
   "source": [
    "single_element_tuple = (12,)\n",
    "single_element_tuple"
   ]
  },
  {
   "cell_type": "markdown",
   "id": "92c5beac-54b5-447f-a011-59c6140f628f",
   "metadata": {},
   "source": [
    "18. Compare two tuples.\n"
   ]
  },
  {
   "cell_type": "code",
   "execution_count": 21,
   "id": "6293ff27-d13f-4583-a506-8e7138e9092e",
   "metadata": {},
   "outputs": [
    {
     "name": "stdout",
     "output_type": "stream",
     "text": [
      "tuple1 == tuple2: False\n",
      "tuple1 != tuple2: True\n",
      "tuple1 < tuple2: True\n",
      "tuple1 <= tuple2: True\n",
      "tuple1 > tuple2: False\n",
      "tuple1 >= tuple2: False\n"
     ]
    }
   ],
   "source": [
    "\n",
    "tuple1 = (1, 2, 3)\n",
    "tuple2 = (1, 2, 4)\n",
    "\n",
    "# Step 2: Compare the two tuples using comparison operators\n",
    "print(\"tuple1 == tuple2:\", tuple1 == tuple2)  # Equality check\n",
    "print(\"tuple1 != tuple2:\", tuple1 != tuple2)  # Inequality check\n",
    "print(\"tuple1 < tuple2:\", tuple1 < tuple2)    # Less than check\n",
    "print(\"tuple1 <= tuple2:\", tuple1 <= tuple2)  # Less than or equal to check\n",
    "print(\"tuple1 > tuple2:\", tuple1 > tuple2)    # Greater than check\n",
    "print(\"tuple1 >= tuple2:\", tuple1 >= tuple2)  # Greater than or equal to check"
   ]
  },
  {
   "cell_type": "markdown",
   "id": "46522d1b-3960-4a36-81fd-0e26c844165a",
   "metadata": {},
   "source": [
    "19. Delete a tuple.\n"
   ]
  },
  {
   "cell_type": "code",
   "execution_count": 23,
   "id": "d848f64b-8cf0-4997-96e2-eda2cf43b01c",
   "metadata": {},
   "outputs": [
    {
     "name": "stdout",
     "output_type": "stream",
     "text": [
      "(1, 2, 3)\n"
     ]
    },
    {
     "ename": "NameError",
     "evalue": "name 'tuple1' is not defined",
     "output_type": "error",
     "traceback": [
      "\u001b[0;31m---------------------------------------------------------------------------\u001b[0m",
      "\u001b[0;31mNameError\u001b[0m                                 Traceback (most recent call last)",
      "Cell \u001b[0;32mIn[23], line 4\u001b[0m\n\u001b[1;32m      2\u001b[0m \u001b[38;5;28mprint\u001b[39m(tuple1)\n\u001b[1;32m      3\u001b[0m \u001b[38;5;28;01mdel\u001b[39;00m tuple1\n\u001b[0;32m----> 4\u001b[0m \u001b[43mtuple1\u001b[49m\n",
      "\u001b[0;31mNameError\u001b[0m: name 'tuple1' is not defined"
     ]
    }
   ],
   "source": [
    "tuple1 = (1,2,3)\n",
    "print(tuple1)\n",
    "del tuple1\n",
    "tuple1"
   ]
  },
  {
   "cell_type": "markdown",
   "id": "123f03eb-f31f-4ee4-a854-206e5934fb2c",
   "metadata": {},
   "source": [
    "20. Slice a tuple."
   ]
  },
  {
   "cell_type": "code",
   "execution_count": 25,
   "id": "2259fd80-eeb3-49cd-9cc3-136aced208f1",
   "metadata": {},
   "outputs": [
    {
     "data": {
      "text/plain": [
       "(3, 4)"
      ]
     },
     "execution_count": 25,
     "metadata": {},
     "output_type": "execute_result"
    }
   ],
   "source": [
    "tuple1 = (1,2,3, 4, 5, 6)\n",
    "sliced_tuple = tuple1[2:4]\n",
    "sliced_tuple"
   ]
  },
  {
   "cell_type": "markdown",
   "id": "5063b356-2652-4ce6-a0e2-6d523541ae04",
   "metadata": {},
   "source": [
    "21. Find the maximum value in a tuple."
   ]
  },
  {
   "cell_type": "code",
   "execution_count": 26,
   "id": "1ed5cfa7-1e11-4a1d-a3ed-0a576e9c5c2d",
   "metadata": {},
   "outputs": [
    {
     "data": {
      "text/plain": [
       "6"
      ]
     },
     "execution_count": 26,
     "metadata": {},
     "output_type": "execute_result"
    }
   ],
   "source": [
    "tuple1 = (1,2,3, 4, 5, 6)\n",
    "max_value = max(tuple1)\n",
    "max_value"
   ]
  },
  {
   "cell_type": "markdown",
   "id": "ae8f6266-3083-4a06-87d3-ae4518fc1808",
   "metadata": {},
   "source": [
    "22. Find the minimum value in a tuple.\n"
   ]
  },
  {
   "cell_type": "code",
   "execution_count": 27,
   "id": "8bd1be4e-6102-4aa0-bf19-304055bb9b2b",
   "metadata": {},
   "outputs": [
    {
     "data": {
      "text/plain": [
       "1"
      ]
     },
     "execution_count": 27,
     "metadata": {},
     "output_type": "execute_result"
    }
   ],
   "source": [
    "tuple1 = (1,2,3, 4, 5, 6)\n",
    "min_value = min(tuple1)\n",
    "min_value"
   ]
  },
  {
   "cell_type": "markdown",
   "id": "e37f72d5-dfa2-40ad-bb0b-437cfefcf508",
   "metadata": {},
   "source": [
    "23. Convert a string to a tuple of characters."
   ]
  },
  {
   "cell_type": "code",
   "execution_count": 28,
   "id": "bc983229-59bf-4837-98d9-fbb9d76ddc00",
   "metadata": {},
   "outputs": [
    {
     "data": {
      "text/plain": [
       "('P',\n",
       " 'w',\n",
       " 's',\n",
       " 'k',\n",
       " 'i',\n",
       " 'l',\n",
       " 'l',\n",
       " 's',\n",
       " ' ',\n",
       " 'i',\n",
       " 's',\n",
       " ' ',\n",
       " 'a',\n",
       " 'w',\n",
       " 'e',\n",
       " 's',\n",
       " 'o',\n",
       " 'm',\n",
       " 'e')"
      ]
     },
     "execution_count": 28,
     "metadata": {},
     "output_type": "execute_result"
    }
   ],
   "source": [
    "string = \"Pwskills is awesome\"\n",
    "string_to_tuple = tuple(string)\n",
    "string_to_tuple"
   ]
  },
  {
   "cell_type": "markdown",
   "id": "b3cd5a34-47ff-481e-9177-3b3e47fd7121",
   "metadata": {},
   "source": [
    "24. Convert a tuple of characters to a string.\n"
   ]
  },
  {
   "cell_type": "code",
   "execution_count": 31,
   "id": "3ebb1579-e32b-4cc0-bbac-85484179f3dc",
   "metadata": {},
   "outputs": [
    {
     "data": {
      "text/plain": [
       "'PWskills is best'"
      ]
     },
     "execution_count": 31,
     "metadata": {},
     "output_type": "execute_result"
    }
   ],
   "source": [
    "tuple1 = ('P', 'W', 's', 'k', 'i', 'l', 'l', 's', ' ', 'i', 's', ' ', 'b', 'e', 's', 't')\n",
    "tuple_to_string = ''.join(tuple1)\n",
    "tuple_to_string"
   ]
  },
  {
   "cell_type": "markdown",
   "id": "1760e1de-1841-47d0-936f-10bbccfaa04c",
   "metadata": {},
   "source": [
    "25. Create a tuple from multiple data types.\n"
   ]
  },
  {
   "cell_type": "code",
   "execution_count": 32,
   "id": "597d7ec6-a9ec-4a4d-b6d6-693bfad5b136",
   "metadata": {},
   "outputs": [
    {
     "data": {
      "text/plain": [
       "(1, 2, 'hi', True)"
      ]
     },
     "execution_count": 32,
     "metadata": {},
     "output_type": "execute_result"
    }
   ],
   "source": [
    "multiple_data_tuple = (1,2,'hi', True)\n",
    "multiple_data_tuple"
   ]
  },
  {
   "cell_type": "markdown",
   "id": "024bf7ab-c50f-4c1f-84cb-a4b553776095",
   "metadata": {},
   "source": [
    "26. Check if two tuples are identical.\n"
   ]
  },
  {
   "cell_type": "code",
   "execution_count": 33,
   "id": "9596b9bd-34a8-4d81-8a62-b0d8cc3797fb",
   "metadata": {},
   "outputs": [
    {
     "name": "stdout",
     "output_type": "stream",
     "text": [
      "Identical\n",
      "Not identical\n"
     ]
    }
   ],
   "source": [
    "def check_identical(tuple1, tuple2):\n",
    "    if tuple1 == tuple2:\n",
    "        print(\"Identical\")\n",
    "    else:\n",
    "        print(\"Not identical\")\n",
    "\n",
    "tuple1 = (1,2,3)\n",
    "tuple2 = (1,2,3)\n",
    "tuple3 = (3,2,1)\n",
    "\n",
    "check_identical(tuple1,tuple2)\n",
    "check_identical(tuple1,tuple3)"
   ]
  },
  {
   "cell_type": "markdown",
   "id": "7a4ee610-6d90-4adf-853b-4e3e3456ffbd",
   "metadata": {},
   "source": [
    "27. Sort the elements of a tuple."
   ]
  },
  {
   "cell_type": "code",
   "execution_count": 37,
   "id": "cf6c648f-56fa-4391-a7be-9b7b442eaf90",
   "metadata": {},
   "outputs": [
    {
     "data": {
      "text/plain": [
       "('Janvi', 'Naman', 'Roopal', 'Shalini', 'Vivek')"
      ]
     },
     "execution_count": 37,
     "metadata": {},
     "output_type": "execute_result"
    }
   ],
   "source": [
    "tuple1 = ('Shalini', 'Naman', 'Vivek', 'Janvi', 'Roopal')\n",
    "\n",
    "#Sort the words in alphabetical order\n",
    "tuple1 = tuple(sorted(tuple1))\n",
    "tuple1"
   ]
  },
  {
   "cell_type": "markdown",
   "id": "525f4058-acd1-427a-b8cc-548930a9787a",
   "metadata": {},
   "source": [
    "28. Convert a tuple of integers to a tuple of strings"
   ]
  },
  {
   "cell_type": "code",
   "execution_count": 41,
   "id": "44fa0c88-edf1-42e7-a70c-ed19bf5aa871",
   "metadata": {},
   "outputs": [
    {
     "data": {
      "text/plain": [
       "('1', '2', '3')"
      ]
     },
     "execution_count": 41,
     "metadata": {},
     "output_type": "execute_result"
    }
   ],
   "source": [
    "tuple_int = (1,2,3)\n",
    "tuple_str = tuple(str(i) for i in tuple_int)\n",
    "tuple_str"
   ]
  },
  {
   "cell_type": "markdown",
   "id": "eb27df00-80bc-4775-b7fb-5182063deee5",
   "metadata": {},
   "source": [
    "29. Convert a tuple of strings to a tuple of integers."
   ]
  },
  {
   "cell_type": "code",
   "execution_count": 42,
   "id": "008e1659-bbf1-4559-9beb-27727103af5f",
   "metadata": {},
   "outputs": [
    {
     "data": {
      "text/plain": [
       "(1, 2, 3)"
      ]
     },
     "execution_count": 42,
     "metadata": {},
     "output_type": "execute_result"
    }
   ],
   "source": [
    "tuple_str = ('1', '2', '3')\n",
    "tuple_int = tuple(int(i) for i in tuple_str)\n",
    "tuple_int"
   ]
  },
  {
   "cell_type": "markdown",
   "id": "99500f2a-9881-4025-83b8-fa3090588491",
   "metadata": {},
   "source": [
    "30. Merge two tuples."
   ]
  },
  {
   "cell_type": "code",
   "execution_count": 43,
   "id": "2ff76bff-0177-4c40-8876-60b876ab8aaa",
   "metadata": {},
   "outputs": [
    {
     "data": {
      "text/plain": [
       "(1, 2, 3, 4, 5, 6)"
      ]
     },
     "execution_count": 43,
     "metadata": {},
     "output_type": "execute_result"
    }
   ],
   "source": [
    "tuple_1 = (1,2,3)\n",
    "tuple_2 = (4,5,6)\n",
    "\n",
    "merged_tuple = tuple_1 + tuple_2\n",
    "merged_tuple"
   ]
  },
  {
   "cell_type": "markdown",
   "id": "3ffd38bf-8a87-4f33-a1db-463d041e9b34",
   "metadata": {},
   "source": [
    "31. Flatten a nested tuple"
   ]
  },
  {
   "cell_type": "code",
   "execution_count": 50,
   "id": "aaf3ceff-5ccd-4501-aaff-95b9863997c1",
   "metadata": {},
   "outputs": [
    {
     "name": "stdout",
     "output_type": "stream",
     "text": [
      "(1, 2, 3, 4, 5, 6)\n"
     ]
    }
   ],
   "source": [
    "nested_tuple = ((1,2),(3,4),(5,6))\n",
    "\n",
    "flattened_list = []\n",
    "for i in (nested_tuple):\n",
    "    for j in i:\n",
    "        flattened_list.append(j)\n",
    "print(tuple(flattened_list))"
   ]
  },
  {
   "cell_type": "markdown",
   "id": "ce877d08-15c1-4762-87c5-de4954eb665b",
   "metadata": {},
   "source": [
    "32. Create a tuple of the first 5 prime numbers."
   ]
  },
  {
   "cell_type": "code",
   "execution_count": 52,
   "id": "aeb08102-b775-4323-86f7-d7d7e108e926",
   "metadata": {},
   "outputs": [
    {
     "data": {
      "text/plain": [
       "(2, 3, 5, 7, 11)"
      ]
     },
     "execution_count": 52,
     "metadata": {},
     "output_type": "execute_result"
    }
   ],
   "source": [
    "#Function to check a prime number \n",
    "def check_prime(n):\n",
    "    if n<=1:\n",
    "        return False\n",
    "    for i in range(2, int(n**0.5) +1 ):\n",
    "        if n%i==0:\n",
    "            return False\n",
    "    return True\n",
    "\n",
    "prime_num_tuple = tuple([n for n in range(2,20) if check_prime(n)][:5])\n",
    "prime_num_tuple"
   ]
  },
  {
   "cell_type": "markdown",
   "id": "f99fcd27-4816-4f4a-96f0-0acf0940223c",
   "metadata": {},
   "source": [
    "33. Check if a tuple is a palindrome.\n"
   ]
  },
  {
   "cell_type": "code",
   "execution_count": 53,
   "id": "d7e01367-0b54-4750-be49-1219673462ee",
   "metadata": {},
   "outputs": [
    {
     "name": "stdout",
     "output_type": "stream",
     "text": [
      "Palindrome\n",
      "Not Palindrome\n"
     ]
    }
   ],
   "source": [
    "def check_palindrome(tuple1):\n",
    "    list1 = list(tuple1)\n",
    "    list2 = list1[::-1]\n",
    "    if list1==list2:\n",
    "        print(\"Palindrome\")\n",
    "    else:\n",
    "        print(\"Not Palindrome\")\n",
    "tuple1 = (1,2,1)\n",
    "tuple2= (1,2,3)\n",
    "\n",
    "check_palindrome(tuple1)\n",
    "check_palindrome(tuple2)\n"
   ]
  },
  {
   "cell_type": "markdown",
   "id": "3e40c3dc-d6a9-4d86-b2bc-fd5d34f81d18",
   "metadata": {},
   "source": [
    "34. Create a tuple of squares of numbers from 1 to 5."
   ]
  },
  {
   "cell_type": "code",
   "execution_count": 54,
   "id": "7994da01-844e-4617-8b4d-2cf89754a953",
   "metadata": {},
   "outputs": [
    {
     "data": {
      "text/plain": [
       "(1, 4, 9, 16, 25)"
      ]
     },
     "execution_count": 54,
     "metadata": {},
     "output_type": "execute_result"
    }
   ],
   "source": [
    "sq_tuple = tuple([i*i for i in range(1,6)])\n",
    "sq_tuple"
   ]
  },
  {
   "cell_type": "markdown",
   "id": "81335484-a790-4ef2-bf7c-90f0766697a5",
   "metadata": {},
   "source": [
    "35. Filter out all even numbers from a tuple.\n"
   ]
  },
  {
   "cell_type": "code",
   "execution_count": 56,
   "id": "a8d86c05-a1ab-488a-972f-cae27df36f0f",
   "metadata": {},
   "outputs": [
    {
     "data": {
      "text/plain": [
       "(2, 4, 6, 8)"
      ]
     },
     "execution_count": 56,
     "metadata": {},
     "output_type": "execute_result"
    }
   ],
   "source": [
    "given_tuple = (1,2,4,6,8,9)\n",
    "even_num = []\n",
    "for i in given_tuple:\n",
    "    if i%2==0:\n",
    "        even_num.append(i)\n",
    "even_num_tuple = tuple(even_num)\n",
    "even_num_tuple"
   ]
  },
  {
   "cell_type": "markdown",
   "id": "0e43c0c0-7b78-4025-bf9c-2468bda9c962",
   "metadata": {},
   "source": [
    "36. Multiply all elements in a tuple by 2."
   ]
  },
  {
   "cell_type": "code",
   "execution_count": 61,
   "id": "671e98b5-d72b-40ba-904c-8d5293709f8a",
   "metadata": {},
   "outputs": [
    {
     "name": "stdout",
     "output_type": "stream",
     "text": [
      "(2, 4, 6)\n"
     ]
    }
   ],
   "source": [
    "tuple1 = (1,2,3)\n",
    "new_tuple = []\n",
    "for i in (tuple1):\n",
    "    new_tuple.append(i*2)\n",
    "    \n",
    "print(tuple(new_tuple))\n",
    "    \n"
   ]
  },
  {
   "cell_type": "markdown",
   "id": "69faf8d4-6b02-47c0-84a2-c3cdc1abc0de",
   "metadata": {},
   "source": [
    "37. Create a tuple of random numbers.\n"
   ]
  },
  {
   "cell_type": "code",
   "execution_count": 63,
   "id": "7b5e0d5d-0af8-4126-9b4b-94f27fc489c0",
   "metadata": {},
   "outputs": [
    {
     "data": {
      "text/plain": [
       "(98, 98, 79, 64, 42, 31, 86, 90, 59, 3)"
      ]
     },
     "execution_count": 63,
     "metadata": {},
     "output_type": "execute_result"
    }
   ],
   "source": [
    "import random\n",
    "\n",
    "random_tuple = tuple(random.randint(1,100) for i in range(10))\n",
    "random_tuple"
   ]
  },
  {
   "cell_type": "markdown",
   "id": "712e92d0-47ce-48fa-8d2d-9c23ecfaaf31",
   "metadata": {},
   "source": [
    "38. Check if a tuple is sorted."
   ]
  },
  {
   "cell_type": "code",
   "execution_count": 75,
   "id": "6ea8c7c9-2afd-407c-8a80-d4616589d050",
   "metadata": {},
   "outputs": [
    {
     "name": "stdout",
     "output_type": "stream",
     "text": [
      "Sorted\n"
     ]
    }
   ],
   "source": [
    "tuple1 = (4,2,1,0)\n",
    "tuple2 = tuple(sorted(tuple1))\n",
    "tuple3 = tuple(sorted(tuple1, reverse = True))\n",
    "if tuple1==tuple2 or tuple1==tuple3:\n",
    "    print(\"Sorted\")\n",
    "else:\n",
    "    print(\"not sorted\")"
   ]
  },
  {
   "cell_type": "markdown",
   "id": "f564ba19-a975-428c-8722-6d4fafdc3b7e",
   "metadata": {},
   "source": [
    "39. Rotate a tuple to the left by `n` positions."
   ]
  },
  {
   "cell_type": "code",
   "execution_count": 76,
   "id": "d5e71672-a65e-4a40-92be-eda2ebda8e4e",
   "metadata": {},
   "outputs": [
    {
     "data": {
      "text/plain": [
       "(3, 4, 5, 1, 2)"
      ]
     },
     "execution_count": 76,
     "metadata": {},
     "output_type": "execute_result"
    }
   ],
   "source": [
    "def rotate_left(tup, n):\n",
    "    rotated_tuple = tup[n:] + tup[:n]\n",
    "    return rotated_tuple\n",
    "\n",
    "tup1 = (1,2,3,4,5)\n",
    "rotate_left(tup1, 2)"
   ]
  },
  {
   "cell_type": "markdown",
   "id": "45a71355-f22e-4aed-a528-14bd8b9508f2",
   "metadata": {},
   "source": [
    "40. Rotate a tuple to the right by `n` positions."
   ]
  },
  {
   "cell_type": "code",
   "execution_count": 77,
   "id": "85bc70f4-4db6-4d78-8138-52f66d34a48c",
   "metadata": {},
   "outputs": [
    {
     "data": {
      "text/plain": [
       "(4, 5, 1, 2, 3)"
      ]
     },
     "execution_count": 77,
     "metadata": {},
     "output_type": "execute_result"
    }
   ],
   "source": [
    "def rotate_right(tup, n):\n",
    "    rotated_tuple = tup[-n:] + tup[:-n]\n",
    "    return rotated_tuple\n",
    "\n",
    "tup1 = (1,2,3,4,5)\n",
    "rotate_right(tup1, 2)"
   ]
  },
  {
   "cell_type": "markdown",
   "id": "8373fe9c-0674-4651-bdac-f5dacc389de8",
   "metadata": {},
   "source": [
    "41. Create a tuple of the first 5 Fibonacci numbers.\n"
   ]
  },
  {
   "cell_type": "code",
   "execution_count": 81,
   "id": "59d42a11-5e90-4306-91d4-95a15d0de2a2",
   "metadata": {},
   "outputs": [
    {
     "data": {
      "text/plain": [
       "(0, 1, 1, 2, 3)"
      ]
     },
     "execution_count": 81,
     "metadata": {},
     "output_type": "execute_result"
    }
   ],
   "source": [
    "def fibonacci_num(n):\n",
    "    fibonacci = [0,1]\n",
    "    for i in range (n-2):\n",
    "        fibonacci.append(fibonacci[-1]+ fibonacci[-2])\n",
    "    return tuple(fibonacci)\n",
    "fibonacci_num(5)"
   ]
  },
  {
   "cell_type": "markdown",
   "id": "cefca489-fc44-4c8c-9582-1a3781b5d952",
   "metadata": {},
   "source": [
    "42. Create a tuple from user input.\n"
   ]
  },
  {
   "cell_type": "code",
   "execution_count": 82,
   "id": "3f0b891c-d4e1-44f6-ae41-1aa9aacdd30f",
   "metadata": {},
   "outputs": [
    {
     "name": "stdin",
     "output_type": "stream",
     "text": [
      "Enter elements separated by space Shalini Soni PWskills\n"
     ]
    },
    {
     "data": {
      "text/plain": [
       "('Shalini', 'Soni', 'PWskills')"
      ]
     },
     "execution_count": 82,
     "metadata": {},
     "output_type": "execute_result"
    }
   ],
   "source": [
    "user_input = input(\"Enter elements separated by space\")\n",
    "\n",
    "tuple_user_input = tuple(user_input.split())\n",
    "tuple_user_input"
   ]
  },
  {
   "cell_type": "markdown",
   "id": "d6073ec9-f24e-4214-9594-d684b0be6ed4",
   "metadata": {},
   "source": [
    "43. Swap two elements in a tuple"
   ]
  },
  {
   "cell_type": "code",
   "execution_count": 85,
   "id": "024180ce-f810-4ce8-90f5-64f1e01fd002",
   "metadata": {},
   "outputs": [
    {
     "data": {
      "text/plain": [
       "(1, 2, 4, 3, 5)"
      ]
     },
     "execution_count": 85,
     "metadata": {},
     "output_type": "execute_result"
    }
   ],
   "source": [
    "tuple1 = (1,2,3,4,5)\n",
    "\n",
    "#Converting the tuple in a list\n",
    "list1 = list(tuple1)\n",
    "\n",
    "#indexes to be swapped\n",
    "index1 = 2\n",
    "index2 = 3\n",
    "\n",
    "temp = list1[index1]\n",
    "list1[index1] = list1[index2]\n",
    "list1[index2] = temp\n",
    "\n",
    "new_tuple = tuple(list1)\n",
    "new_tuple"
   ]
  },
  {
   "cell_type": "markdown",
   "id": "9f61c4f8-c04e-4617-8508-84787a201102",
   "metadata": {},
   "source": [
    "44. Reverse the elements of a tuple."
   ]
  },
  {
   "cell_type": "code",
   "execution_count": 86,
   "id": "7c02fbb2-354a-44d8-a015-114d8b28a00a",
   "metadata": {},
   "outputs": [
    {
     "data": {
      "text/plain": [
       "(3, 2, 1)"
      ]
     },
     "execution_count": 86,
     "metadata": {},
     "output_type": "execute_result"
    }
   ],
   "source": [
    "tuple1 = (1,2,3)\n",
    "list1 = list(tuple1)\n",
    "reversed_tuple = tuple(list1[::-1])\n",
    "reversed_tuple"
   ]
  },
  {
   "cell_type": "markdown",
   "id": "c01f8a18-b321-4232-97cf-cf50e1ede751",
   "metadata": {},
   "source": [
    "45. Create a tuple of the first `n` powers of 2.\n"
   ]
  },
  {
   "cell_type": "code",
   "execution_count": 87,
   "id": "c60d036f-ff0d-4a39-a7e9-e34bbcc3adb2",
   "metadata": {},
   "outputs": [
    {
     "data": {
      "text/plain": [
       "(1, 2, 4, 8, 16, 32, 64, 128)"
      ]
     },
     "execution_count": 87,
     "metadata": {},
     "output_type": "execute_result"
    }
   ],
   "source": [
    "def power_2(n):\n",
    "    tup = tuple(2**i for i in range(n))\n",
    "    return tup\n",
    "power_2(8)"
   ]
  },
  {
   "cell_type": "markdown",
   "id": "cd62a9b3-fa34-4154-aa17-8d9811c347d8",
   "metadata": {},
   "source": [
    "46. Find the longest string in a tuple of strings.\n"
   ]
  },
  {
   "cell_type": "code",
   "execution_count": 89,
   "id": "f7ddbc1c-67a5-4238-b014-7ab38f1776dc",
   "metadata": {},
   "outputs": [
    {
     "data": {
      "text/plain": [
       "'pineapple'"
      ]
     },
     "execution_count": 89,
     "metadata": {},
     "output_type": "execute_result"
    }
   ],
   "source": [
    "tup = ('apple', 'pineapple', 'banana')\n",
    "longest_string = ''\n",
    "for i in tup:\n",
    "    if len(i)>len(longest_string):\n",
    "        longest_string = i\n",
    "longest_string\n",
    "        \n",
    "    "
   ]
  },
  {
   "cell_type": "markdown",
   "id": "0760ab17-40af-4b17-bbfd-b90b3b6db203",
   "metadata": {},
   "source": [
    "47. Find the shortest string in a tuple of strings."
   ]
  },
  {
   "cell_type": "code",
   "execution_count": 92,
   "id": "f5e2b2fa-420b-4735-8622-5115a01538e2",
   "metadata": {},
   "outputs": [
    {
     "data": {
      "text/plain": [
       "'apple'"
      ]
     },
     "execution_count": 92,
     "metadata": {},
     "output_type": "execute_result"
    }
   ],
   "source": [
    "tup = ('apple', 'pineapple', 'banana')\n",
    "shortest_string = list(tup)[0]\n",
    "for i in tup:\n",
    "    if len(i)<len(shortest_string):\n",
    "        shortest_string = i\n",
    "shortest_string"
   ]
  },
  {
   "cell_type": "markdown",
   "id": "9fdfef2a-429c-4e12-a623-c2e5869f0ec1",
   "metadata": {},
   "source": [
    "48. Create a tuple of the first `n` triangular numbers."
   ]
  },
  {
   "cell_type": "code",
   "execution_count": 94,
   "id": "4c952344-a47a-4750-ad64-a82082d1a796",
   "metadata": {},
   "outputs": [
    {
     "data": {
      "text/plain": [
       "(1, 3, 6, 10, 15)"
      ]
     },
     "execution_count": 94,
     "metadata": {},
     "output_type": "execute_result"
    }
   ],
   "source": [
    "def trian_num(n): \n",
    "    tup = tuple(i*(i+1)//2 for i in range(1,n+1)) \n",
    "    return tup\n",
    "\n",
    "trian_num(5)"
   ]
  },
  {
   "cell_type": "markdown",
   "id": "6ded5fc7-f740-45ce-b94f-d13519091839",
   "metadata": {},
   "source": [
    "49. Check if a tuple contains another tuple as a subsequence.\n"
   ]
  },
  {
   "cell_type": "code",
   "execution_count": 97,
   "id": "6cff6a90-1fd2-4864-b916-4496bd8b9ffe",
   "metadata": {},
   "outputs": [
    {
     "name": "stdout",
     "output_type": "stream",
     "text": [
      "No, it doesn't\n"
     ]
    }
   ],
   "source": [
    "def check_subseq(sub, tup):\n",
    "    sub_index = 0\n",
    "    for element in tup:\n",
    "        if element==sub[sub_index]:\n",
    "            sub_index += 1\n",
    "            if sub_index == len(sub):\n",
    "                return True\n",
    "    return False\n",
    "\n",
    "tup = (5,4,5,3,21)\n",
    "sub=(6,5)\n",
    "\n",
    "if check_subseq(sub, tup):\n",
    "    print(\"Yes, the tuple contains the other tuple as subsequence\")\n",
    "else:\n",
    "    print(\"No, it doesn't\")"
   ]
  },
  {
   "cell_type": "markdown",
   "id": "3cccbaa5-7427-4d43-92d9-6f314556ffaf",
   "metadata": {},
   "source": [
    "50. Create a tuple of alternating 1s and 0s of length `n`."
   ]
  },
  {
   "cell_type": "code",
   "execution_count": 99,
   "id": "4dd374c5-0c37-4826-983e-e56d51766ff3",
   "metadata": {},
   "outputs": [
    {
     "data": {
      "text/plain": [
       "(0, 1, 0, 1, 0, 1, 0, 1, 0, 1)"
      ]
     },
     "execution_count": 99,
     "metadata": {},
     "output_type": "execute_result"
    }
   ],
   "source": [
    "def tuple_01(n):\n",
    "    tup = tuple(i%2 for i in range(n))\n",
    "    return tup\n",
    "tuple_01(10)"
   ]
  },
  {
   "cell_type": "markdown",
   "id": "c261f50f-4d7d-4dfa-9f83-2476615f899c",
   "metadata": {},
   "source": [
    "Set Based Practice Problem :"
   ]
  },
  {
   "cell_type": "markdown",
   "id": "b2d2f22c-5cdb-4d18-81fe-8e2a0540d580",
   "metadata": {},
   "source": [
    "1. Create a set with integers from 1 to 5"
   ]
  },
  {
   "cell_type": "code",
   "execution_count": 100,
   "id": "b9058616-974e-4ab5-b500-5a97578e0db2",
   "metadata": {},
   "outputs": [
    {
     "data": {
      "text/plain": [
       "{1, 2, 3, 4, 5}"
      ]
     },
     "execution_count": 100,
     "metadata": {},
     "output_type": "execute_result"
    }
   ],
   "source": [
    "set1 = set(range(1,6))\n",
    "set1"
   ]
  },
  {
   "cell_type": "markdown",
   "id": "89206d9a-400e-45d2-bfdd-58569a03a537",
   "metadata": {},
   "source": [
    "2. Add an element to a set.\n"
   ]
  },
  {
   "cell_type": "code",
   "execution_count": 102,
   "id": "fe21fc4f-d0b0-4f49-8f6d-bf3db97d8e42",
   "metadata": {},
   "outputs": [
    {
     "data": {
      "text/plain": [
       "{1, 2, 3, 4, 5}"
      ]
     },
     "execution_count": 102,
     "metadata": {},
     "output_type": "execute_result"
    }
   ],
   "source": [
    "set1 = {1,2,3,4}\n",
    "add_element = 5\n",
    "\n",
    "set1.add(add_element)\n",
    "set1"
   ]
  },
  {
   "cell_type": "markdown",
   "id": "cb090cfc-08fc-4445-8f0d-d959a36d645a",
   "metadata": {},
   "source": [
    "3. Remove an element from a set.\n"
   ]
  },
  {
   "cell_type": "code",
   "execution_count": 103,
   "id": "cfeae61a-db72-4933-85bb-cb86a151cfb8",
   "metadata": {},
   "outputs": [
    {
     "data": {
      "text/plain": [
       "{1, 2, 3, 4}"
      ]
     },
     "execution_count": 103,
     "metadata": {},
     "output_type": "execute_result"
    }
   ],
   "source": [
    "set1 = {1,2,3,4,5}\n",
    "remove_element = 5\n",
    "\n",
    "set1.remove(remove_element)\n",
    "set1"
   ]
  },
  {
   "cell_type": "markdown",
   "id": "6cb8ed33-1eb5-4c65-abe7-77de4f06b3c6",
   "metadata": {},
   "source": [
    "4. Check if an element exists in a set.\n"
   ]
  },
  {
   "cell_type": "code",
   "execution_count": 105,
   "id": "9f0a8501-2a18-4261-88a7-50c25aa69b95",
   "metadata": {},
   "outputs": [
    {
     "name": "stdout",
     "output_type": "stream",
     "text": [
      "Doesn't exist\n"
     ]
    }
   ],
   "source": [
    "set1 = {1,2,3,4,5}\n",
    "check_element = 10\n",
    "\n",
    "if check_element in set1:\n",
    "    print(\"Exists\")\n",
    "else:\n",
    "    print(\"Doesn't exist\")"
   ]
  },
  {
   "cell_type": "markdown",
   "id": "f0e226de-a68a-434e-b5a9-58acfe3d85ac",
   "metadata": {},
   "source": [
    "5. Find the length of a set without using the `len()` function.\n"
   ]
  },
  {
   "cell_type": "code",
   "execution_count": 106,
   "id": "f8f273ad-8873-4294-a3c1-eb7c188106b9",
   "metadata": {},
   "outputs": [
    {
     "data": {
      "text/plain": [
       "5"
      ]
     },
     "execution_count": 106,
     "metadata": {},
     "output_type": "execute_result"
    }
   ],
   "source": [
    "set1 = {1,2,3,4,5}\n",
    "count = 0\n",
    "for i in set1:\n",
    "    count += 1\n",
    "count\n",
    "    "
   ]
  },
  {
   "cell_type": "markdown",
   "id": "e5848d26-6bbc-432e-a7fa-0260b390a5e7",
   "metadata": {},
   "source": [
    "6. Clear all elements from a set.\n"
   ]
  },
  {
   "cell_type": "code",
   "execution_count": 107,
   "id": "1bbd5d2b-6dc8-43b4-9c8b-7bedea61621a",
   "metadata": {},
   "outputs": [
    {
     "data": {
      "text/plain": [
       "set()"
      ]
     },
     "execution_count": 107,
     "metadata": {},
     "output_type": "execute_result"
    }
   ],
   "source": [
    "set1 = {1,2,3,4,5}\n",
    "set1.clear()\n",
    "set1"
   ]
  },
  {
   "cell_type": "markdown",
   "id": "fc6e0915-7282-4b31-bfc8-4a4c524f1ece",
   "metadata": {},
   "source": [
    "7. Create a set of even numbers from 1 to 10.\n"
   ]
  },
  {
   "cell_type": "code",
   "execution_count": 108,
   "id": "218ac4f6-bb57-4e1b-b60f-c2e4fcde981e",
   "metadata": {},
   "outputs": [
    {
     "data": {
      "text/plain": [
       "{2, 4, 6, 8, 10}"
      ]
     },
     "execution_count": 108,
     "metadata": {},
     "output_type": "execute_result"
    }
   ],
   "source": [
    "set1 = {i for i in range(1,11) if i%2==0}\n",
    "set1"
   ]
  },
  {
   "cell_type": "markdown",
   "id": "14ab3354-79fe-4806-b20a-5d1ea20ca2d9",
   "metadata": {},
   "source": [
    "8. Create a set of odd numbers from 1 to 10.\n"
   ]
  },
  {
   "cell_type": "code",
   "execution_count": 109,
   "id": "eb0a24fc-46ab-4e9f-aaa4-2f493899ccfe",
   "metadata": {},
   "outputs": [
    {
     "data": {
      "text/plain": [
       "{1, 3, 5, 7, 9}"
      ]
     },
     "execution_count": 109,
     "metadata": {},
     "output_type": "execute_result"
    }
   ],
   "source": [
    "set1 = {i for i in range(1,11) if i%2!=0}\n",
    "set1"
   ]
  },
  {
   "cell_type": "markdown",
   "id": "23aa19ef-b997-4728-844a-43170101cb2b",
   "metadata": {},
   "source": [
    "9. Find the union of two sets."
   ]
  },
  {
   "cell_type": "code",
   "execution_count": 110,
   "id": "e93379fc-b9cd-4595-a9a0-a2892a2d8f99",
   "metadata": {},
   "outputs": [
    {
     "data": {
      "text/plain": [
       "{1, 2, 3, 4, 5, 9}"
      ]
     },
     "execution_count": 110,
     "metadata": {},
     "output_type": "execute_result"
    }
   ],
   "source": [
    "set1 = {1,2,3}\n",
    "set2 = {2,3,4,5,9}\n",
    "\n",
    "union = set1.union(set2)\n",
    "union"
   ]
  },
  {
   "cell_type": "markdown",
   "id": "a149f2d6-9eb2-4de1-8a7e-332ef03a2c2f",
   "metadata": {},
   "source": [
    "10. Find the intersection of two sets.\n"
   ]
  },
  {
   "cell_type": "code",
   "execution_count": 111,
   "id": "0ccd56e9-0ce6-4742-862f-baf8ddfc1b19",
   "metadata": {},
   "outputs": [
    {
     "data": {
      "text/plain": [
       "{2, 3}"
      ]
     },
     "execution_count": 111,
     "metadata": {},
     "output_type": "execute_result"
    }
   ],
   "source": [
    "set1 = {1,2,3}\n",
    "set2 = {2,3,4,5,9}\n",
    "\n",
    "intersection= set1.intersection(set2)\n",
    "intersection"
   ]
  },
  {
   "cell_type": "markdown",
   "id": "63523572-3f8c-4bff-b7df-7cd2307c3e5f",
   "metadata": {},
   "source": [
    "11. Find the difference between two sets.\n"
   ]
  },
  {
   "cell_type": "code",
   "execution_count": 112,
   "id": "558fa5f3-10c4-48a9-86d6-14b26884747f",
   "metadata": {},
   "outputs": [
    {
     "data": {
      "text/plain": [
       "{1}"
      ]
     },
     "execution_count": 112,
     "metadata": {},
     "output_type": "execute_result"
    }
   ],
   "source": [
    "set1 = {1,2,3}\n",
    "set2 = {2,3,4,5,9}\n",
    "\n",
    "difference= set1.difference(set2)\n",
    "difference"
   ]
  },
  {
   "cell_type": "markdown",
   "id": "cab9bcb9-7a9d-4877-bf0c-61be65ef59e5",
   "metadata": {},
   "source": [
    "12. Check if a set is a subset of another set.\n"
   ]
  },
  {
   "cell_type": "code",
   "execution_count": 114,
   "id": "fbf97ea1-d725-4f1f-9605-316afef317b5",
   "metadata": {},
   "outputs": [
    {
     "data": {
      "text/plain": [
       "False"
      ]
     },
     "execution_count": 114,
     "metadata": {},
     "output_type": "execute_result"
    }
   ],
   "source": [
    "set1 = {1,2,3}\n",
    "set2 = {1,2}\n",
    "set3 = {1,5}\n",
    "\n",
    "is_subset = set2.issubset(set3)\n",
    "is_subset"
   ]
  },
  {
   "cell_type": "markdown",
   "id": "94f27cdc-6ad8-41a9-af16-6f2ba7fa0b43",
   "metadata": {},
   "source": [
    "13. Check if a set is a superset of another set"
   ]
  },
  {
   "cell_type": "code",
   "execution_count": 116,
   "id": "eef2745d-2292-4bd4-9fc4-e13047993031",
   "metadata": {},
   "outputs": [
    {
     "data": {
      "text/plain": [
       "False"
      ]
     },
     "execution_count": 116,
     "metadata": {},
     "output_type": "execute_result"
    }
   ],
   "source": [
    "set1 = {1,2,3}\n",
    "set2 = {1,2}\n",
    "set3 = {1,5}\n",
    "\n",
    "is_superset = set1.issuperset(set3)\n",
    "is_superset"
   ]
  },
  {
   "cell_type": "markdown",
   "id": "acd73e84-db60-4490-9392-95540384ee05",
   "metadata": {},
   "source": [
    "14. Create a set from a list"
   ]
  },
  {
   "cell_type": "code",
   "execution_count": 117,
   "id": "ed1b4088-6474-4812-ab22-ec146792643f",
   "metadata": {},
   "outputs": [
    {
     "data": {
      "text/plain": [
       "{1, 2, 3}"
      ]
     },
     "execution_count": 117,
     "metadata": {},
     "output_type": "execute_result"
    }
   ],
   "source": [
    "list1 = [1,2,3]\n",
    "set1 = set(list1)\n",
    "set1"
   ]
  },
  {
   "cell_type": "markdown",
   "id": "8bd6304a-9226-48a2-81e1-6bd1fe76e49d",
   "metadata": {},
   "source": [
    "15. Convert a set to a list.\n"
   ]
  },
  {
   "cell_type": "code",
   "execution_count": 118,
   "id": "58906bed-8ea6-4945-87e8-c34531912f63",
   "metadata": {},
   "outputs": [
    {
     "data": {
      "text/plain": [
       "[1, 2, 3]"
      ]
     },
     "execution_count": 118,
     "metadata": {},
     "output_type": "execute_result"
    }
   ],
   "source": [
    "set1 = {1,2,3}\n",
    "list1 = list(set1)\n",
    "list1"
   ]
  },
  {
   "cell_type": "markdown",
   "id": "20ff6826-ab0e-455c-a9b7-a1af33e956bb",
   "metadata": {},
   "source": [
    "16. Remove a random element from a set.\n"
   ]
  },
  {
   "cell_type": "code",
   "execution_count": 129,
   "id": "6cce77df-062c-4626-a3f9-2557142ce173",
   "metadata": {},
   "outputs": [
    {
     "data": {
      "text/plain": [
       "{0, 3, 4}"
      ]
     },
     "execution_count": 129,
     "metadata": {},
     "output_type": "execute_result"
    }
   ],
   "source": [
    "set1 = {0,2,3,4}\n",
    "random_element = random.choice(list(set1))\n",
    "set1.remove(random_element)\n",
    "set1"
   ]
  },
  {
   "cell_type": "markdown",
   "id": "4d1d8a19-0c25-4f28-805b-b5296ed0e5a5",
   "metadata": {},
   "source": [
    "17. Pop an element from a set.\n"
   ]
  },
  {
   "cell_type": "code",
   "execution_count": 130,
   "id": "e73acd55-71c0-4eed-8d21-54744e391067",
   "metadata": {},
   "outputs": [
    {
     "data": {
      "text/plain": [
       "{2, 3}"
      ]
     },
     "execution_count": 130,
     "metadata": {},
     "output_type": "execute_result"
    }
   ],
   "source": [
    "set1 = {1,2,3}\n",
    "set1.pop()\n",
    "set1"
   ]
  },
  {
   "cell_type": "markdown",
   "id": "2851b304-3d77-44d3-9119-2793fe99b900",
   "metadata": {},
   "source": [
    "18. Check if two sets have no elements in common."
   ]
  },
  {
   "cell_type": "code",
   "execution_count": 131,
   "id": "c7fbc786-ab6d-444f-bb1e-6c655182d0a5",
   "metadata": {},
   "outputs": [
    {
     "name": "stdout",
     "output_type": "stream",
     "text": [
      "Common elements are there\n",
      "No common element\n"
     ]
    }
   ],
   "source": [
    "def check_common_elements(set1,set2):\n",
    "    common_elements = set1.intersection(set2)\n",
    "    if len(common_elements)==0:\n",
    "        print(\"No common element\")\n",
    "    else:\n",
    "        print(\"Common elements are there\")\n",
    "        \n",
    "set1 = {1,2,3}\n",
    "set2 = {2,3,4}\n",
    "set3 = {5,6,7}\n",
    "\n",
    "check_common_elements(set1, set2)\n",
    "check_common_elements(set1, set3)\n",
    "    "
   ]
  },
  {
   "cell_type": "markdown",
   "id": "633e8ed8-c423-4ba8-bdfb-100275829276",
   "metadata": {},
   "source": [
    "19. Find the symmetric difference between two sets.\n"
   ]
  },
  {
   "cell_type": "code",
   "execution_count": 132,
   "id": "287fbf74-78f5-46af-ad52-c0e19c898dcd",
   "metadata": {},
   "outputs": [
    {
     "data": {
      "text/plain": [
       "{1, 4}"
      ]
     },
     "execution_count": 132,
     "metadata": {},
     "output_type": "execute_result"
    }
   ],
   "source": [
    "set1 = {1,2,3}\n",
    "set2 = {2,3,4}\n",
    "\n",
    "symmetric_diff = set1^set2\n",
    "symmetric_diff"
   ]
  },
  {
   "cell_type": "markdown",
   "id": "fa27bdda-43d1-442c-bc8e-3db6db9af421",
   "metadata": {},
   "source": [
    "20. Update a set with elements from another set.\n"
   ]
  },
  {
   "cell_type": "code",
   "execution_count": 133,
   "id": "ad42f2cc-8190-494c-87fe-8d6043f26b4e",
   "metadata": {},
   "outputs": [
    {
     "data": {
      "text/plain": [
       "{1, 2, 3, 4}"
      ]
     },
     "execution_count": 133,
     "metadata": {},
     "output_type": "execute_result"
    }
   ],
   "source": [
    "set1 = {1,2,3}\n",
    "set2 = {2,3,4}\n",
    "\n",
    "set1.update(set2)\n",
    "set1"
   ]
  },
  {
   "cell_type": "markdown",
   "id": "62559729-7673-409a-9a44-7c7f89ffbca0",
   "metadata": {},
   "source": [
    "21. Create a set of the first 5 prime numbers.\n"
   ]
  },
  {
   "cell_type": "code",
   "execution_count": 143,
   "id": "c30c3465-96be-425a-9b05-54269e353b6c",
   "metadata": {},
   "outputs": [
    {
     "data": {
      "text/plain": [
       "{2, 3, 5, 7, 11}"
      ]
     },
     "execution_count": 143,
     "metadata": {},
     "output_type": "execute_result"
    }
   ],
   "source": [
    "def is_prime(num):\n",
    "    if num <= 1:\n",
    "        return False\n",
    "    for i in range(2, int(num ** 0.5) + 1):\n",
    "        if num % i == 0:\n",
    "            return False\n",
    "    return True\n",
    "\n",
    "prime_list = [num for num in range(20) if is_prime(num)][:5]\n",
    "prime_set = set(prime_list)\n",
    "prime_set"
   ]
  },
  {
   "cell_type": "markdown",
   "id": "49ced275-dfbd-448c-aa69-51fbd89e7377",
   "metadata": {},
   "source": [
    "22. Check if two sets are identical."
   ]
  },
  {
   "cell_type": "code",
   "execution_count": 144,
   "id": "7e623e47-9fd4-49e7-84fe-46afce7d4b0f",
   "metadata": {},
   "outputs": [
    {
     "name": "stdout",
     "output_type": "stream",
     "text": [
      "Sets are identical\n",
      "Sets are not identical\n"
     ]
    }
   ],
   "source": [
    "def check_identical_sets(set1, set2):\n",
    "    if set1==set2:\n",
    "        print(\"Sets are identical\")\n",
    "    else:\n",
    "        print(\"Sets are not identical\")\n",
    "        \n",
    "set1 = {1,2,2,3}\n",
    "set2 = {2,3,1}\n",
    "set3 = {2,3,4}\n",
    "\n",
    "check_identical_sets(set1, set2)\n",
    "check_identical_sets(set1, set3)"
   ]
  },
  {
   "cell_type": "markdown",
   "id": "353cf172-062b-48bb-9c63-110a0a46a752",
   "metadata": {},
   "source": [
    "23. Create a frozen set.\n"
   ]
  },
  {
   "cell_type": "code",
   "execution_count": 145,
   "id": "9007f7c8-bfae-401b-9b91-0cdd5c2ecdb7",
   "metadata": {},
   "outputs": [
    {
     "data": {
      "text/plain": [
       "frozenset({1, 2, 3})"
      ]
     },
     "execution_count": 145,
     "metadata": {},
     "output_type": "execute_result"
    }
   ],
   "source": [
    "list1 = [1,2,3]\n",
    "\n",
    "frozen_set = frozenset(list1)\n",
    "frozen_set"
   ]
  },
  {
   "cell_type": "markdown",
   "id": "db64d78f-a3ec-4826-8f9a-c08a84131e1b",
   "metadata": {},
   "source": [
    "24. Check if a set is disjoint with another set."
   ]
  },
  {
   "cell_type": "code",
   "execution_count": 148,
   "id": "37c55155-d641-4ee7-9ca1-687e935c7a12",
   "metadata": {},
   "outputs": [
    {
     "data": {
      "text/plain": [
       "True"
      ]
     },
     "execution_count": 148,
     "metadata": {},
     "output_type": "execute_result"
    }
   ],
   "source": [
    "        \n",
    "set1 = {1,2,3}\n",
    "set2 = {2,3,4}\n",
    "set3 = {5,6,7}\n",
    "\n",
    "disjoint = set1.isdisjoint(set3)\n",
    "disjoint"
   ]
  },
  {
   "cell_type": "markdown",
   "id": "347aa4d8-7088-413a-8bc4-86c775b065a7",
   "metadata": {},
   "source": [
    "25. Create a set of squares of numbers from 1 to 5.\n"
   ]
  },
  {
   "cell_type": "code",
   "execution_count": 149,
   "id": "f7b170a1-6c6a-48c4-a725-d4eb854325e2",
   "metadata": {},
   "outputs": [
    {
     "data": {
      "text/plain": [
       "{1, 4, 9, 16, 25}"
      ]
     },
     "execution_count": 149,
     "metadata": {},
     "output_type": "execute_result"
    }
   ],
   "source": [
    "set_sq = {i*i for i in range(1,6)}\n",
    "set_sq"
   ]
  },
  {
   "cell_type": "markdown",
   "id": "3ed01d94-7de6-4bb0-bc05-71c196a10dce",
   "metadata": {},
   "source": [
    "26. Filter out all even numbers from a set.\n"
   ]
  },
  {
   "cell_type": "code",
   "execution_count": 153,
   "id": "3dfa614c-712e-4d8c-8920-e949ca8f1f0b",
   "metadata": {},
   "outputs": [
    {
     "data": {
      "text/plain": [
       "{2, 4, 6, 8}"
      ]
     },
     "execution_count": 153,
     "metadata": {},
     "output_type": "execute_result"
    }
   ],
   "source": [
    "set1 = {1,2,3,4,45,6,8}\n",
    "even_set = {i for i in list(set1) if i%2==0}\n",
    "even_set"
   ]
  },
  {
   "cell_type": "markdown",
   "id": "c6934410-b0ec-4dcd-96e8-7a5e39933207",
   "metadata": {},
   "source": [
    "27. Multiply all elements in a set by 2."
   ]
  },
  {
   "cell_type": "code",
   "execution_count": 154,
   "id": "e38de92c-eeb0-4a76-b78f-64a3f3a89f6b",
   "metadata": {},
   "outputs": [
    {
     "data": {
      "text/plain": [
       "{2, 4, 6, 8, 12, 16, 90}"
      ]
     },
     "execution_count": 154,
     "metadata": {},
     "output_type": "execute_result"
    }
   ],
   "source": [
    "set1 = {1,2,3,4,45,6,8}\n",
    "mult_set = {i*2 for i in list(set1)}\n",
    "mult_set"
   ]
  },
  {
   "cell_type": "markdown",
   "id": "ef8c03db-6eb9-41e1-a512-10f7d89a6307",
   "metadata": {},
   "source": [
    "28. Create a set of random numbers."
   ]
  },
  {
   "cell_type": "code",
   "execution_count": 155,
   "id": "34d2564c-846b-4969-9997-c5b451f1f56c",
   "metadata": {},
   "outputs": [
    {
     "data": {
      "text/plain": [
       "{17, 23, 29, 31, 39, 66, 85, 86, 99}"
      ]
     },
     "execution_count": 155,
     "metadata": {},
     "output_type": "execute_result"
    }
   ],
   "source": [
    "import random\n",
    "random_set = {random.randint(1,100) for i in range(10)}\n",
    "random_set"
   ]
  },
  {
   "cell_type": "markdown",
   "id": "ed35a91f-f7b3-45fb-ab57-586d354e3547",
   "metadata": {},
   "source": [
    "29. Check if a set is empty.\n"
   ]
  },
  {
   "cell_type": "code",
   "execution_count": 159,
   "id": "8ab3ebc0-313d-497f-99da-18f8fc1cd12d",
   "metadata": {},
   "outputs": [
    {
     "name": "stdout",
     "output_type": "stream",
     "text": [
      "Empty set\n",
      "Not empty\n"
     ]
    }
   ],
   "source": [
    "def check_empty_set(set1):\n",
    "    if len(set1)==0:\n",
    "        print(\"Empty set\")\n",
    "    else:\n",
    "        print(\"Not empty\")\n",
    "    \n",
    "set1 = set()\n",
    "set2 = {1,2}\n",
    "check_empty_set(set1)\n",
    "check_empty_set(set2)"
   ]
  },
  {
   "cell_type": "markdown",
   "id": "04e645a8-f5f1-45ca-b107-81e41f14602f",
   "metadata": {},
   "source": [
    "30. Create a nested set (hint: use frozenset).\n"
   ]
  },
  {
   "cell_type": "code",
   "execution_count": 164,
   "id": "e88982d6-a25b-4191-9d12-f52392390774",
   "metadata": {},
   "outputs": [
    {
     "data": {
      "text/plain": [
       "{frozenset({3, 4}), frozenset({1, 2})}"
      ]
     },
     "execution_count": 164,
     "metadata": {},
     "output_type": "execute_result"
    }
   ],
   "source": [
    "set1 = {1,2}\n",
    "set2 = {3,4}\n",
    "frozen_set1 = frozenset(set1)\n",
    "frozen_set2 = frozenset(set2)\n",
    "nested_set  = {frozen_set1, frozen_set2}\n",
    "nested_set"
   ]
  },
  {
   "cell_type": "markdown",
   "id": "ea9adbbf-3bdc-4eeb-bc1e-87e31472e2ea",
   "metadata": {},
   "source": [
    "31. Remove an element from a set using the discard method."
   ]
  },
  {
   "cell_type": "code",
   "execution_count": 165,
   "id": "ab4586c0-a523-4d3b-8a60-3cc43005d70b",
   "metadata": {},
   "outputs": [
    {
     "data": {
      "text/plain": [
       "{1, 2, 4, 5}"
      ]
     },
     "execution_count": 165,
     "metadata": {},
     "output_type": "execute_result"
    }
   ],
   "source": [
    "set1 = {1,2,3,4,5}\n",
    "set1.discard(3)\n",
    "set1"
   ]
  },
  {
   "cell_type": "markdown",
   "id": "30c9133b-28cb-4553-aa13-f20509257563",
   "metadata": {},
   "source": [
    "32. Compare two sets.\n"
   ]
  },
  {
   "cell_type": "code",
   "execution_count": 166,
   "id": "5a4e3318-7c18-4d83-9494-c8ccb1deb533",
   "metadata": {},
   "outputs": [
    {
     "name": "stdout",
     "output_type": "stream",
     "text": [
      "Set 1: {1, 2, 3, 4, 5}\n",
      "Set 2: {4, 5, 6, 7, 8}\n",
      "Is set1 a subset of set2? False\n",
      "Is set2 a subset of set1? False\n",
      "Intersection: {4, 5}\n",
      "Union: {1, 2, 3, 4, 5, 6, 7, 8}\n",
      "Elements in set1 but not in set2: {1, 2, 3}\n",
      "Elements in set2 but not in set1: {8, 6, 7}\n"
     ]
    }
   ],
   "source": [
    "set1 = {1, 2, 3, 4, 5}\n",
    "set2 = {4, 5, 6, 7, 8}\n",
    "\n",
    "# Check if set1 is a subset of set2\n",
    "is_subset = set1.issubset(set2)\n",
    "\n",
    "# Check if set2 is a subset of set1\n",
    "is_superset = set1.issuperset(set2)\n",
    "\n",
    "# Find the intersection of the sets\n",
    "intersection = set1.intersection(set2)\n",
    "\n",
    "# Find the union of the sets\n",
    "union = set1.union(set2)\n",
    "\n",
    "# Find the elements that are in set1 but not in set2\n",
    "difference1 = set1.difference(set2)\n",
    "\n",
    "# Find the elements that are in set2 but not in set1\n",
    "difference2 = set2.difference(set1)\n",
    "\n",
    "print(\"Set 1:\", set1)\n",
    "print(\"Set 2:\", set2)\n",
    "print(\"Is set1 a subset of set2?\", is_subset)\n",
    "print(\"Is set2 a subset of set1?\", is_superset)\n",
    "print(\"Intersection:\", intersection)\n",
    "print(\"Union:\", union)\n",
    "print(\"Elements in set1 but not in set2:\", difference1)\n",
    "print(\"Elements in set2 but not in set1:\", difference2)"
   ]
  },
  {
   "cell_type": "markdown",
   "id": "a01d665d-a03b-451b-84d9-f35799893da7",
   "metadata": {},
   "source": [
    "33. Create a set from a string.\n"
   ]
  },
  {
   "cell_type": "code",
   "execution_count": 167,
   "id": "d0ce601a-e368-4379-ba11-58a957486a01",
   "metadata": {},
   "outputs": [
    {
     "data": {
      "text/plain": [
       "{'What', 'is', 'name', 'your'}"
      ]
     },
     "execution_count": 167,
     "metadata": {},
     "output_type": "execute_result"
    }
   ],
   "source": [
    "string = \"What is your name\"\n",
    "set_from_string = set(string.split())\n",
    "set_from_string"
   ]
  },
  {
   "cell_type": "markdown",
   "id": "e97b24ac-9f34-43ff-a3e6-a4e41b878961",
   "metadata": {},
   "source": [
    "34. Convert a set of strings to a set of integers."
   ]
  },
  {
   "cell_type": "code",
   "execution_count": 168,
   "id": "cc79e711-3ee8-485e-bf13-78755c13143a",
   "metadata": {},
   "outputs": [
    {
     "data": {
      "text/plain": [
       "{1, 2, 3}"
      ]
     },
     "execution_count": 168,
     "metadata": {},
     "output_type": "execute_result"
    }
   ],
   "source": [
    "set_of_string = {'1', '2', '3'}\n",
    "set_of_integers = {int(i) for i in set_of_string}\n",
    "set_of_integers "
   ]
  },
  {
   "cell_type": "markdown",
   "id": "09422d83-be41-4f89-b530-8275b4fc5df7",
   "metadata": {},
   "source": [
    "35. Convert a set of integers to a set of strings.\n"
   ]
  },
  {
   "cell_type": "code",
   "execution_count": 169,
   "id": "a061e13e-04f4-4ecd-b96d-73528ba9ac7e",
   "metadata": {},
   "outputs": [
    {
     "data": {
      "text/plain": [
       "{'1', '2', '3'}"
      ]
     },
     "execution_count": 169,
     "metadata": {},
     "output_type": "execute_result"
    }
   ],
   "source": [
    "set_of_integers = {1, 2, 3}\n",
    "set_of_string = {str(i) for i in set_of_integers}\n",
    "set_of_string"
   ]
  },
  {
   "cell_type": "markdown",
   "id": "b422f569-9ead-47df-b70f-d8beb2b1890d",
   "metadata": {},
   "source": [
    "36. Create a set from a tuple.\n"
   ]
  },
  {
   "cell_type": "code",
   "execution_count": 170,
   "id": "cd1eb4f8-e965-4a8f-8be1-a4884e47c12d",
   "metadata": {},
   "outputs": [
    {
     "data": {
      "text/plain": [
       "{1, 2, 3}"
      ]
     },
     "execution_count": 170,
     "metadata": {},
     "output_type": "execute_result"
    }
   ],
   "source": [
    "tuple1 = (1,2,3)\n",
    "set1 = set(tuple1)\n",
    "set1"
   ]
  },
  {
   "cell_type": "markdown",
   "id": "dbbabe83-3933-40e1-aa85-81c05931133e",
   "metadata": {},
   "source": [
    "37. Convert a set to a tuple.\n"
   ]
  },
  {
   "cell_type": "code",
   "execution_count": 171,
   "id": "ceb01377-cee5-4eeb-b953-24e3de17b2f8",
   "metadata": {},
   "outputs": [
    {
     "data": {
      "text/plain": [
       "(1, 2, 3)"
      ]
     },
     "execution_count": 171,
     "metadata": {},
     "output_type": "execute_result"
    }
   ],
   "source": [
    "set1 = {1,2,3}\n",
    "tuple1 = tuple(set1)\n",
    "tuple1"
   ]
  },
  {
   "cell_type": "markdown",
   "id": "c01d3cb2-20cd-4ce2-a180-a4a4a79fda57",
   "metadata": {},
   "source": [
    "38. Find the maximum value in a set"
   ]
  },
  {
   "cell_type": "code",
   "execution_count": 173,
   "id": "959e2d02-7a00-4335-80e4-a967d8d8b614",
   "metadata": {},
   "outputs": [
    {
     "data": {
      "text/plain": [
       "7"
      ]
     },
     "execution_count": 173,
     "metadata": {},
     "output_type": "execute_result"
    }
   ],
   "source": [
    "set1= {2,4,1,3,7}\n",
    "max_value = max(set1)\n",
    "max_value"
   ]
  },
  {
   "cell_type": "markdown",
   "id": "3fc8fb29-233f-4489-8ee5-c7c143673473",
   "metadata": {},
   "source": [
    "39. Find the minimum value in a set."
   ]
  },
  {
   "cell_type": "code",
   "execution_count": 175,
   "id": "6ceb39c0-bce7-4692-9a78-07dc2d30791a",
   "metadata": {},
   "outputs": [
    {
     "data": {
      "text/plain": [
       "1"
      ]
     },
     "execution_count": 175,
     "metadata": {},
     "output_type": "execute_result"
    }
   ],
   "source": [
    "set1= {2,4,1,3,7}\n",
    "min_value = min(set1)\n",
    "min_value"
   ]
  },
  {
   "cell_type": "markdown",
   "id": "aa2eeccb-1509-4215-915e-1b75f8c639c7",
   "metadata": {},
   "source": [
    "40. Create a set from user input."
   ]
  },
  {
   "cell_type": "code",
   "execution_count": 176,
   "id": "db496a9b-4d18-4b9b-91f3-8a78b685af0e",
   "metadata": {},
   "outputs": [
    {
     "name": "stdin",
     "output_type": "stream",
     "text": [
      "Enter elements with spaces in between elements 1 2 3 4 5 \n"
     ]
    },
    {
     "data": {
      "text/plain": [
       "{'1', '2', '3', '4', '5'}"
      ]
     },
     "execution_count": 176,
     "metadata": {},
     "output_type": "execute_result"
    }
   ],
   "source": [
    "user_input = input(\"Enter elements with spaces in between elements\")\n",
    "user_input_set = set(user_input.split())\n",
    "user_input_set"
   ]
  },
  {
   "cell_type": "markdown",
   "id": "0bb95d6b-3d8e-4454-ae8c-4e9b43fc2a7b",
   "metadata": {},
   "source": [
    "41. Check if the intersection of two sets is empty.\n"
   ]
  },
  {
   "cell_type": "code",
   "execution_count": 177,
   "id": "9890017f-a2a2-4d74-839f-99f969d47f04",
   "metadata": {},
   "outputs": [
    {
     "name": "stdout",
     "output_type": "stream",
     "text": [
      "Intersection is not empty\n",
      "Intersection is empty\n"
     ]
    }
   ],
   "source": [
    "def empty_intersection(set1,set2):\n",
    "    common_elements = set1.intersection(set2)\n",
    "    if len(common_elements)==0:\n",
    "        print(\"Intersection is empty\")\n",
    "    else:\n",
    "        print(\"Intersection is not empty\")\n",
    "        \n",
    "set1 = {1,2,3}\n",
    "set2 = {2,3,4}\n",
    "set3 = {5,6,7}\n",
    "\n",
    "empty_intersection(set1, set2)\n",
    "empty_intersection(set1, set3)"
   ]
  },
  {
   "cell_type": "markdown",
   "id": "2d112c31-09fe-44b5-9c1b-813352de2750",
   "metadata": {},
   "source": [
    "42. Create a set of the first 5 Fibonacci numbers."
   ]
  },
  {
   "cell_type": "code",
   "execution_count": 178,
   "id": "b991f3c9-87f1-4168-9e1f-96c94ec3793d",
   "metadata": {},
   "outputs": [
    {
     "data": {
      "text/plain": [
       "{0, 1, 2, 3, 5}"
      ]
     },
     "execution_count": 178,
     "metadata": {},
     "output_type": "execute_result"
    }
   ],
   "source": [
    "fibonacci_set = set()\n",
    "a,b = 0,1\n",
    "for i in range(6):\n",
    "    fibonacci_set.add(a)\n",
    "    a,b = b, a+b\n",
    "fibonacci_set"
   ]
  },
  {
   "cell_type": "markdown",
   "id": "5d09e757-866f-4e58-ab7d-23feb8a0381f",
   "metadata": {},
   "source": [
    "43. Remove duplicates from a list using sets.\n"
   ]
  },
  {
   "cell_type": "code",
   "execution_count": 179,
   "id": "abe73670-c88f-4253-8b17-6ab7d41d9692",
   "metadata": {},
   "outputs": [
    {
     "data": {
      "text/plain": [
       "[1, 2, 3, 4, 5, 6]"
      ]
     },
     "execution_count": 179,
     "metadata": {},
     "output_type": "execute_result"
    }
   ],
   "source": [
    "list1 = [1,2,2,2,3,3,4,4,5,5,5,5,6]\n",
    "set1 = set(list1)\n",
    "list_without_duplicates = list(set1)\n",
    "list_without_duplicates"
   ]
  },
  {
   "cell_type": "markdown",
   "id": "b81420cc-72f1-45cb-8fcd-82d78c953d7b",
   "metadata": {},
   "source": [
    "44. Check if two sets have the same elements, regardless of their count.\n"
   ]
  },
  {
   "cell_type": "code",
   "execution_count": 180,
   "id": "23b4e060-87a9-4038-a6c7-7daff87c5469",
   "metadata": {},
   "outputs": [
    {
     "name": "stdout",
     "output_type": "stream",
     "text": [
      "Have same elements\n",
      "Doesn't have same elements\n"
     ]
    }
   ],
   "source": [
    "def check_same_elements(set1, set2):\n",
    "    if set1 == set2:\n",
    "        print(\"Have same elements\")\n",
    "    else:\n",
    "        print(\"Doesn't have same elements\")\n",
    "set1={1,2,3,3,3,2,1}\n",
    "set2 ={1,2,3}\n",
    "set3={2,3,4}\n",
    "check_same_elements(set1, set2)\n",
    "check_same_elements(set1, set3)"
   ]
  },
  {
   "cell_type": "markdown",
   "id": "9dbf8c07-ee34-4f72-b8ca-dc1cec44ffb2",
   "metadata": {},
   "source": [
    "45. Create a set of the first `n` powers of 2.\n"
   ]
  },
  {
   "cell_type": "code",
   "execution_count": 181,
   "id": "7514129d-24d8-4ce7-a398-feb90af7f3a6",
   "metadata": {},
   "outputs": [
    {
     "data": {
      "text/plain": [
       "{1, 2, 4, 8, 16}"
      ]
     },
     "execution_count": 181,
     "metadata": {},
     "output_type": "execute_result"
    }
   ],
   "source": [
    "def set_powers(n):\n",
    "    set1 = {2**n for n in range(n)}\n",
    "    return set1\n",
    "set_powers(5)\n",
    "    "
   ]
  },
  {
   "cell_type": "markdown",
   "id": "8c78659d-5220-45a1-b1db-b5522bce448b",
   "metadata": {},
   "source": [
    "46. Find the common elements between a set and a list.\n"
   ]
  },
  {
   "cell_type": "code",
   "execution_count": 183,
   "id": "2e17ed21-4b1e-4d56-99bf-8e42816a8a22",
   "metadata": {},
   "outputs": [
    {
     "data": {
      "text/plain": [
       "{1, 2, 3}"
      ]
     },
     "execution_count": 183,
     "metadata": {},
     "output_type": "execute_result"
    }
   ],
   "source": [
    "set1 = {1,2,3,6,7}\n",
    "list1 = [1,2,3,4,5]\n",
    "list1_set = set(list1)\n",
    "\n",
    "common_elements = set1.intersection(list1_set)\n",
    "common_elements"
   ]
  },
  {
   "cell_type": "markdown",
   "id": "798977bf-71da-4d06-860b-d7d527ddf2da",
   "metadata": {},
   "source": [
    "47. Create a set of the first `n` triangular numbers."
   ]
  },
  {
   "cell_type": "code",
   "execution_count": 186,
   "id": "7f64f563-1f97-45d8-a510-7f9f148a9498",
   "metadata": {},
   "outputs": [
    {
     "data": {
      "text/plain": [
       "{1, 3, 6, 10, 15, 21}"
      ]
     },
     "execution_count": 186,
     "metadata": {},
     "output_type": "execute_result"
    }
   ],
   "source": [
    "n=7\n",
    "set_trian_nums = {i*(i+1)//2 for i in range(1,n)}\n",
    "set_trian_nums"
   ]
  },
  {
   "cell_type": "markdown",
   "id": "58d14d09-e84e-4213-80df-665c9070636c",
   "metadata": {},
   "source": [
    "48. Check if a set contains another set as a subset."
   ]
  },
  {
   "cell_type": "code",
   "execution_count": 188,
   "id": "d8a5dc38-92f0-471e-9bcf-13c6cc128689",
   "metadata": {},
   "outputs": [
    {
     "name": "stdout",
     "output_type": "stream",
     "text": [
      "No, set1 does not contain set2 as subset\n"
     ]
    }
   ],
   "source": [
    "set1 = {1,2,3,4}\n",
    "set2 = {2,3,9}\n",
    "\n",
    "if set2.issubset(set1):\n",
    "    print(\"Yes set1 contains set2 as subset\")\n",
    "else:\n",
    "    print(\"No, set1 does not contain set2 as subset\")\n",
    "    "
   ]
  },
  {
   "cell_type": "markdown",
   "id": "f3d9b9bd-4335-41a8-84e0-3886797c490d",
   "metadata": {},
   "source": [
    "49. Create a set of alternating 1s and 0s of length `n`.\n"
   ]
  },
  {
   "cell_type": "code",
   "execution_count": 189,
   "id": "b66a9755-376a-41fb-b2a1-0ecb243ab03c",
   "metadata": {},
   "outputs": [
    {
     "data": {
      "text/plain": [
       "{0, 1}"
      ]
     },
     "execution_count": 189,
     "metadata": {},
     "output_type": "execute_result"
    }
   ],
   "source": [
    "n = 10\n",
    "set1 = {i%2 for i in range(n)}\n",
    "set1"
   ]
  },
  {
   "cell_type": "markdown",
   "id": "ec9abc9a-8eb5-4a98-8e03-cb554ab2a0b9",
   "metadata": {},
   "source": [
    "50. Merge multiple sets into one.\n"
   ]
  },
  {
   "cell_type": "code",
   "execution_count": 191,
   "id": "c7e1ecc5-4818-486c-a3f5-78d9b3dd4b8d",
   "metadata": {},
   "outputs": [
    {
     "data": {
      "text/plain": [
       "{1, 2, 3, 4, 5, 6, 7, 8, 9, 10, 11, 12}"
      ]
     },
     "execution_count": 191,
     "metadata": {},
     "output_type": "execute_result"
    }
   ],
   "source": [
    "set1={1,2,3}\n",
    "set2 = {2,3,4,5,6}\n",
    "set3 = {6,7,8,9}\n",
    "set4 = {10,11,12}\n",
    "\n",
    "merged_set = set1.union(set2, set3, set4)\n",
    "merged_set"
   ]
  }
 ],
 "metadata": {
  "kernelspec": {
   "display_name": "Python 3 (ipykernel)",
   "language": "python",
   "name": "python3"
  },
  "language_info": {
   "codemirror_mode": {
    "name": "ipython",
    "version": 3
   },
   "file_extension": ".py",
   "mimetype": "text/x-python",
   "name": "python",
   "nbconvert_exporter": "python",
   "pygments_lexer": "ipython3",
   "version": "3.10.8"
  }
 },
 "nbformat": 4,
 "nbformat_minor": 5
}
