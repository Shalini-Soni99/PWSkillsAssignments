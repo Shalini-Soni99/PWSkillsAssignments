{
 "cells": [
  {
   "cell_type": "markdown",
   "id": "15a7a8e8-ed1f-4953-a2c4-3c95fc5b184c",
   "metadata": {},
   "source": [
    "Problem 1: Bank Account Create a class representing a bank account with attributes like account number, account holder name, and balance. Implement methods to deposit and withdraw money from the account."
   ]
  },
  {
   "cell_type": "code",
   "execution_count": 9,
   "id": "e0a9262f-d190-47ce-a6fc-9d22e11e0d27",
   "metadata": {},
   "outputs": [
    {
     "name": "stdin",
     "output_type": "stream",
     "text": [
      "Enter amount to be deposited:  455\n"
     ]
    },
    {
     "name": "stdout",
     "output_type": "stream",
     "text": [
      "Amount Deposited: 455.0\n",
      "Account number: 123456\n",
      "Account Holder's name: Shalini\n",
      "Account's Balance: 5455.0\n"
     ]
    },
    {
     "name": "stdin",
     "output_type": "stream",
     "text": [
      "Enter amount to be withdrawn:  725\n"
     ]
    },
    {
     "name": "stdout",
     "output_type": "stream",
     "text": [
      "\n",
      " You Withdrew: 725.0\n",
      "\n",
      " Net Available Balance = 4730.0\n"
     ]
    }
   ],
   "source": [
    "import logging \n",
    "logging.basicConfig(filename= 'oops_assgt.log', filemode ='w', level = logging.INFO)\n",
    "logging.info('Started')\n",
    "class bank_account:\n",
    "    def __init__(self, acc_num, name, bal):\n",
    "        self.acc_number = acc_num\n",
    "        self.acc_hol_name = name\n",
    "        self.balance = bal\n",
    "        \n",
    "    #Function to show info\n",
    "    def info(self):\n",
    "        print(\"Account number:\", self.acc_number)\n",
    "        print(\"Account Holder's name:\", self.acc_hol_name)\n",
    "        print(\"Account's Balance:\", self.balance)\n",
    "    \n",
    "    # Function to deposit amount\n",
    "    def deposit(self):\n",
    "        try:\n",
    "            amount = float(input(\"Enter amount to be deposited: \"))\n",
    "       \n",
    "            self.balance += amount\n",
    "            print(\"Amount Deposited:\", amount)\n",
    "            \n",
    "        except Exception as t:\n",
    "            logging.error('error while getting amount deposit input', t)\n",
    "            print(t)\n",
    "            \n",
    "    # Function to withdraw the amount\n",
    "    def withdraw(self):\n",
    "        try:\n",
    "            amount = float(input(\"Enter amount to be withdrawn: \"))\n",
    "\n",
    "            if self.balance >= amount:\n",
    "                self.balance -= amount\n",
    "                print(\"\\n You Withdrew:\", amount)\n",
    "            else:\n",
    "                print(\"\\n Insufficient balance  \")\n",
    "        except Exception as t: \n",
    "            logging.error('error while getting amount deposit input', t)\n",
    "            print(t)\n",
    "            \n",
    "    \n",
    "    # Function to display the amount\n",
    "    def display(self):\n",
    "        print(\"\\n Net Available Balance =\", self.balance)\n",
    "                  \n",
    "                  \n",
    "customer1 = bank_account(123456, 'Shalini', 5000) \n",
    "customer1.deposit()\n",
    "customer1.info()\n",
    "customer1.withdraw()\n",
    "customer1.display()\n",
    "logging.info('finished')"
   ]
  },
  {
   "cell_type": "markdown",
   "id": "4be07cfb-646e-4d16-8699-da8761fddbcd",
   "metadata": {},
   "source": [
    "Problem 2: Employee Management Create a class representing an employee with attributes like employee ID, name, and salary. Implement methods to calculate the yearly bonus and display employee details."
   ]
  },
  {
   "cell_type": "code",
   "execution_count": 19,
   "id": "c4f0f89b-3e31-428b-96ed-cb4d75ebc71c",
   "metadata": {},
   "outputs": [
    {
     "name": "stdout",
     "output_type": "stream",
     "text": [
      "Employee ID:  21334\n",
      "Employee name:  halini\n",
      "Employee Salary:  30000\n"
     ]
    },
    {
     "data": {
      "text/plain": [
       "29988.0"
      ]
     },
     "execution_count": 19,
     "metadata": {},
     "output_type": "execute_result"
    }
   ],
   "source": [
    "import logging\n",
    "logging.basicConfig(filename = 'oops_assgt', filemode = 'w', level= logging.INFO)\n",
    "\n",
    "class employee:\n",
    "    \n",
    "    def __init__(self, emp_id, name, salary):\n",
    "        self.employee_ID = emp_id\n",
    "        self.employee_name = name\n",
    "        self.employee_salary = salary\n",
    "        \n",
    "    def show_details(self):\n",
    "        print(\"Employee ID: \", self.employee_ID)\n",
    "        print(\"Employee name: \", self.employee_name)\n",
    "        print(\"Employee Salary: \", self.employee_salary)\n",
    "        \n",
    "    def yearly_bonus(self):\n",
    "        try: \n",
    "            bonus = (self.employee_salary * 8.33/100)*12\n",
    "            return bonus\n",
    "        except Exception as e:\n",
    "            print(e)\n",
    "    \n",
    "employee1 = employee(name = 'halini', salary = 30000, emp_id = '21334')\n",
    "employee1.show_details()\n",
    "employee1.yearly_bonus()\n",
    "    "
   ]
  },
  {
   "cell_type": "markdown",
   "id": "9c6fe30e-c32a-4d3c-b318-79a0dbfd19d2",
   "metadata": {},
   "source": [
    "Problem 3: Vehicle Rental Create a class representing a vehicle rental system. Implement methods to rent a vehicle, return a vehicle, and display available vehicles."
   ]
  },
  {
   "cell_type": "code",
   "execution_count": 2,
   "id": "08156db3-2a2d-46fe-98e2-232464ed36e1",
   "metadata": {},
   "outputs": [
    {
     "name": "stdout",
     "output_type": "stream",
     "text": [
      "Available vehicles: ['vehicle1', 'vehicle2', 'vehicle3', 'vehicle4']\n",
      "Rented Vehicle:  vehicle1\n",
      "Available vehicles: ['vehicle2', 'vehicle3', 'vehicle4']\n"
     ]
    },
    {
     "name": "stdin",
     "output_type": "stream",
     "text": [
      "Enter the vehicle to be returned vehicle1\n"
     ]
    },
    {
     "name": "stdout",
     "output_type": "stream",
     "text": [
      "Available vehicles: ['vehicle2', 'vehicle3', 'vehicle4', 'vehicle1']\n"
     ]
    }
   ],
   "source": [
    "import logging\n",
    "logging.basicConfig(filename = 'oops_assgt', filemode = 'w', level= logging.INFO)\n",
    "\n",
    "class rental:\n",
    "    \n",
    "    \n",
    "    def __init__(self):\n",
    "    \n",
    "        self.all_vehicles = ['vehicle1', 'vehicle2', 'vehicle3', 'vehicle4', 'vehicle5']\n",
    "        self.available_vehicles = ['vehicle1', 'vehicle2', 'vehicle3', 'vehicle4']\n",
    "    \n",
    "    def rent(self):\n",
    "        if len(self.available_vehicles)>0:\n",
    "            rented_vehicle = self.available_vehicles.pop(0)\n",
    "            print(\"Rented Vehicle: \", rented_vehicle)\n",
    "            print(\"Available vehicles:\", self.available_vehicles)\n",
    "        else:\n",
    "            print(\"No vehicle is available for rent\")\n",
    "            \n",
    "    def return_vehicle(self):\n",
    "        re_vehicle = input(\"Enter the vehicle to be returned\")\n",
    "        try:\n",
    "            if re_vehicle in self.all_vehicles:\n",
    "                if re_vehicle in self.available_vehicles:\n",
    "                    print(\"Incorrect name, this vehicle was not rented\")\n",
    "                else:\n",
    "                    self.available_vehicles.append(re_vehicle)\n",
    "                    print(\"Available vehicles:\", self.available_vehicles)\n",
    "        except Exception as e:\n",
    "            print(\"Incorrect name, kindly enter the correct name\")\n",
    "            \n",
    "    def show_available_vehicles(self):\n",
    "        print(\"Available vehicles:\", self.available_vehicles)\n",
    "        \n",
    "\n",
    "rental1 = rental()\n",
    "rental1.show_available_vehicles() \n",
    "rental1.rent()\n",
    "rental1.return_vehicle()\n",
    "\n",
    "logging.info(\"Successful\")"
   ]
  },
  {
   "cell_type": "markdown",
   "id": "749b2eae-cf51-4ae7-b1b2-cdab4c51939d",
   "metadata": {},
   "source": [
    "Problem 4: Library Catalog Create classes representing a library and a book. Implement methods to add books to the library, borrow books, and display available books."
   ]
  },
  {
   "cell_type": "code",
   "execution_count": 9,
   "id": "910bf798-1ed5-414c-b360-db50f0a738e1",
   "metadata": {},
   "outputs": [
    {
     "name": "stdout",
     "output_type": "stream",
     "text": [
      "Following books are available in the library:\n",
      "The Great gatsby\n",
      "The Lord of the rings\n",
      "You have borrowed:  The Great gatsby\n"
     ]
    }
   ],
   "source": [
    "class book:\n",
    "    \n",
    "    \n",
    "    def __init__(self, author, title):\n",
    "        self.author = author\n",
    "        self.title = title\n",
    "        \n",
    "    def show_book_details(self):\n",
    "        print(\"Book title: \", self.title)\n",
    "        print(\"Book author: \", self.author)\n",
    "        \n",
    "class library(book):\n",
    "    def __init__(self):\n",
    "        self.books = []\n",
    "    \n",
    "    def add_book(self, new_book):\n",
    "        self.books.append(new_book)\n",
    "        \n",
    "    def display_books(self):\n",
    "        if self.books:\n",
    "            print(\"Following books are available in the library:\")\n",
    "            for i in self.books:\n",
    "                print(i.title)\n",
    "            \n",
    "        else:\n",
    "            print(\"Sorry, we have no books available at the moment\")\n",
    "            \n",
    "    def borrow_books(self, needed_book):\n",
    "        if needed_book in self.books:\n",
    "            print(\"You have borrowed: \", needed_book.title)\n",
    "            self.books.remove(needed_book)\n",
    "        else:\n",
    "            print(\"Sorry, \", needed_book, \"is not avialable at the moement\")\n",
    "            \n",
    "book1 = book(\"F. Scott Fitzgerald\", \"The Great gatsby\")\n",
    "book2 = book(\"John Ronald Reuel Tolkien\", \"The Lord of the rings\")\n",
    "book3 = book(\"Harper lee\", \"To kill a Mockingbird\")\n",
    "book4 = book(\"Mark Twain\", \"The Adventures of Huckleberry Finn\")\n",
    "book5 = book(\"George Orwell\", \"1984\")\n",
    "\n",
    "library1 = library()\n",
    "library1.add_book(book1)\n",
    "library1.add_book(book2)\n",
    "library1.display_books()\n",
    "library1.borrow_books(book1)"
   ]
  },
  {
   "cell_type": "markdown",
   "id": "9e80e73b-61f4-4b58-b61b-e1b6c003c1f3",
   "metadata": {},
   "source": [
    "Problem 5: Product Inventory Create classes representing a product and an inventory system. Implement methods to add products to the inventory, update product quantity, and display available products."
   ]
  },
  {
   "cell_type": "code",
   "execution_count": 16,
   "id": "d49774e3-992e-431e-a1bd-13780b50c4f9",
   "metadata": {},
   "outputs": [
    {
     "name": "stdout",
     "output_type": "stream",
     "text": [
      "Following products are available in the inventory:\n",
      "Goodday Buiscuit\n",
      "Dark Fantasy\n",
      "Parley G\n",
      "You have:  20 Dark Fantasy\n"
     ]
    },
    {
     "name": "stdin",
     "output_type": "stream",
     "text": [
      "Updated quantity 5\n"
     ]
    }
   ],
   "source": [
    "#product class defining the product attributes and method to get the details and increase and decrease quantity\n",
    "class product:\n",
    "    def __init__(self, pid, price, quantity):\n",
    "        self.pid = pid \n",
    "        self.price = price\n",
    "        self.quantity = quantity\n",
    "\n",
    "    def __str__(self):\n",
    "        #Return the string representing the product\n",
    "        return \"Product ID: {}\\t Price: {}\\t Quantity: {}\\n\".format(self.pid, self.price, self.quantity)\n",
    "\n",
    "    def get_id(self):\n",
    "        #returns id \n",
    "        return self.pid\n",
    "\n",
    "    def get_price(self):\n",
    "        #returns price\n",
    "        return self.price\n",
    "\n",
    "    def get_quantity(self):\n",
    "        #returns quantity\n",
    "        return self.quantity\n",
    "\n",
    "    def increase_quantity(self):\n",
    "        self.quantity += 1\n",
    "\n",
    "    def decrease_quantity(self):\n",
    "        self.quantity -= 1 \n",
    "        \n",
    "product_1 = product('Goodday Buiscuit', 20, 10)\n",
    "product_2 = product('Dark Fantasy', 35, 20) \n",
    "product_3 = product('Parley G', 10, 20) \n",
    "\n",
    "class inventory(product):\n",
    "    def __init__(self, products):\n",
    "        self.products = products\n",
    "    \n",
    "    def add_product(self, new_product):\n",
    "        self.products.append(new_product)\n",
    "        \n",
    "    def display_products(self):\n",
    "        if self.products:\n",
    "            print(\"Following products are available in the inventory:\")\n",
    "            for i in self.products:\n",
    "                print(i.pid)\n",
    "            \n",
    "        else:\n",
    "            print(\"Sorry, we have no such prouct available at the moment\")\n",
    "            \n",
    "    def update_quantity(self, product):\n",
    "        if product in self.products:\n",
    "            print(\"You have: \", product.quantity, product.pid)\n",
    "            product.quanity = int(input(\"Updated quantity\"))\n",
    "        else:\n",
    "            print(\"Sorry, \", product, \"is not avialable in the inventory\")\n",
    "            \n",
    "inventory1 = inventory([product_1, product_2])\n",
    "inventory1.add_product(product_3)\n",
    "inventory1.display_products()\n",
    "inventory1.update_quantity(product_2)"
   ]
  },
  {
   "cell_type": "markdown",
   "id": "3ad4149e-6a7b-4101-92d5-47ea2a7a02ad",
   "metadata": {},
   "source": [
    "Problem 6: Shape Calculation Create a class representing a shape with attributes like length, width, and height. Implement methods to calculate the area and perimeter of the shape."
   ]
  },
  {
   "cell_type": "code",
   "execution_count": 5,
   "id": "7c0355f1-00da-41b2-b909-8401daf3758a",
   "metadata": {},
   "outputs": [
    {
     "name": "stdout",
     "output_type": "stream",
     "text": [
      "Area is:  148\n"
     ]
    }
   ],
   "source": [
    "import logging\n",
    "logging.basicConfig(filename = 'oops_assgt', filemode = 'w', level= logging.INFO)\n",
    "\n",
    "class shape:\n",
    "    def __init__(self, length, width, height):\n",
    "        self.length = length\n",
    "        self.width = width\n",
    "        self.height = height\n",
    "        \n",
    "    def area(self):\n",
    "        try: \n",
    "            area = 2*(self.length*self.width + self.width*self.height + self.height*self.length)\n",
    "            print(\"Area is: \", area)\n",
    "        except Exception:\n",
    "            print(\"Values entered are not correct\")\n",
    "        \n",
    "    def perimeter(self):\n",
    "        try:\n",
    "            perimeter = 4*(self.length + self.width + self.height)\n",
    "            print = (\"Perimeter is: \", perimeter)\n",
    "            \n",
    "        except Exception as e:\n",
    "            print(e)\n",
    "        \n",
    "shape1 = shape(4,5,6)\n",
    "shape1.area()"
   ]
  },
  {
   "cell_type": "markdown",
   "id": "c6050dd0-59bd-42ad-9156-7728ecb350ee",
   "metadata": {},
   "source": [
    "Problem 7: Student Management Create a class representing a student with attributes like student ID, name, and grades. Implement methods to calculate the average grade and display student details."
   ]
  },
  {
   "cell_type": "code",
   "execution_count": 46,
   "id": "b387e46b-673b-45f7-be2d-11cdf509c2db",
   "metadata": {},
   "outputs": [
    {
     "name": "stdout",
     "output_type": "stream",
     "text": [
      "Student ID:  1478\n",
      "Student Name:  Shalini\n",
      "Student Grades:  [23, 45, 67, 22, 88]\n"
     ]
    },
    {
     "data": {
      "text/plain": [
       "49.0"
      ]
     },
     "execution_count": 46,
     "metadata": {},
     "output_type": "execute_result"
    }
   ],
   "source": [
    "class student:\n",
    "    \n",
    "    def __init__(self, student_id, name, grades):\n",
    "        self.student_ID = student_id\n",
    "        self.student_name = name\n",
    "        self.student_grades = grades\n",
    "        \n",
    "    def show_details(self):\n",
    "        print(\"Student ID: \", self.student_ID)\n",
    "        print(\"Student Name: \",  self.student_name)\n",
    "        print(\"Student Grades: \", self.student_grades)\n",
    "        \n",
    "    def average(self):\n",
    "        try: \n",
    "            average = sum(self.student_grades)/len(self.student_grades)\n",
    "            return average\n",
    "        except Exception as e:\n",
    "            print(e)\n",
    "    \n",
    "student1 = student(name = 'Shalini', student_id = 1478, grades = [23,45,67,22,88])\n",
    "student1.show_details()\n",
    "student1.average()\n",
    "    "
   ]
  },
  {
   "cell_type": "markdown",
   "id": "a8140f9c-2e6e-44ea-a485-9734b87726e6",
   "metadata": {},
   "source": [
    "Problem 8: Email Management Create a class representing an email with attributes like sender, recipient, and subject. Implement methods to send an email and display email details."
   ]
  },
  {
   "cell_type": "code",
   "execution_count": 11,
   "id": "ec7afc04-583e-4198-8a10-360389908513",
   "metadata": {},
   "outputs": [
    {
     "data": {
      "text/plain": [
       "('Recipient: ', 'janvi', 'Subject: ', 'Invoice')"
      ]
     },
     "execution_count": 11,
     "metadata": {},
     "output_type": "execute_result"
    }
   ],
   "source": [
    "\n",
    "import logging\n",
    "logging.basicConfig(filename = 'oops_assgt', filemode = 'w', level= logging.INFO)\n",
    "class email:\n",
    "    \n",
    "    def __init__(self, sender, recipient, subject):\n",
    "        self.sender = sender\n",
    "        self.recipient = recipient \n",
    "        self.subject = subject \n",
    "        \n",
    "    def send(self):\n",
    "        return \"Sender: \", self.sender, \"Subject: \", self.subject\n",
    "        \n",
    "    def display(self):\n",
    "        return \"Recipient: \", self.recipient, \"Subject: \", self.subject\n",
    "    \n",
    "email1 = email('shalini', 'janvi', 'Invoice')\n",
    "email1.send()\n",
    "email1.display()\n",
    "        \n",
    "        \n",
    "    "
   ]
  },
  {
   "cell_type": "markdown",
   "id": "797ee7ab-ea5b-473a-983c-3d5506e35108",
   "metadata": {},
   "source": [
    "Problem 9: Social Media Profile Create a class representing a social media profile with attributes like username and posts. Implement methods to add posts, display posts, and search for posts by keyword."
   ]
  },
  {
   "cell_type": "code",
   "execution_count": 22,
   "id": "2b5d51d2-8333-4527-931c-2c15e38f7fb9",
   "metadata": {},
   "outputs": [
    {
     "name": "stdin",
     "output_type": "stream",
     "text": [
      "Enter the  name of the new post hello\n"
     ]
    },
    {
     "name": "stdout",
     "output_type": "stream",
     "text": [
      "['one', 'dog', 'smile', 'happy', 'nature', 'hello']\n"
     ]
    },
    {
     "name": "stdin",
     "output_type": "stream",
     "text": [
      "Input the name of the post to search happy\n"
     ]
    },
    {
     "data": {
      "text/plain": [
       "'happy'"
      ]
     },
     "execution_count": 22,
     "metadata": {},
     "output_type": "execute_result"
    }
   ],
   "source": [
    "class social_media:\n",
    "    \n",
    "    def __init__(self, username, posts):\n",
    "        self.username = username\n",
    "        self.posts = posts\n",
    "        \n",
    "    def add_posts(self):\n",
    "        new_post = input(\"Enter the  name of the new post\")\n",
    "        return self.posts.append(new_post)\n",
    "        \n",
    "    def display_posts(self):\n",
    "        print(self.posts)\n",
    "        \n",
    "    def search_posts(self):\n",
    "        post = input(\"Input the name of the post to search\")\n",
    "        if post in self.posts:\n",
    "            return post\n",
    "        else:\n",
    "            return \"Post not found\"\n",
    "        \n",
    "profile1 = social_media('shalini', ['one', 'dog', 'smile', 'happy', 'nature'])\n",
    "profile1.add_posts()\n",
    "profile1.display_posts()\n",
    "profile1.search_posts()\n",
    "        "
   ]
  },
  {
   "cell_type": "markdown",
   "id": "ad89ef20-286a-4d4c-a434-ca2f12d7b84b",
   "metadata": {},
   "source": [
    "Problem 10: ToDo List Create a class representing a ToDo list with attributes like tasks and due dates. Implement methods to add tasks, mark tasks as completed, and display pending tasks."
   ]
  },
  {
   "cell_type": "code",
   "execution_count": 24,
   "id": "f92b01d4-9020-4ba2-8f3d-e2498fe7e864",
   "metadata": {},
   "outputs": [
    {
     "name": "stdout",
     "output_type": "stream",
     "text": [
      "task 'Buy groceries' added with due date 2023-10-15.\n",
      "task 'Finish project report' added with due date 2023-10-20.\n",
      "task 'Call Mike' added with due date 2023-10-25.\n",
      "Pending Tasks:\n",
      "Task: Buy groceries, Due Date: 2023-10-15\n",
      "Task: Finish project report, Due Date: 2023-10-20\n",
      "Task: Call Mike, Due Date: 2023-10-25\n",
      "\n",
      "\n",
      "Task 'Buy groceries' marked as completed.\n",
      "Pending Tasks:\n",
      "Task: Finish project report, Due Date: 2023-10-20\n",
      "Task: Call Mike, Due Date: 2023-10-25\n"
     ]
    }
   ],
   "source": [
    "class ToDoList:\n",
    "    def __init__(self):\n",
    "        self.tasks={} # Dictionary to store tasks and their due dates\n",
    "        \n",
    "    def add_task(self, task, due_date):\n",
    "        self.tasks[task]=due_date\n",
    "        print(f\"task '{task}' added with due date {due_date}.\")\n",
    "        \n",
    "    def mark_task_completed(self, task):\n",
    "        if task in self.tasks:\n",
    "            del self.tasks[task]\n",
    "            print(f\"Task '{task}' marked as completed.\")\n",
    "        else:\n",
    "            print(f\"Task '{task}' not found in the ToDo list.\")\n",
    "            \n",
    "    def display_pending_tasks(self):\n",
    "        if not self.tasks:\n",
    "            print(\"No pending tasks.\")\n",
    "        else:\n",
    "            print(\"Pending Tasks:\")\n",
    "            for task, due_date in self.tasks.items():\n",
    "                print(f\"Task: {task}, Due Date: {due_date}\")\n",
    "                \n",
    "                \n",
    "todo_list1=ToDoList()\n",
    "    \n",
    "todo_list1.add_task(\"Buy groceries\", \"2023-10-15\")\n",
    "todo_list1.add_task(\"Finish project report\", \"2023-10-20\")\n",
    "todo_list1.add_task(\"Call Mike\", \"2023-10-25\")\n",
    "    \n",
    "todo_list1.display_pending_tasks()\n",
    "print(\"\\n\")\n",
    "todo_list1.mark_task_completed(\"Buy groceries\")\n",
    "todo_list1.display_pending_tasks()               \n"
   ]
  }
 ],
 "metadata": {
  "kernelspec": {
   "display_name": "Python 3 (ipykernel)",
   "language": "python",
   "name": "python3"
  },
  "language_info": {
   "codemirror_mode": {
    "name": "ipython",
    "version": 3
   },
   "file_extension": ".py",
   "mimetype": "text/x-python",
   "name": "python",
   "nbconvert_exporter": "python",
   "pygments_lexer": "ipython3",
   "version": "3.10.8"
  }
 },
 "nbformat": 4,
 "nbformat_minor": 5
}
