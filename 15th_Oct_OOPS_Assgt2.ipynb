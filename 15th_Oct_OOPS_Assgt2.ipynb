{
 "cells": [
  {
   "cell_type": "markdown",
   "id": "1fb85d7a-84fa-4154-9feb-a904cdb0264e",
   "metadata": {},
   "source": [
    "# Constructor:"
   ]
  },
  {
   "cell_type": "markdown",
   "id": "7e13550c-c39d-4a68-b42a-9bd7c5354588",
   "metadata": {},
   "source": [
    "1. What is a constructor in Python? Explain its purpose and usage."
   ]
  },
  {
   "cell_type": "markdown",
   "id": "023e3f39-1437-4eaa-9593-d0a4203604a5",
   "metadata": {},
   "source": [
    "Constructor in python is a special method that is called when an object is created. The purpose of a python constructor is to assign values to the data members within the class when an object is initialized. The name of the constructor method is always __init__.\n",
    "\n",
    "The __init__ method is commonly referred to as the “constructor” because it is responsible for constructing the object. It is called automatically when the object is created, and it is used to initialize the object’s attributes."
   ]
  },
  {
   "cell_type": "markdown",
   "id": "300a2e5b-a8a8-4808-a881-f198ac5c4ddd",
   "metadata": {},
   "source": [
    "2.  Differentiate between a parameterless constructor and a parameterized constructor in Python."
   ]
  },
  {
   "cell_type": "markdown",
   "id": "5233d826-a315-49b1-8db6-b80e4ed9f0b2",
   "metadata": {},
   "source": [
    "Parameterized Constructor: A parameterized constructor is a constructor that takes one or more arguments. It is used to create an object with custom values for its attributes.\n",
    "\n",
    "Non-Parameterized Constructor/Parameterless cunstructor: A non-parameterized constructor is a constructor that does not take any arguments. It is a special method in Python that is called when you create an instance of a class. The non-parameterized constructor is used to initialize the default values for the instance variables of the object."
   ]
  },
  {
   "cell_type": "markdown",
   "id": "269a357b-7b78-438e-ae96-16f7a2268eab",
   "metadata": {},
   "source": [
    "3. How do you define a constructor in a Python class? Provide an example."
   ]
  },
  {
   "cell_type": "markdown",
   "id": "844328ec-94c8-4268-9a5a-215d14250c37",
   "metadata": {},
   "source": [
    "In Python, a constructor is a special method that is called when an object is created. The purpose of a python constructor is to assign values to the data members within the class when an object is initialized."
   ]
  },
  {
   "cell_type": "code",
   "execution_count": 7,
   "id": "da23f7a1-2cb1-41e7-a5fa-aac01926ac39",
   "metadata": {},
   "outputs": [
    {
     "name": "stdout",
     "output_type": "stream",
     "text": [
      "Shalini\n"
     ]
    }
   ],
   "source": [
    "#Example:\n",
    "class student:\n",
    "    def __init__(self, name):\n",
    "        self.name = name\n",
    "        \n",
    "student1 = student(\"Shalini\")\n",
    "print(student1.name)"
   ]
  },
  {
   "cell_type": "markdown",
   "id": "31695a8f-3dab-4b46-a207-f68bbe461d24",
   "metadata": {},
   "source": [
    "4. Explain the `__init__` method in Python and its role in constructors."
   ]
  },
  {
   "cell_type": "markdown",
   "id": "4bb165e0-ab8e-425b-b130-c1d35010760e",
   "metadata": {},
   "source": [
    "The special method __init__ is the Python constructor. The __init__  function is called every time an object is created from a class. The __init__ method lets the class initialize the object’s attributes and serves no other purpose. It is only used within classes. "
   ]
  },
  {
   "cell_type": "markdown",
   "id": "43bf0ecf-b459-495e-b3e8-4eeb51da0836",
   "metadata": {},
   "source": [
    "5. In a class named `Person`, create a constructor that initializes the `name` and `age` attributes. Provide an\n",
    "example of creating an object of this class."
   ]
  },
  {
   "cell_type": "code",
   "execution_count": 9,
   "id": "1c5ff749-5cb9-4ea9-a69c-935da64f8f85",
   "metadata": {},
   "outputs": [],
   "source": [
    "#Creating the class named person\n",
    "class Person:\n",
    "    def __init__(self, name, age):\n",
    "        self.name = name\n",
    "        self.age = age\n",
    "        \n",
    "#Creating an object of Person class\n",
    "person1 = Person(\"Shalini\", \"23\")"
   ]
  },
  {
   "cell_type": "markdown",
   "id": "4f6903e2-654b-469e-8216-1d115ce580a8",
   "metadata": {},
   "source": [
    "6. How can you call a constructor explicitly in Python? Give an example."
   ]
  },
  {
   "cell_type": "markdown",
   "id": "fe540e74-a448-4789-a3e5-7291eac530cd",
   "metadata": {},
   "source": [
    "In Python, we can call a constructor explicitly by using the class name followed by parentheses.\n",
    "Constructors in Python are special methods named __init__. \n",
    "Here's an example of how to call a constructor explicitly:"
   ]
  },
  {
   "cell_type": "code",
   "execution_count": 11,
   "id": "cdcb9307-6597-460f-9811-c93a1fb0942d",
   "metadata": {},
   "outputs": [
    {
     "name": "stdout",
     "output_type": "stream",
     "text": [
      "Hello, World!\n"
     ]
    }
   ],
   "source": [
    "class MyClass:\n",
    "    def __init__(self, value):\n",
    "        self.value = value\n",
    "\n",
    "#Explicitly calling the constructor to create an instance of MyClass\n",
    "my_instance = MyClass(\"Hello, World!\")\n",
    "\n",
    "\n",
    "print(my_instance.value)"
   ]
  },
  {
   "cell_type": "markdown",
   "id": "508675d8-4528-4386-be36-979f67a48217",
   "metadata": {},
   "source": [
    "In this example, we define a class called MyClass with a constructor that takes one parameter value. \n",
    "To create an instance of MyClass and set the value attribute, we explicitly call the constructor by using the class name MyClass followed by parentheses, passing the required parameter. \n",
    "After creating the instance, we can access its attributes, as demonstrated by the print(my_instance.value) statement."
   ]
  },
  {
   "cell_type": "markdown",
   "id": "647b39db-b6b9-4665-a07c-0a4de96a5317",
   "metadata": {},
   "source": [
    "7. What is the significance of the `self` parameter in Python constructors? Explain with an example."
   ]
  },
  {
   "cell_type": "markdown",
   "id": "2ebd75a3-200d-45b9-bff2-4d1ac314472b",
   "metadata": {},
   "source": [
    "The self is used to represent the instance of the class. With this keyword, you can access the attributes and methods of the class in python. It binds the attributes with the given arguments."
   ]
  },
  {
   "cell_type": "code",
   "execution_count": 12,
   "id": "d6a32e6a-6cf9-48a7-af2d-c34f2eb1cf08",
   "metadata": {},
   "outputs": [],
   "source": [
    "#Example \n",
    "class MyClass:\n",
    "    def __init__(self, value): #Used self to bind the attribute \n",
    "        self.value = value\n",
    "        \n"
   ]
  },
  {
   "cell_type": "markdown",
   "id": "57d52308-50e1-472c-955f-5e0347534b6d",
   "metadata": {},
   "source": [
    "8. Discuss the concept of default constructors in Python. When are they used?"
   ]
  },
  {
   "cell_type": "markdown",
   "id": "e5e1bf3e-4d6d-4f72-a683-791eb093062c",
   "metadata": {},
   "source": [
    "Default Constructor: A default constructor is a constructor that takes no arguments. It is used to create an object with default values for its attributes."
   ]
  },
  {
   "cell_type": "markdown",
   "id": "9f5ef912-2cf9-4160-b2b6-63df827424dd",
   "metadata": {},
   "source": [
    "9. Create a Python class called `Rectangle` with a constructor that initializes the `width` and `height`\n",
    "attributes. Provide a method to calculate the area of the rectangle."
   ]
  },
  {
   "cell_type": "code",
   "execution_count": 31,
   "id": "d5ee42cd-2d67-4d3a-ac7d-bd2595e9f60c",
   "metadata": {},
   "outputs": [
    {
     "name": "stdout",
     "output_type": "stream",
     "text": [
      "6\n"
     ]
    }
   ],
   "source": [
    "class Rectangle:\n",
    "    def __init__(self, width, height):\n",
    "        self.width = width\n",
    "        self.height = height\n",
    "        \n",
    "    def area(self):\n",
    "        area1 = self.width*self.height\n",
    "        return area1\n",
    "        \n",
    "rect1 = Rectangle(2,3)\n",
    "print(rect1.area())"
   ]
  },
  {
   "cell_type": "markdown",
   "id": "4b50902a-f3e5-46b8-a443-02c0c7047cc4",
   "metadata": {},
   "source": [
    "10. How can you have multiple constructors in a Python class? Explain with an example."
   ]
  },
  {
   "cell_type": "markdown",
   "id": "36bd76de-dd7e-455b-83b9-8d23419d7231",
   "metadata": {},
   "source": [
    "We can have more than one constructor in a single Python class. This is known as “method overloading”. To do this, we need to use the same method name (in this case, the name of the method will be the same as the name of the class) but define the method with different numbers or types of arguments."
   ]
  },
  {
   "cell_type": "code",
   "execution_count": 35,
   "id": "e7d209a0-78dd-475a-957a-2824900ea0e1",
   "metadata": {},
   "outputs": [],
   "source": [
    "#Example\n",
    "class MyClass:\n",
    "    def __init__(self, arg1, arg2):\n",
    "        self.arg1 = arg1\n",
    "        self.arg2 = arg2\n",
    "        \n",
    "    def __init__(self, arg1):\n",
    "        self.arg1 = arg1\n",
    "        self.arg2 = None"
   ]
  },
  {
   "cell_type": "markdown",
   "id": "d156cd2d-5841-4d64-b0f9-6e88f1936b18",
   "metadata": {},
   "source": [
    "The first constructor takes two arguments and sets them as instance variables, while the second constructor takes only one argument and sets it as an instance variable. When you create an instance of the MyClass class, Python will use the appropriate constructor based on the number of arguments that you pass."
   ]
  },
  {
   "cell_type": "markdown",
   "id": "e44eece4-a7b2-40e8-b538-2d65f4d06a94",
   "metadata": {},
   "source": [
    "11. What is method overloading, and how is it related to constructors in Python?"
   ]
  },
  {
   "cell_type": "markdown",
   "id": "51501633-5d2b-4efa-b2f5-732f2b41ae75",
   "metadata": {},
   "source": [
    "Two or more methods have the same name but different numbers of parameters or different types of parameters, or both. These methods are called overloaded methods and this is called method overloading."
   ]
  },
  {
   "cell_type": "markdown",
   "id": "a2afe93e-d7f6-4fb9-acb8-fa9a5e736754",
   "metadata": {},
   "source": [
    "12. Explain the use of the `super()` function in Python constructors. Provide an example."
   ]
  },
  {
   "cell_type": "markdown",
   "id": "d11023b4-3f40-4586-85ec-a253ab492bbd",
   "metadata": {},
   "source": [
    "In Python, the super() function is used to refer to the parent class or superclass. It allows you to call methods defined in the superclass from the subclass, enabling you to extend and customize the functionality inherited from the parent class."
   ]
  },
  {
   "cell_type": "code",
   "execution_count": 1,
   "id": "cb140063-761a-4c3a-8891-4c2365bd86ee",
   "metadata": {},
   "outputs": [
    {
     "name": "stdout",
     "output_type": "stream",
     "text": [
      "The ID is: 103\n",
      "The Name is: Suraj kr gupta\n",
      "The Address is: Noida\n",
      "The Emails is: KKK@gmails\n"
     ]
    }
   ],
   "source": [
    "#Example\n",
    "class Emp():\n",
    "    def __init__(self, id, name, Add):\n",
    "        self.id = id\n",
    "        self.name = name\n",
    "        self.Add = Add\n",
    " \n",
    "#Class freelancer inherits EMP\n",
    "class Freelance(Emp):\n",
    "    def __init__(self, id, name, Add, Emails):\n",
    "        super().__init__(id, name, Add)\n",
    "        self.Emails = Emails\n",
    " \n",
    "Emp_1 = Freelance(103, \"Suraj kr gupta\", \"Noida\" , \"KKK@gmails\")\n",
    "print('The ID is:', Emp_1.id)\n",
    "print('The Name is:', Emp_1.name)\n",
    "print('The Address is:', Emp_1.Add)\n",
    "print('The Emails is:', Emp_1.Emails)"
   ]
  },
  {
   "cell_type": "markdown",
   "id": "1bf40f05-889c-4942-98f5-39ce0df571b7",
   "metadata": {},
   "source": [
    "13. Create a class called `Book` with a constructor that initializes the `title`, `author`, and `published_year`\n",
    "attributes. Provide a method to display book details."
   ]
  },
  {
   "cell_type": "code",
   "execution_count": 2,
   "id": "23ee5a30-c343-475a-9a3a-df0e869d1fc8",
   "metadata": {},
   "outputs": [
    {
     "name": "stdout",
     "output_type": "stream",
     "text": [
      "Title:  1984\n",
      "Author:  George Orwell\n",
      "Year of Publication:  1949\n"
     ]
    }
   ],
   "source": [
    "class Book:\n",
    "    def __init__(self, title, author, published_year):\n",
    "        self.title = title\n",
    "        self.author = author\n",
    "        self.published_year = published_year\n",
    "        \n",
    "    def display_details(self):\n",
    "        print(\"Title: \", self.title)\n",
    "        print(\"Author: \", self.author)\n",
    "        print(\"Year of Publication: \", self.published_year)\n",
    "        \n",
    "book1 = Book(\"1984\", \"George Orwell\", \"1949\")\n",
    "book1.display_details()"
   ]
  },
  {
   "cell_type": "markdown",
   "id": "c3e2e1c2-7de2-4066-aab9-be840a676c61",
   "metadata": {},
   "source": [
    "14. Discuss the differences between constructors and regular methods in Python classes."
   ]
  },
  {
   "cell_type": "markdown",
   "id": "4756a467-6aba-4258-93bb-a118b4ac73f0",
   "metadata": {},
   "source": [
    "1. A constructor initializes an object while A method is a set of instructions that returns a value after execution.\n",
    "\n",
    "2. It lacks a return type while the method has a return type\n",
    "\n",
    "3. Method can have any name while the constructor has a fixed name.\n",
    "\n",
    "4. A constructor initializes an object that doesn't exist yet but A method operates on objects that have already been created."
   ]
  },
  {
   "cell_type": "markdown",
   "id": "dd117431-9df0-4869-b9ea-3be5009ae2cf",
   "metadata": {},
   "source": [
    "15. Explain the role of the `self` parameter in instance variable initialization within a constructor."
   ]
  },
  {
   "cell_type": "markdown",
   "id": "6ca89ee9-e111-4cc2-8d0d-a254365c440e",
   "metadata": {},
   "source": [
    "The self parameter in the constructor refers to the instance being created and allows you to access and set its attributes."
   ]
  },
  {
   "cell_type": "markdown",
   "id": "d4ff141e-a1b6-42de-a8ed-91fb69b7cba6",
   "metadata": {},
   "source": [
    "16. How do you prevent a class from having multiple instances by using constructors in Python? Provide an\n",
    "example."
   ]
  },
  {
   "cell_type": "markdown",
   "id": "3e432a6a-be6f-4aca-ac8e-6bad7c24e36b",
   "metadata": {},
   "source": [
    "In Python, you can prevent a class from having multiple instances by using a design pattern called the Singleton pattern. The Singleton pattern ensures that a class has only one instance, and if an instance already exists, it returns that instance instead of creating a new one."
   ]
  },
  {
   "cell_type": "code",
   "execution_count": 7,
   "id": "8f71718d-41e6-4851-9fc6-565db1d7354d",
   "metadata": {},
   "outputs": [
    {
     "name": "stdout",
     "output_type": "stream",
     "text": [
      "True\n",
      "Singleton Variable\n"
     ]
    }
   ],
   "source": [
    "#Example\n",
    "class SingletonClass(object):\n",
    "    def __new__(cls):\n",
    "        if not hasattr(cls, 'instance'):\n",
    "            cls.instance = super(SingletonClass, cls).__new__(cls)\n",
    "        return cls.instance\n",
    "\n",
    "singleton = SingletonClass()\n",
    "new_singleton = SingletonClass()\n",
    "\n",
    "print(singleton is new_singleton)\n",
    "\n",
    "singleton.singl_variable = \"Singleton Variable\"\n",
    "print(new_singleton.singl_variable)\n"
   ]
  },
  {
   "cell_type": "markdown",
   "id": "08631677-ec68-4051-b50e-3f00de57a5b1",
   "metadata": {},
   "source": [
    "17. Create a Python class called `Student` with a constructor that takes a list of subjects as a parameter and\n",
    "initializes the `subjects` attribute."
   ]
  },
  {
   "cell_type": "code",
   "execution_count": 3,
   "id": "5e59c74c-fbb0-4a28-9300-211ea2829d51",
   "metadata": {},
   "outputs": [],
   "source": [
    "class Student:\n",
    "    def __init__(self, subjects_list):\n",
    "        self.subjects_list = subjects_list\n",
    "        \n",
    "Student1 = Student([\"Hindi\", \"English\", \"Maths\"])\n",
    "\n",
    "        \n",
    "        "
   ]
  },
  {
   "cell_type": "markdown",
   "id": "2a814eb2-7607-4477-ba5f-023fc45cd6be",
   "metadata": {},
   "source": [
    "18.  What is the purpose of the `__del__` method in Python classes, and how does it relate to constructors?"
   ]
  },
  {
   "cell_type": "markdown",
   "id": "206e3c15-88a7-4509-b22a-790b77a8b3f3",
   "metadata": {},
   "source": [
    "In Python, the __del__() method is referred to as a destructor method. It is called after an object’s garbage collection occurs, which happens after all references to the item have been destroyed."
   ]
  },
  {
   "cell_type": "markdown",
   "id": "5350ae75-fffa-4da9-8ee0-fc15eca408f8",
   "metadata": {},
   "source": [
    "19. Explain the use of constructor chaining in Python. Provide a practical example."
   ]
  },
  {
   "cell_type": "markdown",
   "id": "d714928c-22b5-436b-a7a7-b21d04b393da",
   "metadata": {},
   "source": [
    "Constructor chaining is the process of calling one constructor from another constructor. Constructor chaining is useful when you want to invoke multiple constructors, one after another, by initializing only one instance."
   ]
  },
  {
   "cell_type": "code",
   "execution_count": 8,
   "id": "9b9b2fc4-be59-4397-a639-709e89fae9cc",
   "metadata": {},
   "outputs": [
    {
     "name": "stdout",
     "output_type": "stream",
     "text": [
      "Inside Vehicle Constructor\n",
      "Inside Car Constructor\n",
      "Inside Electric Car Constructor\n",
      "Engine=1500cc, Max Speed=240, Km range=750\n"
     ]
    }
   ],
   "source": [
    "class Vehicle:\n",
    "    # Constructor of Vehicle\n",
    "    def __init__(self, engine):\n",
    "        print('Inside Vehicle Constructor')\n",
    "        self.engine = engine\n",
    "\n",
    "class Car(Vehicle):\n",
    "    # Constructor of Car\n",
    "    def __init__(self, engine, max_speed):\n",
    "        super().__init__(engine)\n",
    "        print('Inside Car Constructor')\n",
    "        self.max_speed = max_speed\n",
    "\n",
    "class Electric_Car(Car):\n",
    "    # Constructor of Electric Car\n",
    "    def __init__(self, engine, max_speed, km_range):\n",
    "        super().__init__(engine, max_speed)\n",
    "        print('Inside Electric Car Constructor')\n",
    "        self.km_range = km_range\n",
    "\n",
    "# Object of electric car\n",
    "ev = Electric_Car('1500cc', 240, 750)\n",
    "print(f'Engine={ev.engine}, Max Speed={ev.max_speed}, Km range={ev.km_range}')"
   ]
  },
  {
   "cell_type": "markdown",
   "id": "bea36540-f2ab-4706-b96a-ce553d232d48",
   "metadata": {},
   "source": [
    "20. Create a Python class called `Car` with a default constructor that initializes the `make` and `model`\n",
    "attributes. Provide a method to display car information."
   ]
  },
  {
   "cell_type": "code",
   "execution_count": 14,
   "id": "7e585fb8-e203-459a-acc8-51893eea835e",
   "metadata": {},
   "outputs": [
    {
     "name": "stdout",
     "output_type": "stream",
     "text": [
      "Make:  Honda , Model:  Accord\n"
     ]
    }
   ],
   "source": [
    "class Car:\n",
    "    def __init__(self, make, model):\n",
    "        self.make = make\n",
    "        self.model = model\n",
    "        \n",
    "    def display_info(self):\n",
    "        print(\"Make: \", self.make, \",\", \"Model: \", self.model)\n",
    "        \n",
    "car1 = Car(\"Honda\", \"Accord\")\n",
    "car1.display_info()\n",
    "    "
   ]
  },
  {
   "cell_type": "markdown",
   "id": "5f4141a6-9590-4c75-9cd1-4a9f1b553d85",
   "metadata": {},
   "source": [
    "# Inheritance:"
   ]
  },
  {
   "cell_type": "markdown",
   "id": "c27d10ad-c606-4095-b346-d7c12fff0790",
   "metadata": {},
   "source": [
    "1. What is inheritance in Python? Explain its significance in object-oriented programming."
   ]
  },
  {
   "cell_type": "markdown",
   "id": "0d5eddec-9a62-4e7d-959f-318211993bb2",
   "metadata": {},
   "source": [
    "Inheritance is the concept in OOPs in which one class inherits the attributes and methods of another class. The class whose properties and methods are inherited is known as the Parent class. And the class that inherits the properties from the parent class is the Child class.\n",
    "\n",
    "In object-oriented programming (OOP), inheritance is a mechanism that allows a class to inherit properties and behaviors from another class. It is a fundamental concept in OOP that promotes code reuse and establishes relationships between classes."
   ]
  },
  {
   "cell_type": "markdown",
   "id": "3f91f78a-fa0b-48ba-83de-45f162d7473a",
   "metadata": {},
   "source": [
    "2. Differentiate between single inheritance and multiple inheritance in Python. Provide examples for each."
   ]
  },
  {
   "cell_type": "markdown",
   "id": "841df570-01f5-4ec2-89a9-694a5aa66ce1",
   "metadata": {},
   "source": [
    "Single Inheritance:\n",
    "\n",
    "Single inheritance occurs when a class is derived from only one base class.\n",
    "It promotes code reusability by allowing a new class to inherit attributes and methods from a single existing class.\n",
    "\n"
   ]
  },
  {
   "cell_type": "code",
   "execution_count": 1,
   "id": "39efda19-549a-4b4e-ae50-5805ebf1de58",
   "metadata": {},
   "outputs": [
    {
     "name": "stdout",
     "output_type": "stream",
     "text": [
      "Animal speaks\n",
      "Dog barks\n"
     ]
    }
   ],
   "source": [
    "#Example of Single Inheritence\n",
    "\n",
    "class Animal:\n",
    "    def speak(self):\n",
    "        print(\"Animal speaks\")\n",
    "\n",
    "class Dog(Animal):\n",
    "    def bark(self):\n",
    "        print(\"Dog barks\")\n",
    "\n",
    "# Dog inherits from Animal\n",
    "my_dog = Dog()\n",
    "my_dog.speak()  # Output: Animal speaks\n",
    "my_dog.bark()   # Output: Dog barks\n"
   ]
  },
  {
   "cell_type": "markdown",
   "id": "c8876ae5-3785-4460-bee4-0bfd6e354927",
   "metadata": {},
   "source": [
    "Multiple Inheritance:\n",
    "\n",
    "Multiple inheritance occurs when a class is derived from more than one base class.\n",
    "It allows a new class to inherit attributes and methods from multiple existing classes."
   ]
  },
  {
   "cell_type": "code",
   "execution_count": 2,
   "id": "32668dc4-16a3-4b03-b6b0-e08aab3eb945",
   "metadata": {},
   "outputs": [
    {
     "name": "stdout",
     "output_type": "stream",
     "text": [
      "Animal speaks\n",
      "Can fly\n",
      "Can swim\n"
     ]
    }
   ],
   "source": [
    "#Example of Multiple Inheritence\n",
    "\n",
    "class Flyable:\n",
    "    def fly(self):\n",
    "        print(\"Can fly\")\n",
    "\n",
    "class Swimmable:\n",
    "    def swim(self):\n",
    "        print(\"Can swim\")\n",
    "\n",
    "class FlyingFish(Animal, Flyable, Swimmable):\n",
    "    pass\n",
    "\n",
    "# FlyingFish inherits from Animal, Flyable, and Swimmable\n",
    "my_flying_fish = FlyingFish()\n",
    "my_flying_fish.speak()  # Output: Animal speaks\n",
    "my_flying_fish.fly()    # Output: Can fly\n",
    "my_flying_fish.swim()   # Output: Can swim\n"
   ]
  },
  {
   "cell_type": "markdown",
   "id": "0a08f833-52f6-4ba2-87de-05c606ff4722",
   "metadata": {},
   "source": [
    "3. Create a Python class called `Vehicle` with attributes `color` and `speed`. Then, create a child class called\n",
    "`Car` that inherits from `Vehicle` and adds a `brand` attribute. Provide an example of creating a `Car` object."
   ]
  },
  {
   "cell_type": "code",
   "execution_count": 3,
   "id": "c80680d6-9b0e-4c60-92e6-de06e3570555",
   "metadata": {},
   "outputs": [
    {
     "name": "stdout",
     "output_type": "stream",
     "text": [
      "Color: Blue\n",
      "Speed: 60\n",
      "Brand: Toyota\n"
     ]
    }
   ],
   "source": [
    "class Vehicle:\n",
    "    def __init__(self, color, speed):\n",
    "        self.color = color\n",
    "        self.speed = speed\n",
    "\n",
    "class Car(Vehicle):\n",
    "    def __init__(self, color, speed, brand):\n",
    "        # Call the constructor of the parent class (Vehicle)\n",
    "        super().__init__(color, speed)\n",
    "        self.brand = brand\n",
    "\n",
    "# Example of creating a Car object\n",
    "my_car = Car(color=\"Blue\", speed=60, brand=\"Toyota\")\n",
    "\n",
    "# Accessing attributes of the Car object\n",
    "print(\"Color:\", my_car.color)\n",
    "print(\"Speed:\", my_car.speed)\n",
    "print(\"Brand:\", my_car.brand)\n"
   ]
  },
  {
   "cell_type": "markdown",
   "id": "cce892eb-e52f-4c8a-a434-be8acf71643c",
   "metadata": {},
   "source": [
    "4. Explain the concept of method overriding in inheritance. Provide a practical example."
   ]
  },
  {
   "cell_type": "markdown",
   "id": "5d78ba5e-9f6d-481c-97a7-791713ad26aa",
   "metadata": {},
   "source": [
    "Method overriding is a concept in object-oriented programming where a subclass provides a specific implementation for a method that is already defined in its superclass. In other words, a subclass overrides a method of its superclass with its own implementation."
   ]
  },
  {
   "cell_type": "code",
   "execution_count": 4,
   "id": "e7f3683f-4260-4233-8665-f0b1d347bb68",
   "metadata": {},
   "outputs": [
    {
     "name": "stdout",
     "output_type": "stream",
     "text": [
      "Dog barks\n",
      "Cat meows\n"
     ]
    }
   ],
   "source": [
    "#Example\n",
    "class Animal:\n",
    "    def speak(self):\n",
    "        print(\"Animal speaks\")\n",
    "\n",
    "class Dog(Animal):\n",
    "    def speak(self):\n",
    "        print(\"Dog barks\")\n",
    "\n",
    "class Cat(Animal):\n",
    "    def speak(self):\n",
    "        print(\"Cat meows\")\n",
    "\n",
    "# Example of method overriding\n",
    "my_dog = Dog()\n",
    "my_cat = Cat()\n",
    "\n",
    "my_dog.speak()  # Output: Dog barks\n",
    "my_cat.speak()  # Output: Cat meows\n"
   ]
  },
  {
   "cell_type": "markdown",
   "id": "d405eb3a-66d8-45bc-b568-396d7ba76182",
   "metadata": {},
   "source": [
    "5. How can you access the methods and attributes of a parent class from a child class in Python? Give an\n",
    "example."
   ]
  },
  {
   "cell_type": "markdown",
   "id": "79dd248b-3694-4fbc-b53d-982dfcf8b3aa",
   "metadata": {},
   "source": [
    "In Python, you can access the methods and attributes of a parent class from a child class using the super() function. The super() function returns a temporary object of the superclass, which allows you to call its methods or access its attributes."
   ]
  },
  {
   "cell_type": "code",
   "execution_count": 5,
   "id": "5da5777b-509e-4d5a-90f2-3b1c44905a02",
   "metadata": {},
   "outputs": [
    {
     "name": "stdout",
     "output_type": "stream",
     "text": [
      "Species: Canine\n",
      "Animal speaks\n",
      "Dog says woof!\n"
     ]
    }
   ],
   "source": [
    "#Example\n",
    "\n",
    "class Animal:\n",
    "    def __init__(self, species):\n",
    "        self.species = species\n",
    "\n",
    "    def speak(self):\n",
    "        print(\"Animal speaks\")\n",
    "\n",
    "class Dog(Animal):\n",
    "    def __init__(self, species, breed):\n",
    "        # Call the constructor of the parent class (Animal)\n",
    "        super().__init__(species)\n",
    "        self.breed = breed\n",
    "\n",
    "    def bark(self):\n",
    "        print(\"Dog barks\")\n",
    "\n",
    "    def speak(self):\n",
    "        # Call the speak method of the parent class (Animal)\n",
    "        super().speak()\n",
    "        print(\"Dog says woof!\")\n",
    "\n",
    "# Example of accessing methods and attributes of the parent class\n",
    "my_dog = Dog(species=\"Canine\", breed=\"Labrador\")\n",
    "\n",
    "# Accessing attributes of the parent class (Animal)\n",
    "print(\"Species:\", my_dog.species)\n",
    "\n",
    "# Accessing methods of the parent class (Animal)\n",
    "my_dog.speak()  # Output: Animal speaks \\n Dog says woof!\n"
   ]
  },
  {
   "cell_type": "markdown",
   "id": "e0251871-642f-479c-9074-3f3c0cb6be66",
   "metadata": {},
   "source": [
    "6. Discuss the use of the `super()` function in Python inheritance. When and why is it used? Provide an\n",
    "example."
   ]
  },
  {
   "cell_type": "markdown",
   "id": "f5f80311-9b52-4f07-a5ec-9bab5714b49a",
   "metadata": {},
   "source": [
    "The super() function in Python is used in the context of inheritance to access methods or attributes from a parent class within a subclass. It returns a temporary object of the superclass, allowing you to call its methods or access its attributes. The primary use of super() is to invoke the methods of the superclass, enabling code reuse and maintaining a clean and consistent inheritance hierarchy."
   ]
  },
  {
   "cell_type": "code",
   "execution_count": 6,
   "id": "5699913e-fe69-4cf9-bcee-c1dc529cfc5e",
   "metadata": {},
   "outputs": [
    {
     "name": "stdout",
     "output_type": "stream",
     "text": [
      "Species: Canine\n",
      "Animal speaks\n",
      "Dog says woof!\n"
     ]
    }
   ],
   "source": [
    "class Animal:\n",
    "    def __init__(self, species):\n",
    "        self.species = species\n",
    "\n",
    "    def speak(self):\n",
    "        print(\"Animal speaks\")\n",
    "\n",
    "class Dog(Animal):\n",
    "    def __init__(self, species, breed):\n",
    "        # Call the constructor of the parent class (Animal)\n",
    "        super().__init__(species)\n",
    "        self.breed = breed\n",
    "\n",
    "    def bark(self):\n",
    "        print(\"Dog barks\")\n",
    "\n",
    "    def speak(self):\n",
    "        # Call the speak method of the parent class (Animal)\n",
    "        super().speak()\n",
    "        print(\"Dog says woof!\")\n",
    "\n",
    "# Example of using super() to access methods and attributes of the parent class\n",
    "my_dog = Dog(species=\"Canine\", breed=\"Labrador\")\n",
    "\n",
    "# Accessing attributes of the parent class (Animal)\n",
    "print(\"Species:\", my_dog.species)\n",
    "\n",
    "# Accessing methods of the parent class (Animal)\n",
    "my_dog.speak()  # Output: Animal speaks \\n Dog says woof!\n"
   ]
  },
  {
   "cell_type": "markdown",
   "id": "56fae40d-35d4-48f0-8006-0d14d50b3034",
   "metadata": {},
   "source": [
    "7. Create a Python class called `Animal` with a method `speak()`. Then, create child classes `Dog` and `Cat` that inherit from `Animal` and override the `speak()` method. Provide an example of using these classes."
   ]
  },
  {
   "cell_type": "code",
   "execution_count": 7,
   "id": "f208b2aa-3c9c-4773-877a-0f41f24fa8ae",
   "metadata": {},
   "outputs": [
    {
     "name": "stdout",
     "output_type": "stream",
     "text": [
      "Animal speaks\n",
      "Dog says woof!\n",
      "Cat says meow!\n"
     ]
    }
   ],
   "source": [
    "class Animal:\n",
    "    def speak(self):\n",
    "        print(\"Animal speaks\")\n",
    "\n",
    "class Dog(Animal):\n",
    "    def speak(self):\n",
    "        print(\"Dog says woof!\")\n",
    "\n",
    "class Cat(Animal):\n",
    "    def speak(self):\n",
    "        print(\"Cat says meow!\")\n",
    "\n",
    "# Example of using the Animal, Dog, and Cat classes\n",
    "my_animal = Animal()\n",
    "my_dog = Dog()\n",
    "my_cat = Cat()\n",
    "\n",
    "# Using the speak method of each class\n",
    "my_animal.speak()  # Output: Animal speaks\n",
    "my_dog.speak()     # Output: Dog says woof!\n",
    "my_cat.speak()     # Output: Cat says meow!\n"
   ]
  },
  {
   "cell_type": "markdown",
   "id": "8bd0d180-3fc3-4d06-b599-825eba22d7be",
   "metadata": {},
   "source": [
    "8. Explain the role of the `isinstance()` function in Python and how it relates to inheritance."
   ]
  },
  {
   "cell_type": "markdown",
   "id": "c819e7e5-dcbc-464f-a8d8-98a7d4025750",
   "metadata": {},
   "source": [
    "The isinstance() function in Python is used to check whether an object belongs to a particular class or is an instance of a particular type. It takes two arguments: the object to be checked, and the class or type to check against. The function returns True if the object is an instance of the specified class or type, and False otherwise.\n",
    "\n",
    "In the context of inheritance, the isinstance() function plays a crucial role in determining the type of an object, especially when dealing with class hierarchies."
   ]
  },
  {
   "cell_type": "code",
   "execution_count": 8,
   "id": "925712fa-a58e-448b-9e87-7aba871f95ef",
   "metadata": {},
   "outputs": [
    {
     "name": "stdout",
     "output_type": "stream",
     "text": [
      "True\n",
      "True\n",
      "True\n",
      "True\n",
      "False\n",
      "False\n"
     ]
    }
   ],
   "source": [
    "class Animal:\n",
    "    def speak(self):\n",
    "        print(\"Animal speaks\")\n",
    "\n",
    "class Dog(Animal):\n",
    "    def bark(self):\n",
    "        print(\"Dog barks\")\n",
    "\n",
    "class Cat(Animal):\n",
    "    def meow(self):\n",
    "        print(\"Cat meows\")\n",
    "\n",
    "# Example usage of isinstance() in the context of inheritance\n",
    "my_dog = Dog()\n",
    "my_cat = Cat()\n",
    "\n",
    "# Checking if objects are instances of specific classes\n",
    "print(isinstance(my_dog, Dog))    # Output: True\n",
    "print(isinstance(my_dog, Animal)) # Output: True\n",
    "\n",
    "print(isinstance(my_cat, Cat))    # Output: True\n",
    "print(isinstance(my_cat, Animal)) # Output: True\n",
    "\n",
    "# Checking if objects are instances of unrelated classes\n",
    "print(isinstance(my_dog, Cat))    # Output: False\n",
    "print(isinstance(my_cat, Dog))    # Output: False\n"
   ]
  },
  {
   "cell_type": "markdown",
   "id": "c50bb08e-6525-44e7-a16a-6a5549ce3d3b",
   "metadata": {},
   "source": [
    "9. What is the purpose of the `issubclass()` function in Python? Provide an example."
   ]
  },
  {
   "cell_type": "markdown",
   "id": "ed3485d4-3b34-4a39-a993-7c33135b21b7",
   "metadata": {},
   "source": [
    "The issubclass() function in Python is used to check whether a class is a subclass of another class. It takes two arguments: the potential subclass and the potential superclass. The function returns True if the first class is a subclass of the second, and False otherwise."
   ]
  },
  {
   "cell_type": "code",
   "execution_count": 9,
   "id": "22f6d147-1fbc-40df-b629-7e997eec6384",
   "metadata": {},
   "outputs": [
    {
     "name": "stdout",
     "output_type": "stream",
     "text": [
      "True\n",
      "True\n",
      "True\n",
      "False\n",
      "False\n"
     ]
    }
   ],
   "source": [
    "#Example\n",
    "\n",
    "class Animal:\n",
    "    pass\n",
    "\n",
    "class Mammal(Animal):\n",
    "    pass\n",
    "\n",
    "class Dog(Mammal):\n",
    "    pass\n",
    "\n",
    "# Example usage of issubclass()\n",
    "print(issubclass(Mammal, Animal))  # Output: True\n",
    "print(issubclass(Dog, Mammal))     # Output: True\n",
    "print(issubclass(Dog, Animal))     # Output: True\n",
    "\n",
    "# Checking if classes are subclasses of unrelated classes\n",
    "print(issubclass(int, Animal))     # Output: False\n",
    "print(issubclass(str, Dog))        # Output: False\n"
   ]
  },
  {
   "cell_type": "markdown",
   "id": "7a49fad7-6d24-43d1-b4ea-e42b78cbf135",
   "metadata": {},
   "source": [
    "10. Discuss the concept of constructor inheritance in Python. How are constructors inherited in child classes?"
   ]
  },
  {
   "cell_type": "markdown",
   "id": "c262aa2a-1542-420b-9943-f5e2de2c4ee8",
   "metadata": {},
   "source": [
    "In Python, constructor inheritance refers to the process by which a child class can inherit the constructor (the __init__ method) of its parent class. When a child class is created, it can choose to invoke the constructor of its parent class using the super() function, ensuring that the initialization logic of the parent class is executed before any additional logic specific to the child class."
   ]
  },
  {
   "cell_type": "code",
   "execution_count": 10,
   "id": "b7dad75c-0da8-4fb8-95ed-b8f2ae1b39c4",
   "metadata": {},
   "outputs": [
    {
     "name": "stdout",
     "output_type": "stream",
     "text": [
      "Animal of species Canine created.\n",
      "Dog of breed Labrador created.\n"
     ]
    }
   ],
   "source": [
    "class Animal:\n",
    "    def __init__(self, species):\n",
    "        self.species = species\n",
    "        print(f\"Animal of species {self.species} created.\")\n",
    "\n",
    "class Dog(Animal):\n",
    "    def __init__(self, species, breed):\n",
    "        # Call the constructor of the parent class (Animal)\n",
    "        super().__init__(species)\n",
    "        self.breed = breed\n",
    "        print(f\"Dog of breed {self.breed} created.\")\n",
    "\n",
    "# Example usage of constructor inheritance\n",
    "my_dog = Dog(species=\"Canine\", breed=\"Labrador\")\n"
   ]
  },
  {
   "cell_type": "markdown",
   "id": "b397e6af-b333-4715-9e6a-66a12eb9d651",
   "metadata": {},
   "source": [
    "11. Create a Python class called `Shape` with a method `area()` that calculates the area of a shape. Then, create child classes `Circle` and `Rectangle` that inherit from `Shape` and implement the `area()` method\n",
    "accordingly. Provide an example"
   ]
  },
  {
   "cell_type": "code",
   "execution_count": 11,
   "id": "3c631c7a-60a3-4071-91f2-22dd94a336d9",
   "metadata": {},
   "outputs": [
    {
     "name": "stdout",
     "output_type": "stream",
     "text": [
      "Circle Area: 78.53981633974483\n",
      "Rectangle Area: 24\n"
     ]
    }
   ],
   "source": [
    "import math\n",
    "\n",
    "class Shape:\n",
    "    def area(self):\n",
    "        pass  # Placeholder method to be overridden in subclasses\n",
    "\n",
    "class Circle(Shape):\n",
    "    def __init__(self, radius):\n",
    "        self.radius = radius\n",
    "\n",
    "    def area(self):\n",
    "        return math.pi * self.radius**2\n",
    "\n",
    "class Rectangle(Shape):\n",
    "    def __init__(self, width, height):\n",
    "        self.width = width\n",
    "        self.height = height\n",
    "\n",
    "    def area(self):\n",
    "        return self.width * self.height\n",
    "\n",
    "# Example usage of the Shape, Circle, and Rectangle classes\n",
    "circle = Circle(radius=5)\n",
    "rectangle = Rectangle(width=4, height=6)\n",
    "\n",
    "# Calculating and printing the areas\n",
    "print(\"Circle Area:\", circle.area())       # Output: Circle Area: 78.53981633974483\n",
    "print(\"Rectangle Area:\", rectangle.area()) # Output: Rectangle Area: 24\n"
   ]
  },
  {
   "cell_type": "markdown",
   "id": "642c5541-87d4-408c-abb7-9743167c0a6a",
   "metadata": {},
   "source": [
    "12. Explain the use of abstract base classes (ABCs) in Python and how they relate to inheritance. Provide an\n",
    "example using the `abc` module."
   ]
  },
  {
   "cell_type": "markdown",
   "id": "b04963a1-30b4-4149-8320-ae28b0167699",
   "metadata": {},
   "source": [
    "Abstract Base Classes (ABCs) in Python provide a way to define abstract classes and abstract methods. An abstract class is a class that cannot be instantiated on its own and typically contains one or more abstract methods that must be implemented by its concrete subclasses. ABCs help in enforcing a certain structure in class hierarchies and ensure that specific methods are implemented in derived classes.\n",
    "\n",
    "The abc module in Python provides the ABC metaclass and the abstractmethod decorator for creating abstract classes and abstract methods."
   ]
  },
  {
   "cell_type": "code",
   "execution_count": 12,
   "id": "a6d3fdec-c3ef-40bd-bc4d-b4daad1d36ec",
   "metadata": {},
   "outputs": [
    {
     "name": "stdout",
     "output_type": "stream",
     "text": [
      "Circle Area: 78.5\n",
      "Rectangle Area: 24\n"
     ]
    }
   ],
   "source": [
    "#Example\n",
    "\n",
    "from abc import ABC, abstractmethod\n",
    "\n",
    "# Abstract Base Class (ABC)\n",
    "class Shape(ABC):\n",
    "    @abstractmethod\n",
    "    def area(self):\n",
    "        pass  # Abstract method to be implemented by subclasses\n",
    "\n",
    "# Concrete subclasses\n",
    "class Circle(Shape):\n",
    "    def __init__(self, radius):\n",
    "        self.radius = radius\n",
    "\n",
    "    def area(self):\n",
    "        return 3.14 * self.radius**2\n",
    "\n",
    "class Rectangle(Shape):\n",
    "    def __init__(self, width, height):\n",
    "        self.width = width\n",
    "        self.height = height\n",
    "\n",
    "    def area(self):\n",
    "        return self.width * self.height\n",
    "\n",
    "# Example usage of abstract base classes\n",
    "circle = Circle(radius=5)\n",
    "rectangle = Rectangle(width=4, height=6)\n",
    "\n",
    "# Calculating and printing the areas\n",
    "print(\"Circle Area:\", circle.area())       # Output: Circle Area: 78.5\n",
    "print(\"Rectangle Area:\", rectangle.area()) # Output: Rectangle Area: 24\n"
   ]
  },
  {
   "cell_type": "markdown",
   "id": "a54b220f-7e91-4c0a-a4ef-fe633ad363b9",
   "metadata": {},
   "source": [
    "13. How can you prevent a child class from modifying certain attributes or methods inherited from a parent\n",
    "class in Python?"
   ]
  },
  {
   "cell_type": "markdown",
   "id": "6769439d-e999-4fc4-99b3-c8b628e0779f",
   "metadata": {},
   "source": [
    "In Python, you can prevent a child class from modifying certain attributes or methods inherited from a parent class by using encapsulation and access modifiers. Encapsulation involves hiding the internal details of a class and restricting direct access to certain attributes or methods. The two common access modifiers in Python are:\n",
    "\n",
    "Protected Attributes/Methods (using a single leading underscore _):\n",
    "\n",
    "Attributes or methods with a single leading underscore are considered as \"protected\", indicating that they should not be accessed or modified directly from outside the class.\n",
    "Private Attributes/Methods (using a double leading underscore __):\n",
    "\n",
    "Attributes or methods with a double leading underscore are considered as \"private,\" and their names are name-mangled to include the class name, making it more challenging to access them from outside the class."
   ]
  },
  {
   "cell_type": "code",
   "execution_count": 13,
   "id": "60f88cb8-47f2-4df2-8375-3897b9486add",
   "metadata": {},
   "outputs": [
    {
     "name": "stdout",
     "output_type": "stream",
     "text": [
      "Parent - Protected Attribute: 42\n",
      "Parent - Private Attribute: I am private\n",
      "Child - Protected Attribute: 100\n",
      "Child - Private Attribute: I am private\n"
     ]
    }
   ],
   "source": [
    "class Parent:\n",
    "    def __init__(self):\n",
    "        self._protected_attribute = 42\n",
    "        self.__private_attribute = \"I am private\"\n",
    "\n",
    "    def get_private_attribute(self):\n",
    "        return self.__private_attribute\n",
    "\n",
    "class Child(Parent):\n",
    "    def __init__(self):\n",
    "        super().__init__()\n",
    "\n",
    "        # Attempt to modify inherited attributes\n",
    "        self._protected_attribute = 100  # Allowed\n",
    "        # self.__private_attribute = \"Modified\"  # This would raise an AttributeError\n",
    "\n",
    "# Example usage\n",
    "parent_instance = Parent()\n",
    "print(\"Parent - Protected Attribute:\", parent_instance._protected_attribute)\n",
    "print(\"Parent - Private Attribute:\", parent_instance.get_private_attribute())\n",
    "\n",
    "child_instance = Child()\n",
    "print(\"Child - Protected Attribute:\", child_instance._protected_attribute)\n",
    "print(\"Child - Private Attribute:\", child_instance.get_private_attribute())\n"
   ]
  },
  {
   "cell_type": "markdown",
   "id": "db2a03a9-2926-48a7-b950-54f0abcc3099",
   "metadata": {},
   "source": [
    "14. Create a Python class called `Employee` with attributes `name` and `salary`. Then, create a child class\n",
    "`Manager` that inherits from `Employee` and adds an attribute `department`. Provide an example."
   ]
  },
  {
   "cell_type": "code",
   "execution_count": 14,
   "id": "336fc18e-4894-4f9f-a672-8fd58aa23e78",
   "metadata": {},
   "outputs": [
    {
     "name": "stdout",
     "output_type": "stream",
     "text": [
      "Employee Name: John Doe\n",
      "Employee Salary: 50000\n",
      "\n",
      "Manager Name: Alice Manager\n",
      "Manager Salary: 70000\n",
      "Manager Department: Engineering\n"
     ]
    }
   ],
   "source": [
    "class Employee:\n",
    "    def __init__(self, name, salary):\n",
    "        self.name = name\n",
    "        self.salary = salary\n",
    "\n",
    "class Manager(Employee):\n",
    "    def __init__(self, name, salary, department):\n",
    "        # Call the constructor of the parent class (Employee)\n",
    "        super().__init__(name, salary)\n",
    "        self.department = department\n",
    "\n",
    "# Example of using the Employee and Manager classes\n",
    "employee = Employee(name=\"John Doe\", salary=50000)\n",
    "manager = Manager(name=\"Alice Manager\", salary=70000, department=\"Engineering\")\n",
    "\n",
    "# Accessing attributes of the Employee class\n",
    "print(\"Employee Name:\", employee.name)\n",
    "print(\"Employee Salary:\", employee.salary)\n",
    "\n",
    "# Accessing attributes of the Manager class\n",
    "print(\"\\nManager Name:\", manager.name)\n",
    "print(\"Manager Salary:\", manager.salary)\n",
    "print(\"Manager Department:\", manager.department)\n"
   ]
  },
  {
   "cell_type": "markdown",
   "id": "14c61f80-b828-43dc-be85-80e3d18b887a",
   "metadata": {},
   "source": [
    "15.  Discuss the concept of method overloading in Python inheritance. How does it differ from method\n",
    "overriding?"
   ]
  },
  {
   "cell_type": "markdown",
   "id": "be9d16b9-a04b-4e3b-ba91-40a991f98559",
   "metadata": {},
   "source": [
    "In Python, method overloading refers to the ability to define multiple methods with the same name in a class, but with different parameters. \n",
    "\n",
    "Method overriding, on the other hand, is a different concept related to inheritance. It occurs when a subclass provides a specific implementation for a method that is already defined in its superclass. The overriding method in the subclass has the same name and signature as the method in the superclass."
   ]
  },
  {
   "cell_type": "markdown",
   "id": "6be54dec-7f8a-4277-b606-d00ce1845482",
   "metadata": {},
   "source": [
    "16. Explain the purpose of the `__init__()` method in Python inheritance and how it is utilized in child classes."
   ]
  },
  {
   "cell_type": "markdown",
   "id": "06489fec-7376-412e-b2fd-7f4e5fa42e5e",
   "metadata": {},
   "source": [
    "The __init__() method in Python is a special method, also known as the constructor, that is automatically called when an object of a class is created. Its primary purpose is to initialize the attributes of the object. In the context of inheritance, the __init__() method is often used to initialize attributes of both the current class and its parent class."
   ]
  },
  {
   "cell_type": "code",
   "execution_count": 16,
   "id": "6480d869-76a9-4411-9c46-33d60e19f13d",
   "metadata": {},
   "outputs": [
    {
     "name": "stdout",
     "output_type": "stream",
     "text": [
      "Animal of species Canine created.\n",
      "Dog of breed Labrador created.\n"
     ]
    }
   ],
   "source": [
    "#Example\n",
    "class Animal:\n",
    "    def __init__(self, species):\n",
    "        self.species = species\n",
    "        print(f\"Animal of species {self.species} created.\")\n",
    "\n",
    "class Dog(Animal):\n",
    "    def __init__(self, species, breed):\n",
    "        # Call the constructor of the parent class (Animal)\n",
    "        super().__init__(species)\n",
    "        self.breed = breed\n",
    "        print(f\"Dog of breed {self.breed} created.\")\n",
    "\n",
    "# Example usage\n",
    "dog = Dog(species=\"Canine\", breed=\"Labrador\")\n"
   ]
  },
  {
   "cell_type": "markdown",
   "id": "5dee3030-1cce-46ba-a495-5dfcd4593234",
   "metadata": {},
   "source": [
    "17. Create a Python class called `Bird` with a method `fly()`. Then, create child classes `Eagle` and `Sparrow` that inherit from `Bird` and implement the `fly()` method differently. Provide an example of using these\n",
    "classes."
   ]
  },
  {
   "cell_type": "code",
   "execution_count": 17,
   "id": "3c0a9776-bf1e-456a-aa85-b4b3130407ed",
   "metadata": {},
   "outputs": [
    {
     "name": "stdout",
     "output_type": "stream",
     "text": [
      "Bird can fly\n",
      "Eagle soars through the sky\n",
      "Sparrow flits and glides in the air\n"
     ]
    }
   ],
   "source": [
    "class Bird:\n",
    "    def fly(self):\n",
    "        print(\"Bird can fly\")\n",
    "\n",
    "class Eagle(Bird):\n",
    "    def fly(self):\n",
    "        print(\"Eagle soars through the sky\")\n",
    "\n",
    "class Sparrow(Bird):\n",
    "    def fly(self):\n",
    "        print(\"Sparrow flits and glides in the air\")\n",
    "\n",
    "# Example usage of Bird, Eagle, and Sparrow classes\n",
    "bird = Bird()\n",
    "eagle = Eagle()\n",
    "sparrow = Sparrow()\n",
    "\n",
    "# Using the fly method of each class\n",
    "bird.fly()    # Output: Bird can fly\n",
    "eagle.fly()   # Output: Eagle soars through the sky\n",
    "sparrow.fly() # Output: Sparrow flits and glides in the air\n"
   ]
  },
  {
   "cell_type": "markdown",
   "id": "2a691262-1ce8-4bbf-9620-bf51c6cc4dda",
   "metadata": {},
   "source": [
    "18.  What is the \"diamond problem\" in multiple inheritance, and how does Python address it?"
   ]
  },
  {
   "cell_type": "markdown",
   "id": "ecd1c014-ae80-4cfb-b3e3-62c1de4a49aa",
   "metadata": {},
   "source": [
    "The \"diamond problem\" is a term used in the context of multiple inheritance in object-oriented programming languages. It occurs when a class inherits from two classes that have a common ancestor. This can lead to ambiguity when calling methods or accessing attributes that are defined in the common ancestor.\n",
    "\n",
    "Python addresses the diamond problem by using a mechanism called \"C3 linearization\" (also known as C3 superclass linearization or C3 superclass algorithm) to determine the order in which base classes are considered during method resolution. This algorithm ensures a consistent and predictable order of method resolution in the presence of multiple inheritance."
   ]
  },
  {
   "cell_type": "code",
   "execution_count": 18,
   "id": "1dbb7e19-50d0-4b6a-96d3-11da740454a7",
   "metadata": {},
   "outputs": [
    {
     "name": "stdout",
     "output_type": "stream",
     "text": [
      "B method\n"
     ]
    }
   ],
   "source": [
    "class A:\n",
    "    def method(self):\n",
    "        print(\"A method\")\n",
    "\n",
    "class B(A):\n",
    "    def method(self):\n",
    "        print(\"B method\")\n",
    "\n",
    "class C(A):\n",
    "    def method(self):\n",
    "        print(\"C method\")\n",
    "\n",
    "class D(B, C):\n",
    "    pass\n",
    "\n",
    "# Example usage\n",
    "instance_d = D()\n",
    "instance_d.method()  # Output: B method\n"
   ]
  },
  {
   "cell_type": "markdown",
   "id": "cfcbf8ab-8467-45e6-9f6e-42f3cee1952c",
   "metadata": {},
   "source": [
    "19.  Discuss the concept of \"is-a\" and \"has-a\" relationships in inheritance, and provide examples of each."
   ]
  },
  {
   "cell_type": "markdown",
   "id": "69b41d86-b093-4655-a21f-4b72c25d1f74",
   "metadata": {},
   "source": [
    "In object-oriented programming, \"is-a\" and \"has-a\" relationships are concepts that describe the associations between classes.\n",
    "\n",
    "\"is-a\" Relationship:\n",
    "\n",
    "An \"is-a\" relationship denotes inheritance or specialization, indicating that one class is a subtype or a more specialized version of another class.\n",
    "It is often expressed using class inheritance, where a subclass (derived class) \"is a\" type of its superclass (base class).\n"
   ]
  },
  {
   "cell_type": "code",
   "execution_count": 19,
   "id": "becde9fb-a4b9-45b6-98db-779424dc7908",
   "metadata": {},
   "outputs": [
    {
     "name": "stdout",
     "output_type": "stream",
     "text": [
      "Animal speaks\n",
      "Dog barks\n"
     ]
    }
   ],
   "source": [
    "#Example\n",
    "class Animal:\n",
    "    def speak(self):\n",
    "        print(\"Animal speaks\")\n",
    "\n",
    "class Dog(Animal):  # Dog is a type of Animal\n",
    "    def bark(self):\n",
    "        print(\"Dog barks\")\n",
    "\n",
    "my_dog = Dog()\n",
    "my_dog.speak()  # Output: Animal speaks\n",
    "my_dog.bark()   # Output: Dog barks\n"
   ]
  },
  {
   "cell_type": "markdown",
   "id": "b8c0a5b9-bc0b-4021-81ab-996505d6cfcf",
   "metadata": {},
   "source": [
    "\"has-a\" Relationship:\n",
    "\n",
    "A \"has-a\" relationship denotes composition or containment, indicating that one class has an instance of another class as a part or attribute.\n",
    "It is often expressed by including an instance of one class as an attribute in another class."
   ]
  },
  {
   "cell_type": "code",
   "execution_count": 20,
   "id": "0d1c3fa5-451e-4b89-be42-ce8bed626493",
   "metadata": {},
   "outputs": [
    {
     "name": "stdout",
     "output_type": "stream",
     "text": [
      "Car is moving\n",
      "Engine started\n"
     ]
    }
   ],
   "source": [
    "class Engine:\n",
    "    def start(self):\n",
    "        print(\"Engine started\")\n",
    "\n",
    "class Car:\n",
    "    def __init__(self):\n",
    "        self.engine = Engine()  # Car has an Engine\n",
    "\n",
    "    def drive(self):\n",
    "        print(\"Car is moving\")\n",
    "\n",
    "my_car = Car()\n",
    "my_car.drive()          # Output: Car is moving\n",
    "my_car.engine.start()   # Output: Engine started\n"
   ]
  },
  {
   "cell_type": "markdown",
   "id": "0df24886-40e6-4584-8ab1-8775aa765445",
   "metadata": {},
   "source": [
    "20.Create a Python class hierarchy for a university system. Start with a base class `Person` and create child\n",
    "classes `Student` and `Professor`, each with their own attributes and methods. Provide an example of using\n",
    "these classes in a university context."
   ]
  },
  {
   "cell_type": "code",
   "execution_count": 21,
   "id": "76a1f91a-7178-4cbe-a13a-3b4c1366dc28",
   "metadata": {},
   "outputs": [
    {
     "name": "stdout",
     "output_type": "stream",
     "text": [
      "Student Information:\n",
      "Name: John Student, Age: 20\n",
      "Student ID: S12345\n",
      "Student is studying\n",
      "\n",
      "Professor Information:\n",
      "Name: Dr. Smith, Age: 40\n",
      "Employee ID: P98765\n",
      "Professor is teaching\n"
     ]
    }
   ],
   "source": [
    "class Person:\n",
    "    def __init__(self, name, age):\n",
    "        self.name = name\n",
    "        self.age = age\n",
    "\n",
    "    def display_info(self):\n",
    "        print(f\"Name: {self.name}, Age: {self.age}\")\n",
    "\n",
    "class Student(Person):\n",
    "    def __init__(self, name, age, student_id):\n",
    "        super().__init__(name, age)\n",
    "        self.student_id = student_id\n",
    "\n",
    "    def display_info(self):\n",
    "        super().display_info()\n",
    "        print(f\"Student ID: {self.student_id}\")\n",
    "\n",
    "    def study(self):\n",
    "        print(\"Student is studying\")\n",
    "\n",
    "class Professor(Person):\n",
    "    def __init__(self, name, age, employee_id):\n",
    "        super().__init__(name, age)\n",
    "        self.employee_id = employee_id\n",
    "\n",
    "    def display_info(self):\n",
    "        super().display_info()\n",
    "        print(f\"Employee ID: {self.employee_id}\")\n",
    "\n",
    "    def teach(self):\n",
    "        print(\"Professor is teaching\")\n",
    "\n",
    "# Example usage in a university context\n",
    "student = Student(name=\"John Student\", age=20, student_id=\"S12345\")\n",
    "professor = Professor(name=\"Dr. Smith\", age=40, employee_id=\"P98765\")\n",
    "\n",
    "# Displaying information about students and professors\n",
    "print(\"Student Information:\")\n",
    "student.display_info()\n",
    "student.study()\n",
    "\n",
    "print(\"\\nProfessor Information:\")\n",
    "professor.display_info()\n",
    "professor.teach()\n"
   ]
  },
  {
   "cell_type": "markdown",
   "id": "f7f5fe44-6f66-4cb3-b7f0-ca2327e3bf25",
   "metadata": {},
   "source": [
    "# Encapsulation"
   ]
  },
  {
   "cell_type": "markdown",
   "id": "9d6593c3-1f62-4d46-a47e-c4360ff79152",
   "metadata": {},
   "source": [
    "1. Explain the concept of encapsulation in Python. What is its role in object-oriented programming?"
   ]
  },
  {
   "cell_type": "markdown",
   "id": "e9f21bb2-987d-47f6-8802-793fd11d0a43",
   "metadata": {},
   "source": [
    "Encapsulation is one of the fundamental principles of object-oriented programming (OOP) and is designed to bundle data and methods that operate on that data into a single unit known as a class. It helps in hiding the internal state and requiring all interactions to occur through an object's methods. In Python, encapsulation is achieved through the use of private and protected attributes and methods."
   ]
  },
  {
   "cell_type": "markdown",
   "id": "193e6f32-048a-4ef8-9bc5-e8de5585789c",
   "metadata": {},
   "source": [
    "Role in Object-Oriented Programming (OOP):\n",
    "\n",
    "Encapsulation promotes data hiding:\n",
    "\n",
    "By encapsulating the internal state of an object, you limit direct access to its attributes from outside the class. This prevents unintended interference and manipulation of the object's internal state.\n",
    "Abstraction:\n",
    "\n",
    "Encapsulation allows you to abstract away the implementation details of a class. Users of the class only need to know how to interact with its public methods and attributes, without worrying about the internal complexities.\n",
    "Code Organization and Maintenance:\n",
    "\n",
    "Encapsulation helps in organizing code by grouping related data and methods within a class. This makes the code more modular, readable, and easier to maintain.\n",
    "Flexibility and Evolution:\n",
    "\n",
    "Encapsulation provides a way to change the internal implementation of a class without affecting the code that uses the class. This is because the external code relies on the class's public interface, and changes to the internal implementation do not impact this interface."
   ]
  },
  {
   "cell_type": "markdown",
   "id": "32cdaa8c-116e-4590-8564-15269bc0dc22",
   "metadata": {},
   "source": [
    "2. Describe the key principles of encapsulation, including access control and data hiding."
   ]
  },
  {
   "cell_type": "markdown",
   "id": "8f4dd882-9181-453e-9a0f-083a719fdbff",
   "metadata": {},
   "source": [
    "\n",
    "Access Control:\n",
    "\n",
    "Access control is a key principle of encapsulation that governs the visibility and accessibility of class members (attributes and methods) from outside the class.\n",
    "In many object-oriented programming languages, including Python, access control is enforced through access modifiers. These modifiers specify the level of visibility of a class member."
   ]
  },
  {
   "cell_type": "markdown",
   "id": "cc8369cc-6776-49f2-b366-8faa956a8b08",
   "metadata": {},
   "source": [
    "Data Hiding:\n",
    "\n",
    "Data hiding is the practice of restricting the direct access to certain parts of an object, typically its attributes, from the outside world. It is closely related to access control.\n",
    "By hiding the implementation details of an object and allowing access only through well-defined interfaces (public methods), you reduce the risk of unintended interference and ensure a more robust and maintainable codebase."
   ]
  },
  {
   "cell_type": "markdown",
   "id": "df39d801-9c91-49ed-a96c-8b88326976cb",
   "metadata": {},
   "source": [
    "3. How can you achieve encapsulation in Python classes? Provide an example."
   ]
  },
  {
   "cell_type": "markdown",
   "id": "f697fa2c-c17b-4223-9e93-bef56d600b01",
   "metadata": {},
   "source": [
    "Encapsulation in Python is achieved through the use of private, protected, and public access modifiers for class members (attributes and methods). The primary mechanism is based on naming conventions and access modifiers. Here's a simple example:"
   ]
  },
  {
   "cell_type": "code",
   "execution_count": 4,
   "id": "01338668-93a9-4f09-aff5-42bdf5af23ef",
   "metadata": {},
   "outputs": [
    {
     "name": "stdout",
     "output_type": "stream",
     "text": [
      "Driving...\n",
      "Fuel level: 90%\n",
      "Car model: Camry\n",
      "Car make: Toyota\n",
      "Car model: Camry\n"
     ]
    }
   ],
   "source": [
    "class Car:\n",
    "    def __init__(self, make, model):\n",
    "        self._make = make  # protected attribute\n",
    "        self.__model = model  # private attribute\n",
    "        self._fuel = 100  # protected attribute\n",
    "\n",
    "    # public method to drive the car\n",
    "    def drive(self):\n",
    "        print(\"Driving...\")\n",
    "        self._reduce_fuel(10)\n",
    "\n",
    "    # public method to get the model of the car\n",
    "    def get_model(self):\n",
    "        return self.__model\n",
    "\n",
    "    # protected method to reduce the fuel level\n",
    "    def _reduce_fuel(self, amount):\n",
    "        self._fuel -= amount\n",
    "        print(f\"Fuel level: {self._fuel}%\")\n",
    "\n",
    "# Creating an instance of the Car class\n",
    "my_car = Car(\"Toyota\", \"Camry\")\n",
    "\n",
    "# Accessing public method and attributes\n",
    "my_car.drive()\n",
    "print(f\"Car model: {my_car.get_model()}\")\n",
    "\n",
    "# Attempting to access protected and private attributes directly\n",
    "#print(my_car._make)  # Accessing protected attribute directly (discouraged)\n",
    "#print(my_car.__model)  # This would raise an error (AttributeError)\n",
    "\n",
    "# Accessing protected attribute through public method\n",
    "print(f\"Car make: {my_car._make}\")\n",
    "\n",
    "# Accessing private attribute through public method\n",
    "print(f\"Car model: {my_car.get_model()}\")\n"
   ]
  },
  {
   "cell_type": "markdown",
   "id": "64c32277-f53e-4cd4-9b4a-7e6f5972820e",
   "metadata": {},
   "source": [
    "4. Discuss the difference between public, private, and protected access modifiers in Python."
   ]
  },
  {
   "cell_type": "markdown",
   "id": "adf85681-f597-4c4f-bd77-e46e0219a100",
   "metadata": {},
   "source": [
    " Public Access:\n",
    "\n",
    "Members marked as public are accessible from anywhere, both inside and outside the class. In Python, members without any access modifier are public by default.\n",
    "\n",
    "Private Access:\n",
    "\n",
    "Private members are only accessible within the class that defines them. In Python, you can denote a member as private by prefixing its name with a double underscore (__).\n",
    "\n",
    "Protected Access:\n",
    "\n",
    "Protected members are accessible within the defining class and its subclasses. In Python, you can denote a member as protected by prefixing its name with a single underscore (_)."
   ]
  },
  {
   "cell_type": "markdown",
   "id": "55f95366-328c-45d0-a421-1750a3c489b3",
   "metadata": {},
   "source": [
    "5. Create a Python class called `Person` with a private attribute `__name`. Provide methods to get and set the\n",
    "name attribute."
   ]
  },
  {
   "cell_type": "code",
   "execution_count": 9,
   "id": "7bcee477-bbce-4ef7-a36e-1de2b26f5c8b",
   "metadata": {},
   "outputs": [
    {
     "name": "stdout",
     "output_type": "stream",
     "text": [
      "Shalini\n",
      "Name updated successfully\n",
      "New name Sadika\n"
     ]
    }
   ],
   "source": [
    "class Person:\n",
    "    def __init__(self, name):\n",
    "        self.__name = name #Private attribute\n",
    "        \n",
    "    def get_name(self):\n",
    "        return self.__name\n",
    "    \n",
    "    def set_name(self, new_name):\n",
    "        if isinstance(new_name, str):\n",
    "            self.__name = new_name\n",
    "            print(\"Name updated successfully\")\n",
    "        else:\n",
    "            print(\"Invalid name\")\n",
    "\n",
    "#Creating an object of the above class\n",
    "person1 = Person(\"Shalini\")\n",
    "\n",
    "#Accessing the private attribute through the public method\n",
    "current_name = person1.get_name()\n",
    "print(current_name)\n",
    "\n",
    "#Updating the name\n",
    "person1.set_name(\"Sadika\")\n",
    "print(\"New name\", person1.get_name())"
   ]
  },
  {
   "cell_type": "markdown",
   "id": "2904bb34-2459-4e0a-b6bd-6340f557026b",
   "metadata": {},
   "source": [
    "6. Explain the purpose of getter and setter methods in encapsulation. Provide examples."
   ]
  },
  {
   "cell_type": "markdown",
   "id": "f44eb831-a17a-480b-b7f5-334b114732a8",
   "metadata": {},
   "source": [
    "Getter and setter methods play a crucial role in encapsulation by providing controlled access to the private attributes of a class. These methods allow external code to retrieve and modify the values of private attributes in a controlled manner, enforcing any necessary validation or logic. This helps in maintaining the integrity of the object's state and enhances code modularity."
   ]
  },
  {
   "cell_type": "code",
   "execution_count": 11,
   "id": "8b5bef81-36c5-475b-aec8-1664d5359edc",
   "metadata": {},
   "outputs": [
    {
     "name": "stdout",
     "output_type": "stream",
     "text": [
      "Current Name: Alice, Current Age: 20\n",
      "Name updated successfully.\n",
      "Age updated successfully.\n",
      "Invalid name. Please provide a string.\n",
      "Invalid age. Please provide a positive integer.\n"
     ]
    }
   ],
   "source": [
    "class Student:\n",
    "    def __init__(self, name, age):\n",
    "        self.__name = name  # private attribute\n",
    "        self.__age = age    # private attribute\n",
    "\n",
    "    # Getter methods\n",
    "    def get_name(self):\n",
    "        return self.__name\n",
    "\n",
    "    def get_age(self):\n",
    "        return self.__age\n",
    "\n",
    "    # Setter methods\n",
    "    def set_name(self, new_name):\n",
    "        if isinstance(new_name, str):\n",
    "            self.__name = new_name\n",
    "            print(\"Name updated successfully.\")\n",
    "        else:\n",
    "            print(\"Invalid name. Please provide a string.\")\n",
    "\n",
    "    def set_age(self, new_age):\n",
    "        if isinstance(new_age, int) and new_age > 0:\n",
    "            self.__age = new_age\n",
    "            print(\"Age updated successfully.\")\n",
    "        else:\n",
    "            print(\"Invalid age. Please provide a positive integer.\")\n",
    "\n",
    "# Creating an instance of the Student class\n",
    "student = Student(\"Alice\", 20)\n",
    "\n",
    "# Using getter methods to retrieve data\n",
    "current_name = student.get_name()\n",
    "current_age = student.get_age()\n",
    "print(f\"Current Name: {current_name}, Current Age: {current_age}\")\n",
    "\n",
    "# Using setter methods to modify data\n",
    "student.set_name(\"Bob\")\n",
    "student.set_age(25)\n",
    "\n",
    "# Attempting to update with invalid values\n",
    "student.set_name(123)  # This will print \"Invalid name. Please provide a string.\"\n",
    "student.set_age(-5)   # This will print \"Invalid age. Please provide a positive integer.\"\n"
   ]
  },
  {
   "cell_type": "markdown",
   "id": "f4ccee65-945c-4f33-942d-6edcc039e083",
   "metadata": {},
   "source": [
    "7. What is name mangling in Python, and how does it affect encapsulation?"
   ]
  },
  {
   "cell_type": "markdown",
   "id": "72b9e942-d228-4f9d-854b-aa5627975712",
   "metadata": {},
   "source": [
    "Name mangling in Python is a mechanism that adds a prefix to the names of attributes in a class to make them more unique. This is done by prefixing the name of the attribute with a double underscore (__). This process is applied to attribute names that are prefixed with a double underscore but not suffixed with one. The purpose of name mangling is to make it more difficult to accidentally override attributes in a subclass. However, it is not meant to provide true encapsulation or security, as it can still be accessed if needed.\n",
    "\n",
    "How it Affects Encapsulation:\n",
    "\n",
    "Limited Protection:\n",
    "\n",
    "Name mangling is not a strict security feature. It is primarily a convention to avoid accidental name conflicts rather than a robust mechanism for enforcing encapsulation.\n",
    "The mangled names can still be accessed from outside the class if someone is determined to do so.\n",
    "Convenience and Convention:\n",
    "\n",
    "Name mangling helps to prevent unintentional attribute name conflicts in complex class hierarchies. It is a tool for developers to avoid accidental overwriting of attributes when designing large systems.\n",
    "Not True Encapsulation:\n",
    "\n",
    "True encapsulation involves restricting access to internal implementation details. Name mangling provides a form of name protection, but it does not prevent intentional access from outside the class."
   ]
  },
  {
   "cell_type": "code",
   "execution_count": 12,
   "id": "5d862586-408d-4993-8e06-37613ce9aefa",
   "metadata": {},
   "outputs": [
    {
     "name": "stdout",
     "output_type": "stream",
     "text": [
      "42\n"
     ]
    }
   ],
   "source": [
    "#Example\n",
    "class MyClass:\n",
    "    def __init__(self):\n",
    "        self.__private_attribute = 42  # private attribute using name mangling\n",
    "\n",
    "# Attempting to access the private attribute directly\n",
    "# This will result in an AttributeError\n",
    "# print(obj.__private_attribute)\n",
    "\n",
    "# Accessing the private attribute using name mangling\n",
    "# The attribute is still accessible, but the name is modified\n",
    "obj = MyClass()\n",
    "print(obj._MyClass__private_attribute)  # Output: 42\n"
   ]
  },
  {
   "cell_type": "markdown",
   "id": "294a9c73-98f0-47d6-add1-1d415149a337",
   "metadata": {},
   "source": [
    "8. Create a Python class called `BankAccount` with private attributes for the account balance (`__balance`) and account number (`__account_number`). Provide methods for depositing and withdrawing money."
   ]
  },
  {
   "cell_type": "code",
   "execution_count": 15,
   "id": "da74cd4f-b191-460f-874f-b735b8a08eb5",
   "metadata": {},
   "outputs": [
    {
     "name": "stdout",
     "output_type": "stream",
     "text": [
      "Amount has been deposited successfully\n"
     ]
    },
    {
     "data": {
      "text/plain": [
       "5500"
      ]
     },
     "execution_count": 15,
     "metadata": {},
     "output_type": "execute_result"
    }
   ],
   "source": [
    "class BankAccount:\n",
    "    def __init__(self, balance, account_number):\n",
    "        self.__balance = balance\n",
    "        self.__account_number = account_number\n",
    "        \n",
    "    def get_balance(self):\n",
    "        return self.__balance\n",
    "        \n",
    "    def deposit_money(self, deposit_amnt):\n",
    "        if deposit_amnt > 0:\n",
    "            self.__balance += deposit_amnt\n",
    "            print(\"Amount has been deposited successfully\")\n",
    "        else:\n",
    "            print(\"Enter a valid amount\")\n",
    "            \n",
    "    def withdraw_money(self, withdraw_amnt):\n",
    "        if withdraw_amnt<= self.__balance and withdraw_amnt>0:\n",
    "            self.__balance -= withdraw_amnt\n",
    "            print(\"Amount has been withdrawn successfully\")\n",
    "        else:\n",
    "            print(\"Incorrect amount entered\")\n",
    "\n",
    "account1 = BankAccount(5000, '12345')\n",
    "account1.deposit_money(500)\n",
    "account1.get_balance()\n",
    "            "
   ]
  },
  {
   "cell_type": "markdown",
   "id": "c2e808fb-9d47-4125-8796-fff38df4fa43",
   "metadata": {},
   "source": [
    "9. Discuss the advantages of encapsulation in terms of code maintainability and security."
   ]
  },
  {
   "cell_type": "markdown",
   "id": "b8006475-57e5-4aa5-a36e-71a9b6cd956c",
   "metadata": {},
   "source": [
    "Advantages of Encapsulation:\n",
    "\n",
    "Code Organization:\n",
    "\n",
    "Encapsulation promotes the organization of code by grouping related data (attributes) and methods within a class. This modularity makes the code more readable and maintainable.\n",
    "Code Isolation:\n",
    "\n",
    "Internal implementation details are hidden from the external world. This isolation allows developers to focus on the public interface of a class without being concerned about its internal complexities.\n",
    "Code Reusability:\n",
    "\n",
    "Encapsulation facilitates code reuse by providing a well-defined interface for interacting with objects. Once a class is designed with encapsulation in mind, it can be reused in various parts of the code or in different projects without affecting the external code that uses it.\n",
    "Reduced Interdependence:\n",
    "\n",
    "By encapsulating data and methods within a class, you reduce the dependencies between different parts of the code. Changes to the internal implementation of a class are less likely to affect external code, promoting a more modular and maintainable system.\n",
    "Security:\n",
    "\n",
    "Encapsulation enhances security by controlling access to the internal state of an object. Private attributes and methods are not directly accessible from outside the class, preventing unintended interference and manipulation.\n",
    "Data Validation and Consistency:\n",
    "\n",
    "Setter methods, often used in encapsulation, allow for validation of data before modification. This helps ensure that the data remains consistent and valid throughout the object's lifecycle.\n",
    "Flexibility in Implementation:\n",
    "\n",
    "Encapsulation provides flexibility in implementing the internal details of a class. You can change the internal representation of data or modify methods without affecting the code that uses the class, as long as the public interface remains unchanged.\n",
    "Versioning and Evolution:\n",
    "\n",
    "Encapsulation helps in managing changes to a codebase over time. When new features are added or internal implementations are modified, encapsulation ensures that existing code relying on the public interface remains unaffected.\n",
    "Enhanced Debugging:\n",
    "\n",
    "Debugging becomes easier when the scope of potential issues is limited to the methods and attributes of a specific class. Encapsulation isolates potential problems within the class, making it easier to identify and fix issues.\n",
    "Abstraction:\n",
    "\n",
    "Encapsulation allows you to create abstract data types by defining a clear interface for interacting with objects. Users of a class don't need to understand the internal details; they can interact with the class based on its public methods and attributes."
   ]
  },
  {
   "cell_type": "markdown",
   "id": "139796b7-541b-460a-83fa-970fd09bbe30",
   "metadata": {},
   "source": [
    "10. How can you access private attributes in Python? Provide an example demonstrating the use of name\n",
    "mangling."
   ]
  },
  {
   "cell_type": "markdown",
   "id": "a8f1c9ed-1c58-42c3-9540-6baf09e820b1",
   "metadata": {},
   "source": [
    "\n",
    "Accessing private attributes in Python from outside the class is generally discouraged to maintain encapsulation. However, it is still possible using a technique called name mangling. In Python, when an attribute is prefixed with a double underscore (__), the interpreter internally changes its name to include the class name as a prefix. This is known as name mangling."
   ]
  },
  {
   "cell_type": "code",
   "execution_count": 16,
   "id": "cc942adc-1f9f-4599-bcad-41e834f8807d",
   "metadata": {},
   "outputs": [
    {
     "name": "stdout",
     "output_type": "stream",
     "text": [
      "42\n"
     ]
    }
   ],
   "source": [
    "class MyClass:\n",
    "    def __init__(self):\n",
    "        self.__private_attribute = 42  # private attribute using name mangling\n",
    "\n",
    "# Creating an instance of the MyClass class\n",
    "obj = MyClass()\n",
    "\n",
    "# Accessing the private attribute using name mangling\n",
    "# The attribute is still accessible, but the name is modified\n",
    "print(obj._MyClass__private_attribute)  # Output: 42\n"
   ]
  },
  {
   "cell_type": "markdown",
   "id": "5df802ac-f7a8-46d5-8d21-9ca6d6222742",
   "metadata": {},
   "source": [
    "11. Create a Python class hierarchy for a school system, including classes for students, teachers, and courses,\n",
    "and implement encapsulation principles to protect sensitive information."
   ]
  },
  {
   "cell_type": "code",
   "execution_count": 17,
   "id": "862912d8-287f-4cc8-9aef-113cbf63e43c",
   "metadata": {},
   "outputs": [
    {
     "name": "stdout",
     "output_type": "stream",
     "text": [
      "Alice Student\n",
      "35\n",
      "CS101\n",
      "Name updated successfully.\n",
      "Age updated successfully.\n",
      "New Student Name enrolled in Introduction to Computer Science.\n",
      "Mr. Teacher assigned as the teacher for Introduction to Computer Science.\n"
     ]
    }
   ],
   "source": [
    "class Person: #Base Class\n",
    "    def __init__(self, name, age, id_number):\n",
    "        self.__name = name  # private attribute\n",
    "        self.__age = age    # private attribute\n",
    "        self.__id_number = id_number  # private attribute\n",
    "\n",
    "    def get_name(self): #Getter method to get a name \n",
    "        return self.__name\n",
    "\n",
    "    def set_name(self, new_name): #Setter method to modify the name\n",
    "        if isinstance(new_name, str):\n",
    "            self.__name = new_name\n",
    "            print(\"Name updated successfully.\")\n",
    "        else:\n",
    "            print(\"Invalid name. Please provide a string.\")\n",
    "\n",
    "    def get_age(self): #Getter method to get age\n",
    "        return self.__age\n",
    "\n",
    "    def set_age(self, new_age): #Setter method to modify the age\n",
    "        if isinstance(new_age, int) and new_age > 0:\n",
    "            self.__age = new_age\n",
    "            print(\"Age updated successfully.\")\n",
    "        else:\n",
    "            print(\"Invalid age. Please provide a positive integer.\")\n",
    "\n",
    "    def get_id_number(self): #Getter method to get the ID number \n",
    "        return self.__id_number\n",
    "\n",
    "\n",
    "class Student(Person):   #Subclass for student inheriting the attributes of PErson class \n",
    "    def __init__(self, name, age, id_number, student_id):\n",
    "        super().__init__(name, age, id_number)\n",
    "        self.__student_id = student_id  # private attribute\n",
    "\n",
    "    def get_student_id(self):\n",
    "        return self.__student_id\n",
    "\n",
    "\n",
    "class Teacher(Person): #Subclass for teacher inheriting the attributes of PErson class \n",
    "    def __init__(self, name, age, id_number, employee_id):\n",
    "        super().__init__(name, age, id_number)\n",
    "        self.__employee_id = employee_id  # private attribute\n",
    "\n",
    "    def get_employee_id(self):\n",
    "        return self.__employee_id\n",
    "\n",
    "\n",
    "class Course:\n",
    "    def __init__(self, course_code, course_name):\n",
    "        self.__course_code = course_code  # private attribute\n",
    "        self.__course_name = course_name  # private attribute\n",
    "        self.__students_enrolled = []  # private attribute\n",
    "        self.__teacher = None  # private attribute\n",
    "\n",
    "    def get_course_code(self):\n",
    "        return self.__course_code\n",
    "\n",
    "    def get_course_name(self):\n",
    "        return self.__course_name\n",
    "\n",
    "    def enroll_student(self, student):\n",
    "        if isinstance(student, Student):\n",
    "            self.__students_enrolled.append(student)\n",
    "            print(f\"{student.get_name()} enrolled in {self.__course_name}.\")\n",
    "        else:\n",
    "            print(\"Invalid student object.\")\n",
    "\n",
    "    def assign_teacher(self, teacher):\n",
    "        if isinstance(teacher, Teacher):\n",
    "            self.__teacher = teacher\n",
    "            print(f\"{teacher.get_name()} assigned as the teacher for {self.__course_name}.\")\n",
    "        else:\n",
    "            print(\"Invalid teacher object.\")\n",
    "\n",
    "# Example usage:\n",
    "\n",
    "# Create instances of Student, Teacher, and Course\n",
    "student1 = Student(\"Alice Student\", 18, \"ID123\", \"S001\")\n",
    "teacher1 = Teacher(\"Mr. Teacher\", 35, \"ID456\", \"T001\")\n",
    "course1 = Course(\"CS101\", \"Introduction to Computer Science\")\n",
    "\n",
    "# Use getter methods\n",
    "print(student1.get_name())  # Output: Alice Student\n",
    "print(teacher1.get_age())   # Output: 35\n",
    "print(course1.get_course_code())  # Output: CS101\n",
    "\n",
    "# Use setter methods\n",
    "student1.set_name(\"New Student Name\")\n",
    "teacher1.set_age(36)\n",
    "\n",
    "# Enroll student and assign teacher to the course\n",
    "course1.enroll_student(student1)\n",
    "course1.assign_teacher(teacher1)\n"
   ]
  },
  {
   "cell_type": "markdown",
   "id": "457b4c3f-a9ce-4177-93da-686825f71b59",
   "metadata": {},
   "source": [
    "12. Explain the concept of property decorators in Python and how they relate to encapsulation."
   ]
  },
  {
   "cell_type": "markdown",
   "id": "6fe6d0de-760c-46e8-939c-be22d2737639",
   "metadata": {},
   "source": [
    "In Python, property decorators are a way to implement getter, setter, and deleter methods for class attributes. They provide a more Pythonic and convenient syntax for working with attributes while allowing you to encapsulate the internal state of a class. Property decorators are useful for maintaining a clear and controlled interface for accessing and modifying attributes."
   ]
  },
  {
   "cell_type": "markdown",
   "id": "64a73726-0489-4dd7-a1c8-1efb0fd41202",
   "metadata": {},
   "source": [
    "13. What is data hiding, and why is it important in encapsulation? Provide examples."
   ]
  },
  {
   "cell_type": "markdown",
   "id": "e559a2ad-bfda-44a8-b6d0-40197a002e5d",
   "metadata": {},
   "source": [
    "Data hiding is a key concept in encapsulation that involves restricting the direct access to certain attributes or methods of an object. In object-oriented programming, it refers to the practice of encapsulating the internal state of an object and allowing access only through well-defined interfaces (public methods). This helps in preventing unintended interference and manipulation of the object's internal data, promoting a more robust and secure codebase."
   ]
  },
  {
   "cell_type": "code",
   "execution_count": 18,
   "id": "85a57486-7904-44b2-91cf-9dc5db3a3049",
   "metadata": {},
   "outputs": [
    {
     "name": "stdout",
     "output_type": "stream",
     "text": [
      "Current Balance: $1000\n",
      "Deposit successful. New balance: $1500\n",
      "Withdrawal successful. New balance: $1300\n"
     ]
    }
   ],
   "source": [
    "class BankAccount:\n",
    "    def __init__(self, account_number, balance):\n",
    "        self.__account_number = account_number  # private attribute\n",
    "        self.__balance = balance  # private attribute\n",
    "\n",
    "    def get_balance(self):\n",
    "        return self.__balance\n",
    "\n",
    "    def deposit(self, amount):\n",
    "        if amount > 0:\n",
    "            self.__balance += amount\n",
    "            print(f\"Deposit successful. New balance: ${self.__balance}\")\n",
    "        else:\n",
    "            print(\"Invalid deposit amount. Please provide a positive value.\")\n",
    "\n",
    "    def withdraw(self, amount):\n",
    "        if amount > 0 and amount <= self.__balance:\n",
    "            self.__balance -= amount\n",
    "            print(f\"Withdrawal successful. New balance: ${self.__balance}\")\n",
    "        elif amount > self.__balance:\n",
    "            print(\"Insufficient funds for withdrawal.\")\n",
    "        else:\n",
    "            print(\"Invalid withdrawal amount. Please provide a positive value.\")\n",
    "\n",
    "# Creating an instance of the BankAccount class\n",
    "account = BankAccount(\"123456789\", 1000)\n",
    "\n",
    "# Direct access to private attributes is not allowed\n",
    "# account.__balance  # This would raise an error\n",
    "\n",
    "# Accessing the balance using the public method get_balance\n",
    "current_balance = account.get_balance()\n",
    "print(f\"Current Balance: ${current_balance}\")\n",
    "\n",
    "# Depositing and withdrawing money through public methods\n",
    "account.deposit(500)\n",
    "account.withdraw(200)\n"
   ]
  },
  {
   "cell_type": "markdown",
   "id": "cfc4adeb-dd9d-4225-ac1c-eca4c924655f",
   "metadata": {},
   "source": [
    "14. Create a Python class called `Employee` with private attributes for salary (`__salary`) and employee ID (`__employee_id`). Provide a method to calculate yearly bonuses."
   ]
  },
  {
   "cell_type": "code",
   "execution_count": 19,
   "id": "a04cd181-d5f1-4c4f-b9bc-11beeffc8e10",
   "metadata": {},
   "outputs": [
    {
     "name": "stdout",
     "output_type": "stream",
     "text": [
      "Employee ID: E001\n",
      "Current Salary: $50000\n",
      "Salary updated successfully.\n",
      "Yearly Bonus: $6000.0\n"
     ]
    },
    {
     "data": {
      "text/plain": [
       "6000.0"
      ]
     },
     "execution_count": 19,
     "metadata": {},
     "output_type": "execute_result"
    }
   ],
   "source": [
    "class Employee:\n",
    "    def __init__(self, employee_id, salary):\n",
    "        self.__employee_id = employee_id  # private attribute\n",
    "        self.__salary = salary  # private attribute\n",
    "\n",
    "    def get_employee_id(self):\n",
    "        return self.__employee_id\n",
    "\n",
    "    def get_salary(self):\n",
    "        return self.__salary\n",
    "\n",
    "    def set_salary(self, new_salary):\n",
    "        if new_salary > 0:\n",
    "            self.__salary = new_salary\n",
    "            print(\"Salary updated successfully.\")\n",
    "        else:\n",
    "            print(\"Invalid salary. Please provide a positive value.\")\n",
    "\n",
    "    def calculate_yearly_bonus(self, bonus_percentage):\n",
    "        if 0 <= bonus_percentage <= 100:\n",
    "            bonus_amount = (bonus_percentage / 100) * self.__salary\n",
    "            print(f\"Yearly Bonus: ${bonus_amount}\")\n",
    "            return bonus_amount\n",
    "        else:\n",
    "            print(\"Invalid bonus percentage. Please provide a value between 0 and 100.\")\n",
    "\n",
    "# Creating an instance of the Employee class\n",
    "employee = Employee(employee_id=\"E001\", salary=50000)\n",
    "\n",
    "# Accessing private attributes using getter methods\n",
    "print(f\"Employee ID: {employee.get_employee_id()}\")\n",
    "print(f\"Current Salary: ${employee.get_salary()}\")\n",
    "\n",
    "#Updating the salary using the setter method\n",
    "employee.set_salary(60000)\n",
    "\n",
    "# Calculating yearly bonus\n",
    "employee.calculate_yearly_bonus(bonus_percentage=10)\n"
   ]
  },
  {
   "cell_type": "markdown",
   "id": "3533fd85-a903-4751-b90e-468ebef618e5",
   "metadata": {},
   "source": [
    "15. Discuss the use of accessors and mutators in encapsulation. How do they help maintain control over\n",
    "attribute access?"
   ]
  },
  {
   "cell_type": "markdown",
   "id": "e8878fe4-4875-40d6-8540-544c63fe0712",
   "metadata": {},
   "source": [
    "\n",
    "Accessors and mutators are terms often used in the context of encapsulation to refer to methods that provide controlled access to the attributes of a class. They play a crucial role in maintaining control over attribute access by enforcing encapsulation principles.\n",
    "\n",
    "Accessors (Getters):\n",
    "Purpose:\n",
    "\n",
    "Accessors, commonly known as getter methods, are used to retrieve the values of private attributes.\n",
    "They provide read access to the internal state of an object.\n",
    "Implementation:\n",
    "\n",
    "Accessors are typically named in the form get_<attribute_name> and return the value of the associated private attribute.\n",
    "They allow external code to inquire about the current state without directly accessing or modifying the private attribute.\n",
    "\n",
    "Mutators (Setters):\n",
    "Purpose:\n",
    "\n",
    "Mutators, commonly known as setter methods, are used to modify the values of private attributes.\n",
    "They provide controlled write access to the internal state of an object.\n",
    "Implementation:\n",
    "\n",
    "Mutators are typically named in the form set_<attribute_name> and take a parameter to update the associated private attribute.\n",
    "They often include validation logic to ensure that the new value meets certain criteria before modification."
   ]
  },
  {
   "cell_type": "markdown",
   "id": "bc87fea3-e82d-4a27-aa08-e4bc1ce88055",
   "metadata": {},
   "source": [
    "How They Help Maintain Control:\n",
    "Controlled Access:\n",
    "\n",
    "Accessors and mutators define a controlled interface for interacting with the internal state of an object. External code is encouraged to use these methods rather than accessing private attributes directly.\n",
    "Validation and Logic:\n",
    "\n",
    "Mutators, in particular, allow you to implement validation logic. Before updating the internal state, you can check if the new value meets specific criteria, ensuring the integrity of the object's data.\n",
    "Encapsulation:\n",
    "\n",
    "By using accessors and mutators, you encapsulate the internal details of a class. This encapsulation prevents direct access to private attributes and promotes a clear separation between the implementation details and the external interface.\n",
    "Code Maintainability:\n",
    "\n",
    "Accessors and mutators make the code more maintainable. If the internal representation of data changes, you can update the getter and setter methods while keeping the external code unaffected.\n",
    "Flexibility in Implementation:\n",
    "\n",
    "The use of accessors and mutators provides flexibility in implementing the internal details of a class. You can change the representation of data without affecting external code as long as the public interface remains consistent."
   ]
  },
  {
   "cell_type": "markdown",
   "id": "d8b04658-33b1-497d-890e-104cd1c2e666",
   "metadata": {},
   "source": [
    "16. What are the potential drawbacks or disadvantages of using encapsulation in Python?"
   ]
  },
  {
   "cell_type": "markdown",
   "id": "37ddc6c4-d0a6-412a-b345-3d3eb68528b3",
   "metadata": {},
   "source": [
    "Potential Drawbacks of Encapsulation in Python:\n",
    "Increased Complexity:\n",
    "\n",
    "Encapsulation may introduce additional complexity to the code, especially if used excessively. Overuse of accessors and mutators can make the code harder to read and maintain.\n",
    "Boilerplate Code:\n",
    "\n",
    "Implementing encapsulation with accessors and mutators may lead to boilerplate code. For every attribute, you need to write getter and setter methods, potentially resulting in verbose and repetitive code.\n",
    "Performance Overhead:\n",
    "\n",
    "In some cases, using accessors and mutators may introduce a slight performance overhead compared to direct attribute access. While this overhead is often negligible, it can be a consideration in performance-critical applications.\n",
    "Reduced Direct Control:\n",
    "\n",
    "Encapsulation limits direct access to the internal state of an object. In certain situations, direct control over attributes might be necessary for specific optimizations or to work with external libraries that don't follow encapsulation principles.\n",
    "False Sense of Security:\n",
    "\n",
    "Encapsulation in Python is not a foolproof security mechanism. It can create a false sense of security, as private attributes and methods can still be accessed using techniques like name mangling. It's more about convention and best practices than strict enforcement."
   ]
  },
  {
   "cell_type": "markdown",
   "id": "881636f7-2740-4ad3-85ba-47d531d738a2",
   "metadata": {},
   "source": [
    "17. Create a Python class for a library system that encapsulates book information, including titles, authors,\n",
    "and availability status."
   ]
  },
  {
   "cell_type": "code",
   "execution_count": 20,
   "id": "f0a3ad55-8311-402a-9bf9-16120d68600e",
   "metadata": {},
   "outputs": [
    {
     "name": "stdout",
     "output_type": "stream",
     "text": [
      "Book 1: Introduction to Python by John Doe\n",
      "Book 2: Data Science Essentials by Jane Smith\n",
      "Book 'Introduction to Python' by John Doe has been borrowed.\n",
      "Book 'Data Science Essentials' by Jane Smith has been borrowed.\n",
      "Book 'Introduction to Python' by John Doe has been returned.\n",
      "Book 'Data Science Essentials' by Jane Smith has been returned.\n"
     ]
    }
   ],
   "source": [
    "class Book:\n",
    "    def __init__(self, title, author):\n",
    "        self.__title = title  # private attribute\n",
    "        self.__author = author  # private attribute\n",
    "        self.__available = True  # private attribute\n",
    "\n",
    "    def get_title(self):\n",
    "        return self.__title\n",
    "\n",
    "    def get_author(self):\n",
    "        return self.__author\n",
    "\n",
    "    def is_available(self):\n",
    "        return self.__available\n",
    "\n",
    "    def borrow_book(self):\n",
    "        if self.__available:\n",
    "            self.__available = False\n",
    "            print(f\"Book '{self.__title}' by {self.__author} has been borrowed.\")\n",
    "        else:\n",
    "            print(f\"Sorry, '{self.__title}' is currently not available.\")\n",
    "\n",
    "    def return_book(self):\n",
    "        if not self.__available:\n",
    "            self.__available = True\n",
    "            print(f\"Book '{self.__title}' by {self.__author} has been returned.\")\n",
    "        else:\n",
    "            print(\"Invalid operation. The book is already available.\")\n",
    "\n",
    "# Example usage:\n",
    "\n",
    "# Creating instances of the Book class\n",
    "book1 = Book(title=\"Introduction to Python\", author=\"John Doe\")\n",
    "book2 = Book(title=\"Data Science Essentials\", author=\"Jane Smith\")\n",
    "\n",
    "# Accessing book information using getters\n",
    "print(f\"Book 1: {book1.get_title()} by {book1.get_author()}\")\n",
    "print(f\"Book 2: {book2.get_title()} by {book2.get_author()}\")\n",
    "\n",
    "# Borrowing and returning books\n",
    "book1.borrow_book()\n",
    "book2.borrow_book()\n",
    "book1.return_book()\n",
    "book2.return_book()\n"
   ]
  },
  {
   "cell_type": "markdown",
   "id": "f06add26-ecf2-418f-b694-6ca571510c9d",
   "metadata": {},
   "source": [
    "18. Explain how encapsulation enhances code reusability and modularity in Python programs."
   ]
  },
  {
   "cell_type": "markdown",
   "id": "cd591136-af82-4366-af83-39aa7c565eac",
   "metadata": {},
   "source": [
    "Modularity:\n",
    "\n",
    "Encapsulation encourages the organization of code into modular units, which are classes in the context of object-oriented programming (OOP). Each class encapsulates a specific set of functionalities, and the implementation details are hidden from the outside world.\n",
    "Modular units, or classes, can be designed to have a single responsibility, making them more focused and easier to understand. This modularity enhances the overall structure of the codebase.\n",
    "\n",
    "Reusability of Classes:\n",
    "\n",
    "Encapsulated classes provide reusable components. Once a class is designed and tested, it can be reused in various parts of the codebase without worrying about its internal details. Other parts of the program can interact with the class through its well-defined interface, relying on its functionality without needing to understand how it works internally."
   ]
  },
  {
   "cell_type": "markdown",
   "id": "067aea72-cf5a-4264-86c0-a6b6c9e34bba",
   "metadata": {},
   "source": [
    "19. Describe the concept of information hiding in encapsulation. Why is it essential in software development?"
   ]
  },
  {
   "cell_type": "markdown",
   "id": "e96bcb13-5222-4ab7-a6fc-de351f9c45d4",
   "metadata": {},
   "source": [
    "Information hiding is a crucial concept in encapsulation that involves concealing the internal details of an object or module and exposing only what is necessary for its proper usage. It aims to restrict access to the internal implementation of a class, revealing only a well-defined interface to the outside world. The main idea is to hide the complexity and implementation specifics, providing a clear and controlled means of interacting with an object.\n",
    "\n",
    "Information hiding is essential in software development as it enables encapsulation, promotes modularity, enhances security, and contributes to code simplicity and maintainability. It is a key principle in creating robust and adaptable software systems."
   ]
  },
  {
   "cell_type": "markdown",
   "id": "2fbe338a-3073-4dec-bc3c-d83ee81d4057",
   "metadata": {},
   "source": [
    "20. Create a Python class called `Customer` with private attributes for customer details like name, address,\n",
    "and contact information. Implement encapsulation to ensure data integrity and security."
   ]
  },
  {
   "cell_type": "code",
   "execution_count": 21,
   "id": "975f5f8e-eb88-4814-8901-86f9b91ccd7c",
   "metadata": {},
   "outputs": [
    {
     "name": "stdout",
     "output_type": "stream",
     "text": [
      "Customer ID: C001\n",
      "Name: John Doe\n",
      "Address: 123 Main St\n",
      "Contact Number: 1234567890\n",
      "Name updated successfully.\n",
      "Address updated successfully.\n",
      "Contact number updated successfully.\n"
     ]
    }
   ],
   "source": [
    "class Customer:\n",
    "    def __init__(self, customer_id, name, address, contact_number):\n",
    "        self.__customer_id = customer_id  # private attribute\n",
    "        self.__name = name  # private attribute\n",
    "        self.__address = address  # private attribute\n",
    "        self.__contact_number = contact_number  # private attribute\n",
    "\n",
    "    def get_customer_id(self):\n",
    "        return self.__customer_id\n",
    "\n",
    "    def get_name(self):\n",
    "        return self.__name\n",
    "\n",
    "    def set_name(self, new_name):\n",
    "        if isinstance(new_name, str):\n",
    "            self.__name = new_name\n",
    "            print(\"Name updated successfully.\")\n",
    "        else:\n",
    "            print(\"Invalid name. Please provide a string.\")\n",
    "\n",
    "    def get_address(self):\n",
    "        return self.__address\n",
    "\n",
    "    def set_address(self, new_address):\n",
    "        if isinstance(new_address, str):\n",
    "            self.__address = new_address\n",
    "            print(\"Address updated successfully.\")\n",
    "        else:\n",
    "            print(\"Invalid address. Please provide a string.\")\n",
    "\n",
    "    def get_contact_number(self):\n",
    "        return self.__contact_number\n",
    "\n",
    "    def set_contact_number(self, new_contact_number):\n",
    "        if isinstance(new_contact_number, str) and len(new_contact_number) == 10:\n",
    "            self.__contact_number = new_contact_number\n",
    "            print(\"Contact number updated successfully.\")\n",
    "        else:\n",
    "            print(\"Invalid contact number. Please provide a 10-digit string.\")\n",
    "\n",
    "# Example usage:\n",
    "\n",
    "# Creating an instance of the Customer class\n",
    "customer1 = Customer(customer_id=\"C001\", name=\"John Doe\", address=\"123 Main St\", contact_number=\"1234567890\")\n",
    "\n",
    "# Accessing customer information using getters\n",
    "print(f\"Customer ID: {customer1.get_customer_id()}\")\n",
    "print(f\"Name: {customer1.get_name()}\")\n",
    "print(f\"Address: {customer1.get_address()}\")\n",
    "print(f\"Contact Number: {customer1.get_contact_number()}\")\n",
    "\n",
    "# Updating customer information using setters\n",
    "customer1.set_name(\"Jane Smith\")\n",
    "customer1.set_address(\"456 Oak St\")\n",
    "customer1.set_contact_number(\"9876543210\")\n"
   ]
  },
  {
   "cell_type": "markdown",
   "id": "5d11f023-2118-4484-b546-7acf7b7c2026",
   "metadata": {},
   "source": [
    "# Polymorphism:"
   ]
  },
  {
   "cell_type": "markdown",
   "id": "241b6385-ab85-4117-a949-9fe0d3ab05f9",
   "metadata": {},
   "source": [
    "1. What is polymorphism in Python? Explain how it is related to object-oriented programming."
   ]
  },
  {
   "cell_type": "markdown",
   "id": "5ce03495-3b08-4d7f-9966-50d6db85b6c6",
   "metadata": {},
   "source": [
    "Polymorphism is a fundamental concept in object-oriented programming (OOP) that allows objects of different classes to be treated as objects of a common base class. The term \"polymorphism\" is derived from the Greek words \"poly\" (many) and \"morphos\" (forms), indicating the ability of a single entity to take on multiple forms. \n",
    "\n",
    "It is related to object oriented programming in the sense that the objects can be related to different classes together. "
   ]
  },
  {
   "cell_type": "markdown",
   "id": "51591aac-4905-498b-862a-86fca67e1d61",
   "metadata": {},
   "source": [
    "2. Describe the difference between compile-time polymorphism and runtime polymorphism in Python."
   ]
  },
  {
   "cell_type": "markdown",
   "id": "3f54fc9c-db96-4335-bc5b-1762e11bb62d",
   "metadata": {},
   "source": [
    "In Python, polymorphism is a concept that allows objects of different types to be treated as objects of a common type. Polymorphism can be achieved in two main ways: through compile-time polymorphism (also known as static polymorphism) and runtime polymorphism (also known as dynamic polymorphism). However, it's important to note that Python is a dynamically-typed language, which means that the type of a variable is interpreted at runtime. This influences the way polymorphism is implemented in Python.\n",
    "\n",
    "Compile-time Polymorphism (Static Polymorphism):\n",
    "\n",
    "Compile-time polymorphism refers to the polymorphic behavior that is resolved during the compilation phase of a program.\n",
    "In statically-typed languages (where the type of a variable is known at compile time), the compiler can determine which method or function to call based on the type of the variables involved.\n",
    "In Python, since it is dynamically-typed, compile-time polymorphism is not explicitly supported. However, you can achieve a similar effect through function overloading or operator overloading, where a function or operator behaves differently based on the type or number of arguments."
   ]
  },
  {
   "cell_type": "code",
   "execution_count": 1,
   "id": "c157cc30-30c5-499a-b9c1-2789249281cf",
   "metadata": {},
   "outputs": [],
   "source": [
    "#Example of compile-time polymorphism in Python\n",
    "def add(a, b):\n",
    "    return a + b\n",
    "\n",
    "def add_strings(str1, str2):\n",
    "    return str1 + str2\n"
   ]
  },
  {
   "cell_type": "markdown",
   "id": "582148d6-8563-436a-98d3-8506c02f436e",
   "metadata": {},
   "source": [
    "Runtime Polymorphism (Dynamic Polymorphism):\n",
    "\n",
    "Runtime polymorphism refers to the polymorphic behavior that is resolved during the runtime of a program.\n",
    "In dynamically-typed languages like Python, runtime polymorphism is achieved through method overriding and the use of abstract classes or interfaces.\n",
    "Method overriding occurs when a subclass provides a specific implementation for a method that is already defined in its superclass. The method that gets executed is determined by the actual type of the object during runtime."
   ]
  },
  {
   "cell_type": "code",
   "execution_count": 2,
   "id": "14cf36c7-bda4-4b7b-b243-9ee20537e8bd",
   "metadata": {},
   "outputs": [
    {
     "name": "stdout",
     "output_type": "stream",
     "text": [
      "Woof!\n",
      "Meow!\n"
     ]
    }
   ],
   "source": [
    "#Example of Runtime Polymorphism\n",
    "\n",
    "class Animal:\n",
    "    def speak(self):\n",
    "        pass\n",
    "\n",
    "class Dog(Animal):\n",
    "    def speak(self):\n",
    "        return \"Woof!\"\n",
    "\n",
    "class Cat(Animal):\n",
    "    def speak(self):\n",
    "        return \"Meow!\"\n",
    "\n",
    "def animal_sound(animal):\n",
    "    return animal.speak()\n",
    "\n",
    "dog = Dog()\n",
    "cat = Cat()\n",
    "\n",
    "print(animal_sound(dog))  # Output: Woof!\n",
    "print(animal_sound(cat))  # Output: Meow!\n"
   ]
  },
  {
   "cell_type": "markdown",
   "id": "d7dc0ace-1aec-454e-89fa-f6575bfbdbdd",
   "metadata": {},
   "source": [
    "3. Create a Python class hierarchy for shapes (e.g., circle, square, triangle) and demonstrate polymorphism \n",
    " through a common method, such as `calculate_area()`."
   ]
  },
  {
   "cell_type": "code",
   "execution_count": 4,
   "id": "6a2707b9-027c-457f-8542-ab1419d5a5f5",
   "metadata": {},
   "outputs": [
    {
     "name": "stdout",
     "output_type": "stream",
     "text": [
      "Area: 78.53981633974483\n",
      "Area: 16\n",
      "Area: 9.0\n"
     ]
    }
   ],
   "source": [
    "import math\n",
    "\n",
    "class Shape:\n",
    "    def calculate_area(self):\n",
    "        pass  # This method will be overridden by subclasses\n",
    "\n",
    "class Circle(Shape):\n",
    "    def __init__(self, radius):\n",
    "        self.radius = radius\n",
    "\n",
    "    def calculate_area(self):\n",
    "        return math.pi * self.radius ** 2\n",
    "\n",
    "class Square(Shape):\n",
    "    def __init__(self, side_length):\n",
    "        self.side_length = side_length\n",
    "\n",
    "    def calculate_area(self):\n",
    "        return self.side_length ** 2\n",
    "\n",
    "class Triangle(Shape):\n",
    "    def __init__(self, base, height):\n",
    "        self.base = base\n",
    "        self.height = height\n",
    "\n",
    "    def calculate_area(self):\n",
    "        return 0.5 * self.base * self.height\n",
    "\n",
    "# Function to demonstrate polymorphism\n",
    "def print_area(shape):\n",
    "    print(f\"Area: {shape.calculate_area()}\")\n",
    "\n",
    "# Create instances of different shapes\n",
    "circle = Circle(radius=5)\n",
    "square = Square(side_length=4)\n",
    "triangle = Triangle(base=3, height=6)\n",
    "\n",
    "# Demonstrate polymorphism\n",
    "print_area(circle)    # Output: Area: 78.53981633974483\n",
    "print_area(square)    # Output: Area: 16\n",
    "print_area(triangle)  # Output: Area: 9.0\n"
   ]
  },
  {
   "cell_type": "markdown",
   "id": "c2904f74-491f-4819-a354-393cfd9b603c",
   "metadata": {},
   "source": [
    "4. Explain the concept of method overriding in polymorphism. Provide an example."
   ]
  },
  {
   "cell_type": "markdown",
   "id": "366bffb6-6840-496f-aa4b-4df30241e23d",
   "metadata": {},
   "source": [
    "\n",
    "Method overriding is a concept in object-oriented programming that allows a subclass to provide a specific implementation for a method that is already defined in its superclass. When a method in the subclass has the same name, return type, and parameters as a method in its superclass, it is said to override that method. The overridden method in the subclass is called instead of the method in the superclass when an object of the subclass is used."
   ]
  },
  {
   "cell_type": "code",
   "execution_count": 5,
   "id": "1edd4e68-43ed-4bb5-a7ee-992880dfd6c4",
   "metadata": {},
   "outputs": [
    {
     "name": "stdout",
     "output_type": "stream",
     "text": [
      "Generic animal sound\n",
      "Woof!\n",
      "Meow!\n"
     ]
    }
   ],
   "source": [
    "class Animal:\n",
    "    def make_sound(self):\n",
    "        return \"Generic animal sound\"\n",
    "\n",
    "class Dog(Animal):\n",
    "    def make_sound(self):\n",
    "        return \"Woof!\"\n",
    "\n",
    "class Cat(Animal):\n",
    "    def make_sound(self):\n",
    "        return \"Meow!\"\n",
    "\n",
    "# Function to demonstrate method overriding and polymorphism\n",
    "def animal_sound(animal):\n",
    "    return animal.make_sound()\n",
    "\n",
    "# Create instances of different animals\n",
    "generic_animal = Animal()\n",
    "dog = Dog()\n",
    "cat = Cat()\n",
    "\n",
    "# Demonstrate method overriding and polymorphism\n",
    "print(animal_sound(generic_animal))  # Output: Generic animal sound\n",
    "print(animal_sound(dog))             # Output: Woof!\n",
    "print(animal_sound(cat))             # Output: Meow!\n"
   ]
  },
  {
   "cell_type": "markdown",
   "id": "7bff9e7c-41a8-41fa-b69c-bf78cadb645b",
   "metadata": {},
   "source": [
    "Polymorphism:\n",
    "\n",
    "Polymorphism refers to the ability of objects of different types to be treated as objects of a common type. It allows a single interface (method or function) to be used for objects of various types.\n",
    "In Python, polymorphism is achieved through method overriding in inheritance or through operator overloading.\n",
    "Example of polymorphism using method overriding:"
   ]
  },
  {
   "cell_type": "code",
   "execution_count": 6,
   "id": "0c3cfae5-c421-4502-8043-f1899f54af4c",
   "metadata": {},
   "outputs": [
    {
     "name": "stdout",
     "output_type": "stream",
     "text": [
      "Woof!\n",
      "Meow!\n"
     ]
    }
   ],
   "source": [
    "class Animal:\n",
    "    def speak(self):\n",
    "        return \"Generic animal sound\"\n",
    "\n",
    "class Dog(Animal):\n",
    "    def speak(self):\n",
    "        return \"Woof!\"\n",
    "\n",
    "class Cat(Animal):\n",
    "    def speak(self):\n",
    "        return \"Meow!\"\n",
    "\n",
    "def animal_sound(animal):\n",
    "    return animal.speak()\n",
    "\n",
    "# Demonstrate polymorphism\n",
    "dog = Dog()\n",
    "cat = Cat()\n",
    "\n",
    "print(animal_sound(dog))  # Output: Woof!\n",
    "print(animal_sound(cat))  # Output: Meow!\n"
   ]
  },
  {
   "cell_type": "markdown",
   "id": "07cfc1cf-3000-42e7-94a4-c7cfadee1eda",
   "metadata": {},
   "source": [
    "Method Overloading:\n",
    "\n",
    "Method overloading refers to defining multiple methods in the same class with the same name but different parameter lists. The method that gets called is determined by the number and types of arguments passed.\n",
    "Example of method overloading in Python:"
   ]
  },
  {
   "cell_type": "code",
   "execution_count": 7,
   "id": "89db01a1-196e-4fa6-a4c7-cf0e51439421",
   "metadata": {},
   "outputs": [
    {
     "ename": "TypeError",
     "evalue": "MathOperations.add() missing 1 required positional argument: 'c'",
     "output_type": "error",
     "traceback": [
      "\u001b[0;31m---------------------------------------------------------------------------\u001b[0m",
      "\u001b[0;31mTypeError\u001b[0m                                 Traceback (most recent call last)",
      "Cell \u001b[0;32mIn[7], line 10\u001b[0m\n\u001b[1;32m      8\u001b[0m \u001b[38;5;66;03m# Attempting to use method overloading\u001b[39;00m\n\u001b[1;32m      9\u001b[0m math_ops \u001b[38;5;241m=\u001b[39m MathOperations()\n\u001b[0;32m---> 10\u001b[0m result1 \u001b[38;5;241m=\u001b[39m \u001b[43mmath_ops\u001b[49m\u001b[38;5;241;43m.\u001b[39;49m\u001b[43madd\u001b[49m\u001b[43m(\u001b[49m\u001b[38;5;241;43m2\u001b[39;49m\u001b[43m,\u001b[49m\u001b[43m \u001b[49m\u001b[38;5;241;43m3\u001b[39;49m\u001b[43m)\u001b[49m       \u001b[38;5;66;03m# Raises an error because the second add method is overwritten\u001b[39;00m\n\u001b[1;32m     11\u001b[0m result2 \u001b[38;5;241m=\u001b[39m math_ops\u001b[38;5;241m.\u001b[39madd(\u001b[38;5;241m2\u001b[39m, \u001b[38;5;241m3\u001b[39m, \u001b[38;5;241m4\u001b[39m)    \u001b[38;5;66;03m# Correct usage of the second add method\u001b[39;00m\n",
      "\u001b[0;31mTypeError\u001b[0m: MathOperations.add() missing 1 required positional argument: 'c'"
     ]
    }
   ],
   "source": [
    "class MathOperations:\n",
    "    def add(self, a, b):\n",
    "        return a + b\n",
    "\n",
    "    def add(self, a, b, c):\n",
    "        return a + b + c\n",
    "\n",
    "# Attempting to use method overloading\n",
    "math_ops = MathOperations()\n",
    "result1 = math_ops.add(2, 3)       # Raises an error because the second add method is overwritten\n",
    "result2 = math_ops.add(2, 3, 4)    # Correct usage of the second add method\n"
   ]
  },
  {
   "cell_type": "markdown",
   "id": "34fa9c2b-81eb-4abe-b500-e9f2f666add9",
   "metadata": {},
   "source": [
    "6. Create a Python class called `Animal` with a method `speak()`. Then, create child classes like `Dog`, `Cat`, and `Bird`, each with their own `speak()` method. Demonstrate polymorphism by calling the `speak()` method\n",
    "on objects of different subclasses."
   ]
  },
  {
   "cell_type": "code",
   "execution_count": 8,
   "id": "2ad8e2ca-f1d2-4b01-9512-35a166fd9df5",
   "metadata": {},
   "outputs": [
    {
     "name": "stdout",
     "output_type": "stream",
     "text": [
      "Generic animal sound\n",
      "Woof!\n",
      "Meow!\n",
      "Tweet!\n"
     ]
    }
   ],
   "source": [
    "class Animal:\n",
    "    def speak(self):\n",
    "        return \"Generic animal sound\"\n",
    "\n",
    "class Dog(Animal):\n",
    "    def speak(self):\n",
    "        return \"Woof!\"\n",
    "\n",
    "class Cat(Animal):\n",
    "    def speak(self):\n",
    "        return \"Meow!\"\n",
    "\n",
    "class Bird(Animal):\n",
    "    def speak(self):\n",
    "        return \"Tweet!\"\n",
    "\n",
    "# Function to demonstrate polymorphism\n",
    "def animal_sounds(animal):\n",
    "    return animal.speak()\n",
    "\n",
    "# Create instances of different animals\n",
    "generic_animal = Animal()\n",
    "dog = Dog()\n",
    "cat = Cat()\n",
    "bird = Bird()\n",
    "\n",
    "# Demonstrate polymorphism\n",
    "print(animal_sounds(generic_animal))  # Output: Generic animal sound\n",
    "print(animal_sounds(dog))             # Output: Woof!\n",
    "print(animal_sounds(cat))             # Output: Meow!\n",
    "print(animal_sounds(bird))            # Output: Tweet!\n"
   ]
  },
  {
   "cell_type": "markdown",
   "id": "8a98ccaf-6295-436d-9ac2-d5daef97e7fd",
   "metadata": {},
   "source": [
    "7. Discuss the use of abstract methods and classes in achieving polymorphism in Python. Provide an example\n",
    "using the `abc` module."
   ]
  },
  {
   "cell_type": "markdown",
   "id": "5ebac56e-e288-4c14-b983-74085209698c",
   "metadata": {},
   "source": [
    "\n",
    "In Python, abstract classes and abstract methods provide a way to define a common interface for a group of related classes. Abstract classes cannot be instantiated on their own, and they may contain one or more abstract methods, which are methods that must be implemented by any concrete (non-abstract) subclass. This concept is useful for achieving polymorphism, as it enforces a consistent interface across multiple classes.\n",
    "\n",
    "The abc (Abstract Base Classes) module in Python provides the ABC (Abstract Base Class) and abstractmethod decorator for creating abstract classes and methods, respectively."
   ]
  },
  {
   "cell_type": "code",
   "execution_count": 9,
   "id": "2c1edb06-53cc-4823-886c-d3631775c528",
   "metadata": {},
   "outputs": [
    {
     "name": "stdout",
     "output_type": "stream",
     "text": [
      "Area: 78.5\n",
      "Area: 16\n",
      "Area: 9.0\n"
     ]
    }
   ],
   "source": [
    "from abc import ABC, abstractmethod\n",
    "\n",
    "# Define an abstract class with an abstract method\n",
    "class Shape(ABC):\n",
    "    @abstractmethod\n",
    "    def calculate_area(self):\n",
    "        pass\n",
    "\n",
    "# Concrete subclasses implementing the abstract method\n",
    "class Circle(Shape):\n",
    "    def __init__(self, radius):\n",
    "        self.radius = radius\n",
    "\n",
    "    def calculate_area(self):\n",
    "        return 3.14 * self.radius ** 2\n",
    "\n",
    "class Square(Shape):\n",
    "    def __init__(self, side_length):\n",
    "        self.side_length = side_length\n",
    "\n",
    "    def calculate_area(self):\n",
    "        return self.side_length ** 2\n",
    "\n",
    "class Triangle(Shape):\n",
    "    def __init__(self, base, height):\n",
    "        self.base = base\n",
    "        self.height = height\n",
    "\n",
    "    def calculate_area(self):\n",
    "        return 0.5 * self.base * self.height\n",
    "\n",
    "# Function to demonstrate polymorphism using abstract classes\n",
    "def print_area(shape):\n",
    "    print(f\"Area: {shape.calculate_area()}\")\n",
    "\n",
    "# Create instances of different shapes\n",
    "circle = Circle(radius=5)\n",
    "square = Square(side_length=4)\n",
    "triangle = Triangle(base=3, height=6)\n",
    "\n",
    "# Demonstrate polymorphism\n",
    "print_area(circle)    # Output: Area: 78.5\n",
    "print_area(square)    # Output: Area: 16\n",
    "print_area(triangle)  # Output: Area: 9.0\n"
   ]
  },
  {
   "cell_type": "markdown",
   "id": "aad104f6-6d90-4b46-a32d-cd25dd370ffe",
   "metadata": {},
   "source": [
    "8. Create a Python class hierarchy for a vehicle system (e.g., car, bicycle, boat) and implement a polymorphic `start()` method that prints a message specific to each vehicle type."
   ]
  },
  {
   "cell_type": "code",
   "execution_count": null,
   "id": "d711b279-cc56-41a9-9851-ed4d04d378b4",
   "metadata": {},
   "outputs": [
    {
     "name": "stdout",
     "output_type": "stream",
     "text": [
      "Car started. Vroom!\n",
      "Bicycle started. Pedal, pedal!\n",
      "Boat started. Set sail!\n"
     ]
    }
   ],
   "source": [
    "class Vehicle:\n",
    "    def start(self):\n",
    "        pass  # This method will be overridden by subclasses\n",
    "\n",
    "class Car(Vehicle):\n",
    "    def start(self):\n",
    "        return \"Car started. Vroom!\"\n",
    "\n",
    "class Bicycle(Vehicle):\n",
    "    def start(self):\n",
    "        return \"Bicycle started. Pedal, pedal!\"\n",
    "\n",
    "class Boat(Vehicle):\n",
    "    def start(self):\n",
    "        return \"Boat started. Set sail!\"\n",
    "\n",
    "# Function to demonstrate polymorphism\n",
    "def start_vehicle(vehicle):\n",
    "    return vehicle.start()\n",
    "\n",
    "# Create instances of different vehicles\n",
    "car = Car()\n",
    "bicycle = Bicycle()\n",
    "boat = Boat()\n",
    "\n",
    "# Demonstrate polymorphism\n",
    "print(start_vehicle(car))      # Output: Car started. Vroom!\n",
    "print(start_vehicle(bicycle))  # Output: Bicycle started. Pedal, pedal!\n",
    "print(start_vehicle(boat))      # Output: Boat started. Set sail!\n"
   ]
  },
  {
   "cell_type": "markdown",
   "id": "24702f1e-64a9-426b-8e28-8b5113b896c6",
   "metadata": {},
   "source": [
    "9. Explain the significance of the `isinstance()` and `issubclass()` functions in Python polymorphism."
   ]
  },
  {
   "cell_type": "markdown",
   "id": "279b433e-38cc-45e2-a1dc-d5455ada536f",
   "metadata": {},
   "source": [
    "In Python, the isinstance() and issubclass() functions are used to check the type relationships between objects and classes, respectively. These functions are significant in the context of polymorphism as they help ensure that objects or classes adhere to certain types or hierarchies, allowing for more robust and flexible code."
   ]
  },
  {
   "cell_type": "markdown",
   "id": "7303463d-afe4-4696-8f26-edacf0685f44",
   "metadata": {},
   "source": [
    "10. What is the role of the `@abstractmethod` decorator in achieving polymorphism in Python? Provide an\n",
    "example."
   ]
  },
  {
   "cell_type": "markdown",
   "id": "9f7480d7-97a4-4a5d-9e1d-81bc1b22d1ec",
   "metadata": {},
   "source": [
    "The @abstractmethod decorator is part of the abc (Abstract Base Classes) module in Python. It is used to define abstract methods within an abstract class. An abstract method is a method declared in an abstract class but without providing any implementation. Concrete subclasses must override and implement abstract methods, ensuring a consistent interface across related classes. The use of abstract methods contributes to achieving polymorphism in Python."
   ]
  },
  {
   "cell_type": "code",
   "execution_count": 11,
   "id": "d60f9b97-5f51-4f19-978d-4a9506eeda09",
   "metadata": {},
   "outputs": [
    {
     "name": "stdout",
     "output_type": "stream",
     "text": [
      "Area: 78.5\n",
      "Area: 16\n",
      "Area: 9.0\n"
     ]
    }
   ],
   "source": [
    "from abc import ABC, abstractmethod\n",
    "\n",
    "# Define an abstract class with an abstract method\n",
    "class Shape(ABC):\n",
    "    @abstractmethod\n",
    "    def calculate_area(self):\n",
    "        pass\n",
    "\n",
    "# Concrete subclasses implementing the abstract method\n",
    "class Circle(Shape):\n",
    "    def __init__(self, radius):\n",
    "        self.radius = radius\n",
    "\n",
    "    def calculate_area(self):\n",
    "        return 3.14 * self.radius ** 2\n",
    "\n",
    "class Square(Shape):\n",
    "    def __init__(self, side_length):\n",
    "        self.side_length = side_length\n",
    "\n",
    "    def calculate_area(self):\n",
    "        return self.side_length ** 2\n",
    "\n",
    "class Triangle(Shape):\n",
    "    def __init__(self, base, height):\n",
    "        self.base = base\n",
    "        self.height = height\n",
    "\n",
    "    def calculate_area(self):\n",
    "        return 0.5 * self.base * self.height\n",
    "\n",
    "# Function to demonstrate polymorphism\n",
    "def print_area(shape):\n",
    "    print(f\"Area: {shape.calculate_area()}\")\n",
    "\n",
    "# Create instances of different shapes\n",
    "circle = Circle(radius=5)\n",
    "square = Square(side_length=4)\n",
    "triangle = Triangle(base=3, height=6)\n",
    "\n",
    "# Demonstrate polymorphism\n",
    "print_area(circle)    # Output: Area: 78.5\n",
    "print_area(square)    # Output: Area: 16\n",
    "print_area(triangle)  # Output: Area: 9.0\n"
   ]
  },
  {
   "cell_type": "markdown",
   "id": "03f66b60-9519-45b6-9d23-d7755055fce6",
   "metadata": {},
   "source": [
    "11. Create a Python class called `Shape` with a polymorphic method `area()` that calculates the area of different shapes (e.g., circle, rectangle, triangle)."
   ]
  },
  {
   "cell_type": "code",
   "execution_count": 12,
   "id": "ab6096a9-3f0e-46f2-a22a-ded09ac01d19",
   "metadata": {},
   "outputs": [
    {
     "name": "stdout",
     "output_type": "stream",
     "text": [
      "Area: 78.53981633974483\n",
      "Area: 24\n",
      "Area: 9.0\n"
     ]
    }
   ],
   "source": [
    "import math\n",
    "\n",
    "class Shape:\n",
    "    def area(self):\n",
    "        pass  # This method will be overridden by subclasses\n",
    "\n",
    "class Circle(Shape):\n",
    "    def __init__(self, radius):\n",
    "        self.radius = radius\n",
    "\n",
    "    def area(self):\n",
    "        return math.pi * self.radius ** 2\n",
    "\n",
    "class Rectangle(Shape):\n",
    "    def __init__(self, length, width):\n",
    "        self.length = length\n",
    "        self.width = width\n",
    "\n",
    "    def area(self):\n",
    "        return self.length * self.width\n",
    "\n",
    "class Triangle(Shape):\n",
    "    def __init__(self, base, height):\n",
    "        self.base = base\n",
    "        self.height = height\n",
    "\n",
    "    def area(self):\n",
    "        return 0.5 * self.base * self.height\n",
    "\n",
    "# Function to demonstrate polymorphism\n",
    "def print_area(shape):\n",
    "    print(f\"Area: {shape.area()}\")\n",
    "\n",
    "# Create instances of different shapes\n",
    "circle = Circle(radius=5)\n",
    "rectangle = Rectangle(length=4, width=6)\n",
    "triangle = Triangle(base=3, height=6)\n",
    "\n",
    "# Demonstrate polymorphism\n",
    "print_area(circle)     # Output: Area: 78.53981633974483\n",
    "print_area(rectangle)  # Output: Area: 24\n",
    "print_area(triangle)   # Output: Area: 9.0\n"
   ]
  },
  {
   "cell_type": "markdown",
   "id": "588f3083-e6a6-4365-be86-537c824f4389",
   "metadata": {},
   "source": [
    "12. Discuss the benefits of polymorphism in terms of code reusability and flexibility in Python programs."
   ]
  },
  {
   "cell_type": "markdown",
   "id": "8d8ff500-9ccf-45d9-9230-788458608410",
   "metadata": {},
   "source": [
    "Polymorphism in Python provides several benefits in terms of code reusability and flexibility, making it a powerful concept in object-oriented programming. Here are some key advantages:\n",
    "\n",
    "Code Reusability:\n",
    "\n",
    "Polymorphism allows for the creation of a common interface or base class with shared methods, which can be reused by multiple subclasses.\n",
    "A single piece of code can be written to interact with objects of the common type, enabling the reuse of functions and methods across different classes.\n",
    "Flexibility and Extensibility:\n",
    "\n",
    "Polymorphism enhances flexibility by allowing new classes to be added to a system without modifying existing code.\n",
    "New subclasses can be created that inherit from a common base class or implement a common interface, ensuring compatibility with existing code that relies on polymorphism."
   ]
  },
  {
   "cell_type": "markdown",
   "id": "4f6b8902-0001-414e-80f7-99b29bc22c76",
   "metadata": {},
   "source": [
    "13. Explain the use of the `super()` function in Python polymorphism. How does it help call methods of parent\n",
    "classes?"
   ]
  },
  {
   "cell_type": "markdown",
   "id": "d1ef237b-a751-45e8-88ea-22ad0758018f",
   "metadata": {},
   "source": [
    "The super() function in Python is used to call methods and access attributes of a parent or superclass within a subclass. It is commonly used in the context of inheritance and polymorphism to invoke the methods of the superclass from the subclass. This allows for code reuse and extension of functionality in a more modular way.\n",
    "\n",
    "The primary use of super() is to call the method in the parent class with the same name, providing a way to extend or override the behavior of the parent class's method in the subclass."
   ]
  },
  {
   "cell_type": "markdown",
   "id": "cd490325-359d-4c73-93a9-da4bcd09bc75",
   "metadata": {},
   "source": [
    "14. Create a Python class hierarchy for a banking system with various account types (e.g., savings, checking, credit card) and demonstrate polymorphism by implementing a common `withdraw()` method."
   ]
  },
  {
   "cell_type": "code",
   "execution_count": 13,
   "id": "004aed37-9b86-4bcb-ae40-625dee9599f5",
   "metadata": {},
   "outputs": [
    {
     "name": "stdout",
     "output_type": "stream",
     "text": [
      "Withdrawal of $200 from savings account successful. Remaining balance: $800\n",
      "Withdrawal of $1800 from checking account successful. Remaining balance: $-300\n",
      "Withdrawal of $500 from credit card account successful. Remaining balance: $-700\n"
     ]
    }
   ],
   "source": [
    "class BankAccount:\n",
    "    def __init__(self, account_number, balance):\n",
    "        self.account_number = account_number\n",
    "        self.balance = balance\n",
    "\n",
    "    def withdraw(self, amount):\n",
    "        pass  # This method will be overridden by subclasses\n",
    "\n",
    "class SavingsAccount(BankAccount):\n",
    "    def __init__(self, account_number, balance, interest_rate):\n",
    "        super().__init__(account_number, balance)\n",
    "        self.interest_rate = interest_rate\n",
    "\n",
    "    def withdraw(self, amount):\n",
    "        # Implementing withdrawal logic for savings account\n",
    "        if amount > 0 and amount <= self.balance:\n",
    "            self.balance -= amount\n",
    "            return f\"Withdrawal of ${amount} from savings account successful. Remaining balance: ${self.balance}\"\n",
    "        else:\n",
    "            return \"Invalid withdrawal amount or insufficient funds.\"\n",
    "\n",
    "class CheckingAccount(BankAccount):\n",
    "    def __init__(self, account_number, balance, overdraft_limit):\n",
    "        super().__init__(account_number, balance)\n",
    "        self.overdraft_limit = overdraft_limit\n",
    "\n",
    "    def withdraw(self, amount):\n",
    "        # Implementing withdrawal logic for checking account with overdraft protection\n",
    "        total_funds = self.balance + self.overdraft_limit\n",
    "        if amount > 0 and amount <= total_funds:\n",
    "            self.balance -= amount\n",
    "            return f\"Withdrawal of ${amount} from checking account successful. Remaining balance: ${self.balance}\"\n",
    "        else:\n",
    "            return \"Invalid withdrawal amount or overdraft limit exceeded.\"\n",
    "\n",
    "class CreditCardAccount(BankAccount):\n",
    "    def __init__(self, account_number, balance, credit_limit):\n",
    "        super().__init__(account_number, balance)\n",
    "        self.credit_limit = credit_limit\n",
    "\n",
    "    def withdraw(self, amount):\n",
    "        # Implementing withdrawal logic for credit card account\n",
    "        total_credit_available = self.balance + self.credit_limit\n",
    "        if amount > 0 and amount <= total_credit_available:\n",
    "            self.balance -= amount\n",
    "            return f\"Withdrawal of ${amount} from credit card account successful. Remaining balance: ${self.balance}\"\n",
    "        else:\n",
    "            return \"Invalid withdrawal amount or credit limit exceeded.\"\n",
    "\n",
    "# Function to demonstrate polymorphism\n",
    "def perform_withdrawal(account, amount):\n",
    "    return account.withdraw(amount)\n",
    "\n",
    "# Create instances of different account types\n",
    "savings_account = SavingsAccount(account_number=\"SA123\", balance=1000, interest_rate=0.02)\n",
    "checking_account = CheckingAccount(account_number=\"CA456\", balance=1500, overdraft_limit=500)\n",
    "credit_card_account = CreditCardAccount(account_number=\"CC789\", balance=-200, credit_limit=1000)\n",
    "\n",
    "# Demonstrate polymorphism\n",
    "print(perform_withdrawal(savings_account, 200))       # Output: Withdrawal of $200 from savings account successful. Remaining balance: $800\n",
    "print(perform_withdrawal(checking_account, 1800))     # Output: Invalid withdrawal amount or overdraft limit exceeded.\n",
    "print(perform_withdrawal(credit_card_account, 500))   # Output: Withdrawal of $500 from credit card account successful. Remaining balance: $-700\n"
   ]
  },
  {
   "cell_type": "markdown",
   "id": "01a9f3e0-2234-4429-9d72-2298c6861a81",
   "metadata": {},
   "source": [
    "15. Describe the concept of operator overloading in Python and how it relates to polymorphism. Provide\n",
    "examples using operators like `+` and `*`."
   ]
  },
  {
   "cell_type": "markdown",
   "id": "af3687f5-2809-4af7-9fd2-06c2e89d5a1d",
   "metadata": {},
   "source": [
    "Operator overloading in Python refers to the ability to define and customize the behavior of standard operators for user-defined objects. This allows objects of a class to respond to operators in a way that makes sense for the specific context. In the context of polymorphism, operator overloading enables different classes to use common operators while providing their own implementations, contributing to a more versatile and readable code.\n",
    "\n",
    "In Python, operator overloading is achieved by defining special methods in a class, also known as \"magic methods\" or \"dunder methods\" (double-underscore methods). These methods are called implicitly when certain operators are used with instances of the class."
   ]
  },
  {
   "cell_type": "code",
   "execution_count": 14,
   "id": "17c11a9b-917b-4a18-8df5-538c2c44c2a2",
   "metadata": {},
   "outputs": [
    {
     "name": "stdout",
     "output_type": "stream",
     "text": [
      "Point(6, 4)\n"
     ]
    }
   ],
   "source": [
    "class Point:\n",
    "    def __init__(self, x, y):\n",
    "        self.x = x\n",
    "        self.y = y\n",
    "\n",
    "    def __add__(self, other_point):\n",
    "        if isinstance(other_point, Point):\n",
    "            return Point(self.x + other_point.x, self.y + other_point.y)\n",
    "        else:\n",
    "            raise ValueError(\"Unsupported operand type. Must be a Point.\")\n",
    "\n",
    "    def __str__(self):\n",
    "        return f\"Point({self.x}, {self.y})\"\n",
    "\n",
    "# Create instances of the Point class\n",
    "point1 = Point(2, 3)\n",
    "point2 = Point(4, 1)\n",
    "\n",
    "# Use the + operator with Point instances\n",
    "result = point1 + point2\n",
    "print(result)  # Output: Point(6, 4)\n"
   ]
  },
  {
   "cell_type": "code",
   "execution_count": 15,
   "id": "6bc35aed-8e77-4e4f-8c77-4f8471790783",
   "metadata": {},
   "outputs": [
    {
     "name": "stdout",
     "output_type": "stream",
     "text": [
      "Vector(4, 6)\n"
     ]
    }
   ],
   "source": [
    "class Vector:\n",
    "    def __init__(self, x, y):\n",
    "        self.x = x\n",
    "        self.y = y\n",
    "\n",
    "    def __mul__(self, scalar):\n",
    "        if isinstance(scalar, (int, float)):\n",
    "            return Vector(self.x * scalar, self.y * scalar)\n",
    "        else:\n",
    "            raise ValueError(\"Unsupported operand type. Must be an int or float.\")\n",
    "\n",
    "    def __str__(self):\n",
    "        return f\"Vector({self.x}, {self.y})\"\n",
    "\n",
    "# Create an instance of the Vector class\n",
    "vector = Vector(2, 3)\n",
    "\n",
    "# Use the * operator with a Vector instance and a scalar\n",
    "scaled_vector = vector * 2\n",
    "print(scaled_vector)  # Output: Vector(4, 6)\n"
   ]
  },
  {
   "cell_type": "markdown",
   "id": "e568213d-a934-4aa2-9483-53d6a34f47dd",
   "metadata": {},
   "source": [
    "16. What is dynamic polymorphism, and how is it achieved in Python?"
   ]
  },
  {
   "cell_type": "markdown",
   "id": "9b2cd7f0-5e5a-41f2-a8ae-3703b9b1f9a3",
   "metadata": {},
   "source": [
    "Dynamic polymorphism, also known as runtime polymorphism, is a type of polymorphism that occurs during program execution. In dynamically polymorphic systems, the actual method or function that gets called is determined at runtime based on the type of the object. This allows for more flexibility and adaptability in handling different types of objects without knowing their exact types at compile time.\n",
    "\n",
    "In Python, dynamic polymorphism is achieved through method overriding and the use of common interfaces or base classes. When a subclass provides its own implementation of a method that is already defined in its superclass, dynamic polymorphism allows the method in the subclass to be called based on the actual type of the object during runtime.\n"
   ]
  },
  {
   "cell_type": "markdown",
   "id": "e8b5aefb-9aa3-4091-b1ac-a905c5037eea",
   "metadata": {},
   "source": [
    "17. Create a Python class hierarchy for employees in a company (e.g., manager, developer, designer) and implement polymorphism through a common `calculate_salary()` method."
   ]
  },
  {
   "cell_type": "code",
   "execution_count": 16,
   "id": "2ae1a177-e153-4545-9585-4c990f0e3868",
   "metadata": {},
   "outputs": [
    {
     "name": "stdout",
     "output_type": "stream",
     "text": [
      "Alice (Manager): Salary - $70000\n",
      "Bob (Developer): Salary - $50000\n",
      "Charlie (Designer): Salary - $60500.0\n"
     ]
    }
   ],
   "source": [
    "class Employee:\n",
    "    def __init__(self, name, role):\n",
    "        self.name = name\n",
    "        self.role = role\n",
    "\n",
    "    def calculate_salary(self):\n",
    "        pass  # This method will be overridden by subclasses\n",
    "\n",
    "class Manager(Employee):\n",
    "    def __init__(self, name, salary, bonus):\n",
    "        super().__init__(name, role=\"Manager\")\n",
    "        self.salary = salary\n",
    "        self.bonus = bonus\n",
    "\n",
    "    def calculate_salary(self):\n",
    "        return self.salary + self.bonus\n",
    "\n",
    "class Developer(Employee):\n",
    "    def __init__(self, name, salary, language):\n",
    "        super().__init__(name, role=\"Developer\")\n",
    "        self.salary = salary\n",
    "        self.language = language\n",
    "\n",
    "    def calculate_salary(self):\n",
    "        return self.salary\n",
    "\n",
    "class Designer(Employee):\n",
    "    def __init__(self, name, salary, experience_years):\n",
    "        super().__init__(name, role=\"Designer\")\n",
    "        self.salary = salary\n",
    "        self.experience_years = experience_years\n",
    "\n",
    "    def calculate_salary(self):\n",
    "        # Designers get a bonus based on experience\n",
    "        bonus_percentage = min(self.experience_years * 0.02, 0.3)\n",
    "        bonus = self.salary * bonus_percentage\n",
    "        return self.salary + bonus\n",
    "\n",
    "# Function to demonstrate polymorphism\n",
    "def display_employee_salary(employee):\n",
    "    print(f\"{employee.name} ({employee.role}): Salary - ${employee.calculate_salary()}\")\n",
    "\n",
    "# Create instances of different employee roles\n",
    "manager = Manager(name=\"Alice\", salary=60000, bonus=10000)\n",
    "developer = Developer(name=\"Bob\", salary=50000, language=\"Python\")\n",
    "designer = Designer(name=\"Charlie\", salary=55000, experience_years=5)\n",
    "\n",
    "# Demonstrate polymorphism\n",
    "display_employee_salary(manager)    # Output: Alice (Manager): Salary - $70000\n",
    "display_employee_salary(developer)  # Output: Bob (Developer): Salary - $50000\n",
    "display_employee_salary(designer)   # Output: Charlie (Designer): Salary - $60500\n"
   ]
  },
  {
   "cell_type": "markdown",
   "id": "31c74b6a-bcf3-4655-861e-d8de79f70523",
   "metadata": {},
   "source": [
    "18. Discuss the concept of function pointers and how they can be used to achieve polymorphism in Python."
   ]
  },
  {
   "cell_type": "markdown",
   "id": "2ef47840-10fd-41ca-a9ed-6e8e66d1f808",
   "metadata": {},
   "source": [
    "\n",
    "In Python, the concept of function pointers is not explicitly present as in some other programming languages like C or C++. However, Python provides a mechanism for achieving polymorphism through functions and objects. In Python, functions are first-class citizens, which means they can be passed around as arguments, returned from other functions, and assigned to variables. This flexibility allows for a form of polymorphism where different functions can be used interchangeably based on their signatures."
   ]
  },
  {
   "cell_type": "code",
   "execution_count": 17,
   "id": "383fc18d-defc-48ca-bbe8-aabe3b9d09a0",
   "metadata": {},
   "outputs": [
    {
     "name": "stdout",
     "output_type": "stream",
     "text": [
      "Woof!\n",
      "Meow!\n",
      "Tweet!\n"
     ]
    }
   ],
   "source": [
    "class Animal:\n",
    "    def speak(self):\n",
    "        pass  # This method will be overridden by subclasses\n",
    "\n",
    "def dog_speak():\n",
    "    return \"Woof!\"\n",
    "\n",
    "def cat_speak():\n",
    "    return \"Meow!\"\n",
    "\n",
    "def bird_speak():\n",
    "    return \"Tweet!\"\n",
    "\n",
    "# Function to demonstrate polymorphism using function references\n",
    "def animal_sound(animal_object, speak_function):\n",
    "    return speak_function()\n",
    "\n",
    "# Create instances of different animals\n",
    "dog = Animal()\n",
    "cat = Animal()\n",
    "bird = Animal()\n",
    "\n",
    "# Assign different speak functions to each animal\n",
    "dog.speak = lambda: animal_sound(dog, dog_speak)\n",
    "cat.speak = lambda: animal_sound(cat, cat_speak)\n",
    "bird.speak = lambda: animal_sound(bird, bird_speak)\n",
    "\n",
    "# Demonstrate polymorphism using function references\n",
    "print(dog.speak())  # Output: Woof!\n",
    "print(cat.speak())  # Output: Meow!\n",
    "print(bird.speak()) # Output: Tweet!\n"
   ]
  },
  {
   "cell_type": "markdown",
   "id": "9906bad9-5188-4281-bca8-aaeb489ab14f",
   "metadata": {},
   "source": [
    "19. Explain the role of interfaces and abstract classes in polymorphism, drawing comparisons between them."
   ]
  },
  {
   "cell_type": "markdown",
   "id": "0397e4ed-a1b7-4028-9a6b-ae50056e828e",
   "metadata": {},
   "source": [
    "\n",
    "Interfaces and abstract classes are both tools used in object-oriented programming to achieve polymorphism by providing a common structure for a group of related classes. While they share some similarities, they have distinct characteristics and use cases\n",
    "\n",
    "Multiple Inheritance:\n",
    "\n",
    "Abstract classes in Python support multiple inheritance, allowing a class to inherit from multiple abstract classes.\n",
    "Interfaces can be considered a form of multiple inheritance, as a class can implement multiple interfaces.\n",
    "Use Cases:\n",
    "\n",
    "Use abstract classes when there is a need to share code and provide a common base class for related classes.\n",
    "Use interfaces when defining a contract that multiple classes must adhere to, without providing any shared implementation.\n",
    "Implementation Details:\n",
    "\n",
    "Abstract classes can include both abstract and concrete methods, providing flexibility in sharing code among subclasses.\n",
    "Interfaces only contain method signatures, and all methods must be implemented by the implementing class."
   ]
  },
  {
   "cell_type": "markdown",
   "id": "28c534b5-fc6a-40ca-b674-17e67b30cc4d",
   "metadata": {},
   "source": [
    "20. Create a Python class for a zoo simulation, demonstrating polymorphism with different animal types (e.g., mammals, birds, reptiles) and their behavior (e.g., eating, sleeping, making sounds)."
   ]
  },
  {
   "cell_type": "code",
   "execution_count": 18,
   "id": "c45df1f1-3620-4000-8790-0920b3d93a6c",
   "metadata": {},
   "outputs": [
    {
     "name": "stdout",
     "output_type": "stream",
     "text": [
      "Mammal sound\n",
      "Lion is eating.\n",
      "Lion is sleeping.\n",
      "\n",
      "Bird sound\n",
      "Parrot is eating.\n",
      "Parrot is sleeping.\n",
      "\n",
      "Reptile sound\n",
      "Snake is eating.\n",
      "Snake is sleeping.\n",
      "\n"
     ]
    }
   ],
   "source": [
    "class Animal:\n",
    "    def __init__(self, name):\n",
    "        self.name = name\n",
    "\n",
    "    def make_sound(self):\n",
    "        pass  # This method will be overridden by subclasses\n",
    "\n",
    "    def eat(self):\n",
    "        return f\"{self.name} is eating.\"\n",
    "\n",
    "    def sleep(self):\n",
    "        return f\"{self.name} is sleeping.\"\n",
    "\n",
    "class Mammal(Animal):\n",
    "    def make_sound(self):\n",
    "        return \"Mammal sound\"\n",
    "\n",
    "class Bird(Animal):\n",
    "    def make_sound(self):\n",
    "        return \"Bird sound\"\n",
    "\n",
    "class Reptile(Animal):\n",
    "    def make_sound(self):\n",
    "        return \"Reptile sound\"\n",
    "\n",
    "# Function to demonstrate polymorphism\n",
    "def zoo_simulation(animal):\n",
    "    print(animal.make_sound())\n",
    "    print(animal.eat())\n",
    "    print(animal.sleep())\n",
    "    print()\n",
    "\n",
    "# Create instances of different animal types\n",
    "lion = Mammal(\"Lion\")\n",
    "parrot = Bird(\"Parrot\")\n",
    "snake = Reptile(\"Snake\")\n",
    "\n",
    "# Demonstrate polymorphism in the zoo simulation\n",
    "zoo_simulation(lion)\n",
    "zoo_simulation(parrot)\n",
    "zoo_simulation(snake)\n"
   ]
  },
  {
   "cell_type": "markdown",
   "id": "e34b4bce-ca5c-4c69-b034-52d6c2834670",
   "metadata": {},
   "source": [
    "# Abstraction:\n"
   ]
  },
  {
   "cell_type": "markdown",
   "id": "8319dc99-3e7f-48aa-9041-aff3dd774357",
   "metadata": {},
   "source": [
    "1. What is abstraction in Python, and how does it relate to object-oriented programming?"
   ]
  },
  {
   "cell_type": "markdown",
   "id": "b7849959-d9f1-451f-afb0-8564927700cd",
   "metadata": {},
   "source": [
    "\n",
    "Abstraction in Python, within the context of object-oriented programming (OOP), refers to the concept of simplifying complex systems by modeling classes based on the essential properties and behaviors relevant to the problem at hand, while ignoring or hiding the less relevant details. It is one of the core principles of OOP, along with encapsulation, inheritance, and polymorphism."
   ]
  },
  {
   "cell_type": "markdown",
   "id": "4c1c6b14-e6d0-4c62-919d-7985c74dd1d9",
   "metadata": {},
   "source": [
    "2. Describe the benefits of abstraction in terms of code organization and complexity reduction."
   ]
  },
  {
   "cell_type": "markdown",
   "id": "a2fb28a8-520c-4529-8894-bbdb8fd8d03c",
   "metadata": {},
   "source": [
    "Simplification of Complex Systems:\n",
    "\n",
    "Abstraction allows developers to model real-world entities or concepts in a simplified manner by capturing their essential properties and behaviors.\n",
    "It helps in reducing the cognitive load by focusing on high-level, relevant details and ignoring less critical implementation specifics.\n",
    "Code Modularity:\n",
    "\n",
    "Abstraction promotes code modularity by breaking down a system into smaller, more manageable units—classes.\n",
    "Each class encapsulates a specific set of functionalities, making it easier to understand, maintain, and extend the codebase.\n",
    "Encapsulation of Implementation Details:\n",
    "\n",
    "Abstraction allows for encapsulation, where the internal details of how a particular functionality is implemented are hidden from the outside world.\n",
    "Users of a class interact with its public interface (methods), reducing dependencies on implementation details and making it easier to modify the internal workings without affecting external code.\n",
    "Common Interfaces and Consistent Behavior:\n",
    "\n",
    "Abstract classes and interfaces define common interfaces that concrete classes must adhere to.\n",
    "This ensures consistent behavior across different implementations, facilitating a standard and predictable way of interacting with objects of different types.\n",
    "Reusability of Code:\n",
    "\n",
    "Abstraction enables the creation of abstract classes and interfaces that can be reused in various parts of a program or even in different projects.\n",
    "By adhering to a common interface, concrete implementations can be interchanged without affecting the overall functionality, promoting code reuse.\n",
    "Easier Maintenance and Debugging:\n",
    "\n",
    "Abstraction results in cleaner, more modular code, making it easier to locate and fix issues.\n",
    "Changes or updates to one part of the codebase are less likely to have a ripple effect on other parts, reducing the risk of unintended consequences.\n",
    "Scalability:\n",
    "\n",
    "Abstraction supports scalability by allowing developers to add new features or components without significantly impacting existing code.\n",
    "New functionality can be added through the creation of new classes or by extending existing ones, maintaining a clear separation of concerns.\n",
    "Enhanced Readability and Understanding:\n",
    "\n",
    "Abstraction makes code more readable and understandable by presenting a higher-level view of the system.\n",
    "Developers can focus on the essential aspects of each component, making it easier to grasp the overall structure and purpose of the code."
   ]
  },
  {
   "cell_type": "markdown",
   "id": "f5cf251f-2f40-417e-807b-387b43c9c1cc",
   "metadata": {},
   "source": [
    "3. Create a Python class called `Shape` with an abstract method `calculate_area()`. Then, create child classes (e.g., `Circle`, `Rectangle`) that implement the `calculate_area()` method. Provide an example of\n",
    "using these classes.\n",
    "\n",
    "\n"
   ]
  },
  {
   "cell_type": "code",
   "execution_count": null,
   "id": "e924dd82-60f2-4fcc-849b-e34b9723d726",
   "metadata": {},
   "outputs": [
    {
     "name": "stdout",
     "output_type": "stream",
     "text": [
      "Area of the circle: 78.5 square units\n",
      "Area of the rectangle: 24 square units\n"
     ]
    }
   ],
   "source": [
    "from abc import ABC, abstractmethod\n",
    "\n",
    "class Shape(ABC):\n",
    "    @abstractmethod\n",
    "    def calculate_area(self):\n",
    "        pass\n",
    "\n",
    "class Circle(Shape):\n",
    "    def __init__(self, radius):\n",
    "        self.radius = radius\n",
    "\n",
    "    def calculate_area(self):\n",
    "        return 3.14 * self.radius ** 2\n",
    "\n",
    "class Rectangle(Shape):\n",
    "    def __init__(self, length, width):\n",
    "        self.length = length\n",
    "        self.width = width\n",
    "\n",
    "    def calculate_area(self):\n",
    "        return self.length * self.width\n",
    "\n",
    "# Example usage:\n",
    "circle = Circle(radius=5)\n",
    "rectangle = Rectangle(length=4, width=6)\n",
    "\n",
    "# Calculate and display areas\n",
    "print(f\"Area of the circle: {circle.calculate_area()} square units\")\n",
    "print(f\"Area of the rectangle: {rectangle.calculate_area()} square units\")\n"
   ]
  },
  {
   "cell_type": "markdown",
   "id": "a6b36627-b9e1-4fdf-b800-ee4270674866",
   "metadata": {},
   "source": [
    "4. Explain the concept of abstract classes in Python and how they are defined using the `abc` module. Provide\n",
    "an example."
   ]
  },
  {
   "cell_type": "markdown",
   "id": "fcdd937b-164d-4a07-a5a9-e73115b80e63",
   "metadata": {},
   "source": [
    "In Python, abstract classes are classes that cannot be instantiated on their own and often serve as a blueprint for other classes. Abstract classes may contain abstract methods, which are methods without an implementation. Subclasses of an abstract class are required to provide implementations for its abstract methods.\n",
    "\n",
    "The abc module (Abstract Base Classes) in Python provides the tools for defining abstract classes and abstract methods. The ABC (Abstract Base Class) class from the abc module is used as a metaclass for creating abstract classes, and the abstractmethod decorator is used to declare abstract methods."
   ]
  },
  {
   "cell_type": "code",
   "execution_count": 21,
   "id": "1372c765-d65e-412c-b8af-ef2f0d10cd05",
   "metadata": {},
   "outputs": [
    {
     "name": "stdout",
     "output_type": "stream",
     "text": [
      "Area of the circle: 78.5 square units\n",
      "Area of the rectangle: 24 square units\n"
     ]
    }
   ],
   "source": [
    "from abc import ABC, abstractmethod\n",
    "\n",
    "class Shape(ABC):\n",
    "    @abstractmethod\n",
    "    def calculate_area(self):\n",
    "        pass\n",
    "\n",
    "class Circle(Shape):\n",
    "    def __init__(self, radius):\n",
    "        self.radius = radius\n",
    "\n",
    "    def calculate_area(self):\n",
    "        return 3.14 * self.radius ** 2\n",
    "\n",
    "class Rectangle(Shape):\n",
    "    def __init__(self, length, width):\n",
    "        self.length = length\n",
    "        self.width = width\n",
    "\n",
    "    def calculate_area(self):\n",
    "        return self.length * self.width\n",
    "\n",
    "# Attempting to instantiate the abstract class directly will raise an error\n",
    "# shape = Shape()  # This line would result in a TypeError\n",
    "\n",
    "# Instantiate concrete subclasses\n",
    "circle = Circle(radius=5)\n",
    "rectangle = Rectangle(length=4, width=6)\n",
    "\n",
    "# Calculate and display areas\n",
    "print(f\"Area of the circle: {circle.calculate_area()} square units\")\n",
    "print(f\"Area of the rectangle: {rectangle.calculate_area()} square units\")\n"
   ]
  },
  {
   "cell_type": "markdown",
   "id": "4146756b-bbad-45ef-ae38-4b58bea13eca",
   "metadata": {},
   "source": [
    "5. How do abstract classes differ from regular classes in Python? Discuss their use cases."
   ]
  },
  {
   "cell_type": "markdown",
   "id": "81414771-e71a-4f7f-bfec-f610aa723a43",
   "metadata": {},
   "source": [
    "Abstract classes and regular classes in Python differ primarily in their ability to be instantiated and their use of abstract methods. Here are the key distinctions:\n",
    "\n",
    "Instantiation:\n",
    "\n",
    "Regular Classes:\n",
    "Regular classes can be instantiated, meaning you can create objects (instances) of these classes.\n",
    "They can have both concrete methods (with implementations) and abstract methods (without implementations).\n",
    "Abstract Classes:\n",
    "Abstract classes cannot be instantiated on their own. They serve as a blueprint for other classes and must be subclassed.\n",
    "They may contain abstract methods (methods without implementations) that must be implemented by concrete subclasses.\n",
    "Abstract Methods:\n",
    "\n",
    "Regular Classes:\n",
    "Regular classes may or may not have abstract methods.\n",
    "Abstract methods, if present, can be overridden in subclasses, but it's not mandatory.\n",
    "Abstract Classes:\n",
    "Abstract classes often have one or more abstract methods.\n",
    "Abstract methods must be overridden in concrete subclasses; otherwise, an error is raised.\n",
    "Use Cases:\n",
    "\n",
    "Regular Classes:\n",
    "Regular classes are used when you want to create objects with both data (attributes) and behavior (methods).\n",
    "They are suitable for situations where you can provide default implementations for methods or where not all methods need to be implemented by subclasses.\n",
    "Abstract Classes:\n",
    "Abstract classes are used when you want to define a common interface for a group of related classes.\n",
    "They are suitable for situations where you want to enforce that specific methods must be implemented by all subclasses to ensure a consistent behavior.\n",
    "Abstract classes are useful for creating hierarchies where you want to provide a common structure but leave certain details to be implemented by subclasses."
   ]
  },
  {
   "cell_type": "code",
   "execution_count": 20,
   "id": "008df11f-d81a-4512-a100-c3ab288e48dd",
   "metadata": {},
   "outputs": [],
   "source": [
    "from abc import ABC, abstractmethod\n",
    "\n",
    "# Regular Class\n",
    "class RegularClass:\n",
    "    def regular_method(self):\n",
    "        return \"Regular method in RegularClass\"\n",
    "\n",
    "# Abstract Class\n",
    "class AbstractClass(ABC):\n",
    "    @abstractmethod\n",
    "    def abstract_method(self):\n",
    "        pass\n",
    "\n",
    "# Concrete Subclass of AbstractClass\n",
    "class ConcreteSubclass(AbstractClass):\n",
    "    def abstract_method(self):\n",
    "        return \"Implemented abstract_method in ConcreteSubclass\"\n"
   ]
  },
  {
   "cell_type": "markdown",
   "id": "9fb246ca-2e7b-4c73-9c3a-fb6964b4529a",
   "metadata": {},
   "source": [
    "6. Create a Python class for a bank account and demonstrate abstraction by hiding the account balance and\n",
    "providing methods to deposit and withdraw funds.\n",
    "\n",
    "\n"
   ]
  },
  {
   "cell_type": "code",
   "execution_count": 22,
   "id": "349822e9-b6f7-48b6-834a-b9c808295a69",
   "metadata": {},
   "outputs": [
    {
     "name": "stdout",
     "output_type": "stream",
     "text": [
      "Deposited $1000. New balance: $1000\n",
      "Withdrew $500. New balance: $500\n",
      "Interest calculated: $10.0\n",
      "Deposited $10.0. New balance: $510.0\n",
      "Final balance: $510.0\n"
     ]
    }
   ],
   "source": [
    "from abc import ABC, abstractmethod\n",
    "\n",
    "class BankAccount(ABC):\n",
    "    def __init__(self, account_holder, account_number):\n",
    "        self.account_holder = account_holder\n",
    "        self.account_number = account_number\n",
    "        self._balance = 0  # Protected attribute for balance\n",
    "\n",
    "    @abstractmethod\n",
    "    def calculate_interest(self):\n",
    "        pass\n",
    "\n",
    "    def deposit(self, amount):\n",
    "        if amount > 0:\n",
    "            self._balance += amount\n",
    "            print(f\"Deposited ${amount}. New balance: ${self._balance}\")\n",
    "        else:\n",
    "            print(\"Invalid deposit amount. Please deposit a positive amount.\")\n",
    "\n",
    "    def withdraw(self, amount):\n",
    "        if 0 < amount <= self._balance:\n",
    "            self._balance -= amount\n",
    "            print(f\"Withdrew ${amount}. New balance: ${self._balance}\")\n",
    "        elif amount <= 0:\n",
    "            print(\"Invalid withdrawal amount. Please withdraw a positive amount.\")\n",
    "        else:\n",
    "            print(\"Insufficient funds. Withdrawal not possible.\")\n",
    "\n",
    "    def get_balance(self):\n",
    "        return self._balance\n",
    "\n",
    "# Example usage\n",
    "class SavingsAccount(BankAccount):\n",
    "    def calculate_interest(self):\n",
    "        interest_rate = 0.02  # 2% interest rate for savings account\n",
    "        interest = self._balance * interest_rate\n",
    "        print(f\"Interest calculated: ${interest}\")\n",
    "        self.deposit(interest)  # Automatically deposit interest to the account\n",
    "\n",
    "# Create a SavingsAccount instance\n",
    "savings_account = SavingsAccount(account_holder=\"John Doe\", account_number=\"123456\")\n",
    "\n",
    "# Deposit and withdraw funds\n",
    "savings_account.deposit(1000)\n",
    "savings_account.withdraw(500)\n",
    "\n",
    "# Calculate and deposit interest\n",
    "savings_account.calculate_interest()\n",
    "\n",
    "# Display the final balance\n",
    "print(f\"Final balance: ${savings_account.get_balance()}\")\n"
   ]
  },
  {
   "cell_type": "markdown",
   "id": "c2362b0f-605f-4237-a411-0b15a5014251",
   "metadata": {},
   "source": [
    "7. Discuss the concept of interface classes in Python and their role in achieving abstraction."
   ]
  },
  {
   "cell_type": "markdown",
   "id": "4d3e8945-7a88-4b7e-9b77-c9243fabf9df",
   "metadata": {},
   "source": [
    "In Python, interface classes are not a distinct language feature like in some other programming languages. However, the concept of interfaces can be achieved through the use of abstract classes and abstract methods. Abstract classes with abstract methods serve as a way to define interfaces in Python and play a crucial role in achieving abstraction."
   ]
  },
  {
   "cell_type": "markdown",
   "id": "3f836823-0257-4adb-a431-0a02e315056b",
   "metadata": {},
   "source": [
    "8. Create a Python class hierarchy for animals and implement abstraction by defining common methods (e.g., `eat()`, `sleep()`) in an abstract base class.\n",
    "\n",
    "\n"
   ]
  },
  {
   "cell_type": "code",
   "execution_count": 23,
   "id": "653efe6d-5c4d-4abf-89ce-ef4cfc4dcb20",
   "metadata": {},
   "outputs": [
    {
     "name": "stdout",
     "output_type": "stream",
     "text": [
      "Woof!\n",
      "Whiskers the Cat is eating.\n",
      "Tweety the Bird is sleeping.\n"
     ]
    }
   ],
   "source": [
    "from abc import ABC, abstractmethod\n",
    "\n",
    "class Animal(ABC):\n",
    "    def __init__(self, name, species):\n",
    "        self.name = name\n",
    "        self.species = species\n",
    "\n",
    "    @abstractmethod\n",
    "    def make_sound(self):\n",
    "        pass\n",
    "\n",
    "    @abstractmethod\n",
    "    def eat(self):\n",
    "        pass\n",
    "\n",
    "    @abstractmethod\n",
    "    def sleep(self):\n",
    "        pass\n",
    "\n",
    "class Dog(Animal):\n",
    "    def make_sound(self):\n",
    "        return \"Woof!\"\n",
    "\n",
    "    def eat(self):\n",
    "        return f\"{self.name} the Dog is eating.\"\n",
    "\n",
    "    def sleep(self):\n",
    "        return f\"{self.name} the Dog is sleeping.\"\n",
    "\n",
    "class Cat(Animal):\n",
    "    def make_sound(self):\n",
    "        return \"Meow!\"\n",
    "\n",
    "    def eat(self):\n",
    "        return f\"{self.name} the Cat is eating.\"\n",
    "\n",
    "    def sleep(self):\n",
    "        return f\"{self.name} the Cat is sleeping.\"\n",
    "\n",
    "class Bird(Animal):\n",
    "    def make_sound(self):\n",
    "        return \"Tweet!\"\n",
    "\n",
    "    def eat(self):\n",
    "        return f\"{self.name} the Bird is eating.\"\n",
    "\n",
    "    def sleep(self):\n",
    "        return f\"{self.name} the Bird is sleeping.\"\n",
    "\n",
    "# Example usage\n",
    "dog = Dog(name=\"Buddy\", species=\"Golden Retriever\")\n",
    "cat = Cat(name=\"Whiskers\", species=\"Siamese Cat\")\n",
    "bird = Bird(name=\"Tweety\", species=\"Canary\")\n",
    "\n",
    "# Common methods can be called on objects of different subclasses\n",
    "print(dog.make_sound())  # Output: Woof!\n",
    "print(cat.eat())          # Output: Whiskers the Cat is eating.\n",
    "print(bird.sleep())       # Output: Tweety the Bird is sleeping.\n"
   ]
  },
  {
   "cell_type": "markdown",
   "id": "890cd307-3d9a-4b8e-9471-57ae1c75fe9c",
   "metadata": {},
   "source": [
    "9. Explain the significance of encapsulation in achieving abstraction. Provide examples."
   ]
  },
  {
   "cell_type": "markdown",
   "id": "4b172b00-791e-4074-9685-682609c6e8fd",
   "metadata": {},
   "source": [
    "Encapsulation is one of the fundamental principles of object-oriented programming (OOP) and plays a significant role in achieving abstraction. It involves bundling the data (attributes) and the methods (functions) that operate on the data into a single unit, known as a class. Encapsulation helps in hiding the internal details of the object and exposing only what is necessary, which contributes to effective abstraction."
   ]
  },
  {
   "cell_type": "code",
   "execution_count": 24,
   "id": "78a06895-6f18-4fd7-8237-42cf99727f86",
   "metadata": {},
   "outputs": [
    {
     "name": "stdout",
     "output_type": "stream",
     "text": [
      "Mileage: 100 miles\n"
     ]
    }
   ],
   "source": [
    "class Car:\n",
    "    def __init__(self, make, model, year):\n",
    "        self._make = make  # Encapsulation using a protected attribute\n",
    "        self._model = model\n",
    "        self._year = year\n",
    "        self._mileage = 0\n",
    "\n",
    "    def drive(self, miles):\n",
    "        self._mileage += miles\n",
    "\n",
    "    def get_mileage(self):\n",
    "        return self._mileage\n",
    "\n",
    "# Example usage\n",
    "my_car = Car(make=\"Toyota\", model=\"Camry\", year=2022)\n",
    "my_car.drive(100)\n",
    "print(f\"Mileage: {my_car.get_mileage()} miles\")\n"
   ]
  },
  {
   "cell_type": "markdown",
   "id": "166aa92f-3185-4c72-bd33-6ea10caa91b5",
   "metadata": {},
   "source": [
    "10. What is the purpose of abstract methods, and how do they enforce abstraction in Python classes?"
   ]
  },
  {
   "cell_type": "markdown",
   "id": "7a0e7ca9-0908-4b08-8373-d28c5c2c87e3",
   "metadata": {},
   "source": [
    "Abstract methods serve a crucial role in achieving abstraction in Python classes by defining a common interface that must be implemented by concrete subclasses. The purpose of abstract methods is to declare a method in an abstract base class without providing an implementation. Concrete subclasses are then required to provide their own implementations for these abstract methods, ensuring a consistent contract and promoting a higher level of abstraction."
   ]
  },
  {
   "cell_type": "markdown",
   "id": "00de75c1-4259-4e9d-a459-acb2f3619936",
   "metadata": {},
   "source": [
    "11. Create a Python class for a vehicle system and demonstrate abstraction by defining common methods (e.g., `start()`, `stop()`) in an abstract base class."
   ]
  },
  {
   "cell_type": "code",
   "execution_count": 25,
   "id": "88b51ef6-248a-4552-a45a-15926273fc69",
   "metadata": {},
   "outputs": [
    {
     "name": "stdout",
     "output_type": "stream",
     "text": [
      "Toyota Camry - Engine started.\n",
      "Schwinn Mountain Bike - Pedaling started.\n",
      "Bayliner Speedboat - Engine started.\n",
      "Toyota Camry - Engine stopped.\n",
      "Schwinn Mountain Bike - Bicycle stopped.\n",
      "Bayliner Speedboat - Engine stopped.\n"
     ]
    }
   ],
   "source": [
    "from abc import ABC, abstractmethod\n",
    "\n",
    "class Vehicle(ABC):\n",
    "    def __init__(self, brand, model):\n",
    "        self.brand = brand\n",
    "        self.model = model\n",
    "        self.engine_started = False\n",
    "\n",
    "    @abstractmethod\n",
    "    def start(self):\n",
    "        pass\n",
    "\n",
    "    @abstractmethod\n",
    "    def stop(self):\n",
    "        pass\n",
    "\n",
    "class Car(Vehicle):\n",
    "    def start(self):\n",
    "        if not self.engine_started:\n",
    "            print(f\"{self.brand} {self.model} - Engine started.\")\n",
    "            self.engine_started = True\n",
    "        else:\n",
    "            print(f\"{self.brand} {self.model} - Engine is already running.\")\n",
    "\n",
    "    def stop(self):\n",
    "        if self.engine_started:\n",
    "            print(f\"{self.brand} {self.model} - Engine stopped.\")\n",
    "            self.engine_started = False\n",
    "        else:\n",
    "            print(f\"{self.brand} {self.model} - Engine is already stopped.\")\n",
    "\n",
    "class Bicycle(Vehicle):\n",
    "    def start(self):\n",
    "        print(f\"{self.brand} {self.model} - Pedaling started.\")\n",
    "\n",
    "    def stop(self):\n",
    "        print(f\"{self.brand} {self.model} - Bicycle stopped.\")\n",
    "\n",
    "class Boat(Vehicle):\n",
    "    def start(self):\n",
    "        print(f\"{self.brand} {self.model} - Engine started.\")\n",
    "\n",
    "    def stop(self):\n",
    "        print(f\"{self.brand} {self.model} - Engine stopped.\")\n",
    "\n",
    "# Example usage\n",
    "car = Car(brand=\"Toyota\", model=\"Camry\")\n",
    "bicycle = Bicycle(brand=\"Schwinn\", model=\"Mountain Bike\")\n",
    "boat = Boat(brand=\"Bayliner\", model=\"Speedboat\")\n",
    "\n",
    "# Common methods can be called on objects of different subclasses\n",
    "car.start()\n",
    "bicycle.start()\n",
    "boat.start()\n",
    "\n",
    "car.stop()\n",
    "bicycle.stop()\n",
    "boat.stop()\n"
   ]
  },
  {
   "cell_type": "markdown",
   "id": "6498c9ee-a85f-46b5-a144-4d0368b1bd69",
   "metadata": {},
   "source": [
    "12. Describe the use of abstract properties in Python and how they can be employed in abstract classes."
   ]
  },
  {
   "cell_type": "markdown",
   "id": "190a3bd4-25fc-4d4e-aacc-bbacc8ae23ab",
   "metadata": {},
   "source": [
    "In Python, abstract properties are a way to declare abstract attributes in abstract base classes. Abstract properties are created using the @property decorator in combination with the @abstractmethod decorator. They allow you to define a common interface for attributes that must be implemented by concrete subclasses."
   ]
  },
  {
   "cell_type": "markdown",
   "id": "932e8c8f-9229-4ffa-91fa-9c23dd48339d",
   "metadata": {},
   "source": [
    "13. Create a Python class hierarchy for employees in a company (e.g., manager, developer, designer) and implement abstraction by defining a common `get_salary()` method."
   ]
  },
  {
   "cell_type": "code",
   "execution_count": 26,
   "id": "90c23269-76d7-4e8e-8f9f-3adb2b10be2f",
   "metadata": {},
   "outputs": [
    {
     "name": "stdout",
     "output_type": "stream",
     "text": [
      "John Manager's salary: $69000.0\n",
      "Alice Developer's salary: $50000\n",
      "Bob Designer's salary: $58000\n"
     ]
    }
   ],
   "source": [
    "from abc import ABC, abstractmethod\n",
    "\n",
    "class Employee(ABC):\n",
    "    def __init__(self, name, employee_id):\n",
    "        self.name = name\n",
    "        self.employee_id = employee_id\n",
    "\n",
    "    @abstractmethod\n",
    "    def get_salary(self):\n",
    "        pass\n",
    "\n",
    "class Manager(Employee):\n",
    "    def __init__(self, name, employee_id, base_salary, bonus_percentage):\n",
    "        super().__init__(name, employee_id)\n",
    "        self.base_salary = base_salary\n",
    "        self.bonus_percentage = bonus_percentage\n",
    "\n",
    "    def get_salary(self):\n",
    "        bonus_amount = self.base_salary * (self.bonus_percentage / 100)\n",
    "        return self.base_salary + bonus_amount\n",
    "\n",
    "class Developer(Employee):\n",
    "    def __init__(self, name, employee_id, base_salary, programming_language):\n",
    "        super().__init__(name, employee_id)\n",
    "        self.base_salary = base_salary\n",
    "        self.programming_language = programming_language\n",
    "\n",
    "    def get_salary(self):\n",
    "        return self.base_salary\n",
    "\n",
    "class Designer(Employee):\n",
    "    def __init__(self, name, employee_id, base_salary, years_of_experience):\n",
    "        super().__init__(name, employee_id)\n",
    "        self.base_salary = base_salary\n",
    "        self.years_of_experience = years_of_experience\n",
    "\n",
    "    def get_salary(self):\n",
    "        experience_bonus = self.years_of_experience * 1000\n",
    "        return self.base_salary + experience_bonus\n",
    "\n",
    "# Example usage\n",
    "manager = Manager(name=\"John Manager\", employee_id=\"M001\", base_salary=60000, bonus_percentage=15)\n",
    "developer = Developer(name=\"Alice Developer\", employee_id=\"D001\", base_salary=50000, programming_language=\"Python\")\n",
    "designer = Designer(name=\"Bob Designer\", employee_id=\"DS001\", base_salary=55000, years_of_experience=3)\n",
    "\n",
    "# Common method can be called on objects of different subclasses\n",
    "print(f\"{manager.name}'s salary: ${manager.get_salary()}\")\n",
    "print(f\"{developer.name}'s salary: ${developer.get_salary()}\")\n",
    "print(f\"{designer.name}'s salary: ${designer.get_salary()}\")\n"
   ]
  },
  {
   "cell_type": "markdown",
   "id": "ae8c1b07-7743-4d38-9640-d70112660d02",
   "metadata": {},
   "source": [
    "14. Discuss the differences between abstract classes and concrete classes in Python, including their\n",
    "instantiation.\n",
    "\n",
    "\n"
   ]
  },
  {
   "cell_type": "markdown",
   "id": "f1916e2b-6c3b-4088-ae41-edef02c3afbb",
   "metadata": {},
   "source": [
    "Abstract classes are meant to be subclassed, providing a common structure and interface for a group of related classes. They cannot be instantiated directly, and concrete subclasses must provide implementations for abstract methods.\n",
    "\n",
    "Concrete classes are directly instantiable and provide specific implementations for their methods. They can include regular methods and may also implement abstract methods inherited from abstract classes.\n",
    "\n"
   ]
  },
  {
   "cell_type": "markdown",
   "id": "897d4e55-773b-4c78-8863-0721d496ee73",
   "metadata": {},
   "source": [
    "15. Explain the concept of abstract data types (ADTs) and their role in achieving abstraction in Python."
   ]
  },
  {
   "cell_type": "markdown",
   "id": "9b12940f-ae1e-428d-b742-8376f1001988",
   "metadata": {},
   "source": [
    "Abstract Data Types (ADTs) are a concept in computer science that refers to a high-level description of a set of data and the operations that can be performed on that data. ADTs provide a way to abstract the implementation details of data structures and focus on the logical behavior and properties of the data. The primary goal of ADTs is to encapsulate data and operations into a single unit, promoting modularity, code organization, and the separation of concerns."
   ]
  },
  {
   "cell_type": "markdown",
   "id": "c709c07a-d2c3-4d7b-a198-aa07479a7c98",
   "metadata": {},
   "source": [
    "16. Create a Python class for a computer system, demonstrating abstraction by defining common methods (e.g., `power_on()`, `shutdown()`) in an abstract base class."
   ]
  },
  {
   "cell_type": "code",
   "execution_count": 27,
   "id": "bca021ed-5ef7-4f1d-aa3e-f9558f0e64e5",
   "metadata": {},
   "outputs": [
    {
     "name": "stdout",
     "output_type": "stream",
     "text": [
      "Dell OptiPlex Desktop - Powering on.\n",
      "HP EliteBook Laptop - Powering on.\n",
      "Dell OptiPlex Desktop - Shutting down.\n",
      "HP EliteBook Laptop - Shutting down.\n"
     ]
    }
   ],
   "source": [
    "from abc import ABC, abstractmethod\n",
    "\n",
    "class ComputerSystem(ABC):\n",
    "    def __init__(self, brand, model):\n",
    "        self.brand = brand\n",
    "        self.model = model\n",
    "        self.powered_on = False\n",
    "\n",
    "    @abstractmethod\n",
    "    def power_on(self):\n",
    "        pass\n",
    "\n",
    "    @abstractmethod\n",
    "    def shutdown(self):\n",
    "        pass\n",
    "\n",
    "class Desktop(ComputerSystem):\n",
    "    def power_on(self):\n",
    "        if not self.powered_on:\n",
    "            print(f\"{self.brand} {self.model} Desktop - Powering on.\")\n",
    "            self.powered_on = True\n",
    "        else:\n",
    "            print(f\"{self.brand} {self.model} Desktop - Already powered on.\")\n",
    "\n",
    "    def shutdown(self):\n",
    "        if self.powered_on:\n",
    "            print(f\"{self.brand} {self.model} Desktop - Shutting down.\")\n",
    "            self.powered_on = False\n",
    "        else:\n",
    "            print(f\"{self.brand} {self.model} Desktop - Already powered off.\")\n",
    "\n",
    "class Laptop(ComputerSystem):\n",
    "    def power_on(self):\n",
    "        if not self.powered_on:\n",
    "            print(f\"{self.brand} {self.model} Laptop - Powering on.\")\n",
    "            self.powered_on = True\n",
    "        else:\n",
    "            print(f\"{self.brand} {self.model} Laptop - Already powered on.\")\n",
    "\n",
    "    def shutdown(self):\n",
    "        if self.powered_on:\n",
    "            print(f\"{self.brand} {self.model} Laptop - Shutting down.\")\n",
    "            self.powered_on = False\n",
    "        else:\n",
    "            print(f\"{self.brand} {self.model} Laptop - Already powered off.\")\n",
    "\n",
    "# Example usage\n",
    "desktop = Desktop(brand=\"Dell\", model=\"OptiPlex\")\n",
    "laptop = Laptop(brand=\"HP\", model=\"EliteBook\")\n",
    "\n",
    "# Common methods can be called on objects of different subclasses\n",
    "desktop.power_on()\n",
    "laptop.power_on()\n",
    "\n",
    "desktop.shutdown()\n",
    "laptop.shutdown()\n"
   ]
  },
  {
   "cell_type": "markdown",
   "id": "1135c352-2056-4be9-9d6e-e35544cdb355",
   "metadata": {},
   "source": [
    "17. Discuss the benefits of using abstraction in large-scale software development projects."
   ]
  },
  {
   "cell_type": "markdown",
   "id": "cf1b4d86-0d07-4da6-8679-06ed6f8e150b",
   "metadata": {},
   "source": [
    "Abstraction is a fundamental concept in software development that involves simplifying complex systems by modeling classes based on their essential features while hiding unnecessary details. Using abstraction in large-scale software development projects offers several significant benefits:\n",
    "\n",
    "Modularity:\n",
    "\n",
    "Abstraction promotes modularity by breaking down a system into manageable and independent modules or components.\n",
    "Each module focuses on a specific aspect of functionality, making it easier to develop, test, and maintain.\n",
    "Code Reusability:\n",
    "\n",
    "Abstraction allows developers to create reusable components, such as abstract classes and interfaces, that can be used across different parts of the system.\n",
    "Reusable components reduce redundancy, save development time, and improve consistency.\n",
    "Maintenance and Extensibility:\n",
    "\n",
    "Abstraction makes it easier to maintain and extend software systems.\n",
    "Changes to one module, which are encapsulated by abstraction, do not necessarily impact other modules.\n",
    "Extending functionality often involves adding new implementations without modifying existing code, thanks to well-defined interfaces.\n",
    "Scalability:\n",
    "\n",
    "Abstraction supports scalability by allowing the system to grow without significantly affecting existing components.\n",
    "New features or modules can be added seamlessly, and abstraction helps manage the complexity associated with scale.\n",
    "Code Organization:\n",
    "\n",
    "Abstraction provides a structured and organized way to represent complex systems.\n",
    "Logical grouping of functionality into abstract classes, interfaces, and modules makes the codebase more readable and understandable.\n",
    "Flexibility and Adaptability:\n",
    "\n",
    "Abstraction enables flexibility in design, making it easier to adapt to changing requirements.\n",
    "Developers can focus on high-level structures and functionalities, allowing the system to accommodate new features or changes without a complete overhaul.\n",
    "Reduced Cognitive Load:\n",
    "\n",
    "Abstraction reduces cognitive load by allowing developers to work at higher levels of abstraction, focusing on the essential aspects of the system.\n",
    "Developers can think in terms of interfaces and contracts rather than getting bogged down in implementation details.\n",
    "Collaboration:\n",
    "\n",
    "Abstraction facilitates collaboration among team"
   ]
  },
  {
   "cell_type": "markdown",
   "id": "1a8a230b-4a1f-49ed-b28d-4ca37c2d1104",
   "metadata": {},
   "source": [
    "18. Explain how abstraction enhances code reusability and modularity in Python programs."
   ]
  },
  {
   "cell_type": "markdown",
   "id": "ac70b406-b04b-4453-99e4-2827c6fa7f4c",
   "metadata": {},
   "source": [
    "Abstraction enhances code reusability and modularity in Python programs by allowing developers to create high-level representations of complex systems, hiding unnecessary details and providing well-defined interfaces. Here's how abstraction achieves these benefits in Python:\n",
    "\n",
    "Encapsulation of Implementation Details:\n",
    "\n",
    "Abstraction allows developers to encapsulate the implementation details of a module or class, exposing only the essential features.\n",
    "Implementation details are hidden behind well-defined interfaces, promoting a clear separation between what a component does and how it accomplishes it.\n",
    "Creation of Abstract Classes and Interfaces:\n",
    "\n",
    "Python supports the creation of abstract classes and interfaces using the ABC (Abstract Base Class) module and the @abstractmethod decorator.\n",
    "Abstract classes define a common structure for a group of related classes, providing a blueprint for their implementation.\n",
    "Interfaces define a set of methods that must be implemented by classes that adhere to the interface.\n",
    "Polymorphism and Inheritance:\n",
    "\n",
    "Abstraction in Python encourages the use of polymorphism and inheritance.\n",
    "Polymorphism allows objects of different types to be treated uniformly if they adhere to a common interface or abstract class.\n",
    "Inheritance enables code reuse by allowing new classes to inherit the properties and behaviors of existing classes.\n",
    "Code Reusability through Inheritance:\n",
    "\n",
    "Inheritance allows developers to create new classes by extending existing classes, inheriting their attributes and methods.\n",
    "Common functionalities can be implemented in a base class, and subclasses can reuse or override these functionalities as needed.\n",
    "This leads to more reusable and extensible code.\n",
    "Use of Composition and Interfaces:\n",
    "\n",
    "Abstraction facilitates composition by allowing the creation of classes that are composed of other classes.\n",
    "Interfaces ensure that classes conform to a specific contract, making it easier to swap one implementation with another as long as they adhere to the same interface.\n",
    "Separation of Concerns:\n",
    "\n",
    "Abstraction promotes the separation of concerns by dividing the code into modules or classes that focus on specific functionalities.\n",
    "Each module or class can be developed and maintained independently, leading to a modular and maintainable codebase.\n",
    "Promotion of High-Level Thinking:\n",
    "\n",
    "Abstraction allows developers to think at a higher level by focusing on the essential features and functionalities without being overwhelmed by implementation details.\n",
    "This high-level thinking improves code readability and the overall design of the system.\n",
    "Encouragement of Design Patterns:\n",
    "\n",
    "Abstraction encourages the use of design patterns, such as the Factory Pattern, Observer Pattern, and Strategy Pattern.\n",
    "Design patterns provide general solutions to common problems, promoting modular and reusable code.\n",
    "Interfaces for Interaction:\n",
    "\n",
    "Abstraction in Python often involves the use of interfaces to define a common set of methods that classes must implement.\n",
    "This allows different components or classes to interact with each other through a well-defined interface, promoting interoperability."
   ]
  },
  {
   "cell_type": "markdown",
   "id": "5cbdd686-a42d-4250-933d-5d1426be0034",
   "metadata": {},
   "source": [
    "19. Create a Python class for a library system, implementing abstraction by defining common methods (e.g., `add_book()`, `borrow_book()`) in an abstract base class."
   ]
  },
  {
   "cell_type": "code",
   "execution_count": 32,
   "id": "7486c176-3cd1-4fcc-acd6-b29e46cc57de",
   "metadata": {},
   "outputs": [],
   "source": [
    "from abc import ABC, abstractmethod\n",
    "\n",
    "class LibrarySystem(ABC):\n",
    "    def __init__(self, name):\n",
    "        self.name = name\n",
    "        self.books = {}\n",
    "\n",
    "    @abstractmethod\n",
    "    def add_book(self, book_title, author):\n",
    "        pass\n",
    "\n",
    "    @abstractmethod\n",
    "    def borrow_book(self, book_title):\n",
    "        pass\n",
    "\n",
    "    def display_books(self):\n",
    "        print(f\"Books in {self.name} Library:\")\n",
    "        for title, author in self.books.items():\n",
    "            print(f\"{title} by {author}\")\n",
    "\n",
    "class PublicLibrary(LibrarySystem):\n",
    "    def add_book(self, book_title, author):\n",
    "        if book_title not in self.books:\n",
    "            self.books[book_title] = author\n",
    "            print(f\"Added '{book_title}' by {author} to {self.name} Library.\")\n",
    "        else:\n",
    "            print(f\"Book '{book_title}' already exists in {self.name} Library.\")\n",
    "\n",
    "    def borrow_book(self, book_title):\n",
    "        if book_title in self.books:\n",
    "            print(f\"Borrowed '{book_title}' from {self.name} Library.\")\n",
    "            del self.books[book_title]\n",
    "        else:\n",
    "            print(f\"Book '{book_title}' is not available in {self.name} Library.\")\n",
    "\n",
    "class SchoolLibrary(LibrarySystem):\n",
    "    def add_book(self, book_title, author):\n",
    "        if book_title not in self.books:\n",
    "            self.books[book_title] = author\n",
    "            print(f\"Added '{book_title}' by {author} to {self.name} Library.\")\n",
    "        else:\n",
    "            print(f\"Book '{book_title}' already exists in {self.name} Library.\")\n"
   ]
  },
  {
   "cell_type": "markdown",
   "id": "79b5b3a2-fb35-44b3-b8ec-45b6a322b720",
   "metadata": {},
   "source": [
    "20. Describe the concept of method abstraction in Python and how it relates to polymorphism."
   ]
  },
  {
   "cell_type": "markdown",
   "id": "4f8ded39-e482-45d7-a3f9-6654b1368f69",
   "metadata": {},
   "source": [
    "In Python, method abstraction is a concept that involves defining methods in a way that emphasizes what the method does rather than how it achieves its functionality. This emphasizes the high-level behavior or purpose of a method, hiding the implementation details from the user. Method abstraction is closely related to polymorphism, a key aspect of object-oriented programming. "
   ]
  },
  {
   "cell_type": "markdown",
   "id": "0bc9f817-b05c-4e5f-bc3b-3a189710d531",
   "metadata": {},
   "source": [
    "# Composition:"
   ]
  },
  {
   "cell_type": "markdown",
   "id": "069eed5e-e3cb-4f14-95d7-153a079f9cf7",
   "metadata": {},
   "source": [
    "1. Explain the concept of composition in Python and how it is used to build complex objects from simpler ones."
   ]
  },
  {
   "cell_type": "markdown",
   "id": "5b186575-8ce6-4bb5-a173-59b82a629913",
   "metadata": {},
   "source": [
    "In Python, composition is a design principle that allows you to create complex objects by combining simpler ones. It is one of the fundamental concepts in object-oriented programming (OOP) and promotes code reuse, flexibility, and maintainability. Composition involves creating classes that are composed of other classes, rather than relying on inheritance."
   ]
  },
  {
   "cell_type": "markdown",
   "id": "efec27bf-3359-4b04-b6a2-d821da3f123c",
   "metadata": {},
   "source": [
    "2. Describe the difference between composition and inheritance in object-oriented programming."
   ]
  },
  {
   "cell_type": "markdown",
   "id": "8862e956-78f1-4b3e-a411-e6c2c6af35ec",
   "metadata": {},
   "source": [
    "Composition and inheritance are two key concepts in object-oriented programming (OOP), and they represent different approaches to structuring and organizing code.\n",
    "\n",
    "Composition:\n",
    "Definition:\n",
    "\n",
    "Composition involves creating classes by combining instances of other classes as components.\n",
    "It emphasizes the \"has-a\" relationship, where an object is composed of other objects.\n",
    "\n",
    "Flexibility:\n",
    "\n",
    "Offers greater flexibility because you can easily change or extend the behavior by modifying or adding new components.\n",
    "Allows for more dynamic composition at runtime.\n",
    "Code Reuse:\n",
    "\n",
    "Promotes code reuse by using small, specialized classes that can be combined to create complex objects.\n",
    "Inheritance:\n",
    "Definition:\n",
    "\n",
    "Inheritance involves creating a new class by deriving from an existing class.\n",
    "It emphasizes the \"is-a\" relationship, where a derived class is a specialized version of the base class.\n",
    "Structure:\n",
    "\n",
    "Hierarchical structure where subclasses inherit attributes and methods from a superclass.\n",
    "Can lead to a deep class hierarchy, potentially causing issues like the diamond problem.\n",
    "Extensibility:\n",
    "\n",
    "While inheritance provides a way to reuse code from a base class, it can lead to inflexibility when the system needs to evolve or when dealing with multiple inheritance."
   ]
  },
  {
   "cell_type": "markdown",
   "id": "4cb157ee-4b1b-484f-a528-b4755ffe9199",
   "metadata": {},
   "source": [
    "Key Differences:\n",
    "Relationship:\n",
    "\n",
    "Composition emphasizes the relationship between classes through the combination of instances.\n",
    "Inheritance emphasizes the relationship through a hierarchical structure, with a derived class inheriting from a base class.\n",
    "Flexibility:\n",
    "\n",
    "Composition provides greater flexibility, allowing for easy changes and additions of components.\n",
    "Inheritance can be less flexible, especially in cases of deep class hierarchies or when changes to the base class impact all derived classes.\n",
    "Code Reuse:\n",
    "\n",
    "Composition promotes code reuse through the combination of smaller, specialized classes.\n",
    "Inheritance promotes code reuse by inheriting attributes and methods from a base class.\n",
    "Complexity:\n",
    "\n",
    "Composition tends to lead to a simpler structure with more manageable and modular components.\n",
    "Inheritance, especially with multiple inheritance, can lead to complex class hierarchies and potential issues like the diamond problem."
   ]
  },
  {
   "cell_type": "markdown",
   "id": "b0075c6c-ee59-42d4-bae1-0c6219a6411b",
   "metadata": {},
   "source": [
    "3. Create a Python class called `Author` with attributes for name and birthdate. Then, create a `Book` class\n",
    "that contains an instance of `Author` as a composition. Provide an example of creating a `Book` object."
   ]
  },
  {
   "cell_type": "code",
   "execution_count": 33,
   "id": "353ee3eb-87c9-4a2e-883a-b1fe74f810d1",
   "metadata": {},
   "outputs": [
    {
     "name": "stdout",
     "output_type": "stream",
     "text": [
      "Title: Python Programming\n",
      "Author: John Doe\n",
      "Birthdate: January 1, 1980\n",
      "Publish Year: 2022\n"
     ]
    }
   ],
   "source": [
    "class Author:\n",
    "    def __init__(self, name, birthdate):\n",
    "        self.name = name\n",
    "        self.birthdate = birthdate\n",
    "\n",
    "class Book:\n",
    "    def __init__(self, title, author, publish_year):\n",
    "        self.title = title\n",
    "        self.author = author  # Composition: Book has an Author\n",
    "        self.publish_year = publish_year\n",
    "\n",
    "    def display_info(self):\n",
    "        print(f\"Title: {self.title}\")\n",
    "        print(f\"Author: {self.author.name}\")\n",
    "        print(f\"Birthdate: {self.author.birthdate}\")\n",
    "        print(f\"Publish Year: {self.publish_year}\")\n",
    "\n",
    "\n",
    "# Example of creating an Author\n",
    "author1 = Author(name=\"John Doe\", birthdate=\"January 1, 1980\")\n",
    "\n",
    "# Example of creating a Book with the Author as a composition\n",
    "book1 = Book(title=\"Python Programming\", author=author1, publish_year=2022)\n",
    "\n",
    "# Displaying information about the book\n",
    "book1.display_info()\n"
   ]
  },
  {
   "cell_type": "markdown",
   "id": "a9a0658e-20fc-4905-b3db-ad28801da2c7",
   "metadata": {},
   "source": [
    "4. Discuss the benefits of using composition over inheritance in Python, especially in terms of code flexibility\n",
    "and reusability."
   ]
  },
  {
   "cell_type": "markdown",
   "id": "15b86e6d-a305-48c5-b12e-9bb896a0d77f",
   "metadata": {},
   "source": [
    "Using composition over inheritance in Python provides several benefits, especially in terms of code flexibility and reusability. Here are some key advantages:\n",
    "\n",
    "Flexibility:\n",
    "\n",
    "Composition allows you to build classes that are more flexible and adaptable to change. You can modify the behavior of a class by changing its components, adding new ones, or removing existing ones, without affecting the class itself.\n",
    "Avoidance of the Diamond Problem:\n",
    "\n",
    "Inheritance, especially with multiple inheritance, can lead to the \"Diamond Problem,\" where ambiguity arises when a class inherits from two classes that have a common ancestor. Composition helps avoid this problem, as it doesn't involve creating deep class hierarchies.\n",
    "Modularity:\n",
    "\n",
    "Composition promotes a modular design where classes are independent and can be easily replaced or extended. This modularity makes the codebase more maintainable and easier to understand.\n",
    "Code Reusability:\n",
    "\n",
    "Composition encourages code reusability by allowing you to reuse smaller, specialized classes in different contexts. These classes can be combined in various ways to create new objects without duplicating code.\n",
    "Easier Testing:\n",
    "\n",
    "Components in a composition-based design can often be tested in isolation. This makes it easier to write unit tests for individual components, ensuring that they work correctly before they are combined into larger systems.\n",
    "Reduced Coupling:\n",
    "\n",
    "Composition reduces the coupling between classes. Classes are connected through interfaces, and changes to one class are less likely to affect other classes. This loose coupling enhances maintainability and makes it easier to update or replace components.\n",
    "Dynamic Composition at Runtime:\n",
    "\n",
    "With composition, you can dynamically compose objects at runtime. This means you can change the composition of an object during program execution, providing a high degree of flexibility.\n",
    "Avoidance of Fragile Base Class Problem:\n",
    "\n",
    "Inheritance can lead to the \"fragile base class problem,\" where changes to a base class may unintentionally affect derived classes. Composition mitigates this problem by keeping components separate from the main class.\n",
    "Promotion of Small, Specialized Classes:\n",
    "\n",
    "Composition encourages the creation of small, specialized classes with well-defined responsibilities. These classes are easier to understand, maintain, and reuse.\n",
    "Ease of Collaboration:\n",
    "\n",
    "In collaborative development environments, where different teams or developers work on different components, composition can lead to more seamless integration. Teams can independently work on and test their components without relying heavily on the implementation details of other components."
   ]
  },
  {
   "cell_type": "markdown",
   "id": "4a37c492-d609-4776-8575-c8431f037d6b",
   "metadata": {},
   "source": [
    "5. How can you implement composition in Python classes? Provide examples of using composition to create\n",
    "complex objects."
   ]
  },
  {
   "cell_type": "markdown",
   "id": "253a8c25-1ac7-4df4-93c5-7e073569d93f",
   "metadata": {},
   "source": [
    "To implement composition in Python classes, you create a class that contains instances of other classes as attributes. "
   ]
  },
  {
   "cell_type": "code",
   "execution_count": 34,
   "id": "32012fc0-06cd-475f-904e-baf1290f828f",
   "metadata": {},
   "outputs": [
    {
     "name": "stdout",
     "output_type": "stream",
     "text": [
      "Engine starting\n",
      "Wheels rotating\n"
     ]
    }
   ],
   "source": [
    "# Example 1: Composition in Python\n",
    "\n",
    "# Component classes\n",
    "class Engine:\n",
    "    def start(self):\n",
    "        print(\"Engine starting\")\n",
    "\n",
    "class Wheels:\n",
    "    def rotate(self):\n",
    "        print(\"Wheels rotating\")\n",
    "\n",
    "# Complex object class using composition\n",
    "class Car:\n",
    "    def __init__(self):\n",
    "        self.engine = Engine()\n",
    "        self.wheels = Wheels()\n",
    "\n",
    "    def drive(self):\n",
    "        self.engine.start()\n",
    "        self.wheels.rotate()\n",
    "\n",
    "# Create a Car object and demonstrate composition\n",
    "my_car = Car()\n",
    "my_car.drive()\n"
   ]
  },
  {
   "cell_type": "markdown",
   "id": "5ea542c1-89d0-410c-9c7f-d8f11f86771f",
   "metadata": {},
   "source": [
    "6. Create a Python class hierarchy for a music player system, using composition to represent playlists and\n",
    "songs.\n",
    "\n",
    "\n"
   ]
  },
  {
   "cell_type": "code",
   "execution_count": 35,
   "id": "94721d1f-0e0b-46a3-8d43-3e8d3965de00",
   "metadata": {},
   "outputs": [
    {
     "name": "stdout",
     "output_type": "stream",
     "text": [
      "Playing playlist: Road Trip Mix\n",
      "Playing: Song 2 by Artist B (220 seconds)\n",
      "Playing: Song 3 by Artist C (200 seconds)\n"
     ]
    }
   ],
   "source": [
    "class Song:\n",
    "    def __init__(self, title, artist, duration):\n",
    "        self.title = title\n",
    "        self.artist = artist\n",
    "        self.duration = duration\n",
    "\n",
    "    def play(self):\n",
    "        print(f\"Playing: {self.title} by {self.artist} ({self.duration} seconds)\")\n",
    "\n",
    "\n",
    "class Playlist:\n",
    "    def __init__(self, name):\n",
    "        self.name = name\n",
    "        self.songs = []\n",
    "\n",
    "    def add_song(self, song):\n",
    "        self.songs.append(song)\n",
    "\n",
    "    def play_all(self):\n",
    "        print(f\"Playing playlist: {self.name}\")\n",
    "        for song in self.songs:\n",
    "            song.play()\n",
    "\n",
    "\n",
    "class MusicPlayer:\n",
    "    def __init__(self):\n",
    "        self.playlists = []\n",
    "\n",
    "    def create_playlist(self, name):\n",
    "        playlist = Playlist(name)\n",
    "        self.playlists.append(playlist)\n",
    "        return playlist\n",
    "\n",
    "    def play_playlist(self, playlist_name):\n",
    "        for playlist in self.playlists:\n",
    "            if playlist.name == playlist_name:\n",
    "                playlist.play_all()\n",
    "                return\n",
    "        print(f\"Playlist '{playlist_name}' not found.\")\n",
    "\n",
    "\n",
    "# Example usage:\n",
    "song1 = Song(\"Song 1\", \"Artist A\", 180)\n",
    "song2 = Song(\"Song 2\", \"Artist B\", 220)\n",
    "song3 = Song(\"Song 3\", \"Artist C\", 200)\n",
    "\n",
    "playlist1 = Playlist(\"My Favorites\")\n",
    "playlist1.add_song(song1)\n",
    "playlist1.add_song(song2)\n",
    "\n",
    "playlist2 = Playlist(\"Road Trip Mix\")\n",
    "playlist2.add_song(song2)\n",
    "playlist2.add_song(song3)\n",
    "\n",
    "player = MusicPlayer()\n",
    "player.create_playlist(\"Study Beats\")\n",
    "player.playlists.append(playlist1)\n",
    "player.playlists.append(playlist2)\n",
    "\n",
    "player.play_playlist(\"Road Trip Mix\")\n"
   ]
  },
  {
   "cell_type": "markdown",
   "id": "5ec1c745-adce-493e-a540-76a09a0a0d1c",
   "metadata": {},
   "source": [
    "7. Explain the concept of \"has-a\" relationships in composition and how it helps design software systems."
   ]
  },
  {
   "cell_type": "markdown",
   "id": "b7894af1-aa0b-4680-a796-ce910ceaa2c3",
   "metadata": {},
   "source": [
    "In object-oriented programming (OOP), the concept of \"has-a\" relationships refers to the association between classes where one class contains an object of another class. This relationship is a fundamental aspect of composition, and it is used to model the idea that an object of one class \"has\" another object as a part of its structure. The \"has-a\" relationship is a form of code reuse and encapsulation, and it helps design software systems in several ways:\n",
    "\n",
    "Modularity:\n",
    "\n",
    "\"Has-a\" relationships promote modularity by breaking down complex systems into smaller, more manageable components. Each class represents a distinct module or component of functionality.\n",
    "Code Reusability:\n",
    "\n",
    "By composing objects from smaller, specialized classes, you can reuse these classes in different contexts. This reusability is crucial for maintaining a clean and efficient codebase.\n",
    "Flexibility and Maintainability:\n",
    "\n",
    "Designing software with \"has-a\" relationships enhances flexibility. Changes to one component do not necessarily impact the entire system, making it easier to maintain and update the code without affecting other parts.\n",
    "Separation of Concerns:\n",
    "\n",
    "Each class in a \"has-a\" relationship is responsible for a specific aspect of functionality. This separation of concerns makes the code more readable and helps developers focus on specific features without being overwhelmed by the complexity of the entire system.\n",
    "Dynamic Composition:\n",
    "\n",
    "\"Has-a\" relationships allow for dynamic composition at runtime. You can change the components of an object dynamically, providing a high degree of flexibility in adapting to different scenarios or requirements.\n",
    "Encapsulation:\n",
    "\n",
    "Encapsulation is a key principle in OOP, and \"has-a\" relationships contribute to encapsulation by allowing the internal details of a class to remain hidden. Each class exposes a well-defined interface, and the internal implementation details are encapsulated within the class.\n",
    "Easy Testing:\n",
    "\n",
    "Testing individual components with \"has-a\" relationships is often simpler. You can test each class in isolation, ensuring that each component works as expected. This ease of testing contributes to the overall reliability of the software.\n",
    "Hierarchy of Abstraction:\n",
    "\n",
    "\"Has-a\" relationships contribute to a hierarchy of abstraction. Each class represents a level of abstraction, and the relationships between them create a clear structure that reflects the design and functionality of the system.\n",
    "Reduced Code Duplication:\n",
    "\n",
    "Through composition, you can avoid code duplication by reusing classes in different contexts. This not only reduces the amount of code but also makes the codebase more maintainable since changes are localized to specific classes."
   ]
  },
  {
   "cell_type": "markdown",
   "id": "9cf820cd-a94b-4b0d-9fe3-04436608618c",
   "metadata": {},
   "source": [
    "8. Create a Python class for a computer system, using composition to represent components like CPU, RAM,\n",
    "and storage devices."
   ]
  },
  {
   "cell_type": "code",
   "execution_count": 36,
   "id": "530bf052-a1c7-4209-bff5-940e71ec94af",
   "metadata": {},
   "outputs": [
    {
     "name": "stdout",
     "output_type": "stream",
     "text": [
      "Intel CPU processing data at 3.2 GHz\n",
      "RAM storing data with capacity 8 GB\n",
      "Reading data from SSD storage with 256 GB capacity\n"
     ]
    }
   ],
   "source": [
    "class CPU:\n",
    "    def __init__(self, brand, speed):\n",
    "        self.brand = brand\n",
    "        self.speed = speed\n",
    "\n",
    "    def process_data(self):\n",
    "        print(f\"{self.brand} CPU processing data at {self.speed} GHz\")\n",
    "\n",
    "\n",
    "class RAM:\n",
    "    def __init__(self, capacity):\n",
    "        self.capacity = capacity\n",
    "\n",
    "    def store_data(self):\n",
    "        print(f\"RAM storing data with capacity {self.capacity} GB\")\n",
    "\n",
    "\n",
    "class Storage:\n",
    "    def __init__(self, capacity, storage_type):\n",
    "        self.capacity = capacity\n",
    "        self.storage_type = storage_type\n",
    "\n",
    "    def read_data(self):\n",
    "        print(f\"Reading data from {self.storage_type} storage with {self.capacity} GB capacity\")\n",
    "\n",
    "\n",
    "class ComputerSystem:\n",
    "    def __init__(self, cpu, ram, storage):\n",
    "        self.cpu = cpu\n",
    "        self.ram = ram\n",
    "        self.storage = storage\n",
    "\n",
    "    def perform_computations(self):\n",
    "        self.cpu.process_data()\n",
    "        self.ram.store_data()\n",
    "        self.storage.read_data()\n",
    "\n",
    "\n",
    "# Example usage:\n",
    "cpu = CPU(brand=\"Intel\", speed=3.2)\n",
    "ram = RAM(capacity=8)\n",
    "storage = Storage(capacity=256, storage_type=\"SSD\")\n",
    "\n",
    "computer = ComputerSystem(cpu, ram, storage)\n",
    "computer.perform_computations()\n"
   ]
  },
  {
   "cell_type": "markdown",
   "id": "75067160-24aa-40f0-8fd1-936b3a1893f2",
   "metadata": {},
   "source": [
    "9. Describe the concept of \"delegation\" in composition and how it simplifies the design of complex systems."
   ]
  },
  {
   "cell_type": "markdown",
   "id": "7a9a8fcd-c290-455c-9f11-443324632ff7",
   "metadata": {},
   "source": [
    "\n",
    "Delegation, in the context of composition, is a design pattern where an object passes the responsibility for a particular task to another object. Instead of inheriting behavior from a superclass, a class delegates specific tasks to instances of other classes that specialize in those tasks. This approach promotes code reuse, modularity, and a more flexible design in complex systems."
   ]
  },
  {
   "cell_type": "markdown",
   "id": "9eb52829-5949-4e1f-bcca-6b62ce51ec4b",
   "metadata": {},
   "source": [
    "10. Create a Python class for a car, using composition to represent components like the engine, wheels, and\n",
    "transmission.\n",
    "\n",
    "\n"
   ]
  },
  {
   "cell_type": "code",
   "execution_count": 38,
   "id": "16ad6611-650e-4bd0-95a2-9c45683c8699",
   "metadata": {},
   "outputs": [
    {
     "name": "stdout",
     "output_type": "stream",
     "text": [
      "Driving Toyota Camry\n",
      "Engine starting (Fuel type: Gasoline)\n",
      "Shifting gear: Automatic\n",
      "Wheels rotating: 4 wheels in motion\n"
     ]
    }
   ],
   "source": [
    "class Engine:\n",
    "    def __init__(self, fuel_type):\n",
    "        self.fuel_type = fuel_type\n",
    "\n",
    "    def start(self):\n",
    "        print(f\"Engine starting (Fuel type: {self.fuel_type})\")\n",
    "\n",
    "\n",
    "class Wheels:\n",
    "    def __init__(self, num_wheels):\n",
    "        self.num_wheels = num_wheels\n",
    "\n",
    "    def rotate(self):\n",
    "        print(f\"Wheels rotating: {self.num_wheels} wheels in motion\")\n",
    "\n",
    "\n",
    "class Transmission:\n",
    "    def __init__(self, transmission_type):\n",
    "        self.transmission_type = transmission_type\n",
    "\n",
    "    def shift_gear(self):\n",
    "        print(f\"Shifting gear: {self.transmission_type}\")\n",
    "\n",
    "\n",
    "class Car:\n",
    "    def __init__(self, make, model, engine, wheels, transmission):\n",
    "        self.make = make\n",
    "        self.model = model\n",
    "        self.engine = engine\n",
    "        self.wheels = wheels\n",
    "        self.transmission = transmission\n",
    "\n",
    "    def drive(self):\n",
    "        print(f\"Driving {self.make} {self.model}\")\n",
    "        self.engine.start()\n",
    "        self.transmission.shift_gear()\n",
    "        self.wheels.rotate()\n",
    "\n",
    "\n",
    "# Example usage:\n",
    "car_engine = Engine(fuel_type=\"Gasoline\")\n",
    "car_wheels = Wheels(num_wheels=4)\n",
    "car_transmission = Transmission(transmission_type=\"Automatic\")\n",
    "\n",
    "my_car = Car(make=\"Toyota\", model=\"Camry\", engine=car_engine, wheels=car_wheels, transmission=car_transmission)\n",
    "my_car.drive()\n"
   ]
  },
  {
   "cell_type": "markdown",
   "id": "ffb2b40c-3ecd-43cd-a5a7-8d48ba8c6501",
   "metadata": {},
   "source": [
    "11. How can you encapsulate and hide the details of composed objects in Python classes to maintain\n",
    "abstraction?\n"
   ]
  },
  {
   "cell_type": "markdown",
   "id": "c97e4c41-2ddb-42e6-93ea-97f789208ffd",
   "metadata": {},
   "source": [
    "Encapsulation is a key principle in object-oriented programming (OOP) that involves bundling the data (attributes) and methods (functions) that operate on the data into a single unit, known as a class. By encapsulating the details of composed objects within Python classes, you can maintain abstraction and control the access to the internal implementation of those objects. Here are some techniques to achieve encapsulation and hide the details of composed objects:\n",
    "    \n",
    "    Private Attributes and Methods:\n",
    "\n",
    "Use the concept of private attributes and methods by prefixing them with a double underscore (__). This convention signals that these members are intended to be private and should not be accessed directly from outside the class.\n",
    "\n",
    "Property Decorators:\n",
    "\n",
    "Utilize property decorators to create getter and setter methods for attributes. This allows you to control access to the attributes and add validation or additional logic.\n",
    "\n",
    "Accessor Methods:\n",
    "\n",
    "Provide accessor methods to interact with composed objects. These methods can encapsulate the details of the objects and expose only the necessary functionality.\n",
    "\n"
   ]
  },
  {
   "cell_type": "markdown",
   "id": "f592f426-f79b-4e35-9bf4-9b26dfbe02e1",
   "metadata": {},
   "source": [
    "12. Create a Python class for a university course, using composition to represent students, instructors, and\n",
    "course materials."
   ]
  },
  {
   "cell_type": "code",
   "execution_count": 39,
   "id": "96199a0a-601d-41b0-a061-657ef2fbd755",
   "metadata": {},
   "outputs": [
    {
     "name": "stdout",
     "output_type": "stream",
     "text": [
      "\n",
      "University Course: Python Programming begins.\n",
      "Dr. Smith (Instructor ID: 101) teaching Python Programming\n",
      "Alice (Student ID: 1) enrolled in Python Programming\n",
      "Bob (Student ID: 2) enrolled in Python Programming\n",
      "Course Material: Introduction to Computer Science\n",
      "Basic concepts of programming and algorithms.\n",
      "\n",
      "University Course: Python Programming has started.\n",
      "\n"
     ]
    }
   ],
   "source": [
    "class Student:\n",
    "    def __init__(self, student_id, name):\n",
    "        self.student_id = student_id\n",
    "        self.name = name\n",
    "\n",
    "    def enroll(self, course):\n",
    "        print(f\"{self.name} (Student ID: {self.student_id}) enrolled in {course.title}\")\n",
    "\n",
    "\n",
    "class Instructor:\n",
    "    def __init__(self, instructor_id, name):\n",
    "        self.instructor_id = instructor_id\n",
    "        self.name = name\n",
    "\n",
    "    def teach(self, course):\n",
    "        print(f\"{self.name} (Instructor ID: {self.instructor_id}) teaching {course.title}\")\n",
    "\n",
    "\n",
    "class CourseMaterial:\n",
    "    def __init__(self, title, content):\n",
    "        self.title = title\n",
    "        self.content = content\n",
    "\n",
    "    def display(self):\n",
    "        print(f\"Course Material: {self.title}\\n{self.content}\")\n",
    "\n",
    "\n",
    "class UniversityCourse:\n",
    "    def __init__(self, title, instructor, students, course_material):\n",
    "        self.title = title\n",
    "        self.instructor = instructor\n",
    "        self.students = students\n",
    "        self.course_material = course_material\n",
    "\n",
    "    def start_course(self):\n",
    "        print(f\"\\nUniversity Course: {self.title} begins.\")\n",
    "        self.instructor.teach(self)\n",
    "        for student in self.students:\n",
    "            student.enroll(self)\n",
    "        self.course_material.display()\n",
    "        print(f\"\\nUniversity Course: {self.title} has started.\\n\")\n",
    "\n",
    "\n",
    "# Example usage:\n",
    "student1 = Student(student_id=1, name=\"Alice\")\n",
    "student2 = Student(student_id=2, name=\"Bob\")\n",
    "\n",
    "instructor = Instructor(instructor_id=101, name=\"Dr. Smith\")\n",
    "\n",
    "course_material = CourseMaterial(title=\"Introduction to Computer Science\", content=\"Basic concepts of programming and algorithms.\")\n",
    "\n",
    "students = [student1, student2]\n",
    "\n",
    "python_course = UniversityCourse(title=\"Python Programming\", instructor=instructor, students=students, course_material=course_material)\n",
    "\n",
    "python_course.start_course()\n"
   ]
  },
  {
   "cell_type": "markdown",
   "id": "c0a6361a-e9df-4bdf-8a94-3c0827c97fe0",
   "metadata": {},
   "source": [
    "13. Discuss the challenges and drawbacks of composition, such as increased complexity and potential for\n",
    "tight coupling between objects.\n",
    "\n",
    "\n"
   ]
  },
  {
   "cell_type": "markdown",
   "id": "d6166e6b-ffc2-457c-9398-117738adf74c",
   "metadata": {},
   "source": [
    "\n",
    "While composition offers numerous advantages, it is essential to acknowledge the challenges and potential drawbacks associated with this design approach:\n",
    "\n",
    "Increased Complexity:\n",
    "\n",
    "As a system grows in size, the number of composed objects may increase, leading to a more complex structure. Managing relationships between numerous components can become challenging and may result in code that is harder to understand and maintain.\n",
    "Boilerplate Code:\n",
    "\n",
    "In a composition-based design, you may encounter boilerplate code when you need to delegate similar operations across multiple components. This can lead to redundancy and reduced code clarity.\n",
    "Potential for Tight Coupling:\n",
    "\n",
    "While composition aims to reduce coupling between classes, improper use or excessive reliance on certain components can still lead to tight coupling. Tight coupling makes it more difficult to modify or extend the system without affecting other parts.\n",
    "Inconsistency Across Components:\n",
    "\n",
    "Ensuring consistency across composed objects, especially when different developers are working on various components, can be challenging. Inconsistencies may arise in terms of naming conventions, coding styles, or the interfaces exposed by different classes.\n",
    "Initialization Order Dependencies:\n",
    "\n",
    "In complex compositions, the order in which objects are initialized becomes important. If the initialization order is not carefully managed, it might result in unexpected behavior or errors.\n",
    "Difficulty in Debugging:\n",
    "\n",
    "Debugging composed systems can be more challenging than debugging simpler structures. Identifying the source of issues and tracing the flow of execution may require a deeper understanding of the relationships between objects.\n",
    "Performance Overhead:\n",
    "\n",
    "Depending on the implementation, composition may introduce a certain level of performance overhead, especially if there are numerous levels of abstraction or if excessive delegation occurs.\n",
    "Limited Support for Polymorphism:\n",
    "\n",
    "Composition may not provide the same level of support for polymorphism as inheritance. While you can delegate tasks to different components, polymorphic behavior might be more difficult to achieve in a clean and concise way.\n",
    "Design Decisions and Trade-offs:\n",
    "\n",
    "Choosing the right composition structure requires thoughtful design decisions. Deciding which components should be composed, how they should interact, and where responsibilities lie can be challenging and may require trade-offs.\n",
    "Learning Curve:\n",
    "\n",
    "For developers who are more accustomed to inheritance-based designs, transitioning to composition may involve a learning curve. Understanding how to effectively compose objects and manage relationships can take time."
   ]
  },
  {
   "cell_type": "markdown",
   "id": "3fe499b6-61cd-4c7f-9374-6b856d37be60",
   "metadata": {},
   "source": [
    "14. Create a Python class hierarchy for a restaurant system, using composition to represent menus, dishes,\n",
    "and ingredients."
   ]
  },
  {
   "cell_type": "code",
   "execution_count": 40,
   "id": "04ef939d-414e-4870-94a8-397d4e052315",
   "metadata": {},
   "outputs": [
    {
     "name": "stdout",
     "output_type": "stream",
     "text": [
      "\n",
      "Welcome to Food Haven Restaurant!\n",
      "Available Menus:\n",
      "\n",
      "Menu: Pizza Menu\n",
      "Dishes:\n",
      "\n",
      "Dish: Margherita Pizza\n",
      "Ingredients:\n",
      "2 pieces of Tomato\n",
      "100 grams of Cheese\n",
      "\n",
      "Menu: Sandwich Menu\n",
      "Dishes:\n",
      "\n",
      "Dish: Grilled Cheese Sandwich\n",
      "Ingredients:\n",
      "100 grams of Cheese\n",
      "2 slices of Bread\n",
      "Cooking Margherita Pizza...\n",
      "\n",
      "Enjoy your Margherita Pizza!\n",
      "\n",
      "Sorry, Pasta Carbonara is not available in the current menus.\n",
      "\n"
     ]
    }
   ],
   "source": [
    "class Ingredient:\n",
    "    def __init__(self, name, quantity, unit):\n",
    "        self.name = name\n",
    "        self.quantity = quantity\n",
    "        self.unit = unit\n",
    "\n",
    "    def display(self):\n",
    "        print(f\"{self.quantity} {self.unit} of {self.name}\")\n",
    "\n",
    "\n",
    "class Dish:\n",
    "    def __init__(self, name, ingredients):\n",
    "        self.name = name\n",
    "        self.ingredients = ingredients\n",
    "\n",
    "    def display(self):\n",
    "        print(f\"\\nDish: {self.name}\")\n",
    "        print(\"Ingredients:\")\n",
    "        for ingredient in self.ingredients:\n",
    "            ingredient.display()\n",
    "\n",
    "    def cook(self):\n",
    "        print(f\"Cooking {self.name}...\\n\")\n",
    "\n",
    "\n",
    "class Menu:\n",
    "    def __init__(self, name, dishes):\n",
    "        self.name = name\n",
    "        self.dishes = dishes\n",
    "\n",
    "    def display(self):\n",
    "        print(f\"\\nMenu: {self.name}\")\n",
    "        print(\"Dishes:\")\n",
    "        for dish in self.dishes:\n",
    "            dish.display()\n",
    "\n",
    "\n",
    "class Restaurant:\n",
    "    def __init__(self, name, menus):\n",
    "        self.name = name\n",
    "        self.menus = menus\n",
    "\n",
    "    def display(self):\n",
    "        print(f\"\\nWelcome to {self.name} Restaurant!\")\n",
    "        print(\"Available Menus:\")\n",
    "        for menu in self.menus:\n",
    "            menu.display()\n",
    "\n",
    "    def order_dish(self, dish_name):\n",
    "        for menu in self.menus:\n",
    "            for dish in menu.dishes:\n",
    "                if dish.name == dish_name:\n",
    "                    dish.cook()\n",
    "                    print(f\"Enjoy your {dish_name}!\\n\")\n",
    "                    return\n",
    "        print(f\"Sorry, {dish_name} is not available in the current menus.\\n\")\n",
    "\n",
    "\n",
    "# Example usage:\n",
    "ingredient1 = Ingredient(name=\"Tomato\", quantity=2, unit=\"pieces\")\n",
    "ingredient2 = Ingredient(name=\"Cheese\", quantity=100, unit=\"grams\")\n",
    "ingredient3 = Ingredient(name=\"Bread\", quantity=2, unit=\"slices\")\n",
    "\n",
    "dish1 = Dish(name=\"Margherita Pizza\", ingredients=[ingredient1, ingredient2])\n",
    "dish2 = Dish(name=\"Grilled Cheese Sandwich\", ingredients=[ingredient2, ingredient3])\n",
    "\n",
    "menu1 = Menu(name=\"Pizza Menu\", dishes=[dish1])\n",
    "menu2 = Menu(name=\"Sandwich Menu\", dishes=[dish2])\n",
    "\n",
    "restaurant = Restaurant(name=\"Food Haven\", menus=[menu1, menu2])\n",
    "restaurant.display()\n",
    "\n",
    "restaurant.order_dish(\"Margherita Pizza\")\n",
    "restaurant.order_dish(\"Pasta Carbonara\")\n"
   ]
  },
  {
   "cell_type": "markdown",
   "id": "360b6c5e-a99c-4a93-8fd6-6992755989ab",
   "metadata": {},
   "source": [
    "15. Explain how composition enhances code maintainability and modularity in Python programs.\n",
    "\n",
    "\n"
   ]
  },
  {
   "cell_type": "markdown",
   "id": "0f427827-11e3-40f7-bbde-8915243e0acf",
   "metadata": {},
   "source": [
    "Composition enhances code maintainability and modularity in Python programs by promoting a design approach where complex systems are built from smaller, independent components. Here are several ways in which composition contributes to code maintainability and modularity:\n",
    "\n",
    "Separation of Concerns:\n",
    "\n",
    "Composition encourages breaking down a system into smaller, self-contained components, each responsible for a specific aspect of functionality. This separation of concerns makes it easier to understand, modify, and maintain individual components without affecting the entire system.\n",
    "Code Reusability:\n",
    "\n",
    "By creating small, reusable components, composition facilitates code reuse. These components can be used in different contexts, reducing the need for duplicating code and promoting a more efficient and maintainable codebase.\n",
    "Flexibility and Adaptability:\n",
    "\n",
    "Composed systems are often more flexible and adaptable to changes. When requirements evolve or new features are added, components can be modified, added, or replaced without affecting other parts of the system. This adaptability is crucial for maintaining a system's relevance over time.\n",
    "Reduced Coupling:\n",
    "\n",
    "Composition generally leads to looser coupling between components compared to inheritance. Changes in one component are less likely to affect other components, reducing the risk of unintended side effects and making the codebase more maintainable.\n",
    "Encapsulation:\n",
    "\n",
    "Composition promotes encapsulation, where the internal details of a component are hidden from the rest of the system. This helps in maintaining a clean and well-defined interface for each component, preventing unintended access to implementation details.\n",
    "Easier Testing:\n",
    "\n",
    "Components created through composition can often be tested independently. This makes unit testing more straightforward, as each component can be tested in isolation to ensure it behaves correctly. This ease of testing contributes to the overall reliability of the system.\n",
    "Dynamic Composition:\n",
    "\n",
    "Composition allows for dynamic composition at runtime. This means that the structure of an object can be modified or extended during the program's execution. This dynamic nature enhances the system's adaptability and maintainability.\n",
    "Modular Design:\n",
    "\n",
    "Composition encourages a modular design where components are created as separate, interchangeable modules. Each module can be developed, tested, and maintained independently, leading to a more modular and scalable codebase.\n",
    "Hierarchy of Abstraction:\n",
    "\n",
    "Composition often results in a clear hierarchy of abstraction, where high-level components are composed of smaller, more specialized components. This hierarchy aids in understanding the structure and functionality of the system.\n",
    "Ease of Collaboration:\n",
    "\n",
    "In collaborative development environments, where different teams or developers work on different components, composition allows for more seamless integration. Teams can independently work on and test their components without relying heavily on the implementation details of other components."
   ]
  },
  {
   "cell_type": "markdown",
   "id": "e3d82bbf-cd98-4509-b66b-733775041357",
   "metadata": {},
   "source": [
    "16. Create a Python class for a computer game character, using composition to represent attributes like\n",
    "weapons, armor, and inventory."
   ]
  },
  {
   "cell_type": "code",
   "execution_count": 41,
   "id": "74a67464-da68-45a1-be21-0e3b8afe5168",
   "metadata": {},
   "outputs": [
    {
     "name": "stdout",
     "output_type": "stream",
     "text": [
      "Hero equipped with Sword\n",
      "Hero equipped with Shield\n",
      "Attacking with Sword - 20 damage\n",
      "Equipping Shield - 10 defense\n",
      "Added Bow to the inventory\n",
      "Added Helmet to the inventory\n",
      "\n",
      "Character: Hero\n",
      "Health: 100\n",
      "Weapon: Sword - 20 damage\n",
      "Armor: Shield - 10 defense\n",
      "Inventory:\n",
      "- Bow\n",
      "- Helmet\n"
     ]
    }
   ],
   "source": [
    "class Weapon:\n",
    "    def __init__(self, name, damage):\n",
    "        self.name = name\n",
    "        self.damage = damage\n",
    "\n",
    "    def attack(self):\n",
    "        print(f\"Attacking with {self.name} - {self.damage} damage\")\n",
    "\n",
    "\n",
    "class Armor:\n",
    "    def __init__(self, name, defense):\n",
    "        self.name = name\n",
    "        self.defense = defense\n",
    "\n",
    "    def equip(self):\n",
    "        print(f\"Equipping {self.name} - {self.defense} defense\")\n",
    "\n",
    "\n",
    "class Inventory:\n",
    "    def __init__(self):\n",
    "        self.items = []\n",
    "\n",
    "    def add_item(self, item):\n",
    "        self.items.append(item)\n",
    "        print(f\"Added {item.name} to the inventory\")\n",
    "\n",
    "    def display_inventory(self):\n",
    "        print(\"Inventory:\")\n",
    "        for item in self.items:\n",
    "            print(f\"- {item.name}\")\n",
    "\n",
    "\n",
    "class GameCharacter:\n",
    "    def __init__(self, name, health):\n",
    "        self.name = name\n",
    "        self.health = health\n",
    "        self.weapon = None\n",
    "        self.armor = None\n",
    "        self.inventory = Inventory()\n",
    "\n",
    "    def equip_weapon(self, weapon):\n",
    "        self.weapon = weapon\n",
    "        print(f\"{self.name} equipped with {weapon.name}\")\n",
    "\n",
    "    def equip_armor(self, armor):\n",
    "        self.armor = armor\n",
    "        print(f\"{self.name} equipped with {armor.name}\")\n",
    "\n",
    "    def attack(self):\n",
    "        if self.weapon:\n",
    "            self.weapon.attack()\n",
    "        else:\n",
    "            print(f\"{self.name} attacks with bare hands\")\n",
    "\n",
    "    def defend(self):\n",
    "        if self.armor:\n",
    "            self.armor.equip()\n",
    "        else:\n",
    "            print(f\"{self.name} defends without armor\")\n",
    "\n",
    "    def display_character_info(self):\n",
    "        print(f\"\\nCharacter: {self.name}\")\n",
    "        print(f\"Health: {self.health}\")\n",
    "        if self.weapon:\n",
    "            print(f\"Weapon: {self.weapon.name} - {self.weapon.damage} damage\")\n",
    "        if self.armor:\n",
    "            print(f\"Armor: {self.armor.name} - {self.armor.defense} defense\")\n",
    "        self.inventory.display_inventory()\n",
    "\n",
    "\n",
    "# Example usage:\n",
    "sword = Weapon(name=\"Sword\", damage=20)\n",
    "shield = Armor(name=\"Shield\", defense=10)\n",
    "\n",
    "character = GameCharacter(name=\"Hero\", health=100)\n",
    "character.equip_weapon(sword)\n",
    "character.equip_armor(shield)\n",
    "\n",
    "character.attack()\n",
    "character.defend()\n",
    "\n",
    "character.inventory.add_item(Weapon(name=\"Bow\", damage=15))\n",
    "character.inventory.add_item(Armor(name=\"Helmet\", defense=5))\n",
    "\n",
    "character.display_character_info()\n"
   ]
  },
  {
   "cell_type": "markdown",
   "id": "8b5cd02f-5b81-4475-aea3-194fd16ff05f",
   "metadata": {},
   "source": [
    "17. Describe the concept of \"aggregation\" in composition and how it differs from simple composition."
   ]
  },
  {
   "cell_type": "markdown",
   "id": "657963f4-3d9c-4972-b388-55a137b9d9a8",
   "metadata": {},
   "source": [
    "The concept of \"aggregation\" in composition refers to a relationship between two objects where one object contains the other, and there's a \"whole-part\" relationship. In aggregation, the contained object (part) can exist independently of the containing object (whole). It represents a looser coupling compared to a more intimate \"composition\" relationship."
   ]
  },
  {
   "cell_type": "markdown",
   "id": "4d52cf41-f24a-4c15-957d-d890725530de",
   "metadata": {},
   "source": [
    "18. Create a Python class for a house, using composition to represent rooms, furniture, and appliances."
   ]
  },
  {
   "cell_type": "code",
   "execution_count": 42,
   "id": "0c392d37-b208-4a9e-82a3-041e086b57f5",
   "metadata": {},
   "outputs": [
    {
     "name": "stdout",
     "output_type": "stream",
     "text": [
      "\n",
      "House Information:\n",
      "\n",
      "Room: Living Room\n",
      "Furniture:\n",
      "- Sofa\n",
      "- Coffee Table\n",
      "Appliances:\n",
      "- Smart TV\n",
      "\n",
      "Room: Kitchen\n",
      "Furniture:\n",
      "Appliances:\n",
      "- Refrigerator\n"
     ]
    }
   ],
   "source": [
    "class Furniture:\n",
    "    def __init__(self, name):\n",
    "        self.name = name\n",
    "\n",
    "    def display(self):\n",
    "        print(f\"- {self.name}\")\n",
    "\n",
    "\n",
    "class Appliance:\n",
    "    def __init__(self, name):\n",
    "        self.name = name\n",
    "\n",
    "    def display(self):\n",
    "        print(f\"- {self.name}\")\n",
    "\n",
    "\n",
    "class Room:\n",
    "    def __init__(self, name, furniture=None, appliances=None):\n",
    "        self.name = name\n",
    "        self.furniture = furniture or []\n",
    "        self.appliances = appliances or []\n",
    "\n",
    "    def add_furniture(self, furniture):\n",
    "        self.furniture.append(furniture)\n",
    "\n",
    "    def add_appliance(self, appliance):\n",
    "        self.appliances.append(appliance)\n",
    "\n",
    "    def display(self):\n",
    "        print(f\"\\nRoom: {self.name}\")\n",
    "        print(\"Furniture:\")\n",
    "        for item in self.furniture:\n",
    "            item.display()\n",
    "        print(\"Appliances:\")\n",
    "        for item in self.appliances:\n",
    "            item.display()\n",
    "\n",
    "\n",
    "class House:\n",
    "    def __init__(self, rooms=None):\n",
    "        self.rooms = rooms or []\n",
    "\n",
    "    def add_room(self, room):\n",
    "        self.rooms.append(room)\n",
    "\n",
    "    def display_house(self):\n",
    "        print(\"\\nHouse Information:\")\n",
    "        for room in self.rooms:\n",
    "            room.display()\n",
    "\n",
    "\n",
    "# Example usage:\n",
    "sofa = Furniture(name=\"Sofa\")\n",
    "table = Furniture(name=\"Coffee Table\")\n",
    "tv = Appliance(name=\"Smart TV\")\n",
    "fridge = Appliance(name=\"Refrigerator\")\n",
    "\n",
    "living_room = Room(name=\"Living Room\", furniture=[sofa, table], appliances=[tv])\n",
    "kitchen = Room(name=\"Kitchen\", appliances=[fridge])\n",
    "\n",
    "my_house = House(rooms=[living_room, kitchen])\n",
    "my_house.display_house()\n"
   ]
  },
  {
   "cell_type": "markdown",
   "id": "93b1c474-2b7a-4246-9bab-5d4ccd6f7041",
   "metadata": {},
   "source": [
    "19. How can you achieve flexibility in composed objects by allowing them to be replaced or modified\n",
    "dynamically at runtime?"
   ]
  },
  {
   "cell_type": "markdown",
   "id": "a2b242c0-8d42-4f31-9465-b6b6eda779a9",
   "metadata": {},
   "source": [
    "Achieving flexibility in composed objects by allowing them to be replaced or modified dynamically at runtime involves leveraging dynamic composition and providing mechanisms for runtime modifications. Here are several strategies to achieve this flexibility:\n",
    "\n",
    "Interfaces and Polymorphism:\n",
    "\n",
    "Define interfaces or abstract classes for components, and ensure that composed objects adhere to these interfaces. Use polymorphism to allow dynamic substitution of objects that implement the same interface. This allows you to replace or modify components without affecting the rest of the system.\n",
    "\n",
    "Setter Methods:\n",
    "\n",
    "Provide setter methods in the containing class to allow dynamic replacement of components at runtime. This approach enables you to modify or replace specific components without altering the overall structure of the composed object.\n",
    "\n",
    "Factory Patterns:\n",
    "\n",
    "Use factory patterns to create and replace components dynamically. Factories can encapsulate the logic for creating and replacing objects, allowing for easy modifications at runtime\n",
    "\n",
    "Decorator Pattern:\n",
    "\n",
    "Use the decorator pattern to dynamically add or replace responsibilities of objects. This allows you to modify the behavior of components at runtime by wrapping them with decorators.\n",
    "\n"
   ]
  },
  {
   "cell_type": "markdown",
   "id": "5c67f7e6-be40-4394-bf16-7c7454d5992f",
   "metadata": {},
   "source": [
    "20. Create a Python class for a social media application, using composition to represent users, posts, and\n",
    "comments."
   ]
  },
  {
   "cell_type": "code",
   "execution_count": 43,
   "id": "ed044886-bdd5-4fee-bdf4-d8c44087538b",
   "metadata": {},
   "outputs": [
    {
     "name": "stdout",
     "output_type": "stream",
     "text": [
      "\n",
      "All Posts:\n",
      "\n",
      "Posts by Alice:\n",
      "\n",
      "Post by Alice: Hello, everyone!\n",
      "Comments:\n",
      "Bob: Hi Alice!\n",
      "Alice: Thanks, Bob!\n",
      "\n",
      "Posts by Bob:\n",
      "\n",
      "Post by Bob: Python is awesome!\n",
      "Comments:\n",
      "Alice: I agree!\n"
     ]
    }
   ],
   "source": [
    "class Comment:\n",
    "    def __init__(self, user, content):\n",
    "        self.user = user\n",
    "        self.content = content\n",
    "\n",
    "    def display(self):\n",
    "        print(f\"{self.user.username}: {self.content}\")\n",
    "\n",
    "\n",
    "class Post:\n",
    "    def __init__(self, user, content):\n",
    "        self.user = user\n",
    "        self.content = content\n",
    "        self.comments = []\n",
    "\n",
    "    def add_comment(self, comment):\n",
    "        self.comments.append(comment)\n",
    "\n",
    "    def display(self):\n",
    "        print(f\"\\nPost by {self.user.username}: {self.content}\")\n",
    "        print(\"Comments:\")\n",
    "        for comment in self.comments:\n",
    "            comment.display()\n",
    "\n",
    "\n",
    "class User:\n",
    "    def __init__(self, username):\n",
    "        self.username = username\n",
    "        self.posts = []\n",
    "\n",
    "    def create_post(self, content):\n",
    "        post = Post(user=self, content=content)\n",
    "        self.posts.append(post)\n",
    "        return post\n",
    "\n",
    "    def comment_on_post(self, post, content):\n",
    "        comment = Comment(user=self, content=content)\n",
    "        post.add_comment(comment)\n",
    "\n",
    "    def display_user_posts(self):\n",
    "        print(f\"\\nPosts by {self.username}:\")\n",
    "        for post in self.posts:\n",
    "            post.display()\n",
    "\n",
    "\n",
    "class SocialMediaApp:\n",
    "    def __init__(self, users=None):\n",
    "        self.users = users or []\n",
    "\n",
    "    def add_user(self, user):\n",
    "        self.users.append(user)\n",
    "\n",
    "    def display_all_posts(self):\n",
    "        print(\"\\nAll Posts:\")\n",
    "        for user in self.users:\n",
    "            user.display_user_posts()\n",
    "\n",
    "\n",
    "# Example usage:\n",
    "user1 = User(username=\"Alice\")\n",
    "user2 = User(username=\"Bob\")\n",
    "\n",
    "app = SocialMediaApp(users=[user1, user2])\n",
    "\n",
    "post1 = user1.create_post(content=\"Hello, everyone!\")\n",
    "user2.comment_on_post(post1, content=\"Hi Alice!\")\n",
    "user1.comment_on_post(post1, content=\"Thanks, Bob!\")\n",
    "\n",
    "post2 = user2.create_post(content=\"Python is awesome!\")\n",
    "user1.comment_on_post(post2, content=\"I agree!\")\n",
    "\n",
    "app.display_all_posts()\n"
   ]
  },
  {
   "cell_type": "code",
   "execution_count": null,
   "id": "33a2d4ad-f23b-46cb-82e3-710f21ca27a8",
   "metadata": {},
   "outputs": [],
   "source": []
  }
 ],
 "metadata": {
  "kernelspec": {
   "display_name": "Python 3 (ipykernel)",
   "language": "python",
   "name": "python3"
  },
  "language_info": {
   "codemirror_mode": {
    "name": "ipython",
    "version": 3
   },
   "file_extension": ".py",
   "mimetype": "text/x-python",
   "name": "python",
   "nbconvert_exporter": "python",
   "pygments_lexer": "ipython3",
   "version": "3.10.8"
  }
 },
 "nbformat": 4,
 "nbformat_minor": 5
}
