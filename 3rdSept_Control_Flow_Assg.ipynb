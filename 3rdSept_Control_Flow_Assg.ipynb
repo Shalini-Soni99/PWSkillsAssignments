{
 "cells": [
  {
   "cell_type": "markdown",
   "id": "e4d5b858-ef0a-4e25-b8ab-bcc523f09026",
   "metadata": {},
   "source": [
    "Basic If-Else Statements:"
   ]
  },
  {
   "cell_type": "markdown",
   "id": "84addbfa-8f54-4485-8334-bf7a20c0fcf3",
   "metadata": {},
   "source": [
    "1. Write a Python program to check if a given number is positive or negative."
   ]
  },
  {
   "cell_type": "code",
   "execution_count": 26,
   "id": "a90a6d9f-05b1-427f-af27-0e46ea618b14",
   "metadata": {},
   "outputs": [
    {
     "name": "stdin",
     "output_type": "stream",
     "text": [
      "Input any number 5\n"
     ]
    },
    {
     "name": "stdout",
     "output_type": "stream",
     "text": [
      "It is a positive number\n"
     ]
    },
    {
     "name": "stdin",
     "output_type": "stream",
     "text": [
      "Input any number -5\n"
     ]
    },
    {
     "name": "stdout",
     "output_type": "stream",
     "text": [
      "It is a negative number\n"
     ]
    },
    {
     "name": "stdin",
     "output_type": "stream",
     "text": [
      "Input any number 0\n"
     ]
    }
   ],
   "source": [
    "#Define a function to check whether a number is positive or negative\n",
    "def check_num():\n",
    "\n",
    "    #Input number\n",
    "    num = int(input(\"Input any number\"))\n",
    "\n",
    "    #Using if-else conditions to check the number\n",
    "    if num>0:\n",
    "        print(\"It is a positive number\")\n",
    "    elif num<0:\n",
    "        print(\"It is a negative number\")\n",
    "\n",
    "check_num()\n",
    "check_num()\n",
    "check_num()\n",
    "\n",
    "    "
   ]
  },
  {
   "cell_type": "markdown",
   "id": "b25a45c0-04b1-45fb-9950-4f6da91fc2a2",
   "metadata": {},
   "source": [
    "2. Create a program that determines if a person is eligible to vote based on their age."
   ]
  },
  {
   "cell_type": "code",
   "execution_count": 5,
   "id": "74b8a569-ff5d-4d13-bb3f-7a06e8380008",
   "metadata": {},
   "outputs": [
    {
     "name": "stdout",
     "output_type": "stream",
     "text": [
      "Eligible to vote\n",
      "Not eligible to vote\n"
     ]
    }
   ],
   "source": [
    "#Defining a function to check the voting eligibility\n",
    "\n",
    "def vote_elig(age):\n",
    "    if age>=18:\n",
    "        print(\"Eligible to vote\")\n",
    "    else:\n",
    "        print(\"Not eligible to vote\")\n",
    "vote_elig(22)\n",
    "vote_elig(12)"
   ]
  },
  {
   "cell_type": "markdown",
   "id": "dbd55676-b5b6-412c-b856-2dd907ad699a",
   "metadata": {},
   "source": [
    "3. Develop a program to find the maximum of two numbers using if-else statements."
   ]
  },
  {
   "cell_type": "code",
   "execution_count": 8,
   "id": "8083bed0-b64f-45d1-9d9d-9b185e0239e3",
   "metadata": {},
   "outputs": [
    {
     "name": "stdin",
     "output_type": "stream",
     "text": [
      "Input the first number 55\n",
      "Input the second number 44\n"
     ]
    },
    {
     "name": "stdout",
     "output_type": "stream",
     "text": [
      "55 is greater than 44\n"
     ]
    },
    {
     "name": "stdin",
     "output_type": "stream",
     "text": [
      "Input the first number 22\n",
      "Input the second number 25\n"
     ]
    },
    {
     "name": "stdout",
     "output_type": "stream",
     "text": [
      "25 is greater than 22\n"
     ]
    },
    {
     "name": "stdin",
     "output_type": "stream",
     "text": [
      "Input the first number 23\n",
      "Input the second number 23\n"
     ]
    },
    {
     "name": "stdout",
     "output_type": "stream",
     "text": [
      "23 is equal to 23\n"
     ]
    }
   ],
   "source": [
    "#Defining a function that compares two numbers\n",
    "def compare():\n",
    "    num1 = int(input(\"Input the first number\"))\n",
    "    num2 = int(input(\"Input the second number\"))\n",
    "\n",
    "    if num1>num2:\n",
    "        print(num1, \"is greater than\", num2)\n",
    "    elif num2>num1:\n",
    "        print(num2, \"is greater than\", num1)\n",
    "    else:\n",
    "        print(num1, \"is equal to\", num2)\n",
    "        \n",
    "compare()\n",
    "compare()\n",
    "compare()"
   ]
  },
  {
   "cell_type": "markdown",
   "id": "4e1375bb-d71e-475a-b213-550a773f3a0e",
   "metadata": {},
   "source": [
    "4. Write a Python script to classify a given year as a leap year or not."
   ]
  },
  {
   "cell_type": "code",
   "execution_count": 10,
   "id": "a36ed26e-efc2-4884-96fc-7eb140939cbf",
   "metadata": {},
   "outputs": [
    {
     "name": "stdout",
     "output_type": "stream",
     "text": [
      "Not a leap year\n",
      "Leap year\n",
      "Leap Year\n",
      "Not a leap year\n"
     ]
    }
   ],
   "source": [
    "#Definning a function to checl leap year\n",
    "def if_leap(year):\n",
    "    if year%100==0:\n",
    "        if year%400==0:\n",
    "            print(\"Leap Year\")\n",
    "        else:\n",
    "            print(\"Not a leap year\")\n",
    "    elif year%4==0:\n",
    "        print(\"Leap year\")\n",
    "    else:\n",
    "        print(\"Not a leap year\")\n",
    "        \n",
    "if_leap(2023)\n",
    "if_leap(2024)\n",
    "if_leap(2000)\n",
    "if_leap(2100)"
   ]
  },
  {
   "cell_type": "markdown",
   "id": "18cca8d3-4ede-4732-bbf2-31581c1f1fea",
   "metadata": {},
   "source": [
    "5. Create a program that checks whether a character is a vowel or a consonant."
   ]
  },
  {
   "cell_type": "code",
   "execution_count": 12,
   "id": "695638bd-1309-41f8-a1d1-7307831beef5",
   "metadata": {},
   "outputs": [
    {
     "name": "stdout",
     "output_type": "stream",
     "text": [
      "N is a consonant\n",
      "U is a vowel\n"
     ]
    }
   ],
   "source": [
    "def check_vowel_cons(char):\n",
    "    if char in 'AEIOUaeiou':\n",
    "        print(char, \"is a vowel\")\n",
    "    else:\n",
    "        print(char, \"is a consonant\")\n",
    "\n",
    "check_vowel_cons('N')\n",
    "check_vowel_cons('U')"
   ]
  },
  {
   "cell_type": "markdown",
   "id": "6c868a55-19b4-4ca1-a284-1985e940ce4d",
   "metadata": {},
   "source": [
    "6. Implement a program to determine whether a given number is even or odd."
   ]
  },
  {
   "cell_type": "code",
   "execution_count": 13,
   "id": "b7716d4f-f8b7-495a-8918-276555630324",
   "metadata": {},
   "outputs": [
    {
     "name": "stdout",
     "output_type": "stream",
     "text": [
      "55 is odd\n",
      "22 is even\n"
     ]
    }
   ],
   "source": [
    "def check_odd_even(num):\n",
    "    if num%2==0:\n",
    "        print(num, \"is even\")\n",
    "    else:\n",
    "        print(num, \"is odd\")\n",
    "\n",
    "check_odd_even(55)\n",
    "check_odd_even(22)"
   ]
  },
  {
   "cell_type": "markdown",
   "id": "c4829f2b-6f7a-45bf-896d-ca7b363df243",
   "metadata": {},
   "source": [
    "7. Write a Python function to calculate the absolute value of a number without using the `abs()` function."
   ]
  },
  {
   "cell_type": "code",
   "execution_count": 14,
   "id": "9287fa18-35db-44ec-a3e2-39c9b3036131",
   "metadata": {},
   "outputs": [
    {
     "name": "stdout",
     "output_type": "stream",
     "text": [
      "Absolute value: 20.5\n",
      "Absolute value: 33.0\n"
     ]
    }
   ],
   "source": [
    "def abs_value(num):\n",
    "    if num<0:\n",
    "        print(\"Absolute value:\", -(num))\n",
    "    else:\n",
    "        print(\"Absolute value:\", num)\n",
    "        \n",
    "abs_value(-20.5)\n",
    "abs_value(33.0)"
   ]
  },
  {
   "cell_type": "markdown",
   "id": "5ab57078-8daa-45f2-86d2-a5708144746a",
   "metadata": {},
   "source": [
    "8. Develop a program that determines the largest of three given numbers using if-else statements."
   ]
  },
  {
   "cell_type": "code",
   "execution_count": 16,
   "id": "9548e9fb-b8e7-45cb-83be-0ca88760e89d",
   "metadata": {},
   "outputs": [
    {
     "name": "stdout",
     "output_type": "stream",
     "text": [
      "5  is the greatest\n",
      "11  is the greatest\n"
     ]
    }
   ],
   "source": [
    "def largest_num(a,b,c):\n",
    "    if a>b and a>c:\n",
    "        print(a, \" is the greatest\")\n",
    "    elif b>a and b>c:\n",
    "        print(b, \" is the greatest\")\n",
    "    elif c>a and c>b:\n",
    "        print(c, \" is the greatest\")\n",
    "    \n",
    "largest_num(2,3,5)\n",
    "largest_num(9,2,11)"
   ]
  },
  {
   "cell_type": "markdown",
   "id": "3b934ca3-e5c7-4042-8277-0df9998de833",
   "metadata": {},
   "source": [
    "9. Create a program that checks if a given string is a palindrome."
   ]
  },
  {
   "cell_type": "code",
   "execution_count": 13,
   "id": "e26716ad-fa7d-4a67-ad2d-40880648a947",
   "metadata": {},
   "outputs": [
    {
     "name": "stdin",
     "output_type": "stream",
     "text": [
      "Enter any string:  Shalini\n"
     ]
    },
    {
     "name": "stdout",
     "output_type": "stream",
     "text": [
      "Not a Palindrome\n"
     ]
    },
    {
     "name": "stdin",
     "output_type": "stream",
     "text": [
      "Enter any string:  Naman\n"
     ]
    },
    {
     "name": "stdout",
     "output_type": "stream",
     "text": [
      "It is a palindrome\n"
     ]
    }
   ],
   "source": [
    "def check_palindrome():\n",
    "    string = input(\"Enter any string: \").lower()\n",
    "    if string == string[::-1]:\n",
    "        print(\"It is a palindrome\")\n",
    "    else:\n",
    "        print(\"Not a Palindrome\")\n",
    "              \n",
    "\n",
    "check_palindrome()\n",
    "check_palindrome()"
   ]
  },
  {
   "cell_type": "markdown",
   "id": "0d5b74cb-25b6-4f2e-b3db-e09bb0d0e5f4",
   "metadata": {},
   "source": [
    "10. Write a Python program to calculate the grade based on a student's score."
   ]
  },
  {
   "cell_type": "code",
   "execution_count": 14,
   "id": "132aae0f-a189-4e92-9d3d-02c28aeb0093",
   "metadata": {},
   "outputs": [
    {
     "name": "stdout",
     "output_type": "stream",
     "text": [
      "Grade C\n",
      "Grade A\n",
      "Invalid Score Entered\n"
     ]
    }
   ],
   "source": [
    "def score_to_grade(score):\n",
    "    if score>=85 and score<=100:\n",
    "        print(\"Grade A\")\n",
    "    elif score>=70 and score<=84:\n",
    "        print(\"Grade B\")\n",
    "    elif score>=55 and score<=69:\n",
    "        print(\"Grade C\")\n",
    "    elif score>=40 and score<=54:\n",
    "        print(\"Grade D\")\n",
    "    elif score<=39 and score>=0:\n",
    "        print(\"Grade E\")\n",
    "    else:\n",
    "        print(\"Invalid Score Entered\")\n",
    "        \n",
    "score_to_grade(56.4)\n",
    "score_to_grade(86.3)\n",
    "score_to_grade(895)"
   ]
  },
  {
   "cell_type": "markdown",
   "id": "0e107afb-d4e6-4c76-b85a-6f2e34f62f51",
   "metadata": {},
   "source": [
    "Nested If-Else Statements:"
   ]
  },
  {
   "cell_type": "markdown",
   "id": "ae6eb687-3bf8-4951-a113-87ba41fdf2f5",
   "metadata": {},
   "source": [
    "11. Write a program to find the largest among three numbers using nested if-else statements"
   ]
  },
  {
   "cell_type": "code",
   "execution_count": 16,
   "id": "69316ac7-5a1f-4e60-bebd-497eaf2d6fe6",
   "metadata": {},
   "outputs": [
    {
     "name": "stdout",
     "output_type": "stream",
     "text": [
      "60 is the largest\n",
      "80 is largest\n"
     ]
    }
   ],
   "source": [
    "def largest_num(a,b,c):\n",
    "    if a>b:\n",
    "        if a>c:\n",
    "            print(a, \"is largest\")\n",
    "        elif c>a:\n",
    "            print(c, \"is the largest\")\n",
    "        else:\n",
    "            print( a, \"and\", c, \"are equal and greater than\", b)\n",
    "    if b>a:\n",
    "        if b>c:\n",
    "            print(b, \"is largest\")\n",
    "        elif c>b:\n",
    "            print(c, \"is the largest\")\n",
    "        else:\n",
    "            print( b, \"and\", c, \"are equal and greater than\", a)\n",
    "    if a==b:\n",
    "        if a>c:\n",
    "            print( a, \"and\", b, \"are equal and greater than\", c)\n",
    "        elif c>a:\n",
    "            print(c, \"is the largest\")\n",
    "        else:\n",
    "            print(\"All three numbers are equal\")\n",
    "            \n",
    "largest_num(20,20,60)\n",
    "largest_num(80,20,0)\n",
    "    "
   ]
  },
  {
   "cell_type": "markdown",
   "id": "1313be89-e417-4c2b-9461-01d3f76193e7",
   "metadata": {},
   "source": [
    "12. Implement a program to determine if a triangle is equilateral, isosceles, or scalene."
   ]
  },
  {
   "cell_type": "code",
   "execution_count": 18,
   "id": "522684e4-7974-49cf-8bc0-b1d078e4817a",
   "metadata": {},
   "outputs": [
    {
     "name": "stdout",
     "output_type": "stream",
     "text": [
      "Scalene Triangle\n",
      "Isosceles Triangle\n",
      "Equilateral Triangle\n"
     ]
    }
   ],
   "source": [
    "def triangle_type(side1, side2, side3):\n",
    "    if side1==side2==side3:\n",
    "        print(\"Equilateral Triangle\")\n",
    "    elif side1==side2 or side1==side3 or side2==side3:\n",
    "        print(\"Isosceles Triangle\")\n",
    "    else:\n",
    "        print(\"Scalene Triangle\")\n",
    "\n",
    "triangle_type(12, 13, 14)\n",
    "triangle_type(15, 20, 15)\n",
    "triangle_type(11, 11, 11)\n",
    "    "
   ]
  },
  {
   "cell_type": "markdown",
   "id": "57aad463-1870-41fb-9ad9-e699a9ff16ec",
   "metadata": {},
   "source": [
    "13. Develop a program that checks if a year is a leap year and also if it is a century year."
   ]
  },
  {
   "cell_type": "code",
   "execution_count": 20,
   "id": "b6b278d0-aff2-403b-8227-fc060e915c8c",
   "metadata": {},
   "outputs": [
    {
     "name": "stdout",
     "output_type": "stream",
     "text": [
      "Not a leap year\n",
      "Leap year\n",
      "It is a century year\n",
      "Leap Year\n",
      "It is a century year\n",
      "Not a leap year\n"
     ]
    }
   ],
   "source": [
    "#Definning a function to checl leap year\n",
    "def if_leap(year):\n",
    "    if year%100==0:\n",
    "        print(\"It is a century year\")\n",
    "        if year%400==0:\n",
    "            print(\"Leap Year\")\n",
    "        else:\n",
    "            print(\"Not a leap year\")\n",
    "    elif year%4==0:\n",
    "        print(\"Leap year\")\n",
    "    else:\n",
    "        print(\"Not a leap year\")\n",
    "        \n",
    "if_leap(2023)\n",
    "if_leap(2024)\n",
    "if_leap(2000)\n",
    "if_leap(2100)"
   ]
  },
  {
   "cell_type": "markdown",
   "id": "2593e0c2-e03e-4bbf-8551-42d6f972752f",
   "metadata": {},
   "source": [
    "14. Write a Python script to determine if a number is positive, negative, or zero."
   ]
  },
  {
   "cell_type": "code",
   "execution_count": 25,
   "id": "d5d6a03b-6524-44c0-84d0-6c06780a2847",
   "metadata": {},
   "outputs": [
    {
     "name": "stdin",
     "output_type": "stream",
     "text": [
      "Input any number 5\n"
     ]
    },
    {
     "name": "stdout",
     "output_type": "stream",
     "text": [
      "It is a positive number\n"
     ]
    },
    {
     "name": "stdin",
     "output_type": "stream",
     "text": [
      "Input any number -5\n"
     ]
    },
    {
     "name": "stdout",
     "output_type": "stream",
     "text": [
      "It is a negative number\n"
     ]
    },
    {
     "name": "stdin",
     "output_type": "stream",
     "text": [
      "Input any number 0\n"
     ]
    },
    {
     "name": "stdout",
     "output_type": "stream",
     "text": [
      "Neither positive nor negative, its zero!\n"
     ]
    }
   ],
   "source": [
    "#Define a function to check whether a number is positive or negative\n",
    "def check_num():\n",
    "\n",
    "    #Input number\n",
    "    num = int(input(\"Input any number\"))\n",
    "\n",
    "    #Using if-else conditions to check the number\n",
    "    if num>0:\n",
    "        print(\"It is a positive number\")\n",
    "    elif num<0:\n",
    "        print(\"It is a negative number\")\n",
    "    else:\n",
    "        print(\"Neither positive nor negative, its zero!\")\n",
    "\n",
    "check_num()\n",
    "check_num()\n",
    "check_num()"
   ]
  },
  {
   "cell_type": "markdown",
   "id": "92b55f34-eb0d-4872-9c39-c0b6c0fb6a88",
   "metadata": {},
   "source": [
    "15. Create a program to check if a person is a teenager (between 13 and 19 years old)."
   ]
  },
  {
   "cell_type": "code",
   "execution_count": 27,
   "id": "e239971f-c15d-4fec-9e4e-73671e42b130",
   "metadata": {},
   "outputs": [
    {
     "name": "stdout",
     "output_type": "stream",
     "text": [
      "Not a teenager\n",
      "Teenager\n"
     ]
    }
   ],
   "source": [
    "def if_teenager(age):\n",
    "    if age>=13 and age<=19:\n",
    "        print(\"Teenager\")\n",
    "    else:\n",
    "        print(\"Not a teenager\")\n",
    "        \n",
    "if_teenager(25)\n",
    "if_teenager(16)"
   ]
  },
  {
   "cell_type": "markdown",
   "id": "51ca0daf-a7dd-4e49-8974-cc694c75dbcb",
   "metadata": {},
   "source": [
    "16. Develop a program that determines the type of angle based on its measure (acute, obtuse, or right)."
   ]
  },
  {
   "cell_type": "code",
   "execution_count": 28,
   "id": "e6320fbd-c127-45c3-8a6a-d5027992eb16",
   "metadata": {},
   "outputs": [
    {
     "name": "stdout",
     "output_type": "stream",
     "text": [
      "Acute angle\n",
      "Right angle\n",
      "Obtuse angle\n"
     ]
    }
   ],
   "source": [
    "def angle_type(angle):\n",
    "    if angle==90:\n",
    "        print(\"Right angle\")\n",
    "    elif angle<90 and angle>0:\n",
    "        print(\"Acute angle\")\n",
    "    elif angle>=90 and angle<=180:\n",
    "        print(\"Obtuse angle\")\n",
    "    else:\n",
    "        print(\"Invalid Input\")\n",
    "        \n",
    "angle_type(30)\n",
    "angle_type(90)\n",
    "angle_type(150)"
   ]
  },
  {
   "cell_type": "markdown",
   "id": "7be14efa-d3f4-4d5a-9485-2253c4c3b173",
   "metadata": {},
   "source": [
    "17. Write a Python program to calculate the roots of a quadratic equation."
   ]
  },
  {
   "cell_type": "code",
   "execution_count": 34,
   "id": "0ae4798c-f7eb-4cb3-9f5d-c7bcd200b2a7",
   "metadata": {},
   "outputs": [
    {
     "name": "stdout",
     "output_type": "stream",
     "text": [
      "Root 1 = -0.3944487245360109\n",
      "Root 2 = -7.60555127546399\n",
      "Root 1 = -0.75 + 1.1989578808281798 i\n",
      "Root 2 = -0.75 - 1.1989578808281798 i\n"
     ]
    }
   ],
   "source": [
    "import math\n",
    "\n",
    "def find_roots(a,b,c):\n",
    "\n",
    "    # Calculate the discriminant\n",
    "    discriminant = b**2 - 4*a*c\n",
    "\n",
    "    # Check the discriminant to determine the nature of roots\n",
    "    if discriminant > 0:\n",
    "        # Two real and distinct roots\n",
    "        root1 = (-b + math.sqrt(discriminant)) / (2*a)\n",
    "        root2 = (-b - math.sqrt(discriminant)) / (2*a)\n",
    "        print(\"Root 1 =\", root1)\n",
    "        print(\"Root 2 =\", root2)\n",
    "    elif discriminant == 0:\n",
    "        # One real root (repeated)\n",
    "        root = -b / (2*a)\n",
    "        print(\"Root =\", root)\n",
    "    else:\n",
    "        # Complex roots\n",
    "        real_part = -b / (2*a)\n",
    "        imaginary_part = math.sqrt(abs(discriminant)) / (2*a)\n",
    "        print(\"Root 1 =\", real_part, \"+\", imaginary_part, \"i\")\n",
    "        print(\"Root 2 =\", real_part, \"-\", imaginary_part, \"i\")\n",
    "        \n",
    "find_roots(1,8,3)\n",
    "find_roots(2,3,4)"
   ]
  },
  {
   "cell_type": "markdown",
   "id": "cf45e146-d3a6-4023-b382-c22a9e70915b",
   "metadata": {},
   "source": [
    "18. Implement a program to determine the day of the week based on a user-provided number (1 for Monday, 2\n",
    "for Tuesday, etc.)."
   ]
  },
  {
   "cell_type": "code",
   "execution_count": 35,
   "id": "e5ed4f0a-7b2f-4ec1-b983-40088463f2e9",
   "metadata": {},
   "outputs": [
    {
     "name": "stdout",
     "output_type": "stream",
     "text": [
      "Thursday\n",
      "Monday\n"
     ]
    }
   ],
   "source": [
    "def weekis(n):\n",
    "    if n==1:\n",
    "        print(\"Monday\")\n",
    "    elif n==2:\n",
    "        print(\"Tuesday\")\n",
    "    elif n==3:\n",
    "        print(\"Wednesday\")\n",
    "    elif n==4:\n",
    "        print(\"Thursday\")\n",
    "    elif n==5:\n",
    "        print(\"Friday\")\n",
    "    elif n==6:\n",
    "        print(\"Saturday\")\n",
    "    elif n==7:\n",
    "        print(\"Sunday\")\n",
    "    else:\n",
    "        print(\"Invalid Input\")\n",
    "        \n",
    "weekis(4)\n",
    "weekis(1)"
   ]
  },
  {
   "cell_type": "markdown",
   "id": "5752028e-c285-46c6-b9ae-b75d04e0aa19",
   "metadata": {},
   "source": [
    "19. Create a program that determines if a year is a leap year and also if it is evenly divisible by 400."
   ]
  },
  {
   "cell_type": "code",
   "execution_count": 36,
   "id": "51b5ce07-d3f7-4824-9646-87d8a570a8b0",
   "metadata": {},
   "outputs": [
    {
     "name": "stdout",
     "output_type": "stream",
     "text": [
      "Not a leap year\n",
      "Leap year\n",
      "Leap Year and evenly divided by 400\n",
      "Not a leap year\n"
     ]
    }
   ],
   "source": [
    "#Definning a function to checl leap year\n",
    "def if_leap(year):\n",
    "    if year%100==0:\n",
    "        if year%400==0:\n",
    "            print(\"Leap Year and evenly divided by 400\")\n",
    "        else:\n",
    "            print(\"Not a leap year\")\n",
    "    elif year%4==0:\n",
    "        print(\"Leap year\")\n",
    "    else:\n",
    "        print(\"Not a leap year\")\n",
    "        \n",
    "if_leap(2023)\n",
    "if_leap(2024)\n",
    "if_leap(2000)\n",
    "if_leap(2100)"
   ]
  },
  {
   "cell_type": "markdown",
   "id": "027607f4-4f8e-43c3-8835-9ee5d56e8b16",
   "metadata": {},
   "source": [
    "20. Develop a program that checks if a given number is prime or not using nested if-else statements."
   ]
  },
  {
   "cell_type": "code",
   "execution_count": 37,
   "id": "41375ede-cd31-4595-872e-18359b16519f",
   "metadata": {},
   "outputs": [
    {
     "name": "stdout",
     "output_type": "stream",
     "text": [
      "The given number is not a prime\n",
      "The given number is prime\n"
     ]
    }
   ],
   "source": [
    "def isprime(num):\n",
    "    if num>1:\n",
    "        for i in range(2,int(num**0.5)+1):\n",
    "            if num%i==0:\n",
    "                print(\"The given number is not a prime\")\n",
    "                break\n",
    "        else:\n",
    "            print(\"The given number is prime\")\n",
    "    else:\n",
    "        print(\"The given number is not a prime\")\n",
    "        \n",
    "        \n",
    "isprime(33)\n",
    "isprime(23)"
   ]
  },
  {
   "cell_type": "markdown",
   "id": "5f606608-b1cd-4284-b1a9-067a55ad63d7",
   "metadata": {},
   "source": [
    "Elif Statements:"
   ]
  },
  {
   "cell_type": "markdown",
   "id": "debf3570-3490-4314-9ecd-445317d9688b",
   "metadata": {},
   "source": [
    "21. Write a Python program to assign grades based on different ranges of scores using elif statements."
   ]
  },
  {
   "cell_type": "code",
   "execution_count": 38,
   "id": "964e26f6-1cba-4c8c-b598-9fe81e04b8d1",
   "metadata": {},
   "outputs": [
    {
     "name": "stdout",
     "output_type": "stream",
     "text": [
      "Grade C\n",
      "Grade A\n",
      "Invalid Score Entered\n"
     ]
    }
   ],
   "source": [
    "def score_to_grade(score):\n",
    "    if score>=85 and score<=100:\n",
    "        print(\"Grade A\")\n",
    "    elif score>=70 and score<=84:\n",
    "        print(\"Grade B\")\n",
    "    elif score>=55 and score<=69:\n",
    "        print(\"Grade C\")\n",
    "    elif score>=40 and score<=54:\n",
    "        print(\"Grade D\")\n",
    "    elif score<=39 and score>=0:\n",
    "        print(\"Grade E\")\n",
    "    else:\n",
    "        print(\"Invalid Score Entered\")\n",
    "        \n",
    "score_to_grade(56.4)\n",
    "score_to_grade(86.3)\n",
    "score_to_grade(895)"
   ]
  },
  {
   "cell_type": "markdown",
   "id": "3de91010-b92b-4500-ab1b-2428fd949736",
   "metadata": {},
   "source": [
    "22. Implement a program to determine the type of a triangle based on its angles."
   ]
  },
  {
   "cell_type": "code",
   "execution_count": 39,
   "id": "ba943714-75ce-42a4-a9cf-f3f97ff4722e",
   "metadata": {},
   "outputs": [
    {
     "name": "stdout",
     "output_type": "stream",
     "text": [
      "Acute-angled triangle\n",
      "Obtuse-angled triangle\n"
     ]
    }
   ],
   "source": [
    "def triangle_type(a,b,c):\n",
    "    if a<90 and b<90 and c<90:\n",
    "        print(\"Acute-angled triangle\")\n",
    "    elif a==90 or b==90 or c==90:\n",
    "        print(\"Right-angled triangle\")\n",
    "    elif a>90 or b>90 or c>90:\n",
    "        print(\"Obtuse-angled triangle\")\n",
    "    else:\n",
    "        print(\"Invalid input\")\n",
    "        \n",
    "triangle_type(50,60,70)\n",
    "triangle_type(100,20,60)\n",
    "\n",
    "    \n",
    "        "
   ]
  },
  {
   "cell_type": "markdown",
   "id": "f4596243-23df-4cda-8205-bd051176c121",
   "metadata": {},
   "source": [
    "23. Develop a program to categorize a given person's BMI into underweight, normal, overweight, or obese using\n",
    "elif statements."
   ]
  },
  {
   "cell_type": "code",
   "execution_count": 40,
   "id": "5dc82de9-0e32-406d-babb-3a1b39785668",
   "metadata": {},
   "outputs": [
    {
     "name": "stdout",
     "output_type": "stream",
     "text": [
      "Healthy\n"
     ]
    }
   ],
   "source": [
    "def check_bmi(height, weight):\n",
    "    bmi = weight/(height**2)\n",
    "    \n",
    "    if bmi<18.5:\n",
    "        print(\"Underweight\")\n",
    "    elif bmi>=18.5 and bmi<25:\n",
    "        print(\"Healthy\")\n",
    "    elif bmi>=25 and bmi<30:\n",
    "        print(\"Overweight\")\n",
    "    elif bmi>=30:\n",
    "        print(\"Obese\")\n",
    "    else:\n",
    "        print(\"Invalid Input\")\n",
    "\n",
    "check_bmi(1.56,60)"
   ]
  },
  {
   "cell_type": "markdown",
   "id": "98590e9c-a5c4-4730-9e02-9d09e4995a8a",
   "metadata": {},
   "source": [
    "24. Create a program that determines whether a given number is positive, negative, or zero using elif\n",
    "statements."
   ]
  },
  {
   "cell_type": "code",
   "execution_count": 41,
   "id": "dd6b3617-89d6-4646-9317-e02a67209c38",
   "metadata": {},
   "outputs": [
    {
     "name": "stdout",
     "output_type": "stream",
     "text": [
      "Zero\n",
      "negative\n",
      "positive\n"
     ]
    }
   ],
   "source": [
    "def check_num(n):\n",
    "    if n>0:\n",
    "        print(\"positive\")\n",
    "    elif n<0:\n",
    "        print(\"negative\")\n",
    "    else:\n",
    "        print(\"Zero\")\n",
    "\n",
    "check_num(0)\n",
    "check_num(-5)\n",
    "check_num(2)\n",
    "            \n"
   ]
  },
  {
   "cell_type": "markdown",
   "id": "14bb3d89-27ce-4e15-aa4e-e44e95a147d9",
   "metadata": {},
   "source": [
    "25. Write a Python script to determine the type of a character (uppercase, lowercase, or special) using elif\n",
    "statements."
   ]
  },
  {
   "cell_type": "code",
   "execution_count": 45,
   "id": "6986c39d-42b3-4821-adef-5e86c902fc5e",
   "metadata": {},
   "outputs": [
    {
     "name": "stdout",
     "output_type": "stream",
     "text": [
      "30 is neither uppercase nor lowercase.\n",
      "j is a lowercase letter.\n",
      "* is a special character.\n"
     ]
    }
   ],
   "source": [
    "def check_char(character):\n",
    "\n",
    "    if character.isupper():\n",
    "        print(f\"{character} is an uppercase letter.\")\n",
    "    elif character.islower():\n",
    "        print(f\"{character} is a lowercase letter.\")\n",
    "    elif not character.isalnum():\n",
    "        print(f\"{character} is a special character.\")\n",
    "    else:\n",
    "        print(f\"{character} is neither uppercase nor lowercase.\")\n",
    "        \n",
    "check_char('30')\n",
    "check_char('j')\n",
    "check_char('*')"
   ]
  },
  {
   "cell_type": "markdown",
   "id": "582c230c-74c3-431d-b29a-a1c43c10e642",
   "metadata": {},
   "source": [
    "26. Implement a program to calculate the discounted price based on different purchase amounts using elif\n",
    "statements."
   ]
  },
  {
   "cell_type": "code",
   "execution_count": 47,
   "id": "9a84e869-5d9f-4c80-8ebb-9d12710cae15",
   "metadata": {},
   "outputs": [
    {
     "name": "stdout",
     "output_type": "stream",
     "text": [
      "Discounted price is: 5600.0\n",
      "Discounted price is: 1080.0\n"
     ]
    }
   ],
   "source": [
    "def discounted_price(amnt):\n",
    "    if amnt>5000: \n",
    "        discounted_price = amnt-0.2*amnt\n",
    "    elif amnt>1000:\n",
    "        discounted_price = amnt-0.1*amnt\n",
    "    elif amnt>500:\n",
    "        discounted_price = amnt-0.05*amnt\n",
    "        \n",
    "    print(\"Discounted price is:\",  discounted_price)\n",
    "    \n",
    "discounted_price(7000)\n",
    "discounted_price(1200)\n"
   ]
  },
  {
   "cell_type": "markdown",
   "id": "26a39b61-03be-4db5-896d-903a96b4de51",
   "metadata": {},
   "source": [
    "27. Develop a program to calculate the electricity bill based on different consumption slabs using elif\n",
    "statements."
   ]
  },
  {
   "cell_type": "code",
   "execution_count": 49,
   "id": "e1914349-816b-4daa-a78e-d660fd9229eb",
   "metadata": {},
   "outputs": [
    {
     "name": "stdout",
     "output_type": "stream",
     "text": [
      "Bill is: 225.0\n",
      "Bill is: 360.0\n",
      "Bill is: 4000.0\n"
     ]
    }
   ],
   "source": [
    "def bill(units):\n",
    "    if units<100:\n",
    "        bill = units*2.5\n",
    "    elif units>=100 and units<200:\n",
    "        bill = units*3.0\n",
    "    else:\n",
    "        bill = units*5.0\n",
    "        \n",
    "    print(\"Bill is:\", bill)\n",
    "\n",
    "bill(90)\n",
    "bill(120)\n",
    "bill(800)"
   ]
  },
  {
   "cell_type": "markdown",
   "id": "74e31ce5-99b7-425e-af33-068578f4c53d",
   "metadata": {},
   "source": [
    "28. Create a program to determine the type of quadrilateral based on its angles and sides using elif\n",
    "statements."
   ]
  },
  {
   "cell_type": "code",
   "execution_count": 54,
   "id": "42e886d8-e93e-4ee4-bdab-f07cae686849",
   "metadata": {},
   "outputs": [
    {
     "name": "stdout",
     "output_type": "stream",
     "text": [
      "It is a parallelogram.\n",
      "It is a rectangle.\n"
     ]
    }
   ],
   "source": [
    "def quad_type(a1,a2,a3,a4,s1,s2,s3,s4):\n",
    "\n",
    "# Check the type of quadrilateral based on angles and sides\n",
    "    if a1 == a2 == a3 == a4 == 90:\n",
    "        if s1 == s2 == s3 == s4:\n",
    "            print(\"It is a square.\")\n",
    "        else:\n",
    "            print(\"It is a rectangle.\")\n",
    "    elif ((a1 == a2) and (a3 == a4)) or ((a1 == a3) and (a2 == a4)) or ((a1 == a4) and (a3 == a2)) :\n",
    "        print(\"It is a parallelogram.\")\n",
    "    elif s1 == s2 == s3 == s4:\n",
    "        print(\"It is a rhombus.\")\n",
    "    else:\n",
    "        print(\"It is a general quadrilateral.\")\n",
    "        \n",
    "quad_type(100, 80, 100, 80, 7,8,7,8)\n",
    "quad_type(90, 90, 90, 90, 7,8,7,8)\n"
   ]
  },
  {
   "cell_type": "markdown",
   "id": "94921689-80bd-4bed-b125-f4eda311cdc1",
   "metadata": {},
   "source": [
    "29. Write a Python script to determine the season based on a user-provided month using elif statements."
   ]
  },
  {
   "cell_type": "code",
   "execution_count": 55,
   "id": "a488b1a2-43e1-41ba-97d8-7901571fe825",
   "metadata": {},
   "outputs": [
    {
     "name": "stdout",
     "output_type": "stream",
     "text": [
      "Summer\n",
      "Winter\n"
     ]
    }
   ],
   "source": [
    "def season_is(month):\n",
    "    \n",
    "    if 3 <= month <= 5:\n",
    "        print(\"Spring\")\n",
    "    elif 6 <= month <= 8:\n",
    "        print(\"Summer\")\n",
    "    elif 9 <= month <= 11:\n",
    "        print(\"Autumn\")\n",
    "    elif month == 12 or month == 1 or month == 2:\n",
    "        print(\"Winter\")\n",
    "    else:\n",
    "        print(\"Invalid month\")\n",
    "\n",
    "season_is(8)\n",
    "season_is(12)"
   ]
  },
  {
   "cell_type": "markdown",
   "id": "0ac84aee-6d18-4264-906f-80e05eb1ce25",
   "metadata": {},
   "source": [
    "30. Implement a program to determine the type of a year (leap or common) and month (30 or 31 days) using\n",
    "elif statements."
   ]
  },
  {
   "cell_type": "code",
   "execution_count": 56,
   "id": "451dc6e5-3201-4006-be25-de4bf4b4e5d5",
   "metadata": {},
   "outputs": [
    {
     "name": "stdout",
     "output_type": "stream",
     "text": [
      "Common year\n",
      "31 days month\n"
     ]
    }
   ],
   "source": [
    "def year_month(year, month):\n",
    "    if year%100==0:\n",
    "        if year%400==0:\n",
    "            print(\"Leap Year\")\n",
    "        else:\n",
    "            print(\"Common Year\")\n",
    "    elif year%4==0:\n",
    "        print(\"Leap year\")\n",
    "    else:\n",
    "        print(\"Common year\")\n",
    "        \n",
    "    if month==1 or 3 or 5 or 7 or 8 or 10 or 12:\n",
    "        print(\"31 days month\")\n",
    "    elif month==4 or 6 or 9 or 11:\n",
    "        print(\"30 days month\")\n",
    "    elif month==2:\n",
    "        print(\"29 or 28 days month\")\n",
    "    else:\n",
    "        print(\"Invalid input\")\n",
    "        \n",
    "year_month(2014, 7)\n"
   ]
  },
  {
   "cell_type": "markdown",
   "id": "925238aa-c594-4c8e-8280-22680aefda39",
   "metadata": {},
   "source": [
    "Basic Level:"
   ]
  },
  {
   "cell_type": "markdown",
   "id": "2f003698-c0c1-4a60-9ba6-2306095f1755",
   "metadata": {},
   "source": [
    "1. Write a Python program that checks if a given number is positive, negative, or zero."
   ]
  },
  {
   "cell_type": "code",
   "execution_count": 57,
   "id": "4c91abfb-0d1f-4771-8261-0f09ac5396aa",
   "metadata": {},
   "outputs": [
    {
     "name": "stdout",
     "output_type": "stream",
     "text": [
      "Zero\n",
      "negative\n",
      "positive\n"
     ]
    }
   ],
   "source": [
    "def check_num(n):\n",
    "    if n>0:\n",
    "        print(\"positive\")\n",
    "    elif n<0:\n",
    "        print(\"negative\")\n",
    "    else:\n",
    "        print(\"Zero\")\n",
    "\n",
    "check_num(0)\n",
    "check_num(-5)\n",
    "check_num(2)"
   ]
  },
  {
   "cell_type": "markdown",
   "id": "1ed66f9d-042f-4a7c-84e6-526f4a968975",
   "metadata": {},
   "source": [
    "2. Create a program to determine if a person is eligible to vote based on their age."
   ]
  },
  {
   "cell_type": "code",
   "execution_count": 58,
   "id": "5f950c02-fb41-4cdd-977c-09d156f2eb37",
   "metadata": {},
   "outputs": [
    {
     "name": "stdout",
     "output_type": "stream",
     "text": [
      "Eligible to vote\n",
      "Not eligible to vote\n"
     ]
    }
   ],
   "source": [
    "#Defining a function to check the voting eligibility\n",
    "\n",
    "def vote_elig(age):\n",
    "    if age>=18:\n",
    "        print(\"Eligible to vote\")\n",
    "    else:\n",
    "        print(\"Not eligible to vote\")\n",
    "vote_elig(22)\n",
    "vote_elig(12)"
   ]
  },
  {
   "cell_type": "markdown",
   "id": "f50b253d-e0e8-493d-b6b9-2ed5e74868d1",
   "metadata": {},
   "source": [
    "3. Write a program to find the maximum of two given numbers using conditional statements"
   ]
  },
  {
   "cell_type": "code",
   "execution_count": 62,
   "id": "f0f26d5d-634f-44ab-b7c1-567173713b81",
   "metadata": {},
   "outputs": [
    {
     "name": "stdout",
     "output_type": "stream",
     "text": [
      "4 is maximum\n",
      "8 is maxumum\n",
      "Equal\n"
     ]
    }
   ],
   "source": [
    "#Defining a function that tells the maximum of the two numbers\n",
    "def max(num1, num2):\n",
    "    \n",
    "\n",
    "    if num1>num2:\n",
    "        print(num1, \"is maxumum\")\n",
    "    elif num2>num1:\n",
    "        print(num2, \"is maximum\")\n",
    "    else:\n",
    "        print(\"Equal\")\n",
    "        \n",
    "max(2,4)\n",
    "max(8,2)\n",
    "max(3,3)"
   ]
  },
  {
   "cell_type": "markdown",
   "id": "aaf79787-2792-471d-93b4-48b7d7e9e83e",
   "metadata": {},
   "source": [
    "4. Develop a program that calculates the grade of a student based on their exam score."
   ]
  },
  {
   "cell_type": "code",
   "execution_count": 63,
   "id": "1d5504a3-265d-42c0-b4af-ffdfeeed0818",
   "metadata": {},
   "outputs": [
    {
     "name": "stdout",
     "output_type": "stream",
     "text": [
      "Grade C\n",
      "Grade A\n",
      "Invalid Score Entered\n"
     ]
    }
   ],
   "source": [
    "def score_to_grade(score):\n",
    "    if score>=85 and score<=100:\n",
    "        print(\"Grade A\")\n",
    "    elif score>=70 and score<=84:\n",
    "        print(\"Grade B\")\n",
    "    elif score>=55 and score<=69:\n",
    "        print(\"Grade C\")\n",
    "    elif score>=40 and score<=54:\n",
    "        print(\"Grade D\")\n",
    "    elif score<=39 and score>=0:\n",
    "        print(\"Grade E\")\n",
    "    else:\n",
    "        print(\"Invalid Score Entered\")\n",
    "        \n",
    "score_to_grade(56.4)\n",
    "score_to_grade(86.3)\n",
    "score_to_grade(895)"
   ]
  },
  {
   "cell_type": "markdown",
   "id": "91fb4b5a-209c-4c24-9d1f-2abb272b4ebe",
   "metadata": {},
   "source": [
    "5. Create a program that checks if a year is a leap year or not."
   ]
  },
  {
   "cell_type": "code",
   "execution_count": 65,
   "id": "ce9763c4-b323-48c6-b112-9a752c38de30",
   "metadata": {},
   "outputs": [
    {
     "name": "stdout",
     "output_type": "stream",
     "text": [
      "Leap year\n"
     ]
    }
   ],
   "source": [
    "def if_leap(year):\n",
    "    if year%100==0:\n",
    "        if year%400==0:\n",
    "            print(\"Leap Year\")\n",
    "        else:\n",
    "            print(\"Not a leap year\")\n",
    "    elif year%4==0:\n",
    "        print(\"Leap year\")\n",
    "    else:\n",
    "        print(\"Not a leap year\")\n",
    "        \n",
    "if_leap(2024)"
   ]
  },
  {
   "cell_type": "markdown",
   "id": "c64c5aa6-f4b1-483e-b2cd-1e5b72c4080b",
   "metadata": {},
   "source": [
    "6. Write a program to classify a triangle based on its sides' lengths."
   ]
  },
  {
   "cell_type": "code",
   "execution_count": 66,
   "id": "c59e147e-b573-4923-ab97-191179f578cf",
   "metadata": {},
   "outputs": [
    {
     "name": "stdout",
     "output_type": "stream",
     "text": [
      "Scalene Triangle\n",
      "Isosceles Triangle\n",
      "Equilateral Triangle\n"
     ]
    }
   ],
   "source": [
    "def triangle_type(side1, side2, side3):\n",
    "    if side1==side2==side3:\n",
    "        print(\"Equilateral Triangle\")\n",
    "    elif side1==side2 or side1==side3 or side2==side3:\n",
    "        print(\"Isosceles Triangle\")\n",
    "    else:\n",
    "        print(\"Scalene Triangle\")\n",
    "\n",
    "triangle_type(12, 13, 14)\n",
    "triangle_type(15, 20, 15)\n",
    "triangle_type(11, 11, 11)"
   ]
  },
  {
   "cell_type": "markdown",
   "id": "09204e22-ba2e-4a2e-a6cd-a90882e50c8d",
   "metadata": {},
   "source": [
    "7. Build a program that determines the largest of three given numbers."
   ]
  },
  {
   "cell_type": "code",
   "execution_count": 67,
   "id": "60b0e1af-e508-4aee-bfb2-427251e2b4be",
   "metadata": {},
   "outputs": [
    {
     "name": "stdout",
     "output_type": "stream",
     "text": [
      "5  is the greatest\n",
      "11  is the greatest\n"
     ]
    }
   ],
   "source": [
    "def largest_num(a,b,c):\n",
    "    if a>b and a>c:\n",
    "        print(a, \" is the greatest\")\n",
    "    elif b>a and b>c:\n",
    "        print(b, \" is the greatest\")\n",
    "    elif c>a and c>b:\n",
    "        print(c, \" is the greatest\")\n",
    "    \n",
    "largest_num(2,3,5)\n",
    "largest_num(9,2,11)"
   ]
  },
  {
   "cell_type": "markdown",
   "id": "19f546d3-9134-4ef1-977b-534c68de5667",
   "metadata": {},
   "source": [
    "8. Develop a program that checks whether a character is a vowel or a consonant."
   ]
  },
  {
   "cell_type": "code",
   "execution_count": 68,
   "id": "6c44c749-9d8a-46a5-b011-64397be6def3",
   "metadata": {},
   "outputs": [
    {
     "name": "stdout",
     "output_type": "stream",
     "text": [
      "N is a consonant\n",
      "U is a vowel\n"
     ]
    }
   ],
   "source": [
    "def check_vowel_cons(char):\n",
    "    if char in 'AEIOUaeiou':\n",
    "        print(char, \"is a vowel\")\n",
    "    else:\n",
    "        print(char, \"is a consonant\")\n",
    "\n",
    "check_vowel_cons('N')\n",
    "check_vowel_cons('U')"
   ]
  },
  {
   "cell_type": "markdown",
   "id": "1fc34e4a-a13d-468a-b3b5-5080854e9e58",
   "metadata": {},
   "source": [
    "9. Create a program to calculate the total cost of a shopping cart based on discounts."
   ]
  },
  {
   "cell_type": "code",
   "execution_count": 71,
   "id": "1cf3e805-bea0-4204-a968-33d025f7a7fd",
   "metadata": {},
   "outputs": [
    {
     "name": "stdout",
     "output_type": "stream",
     "text": [
      "Discounted price is: 5600.0\n",
      "Discounted price is: 1080.0\n"
     ]
    }
   ],
   "source": [
    "def discounted_price(amnt):\n",
    "    if amnt>5000: \n",
    "        discounted_price = amnt-0.2*amnt\n",
    "    elif amnt>1000:\n",
    "        discounted_price = amnt-0.1*amnt\n",
    "    elif amnt>500:\n",
    "        discounted_price = amnt-0.05*amnt\n",
    "        \n",
    "    print(\"Discounted price is:\",  discounted_price)\n",
    "    \n",
    "discounted_price(7000)\n",
    "discounted_price(1200)"
   ]
  },
  {
   "cell_type": "markdown",
   "id": "e3db75f2-7671-4f33-a79d-49d7539a5aba",
   "metadata": {},
   "source": [
    "10. Write a program that checks if a given number is even or odd."
   ]
  },
  {
   "cell_type": "code",
   "execution_count": 70,
   "id": "2412747d-287f-430c-8de6-514cf9084b19",
   "metadata": {},
   "outputs": [
    {
     "name": "stdout",
     "output_type": "stream",
     "text": [
      "55 is odd\n",
      "22 is even\n"
     ]
    }
   ],
   "source": [
    "def check_odd_even(num):\n",
    "    if num%2==0:\n",
    "        print(num, \"is even\")\n",
    "    else:\n",
    "        print(num, \"is odd\")\n",
    "\n",
    "check_odd_even(55)\n",
    "check_odd_even(22)"
   ]
  },
  {
   "cell_type": "markdown",
   "id": "d5324649-4bc2-40ed-93b0-247f481e6f88",
   "metadata": {},
   "source": [
    "Intermediate Level:"
   ]
  },
  {
   "cell_type": "markdown",
   "id": "c30a2a0b-56c2-4bb3-8125-c51883827c45",
   "metadata": {},
   "source": [
    "11. Write a program that calculates the roots of a quadratic equation ."
   ]
  },
  {
   "cell_type": "code",
   "execution_count": 75,
   "id": "9fb2c2df-cd19-4118-b069-ef22e7581475",
   "metadata": {},
   "outputs": [
    {
     "name": "stdout",
     "output_type": "stream",
     "text": [
      "Root 1 = -0.3944487245360109\n",
      "Root 2 = -7.60555127546399\n",
      "Root 1 = -0.75 + 1.1989578808281798 i\n",
      "Root 2 = -0.75 - 1.1989578808281798 i\n"
     ]
    }
   ],
   "source": [
    "import math\n",
    "\n",
    "def find_roots(a,b,c):\n",
    "\n",
    "    # Calculate the discriminant\n",
    "    discriminant = b**2 - 4*a*c\n",
    "\n",
    "    # Check the discriminant to determine the nature of roots\n",
    "    if discriminant > 0:\n",
    "        # Two real and distinct roots\n",
    "        root1 = (-b + math.sqrt(discriminant)) / (2*a)\n",
    "        root2 = (-b - math.sqrt(discriminant)) / (2*a)\n",
    "        print(\"Root 1 =\", root1)\n",
    "        print(\"Root 2 =\", root2)\n",
    "    elif discriminant == 0:\n",
    "        # One real root (repeated)\n",
    "        root = -b / (2*a)\n",
    "        print(\"Root =\", root)\n",
    "    else:\n",
    "        # Complex roots\n",
    "        real_part = -b / (2*a)\n",
    "        imaginary_part = math.sqrt(abs(discriminant)) / (2*a)\n",
    "        print(\"Root 1 =\", real_part, \"+\", imaginary_part, \"i\")\n",
    "        print(\"Root 2 =\", real_part, \"-\", imaginary_part, \"i\")\n",
    "        \n",
    "find_roots(1,8,3)\n",
    "find_roots(2,3,4)"
   ]
  },
  {
   "cell_type": "markdown",
   "id": "5e3f9b5d-afb9-45b0-bb3d-cc2f14cb2852",
   "metadata": {},
   "source": [
    "12. Create a program that determines the day of the week based on the day number (1-7)."
   ]
  },
  {
   "cell_type": "code",
   "execution_count": 76,
   "id": "3797b016-25a8-4975-a59e-067a9dfdc182",
   "metadata": {},
   "outputs": [
    {
     "name": "stdout",
     "output_type": "stream",
     "text": [
      "Thursday\n",
      "Monday\n"
     ]
    }
   ],
   "source": [
    "def weekis(n):\n",
    "    if n==1:\n",
    "        print(\"Monday\")\n",
    "    elif n==2:\n",
    "        print(\"Tuesday\")\n",
    "    elif n==3:\n",
    "        print(\"Wednesday\")\n",
    "    elif n==4:\n",
    "        print(\"Thursday\")\n",
    "    elif n==5:\n",
    "        print(\"Friday\")\n",
    "    elif n==6:\n",
    "        print(\"Saturday\")\n",
    "    elif n==7:\n",
    "        print(\"Sunday\")\n",
    "    else:\n",
    "        print(\"Invalid Input\")\n",
    "        \n",
    "weekis(4)\n",
    "weekis(1)"
   ]
  },
  {
   "cell_type": "markdown",
   "id": "c6459000-bf27-42fb-a195-24a69448ae3f",
   "metadata": {},
   "source": [
    "13. Develop a program that calculates the factorial of a given number using recursion."
   ]
  },
  {
   "cell_type": "code",
   "execution_count": 74,
   "id": "7407b836-e2df-4a7f-9b0e-4eec3e9fc385",
   "metadata": {},
   "outputs": [
    {
     "data": {
      "text/plain": [
       "6"
      ]
     },
     "execution_count": 74,
     "metadata": {},
     "output_type": "execute_result"
    }
   ],
   "source": [
    "def factorial(n):\n",
    "    if n == 0:\n",
    "        return 1\n",
    "    else:\n",
    "        return n * factorial(n - 1)\n",
    "    \n",
    "factorial(3)"
   ]
  },
  {
   "cell_type": "markdown",
   "id": "0c94be2b-9782-4422-a850-286ec4495543",
   "metadata": {},
   "source": [
    "14. Write a program to find the largest among three numbers without using the `max()` function."
   ]
  },
  {
   "cell_type": "code",
   "execution_count": 72,
   "id": "c4d188da-d756-4e12-878f-fb152edc6b2b",
   "metadata": {},
   "outputs": [
    {
     "name": "stdout",
     "output_type": "stream",
     "text": [
      "5  is the greatest\n",
      "11  is the greatest\n"
     ]
    }
   ],
   "source": [
    "def largest_num(a,b,c):\n",
    "    if a>b and a>c:\n",
    "        print(a, \" is the greatest\")\n",
    "    elif b>a and b>c:\n",
    "        print(b, \" is the greatest\")\n",
    "    elif c>a and c>b:\n",
    "        print(c, \" is the greatest\")\n",
    "    \n",
    "largest_num(2,3,5)\n",
    "largest_num(9,2,11)"
   ]
  },
  {
   "cell_type": "markdown",
   "id": "e5061119-4e5b-4bf8-b0b9-255a69789ed4",
   "metadata": {},
   "source": [
    "15. Create a program that simulates a basic ATM transaction menu."
   ]
  },
  {
   "cell_type": "code",
   "execution_count": 1,
   "id": "d089f80f-645b-49b4-9881-35ceff49bf20",
   "metadata": {},
   "outputs": [
    {
     "name": "stdout",
     "output_type": "stream",
     "text": [
      "ATM Menu:\n",
      "1. Check Balance\n",
      "2. Make Withdrawal\n",
      "3. Quit\n"
     ]
    },
    {
     "name": "stdin",
     "output_type": "stream",
     "text": [
      "Enter your choice (1/2/3):  2\n",
      "Enter the withdrawal amount: $ 400\n"
     ]
    },
    {
     "name": "stdout",
     "output_type": "stream",
     "text": [
      "Withdrew $400.00. Your new balance is $600.00\n",
      "ATM Menu:\n",
      "1. Check Balance\n",
      "2. Make Withdrawal\n",
      "3. Quit\n"
     ]
    },
    {
     "name": "stdin",
     "output_type": "stream",
     "text": [
      "Enter your choice (1/2/3):  1\n"
     ]
    },
    {
     "name": "stdout",
     "output_type": "stream",
     "text": [
      "Your account balance is $600.00\n",
      "ATM Menu:\n",
      "1. Check Balance\n",
      "2. Make Withdrawal\n",
      "3. Quit\n"
     ]
    },
    {
     "name": "stdin",
     "output_type": "stream",
     "text": [
      "Enter your choice (1/2/3):  3\n"
     ]
    },
    {
     "name": "stdout",
     "output_type": "stream",
     "text": [
      "Thank you for using the ATM. Goodbye!\n"
     ]
    }
   ],
   "source": [
    "# Initialize the account balance\n",
    "balance = 1000.0\n",
    "\n",
    "# Main program loop\n",
    "while True:\n",
    "    # Display the ATM menu\n",
    "    print(\"ATM Menu:\")\n",
    "    print(\"1. Check Balance\")\n",
    "    print(\"2. Make Withdrawal\")\n",
    "    print(\"3. Quit\")\n",
    "\n",
    "    # Get user input for menu choice\n",
    "    choice = input(\"Enter your choice (1/2/3): \")\n",
    "\n",
    "    if choice == '1':\n",
    "        print(f\"Your account balance is ${balance:.2f}\")\n",
    "    elif choice == '2':\n",
    "        withdrawal_amount = float(input(\"Enter the withdrawal amount: $\"))\n",
    "        if withdrawal_amount > balance:\n",
    "            print(\"Insufficient funds. Cannot withdraw.\")\n",
    "        else:\n",
    "            balance -= withdrawal_amount\n",
    "            print(f\"Withdrew ${withdrawal_amount:.2f}. Your new balance is ${balance:.2f}\")\n",
    "    elif choice == '3':\n",
    "        print(\"Thank you for using the ATM. Goodbye!\")\n",
    "        break\n",
    "    else:\n",
    "        print(\"Invalid choice. Please select a valid option (1/2/3).\")"
   ]
  },
  {
   "cell_type": "markdown",
   "id": "3ec8d5da-0031-4320-8652-a953f4919b4a",
   "metadata": {},
   "source": [
    "16. Build a program that checks if a given string is a palindrome or not."
   ]
  },
  {
   "cell_type": "code",
   "execution_count": 2,
   "id": "71a995c9-b1fb-4b01-ae67-f0b492c09da0",
   "metadata": {},
   "outputs": [
    {
     "name": "stdin",
     "output_type": "stream",
     "text": [
      "Enter any string:  Sha;linii\n"
     ]
    },
    {
     "name": "stdout",
     "output_type": "stream",
     "text": [
      "Not a Palindrome\n"
     ]
    },
    {
     "name": "stdin",
     "output_type": "stream",
     "text": [
      "Enter any string:  Naman\n"
     ]
    },
    {
     "name": "stdout",
     "output_type": "stream",
     "text": [
      "It is a palindrome\n"
     ]
    }
   ],
   "source": [
    "def check_palindrome():\n",
    "    string = input(\"Enter any string: \").lower()\n",
    "    if string == string[::-1]:\n",
    "        print(\"It is a palindrome\")\n",
    "    else:\n",
    "        print(\"Not a Palindrome\")\n",
    "              \n",
    "\n",
    "check_palindrome()\n",
    "check_palindrome()"
   ]
  },
  {
   "cell_type": "markdown",
   "id": "08664021-8b5c-4dde-9557-e4ad5f8ae2c6",
   "metadata": {},
   "source": [
    "17. Write a program that calculates the average of a list of numbers, excluding the smallest and largest values."
   ]
  },
  {
   "cell_type": "code",
   "execution_count": 9,
   "id": "a74e5437-5254-4b33-98d6-1377f0c88956",
   "metadata": {},
   "outputs": [
    {
     "data": {
      "text/plain": [
       "3.5"
      ]
     },
     "execution_count": 9,
     "metadata": {},
     "output_type": "execute_result"
    }
   ],
   "source": [
    "def avg_list(lst):\n",
    "    lst.sort()\n",
    "    del lst[0]\n",
    "    del lst[-1]\n",
    "    avg = sum(lst)/len(lst)\n",
    "    \n",
    "    return avg\n",
    "    \n",
    "avg_list([5,6,4,1,3,2])"
   ]
  },
  {
   "cell_type": "markdown",
   "id": "88cdb0f1-2510-43ea-a41c-1c42f26423fb",
   "metadata": {},
   "source": [
    "18. Develop a program that converts a given temperature from Celsius to Fahrenheit"
   ]
  },
  {
   "cell_type": "code",
   "execution_count": 11,
   "id": "f94997aa-d622-489b-894b-1417b4ee3841",
   "metadata": {},
   "outputs": [
    {
     "data": {
      "text/plain": [
       "212.0"
      ]
     },
     "execution_count": 11,
     "metadata": {},
     "output_type": "execute_result"
    }
   ],
   "source": [
    "def cel_to_far(c):\n",
    "    f = c*1.8 + 32\n",
    "    return f\n",
    "\n",
    "cel_to_far(100)"
   ]
  },
  {
   "cell_type": "markdown",
   "id": "99ff1a1f-be1a-46c9-9261-8d432d705e89",
   "metadata": {},
   "source": [
    "19. Create a program that simulates a basic calculator for addition, subtraction, multiplication, and division."
   ]
  },
  {
   "cell_type": "code",
   "execution_count": 20,
   "id": "abdd1508-6afa-4030-813c-a21ca6d1462c",
   "metadata": {},
   "outputs": [
    {
     "name": "stdout",
     "output_type": "stream",
     "text": [
      "79\n"
     ]
    }
   ],
   "source": [
    "def calculator(num1, op , num2):\n",
    "    if op == '+':\n",
    "        print(num1+num2)\n",
    "    if op == '-':\n",
    "        print(num1-num2)\n",
    "    if op =='*':\n",
    "        print(num1*num2)\n",
    "    if op == '/':\n",
    "        print(num1/num2)\n",
    "        \n",
    "calculator(34,'+', 45)\n",
    "    "
   ]
  },
  {
   "cell_type": "markdown",
   "id": "399aaff7-daaf-4102-a496-610d01a3909f",
   "metadata": {},
   "source": [
    "20. Write a program that determines the roots of a cubic equation using the Cardano formula."
   ]
  },
  {
   "cell_type": "code",
   "execution_count": 1,
   "id": "1c183d7e-c70d-49e9-8f16-ca246b642ad7",
   "metadata": {},
   "outputs": [
    {
     "name": "stdout",
     "output_type": "stream",
     "text": [
      "Root 1: -1.0000\n",
      "Root 2: 0.1000-0.7681j\n",
      "Root 3: 0.1000+0.7681j\n"
     ]
    }
   ],
   "source": [
    "import math\n",
    "def cbrt(a,b,c,d):\n",
    "    delta0 = b**2 - 3*a*c\n",
    "    delta1 = 2*b**3 - 9*a*b*c + 27*a**2*d\n",
    "    C = ((delta1 + math.sqrt(delta1**2 - 4*delta0**3)) / 2)**(1/3)\n",
    "    \n",
    "    root1 = (-1 / (3*a)) * (b + C + delta0/C)\n",
    "    root2 = (-1 / (3*a)) * (b + complex(-0.5, math.sqrt(3)/2) * C + complex(-0.5, -math.sqrt(3)/2) * delta0/C)\n",
    "    root3 = (-1 / (3*a)) * (b + complex(-0.5, -math.sqrt(3)/2) * C + complex(-0.5, math.sqrt(3)/2) * delta0/C)\n",
    "    \n",
    "    print(f\"Root 1: {root1:.4f}\")\n",
    "    print(f\"Root 2: {root2:.4f}\")\n",
    "    print(f\"Root 3: {root3:.4f}\")\n",
    "    \n",
    "    \n",
    "cbrt(5,4,2,3)"
   ]
  },
  {
   "cell_type": "markdown",
   "id": "c2aa466d-a226-46a0-a746-3f487d5ecf19",
   "metadata": {},
   "source": [
    "Advanced Level:"
   ]
  },
  {
   "cell_type": "markdown",
   "id": "e5cfa4bb-16e2-4597-b062-11bd912ea09c",
   "metadata": {},
   "source": [
    "21. Create a program that calculates the income tax based on the user's income and tax brackets."
   ]
  },
  {
   "cell_type": "code",
   "execution_count": 5,
   "id": "3eb5101f-011f-4eb7-a2d7-b8158382277a",
   "metadata": {},
   "outputs": [
    {
     "data": {
      "text/plain": [
       "12500.0"
      ]
     },
     "execution_count": 5,
     "metadata": {},
     "output_type": "execute_result"
    }
   ],
   "source": [
    "\n",
    "def calculate(amount, percent):\n",
    "    return (amount * percent) / 100\n",
    "  \n",
    "def calculate_income_tax(total_income: \n",
    "                         float) -> float:\n",
    "  \n",
    "    if total_income <= 250000:\n",
    "        return 0\n",
    "    elif total_income <= 500000:\n",
    "        return calculate(total_income - \n",
    "                         250000, 5)\n",
    "    elif total_income <= 750000:\n",
    "        return calculate(total_income - \n",
    "                         500000, 10) + 12500\n",
    "    elif total_income <= 1000000:\n",
    "        return calculate(total_income - \n",
    "                         750000, 15) + 37500\n",
    "    elif total_income <= 1250000:\n",
    "        return calculate(total_income - \n",
    "                         1000000, 20) + 75000\n",
    "    elif total_income <= 1500000:\n",
    "        return calculate(total_income - \n",
    "                         1250000, 25) + 125000\n",
    "    else:\n",
    "        return calculate(total_income - \n",
    "                         1500000, 30) + 187500\n",
    "    \n",
    "calculate_income_tax(500000)"
   ]
  },
  {
   "cell_type": "markdown",
   "id": "f850be31-64e8-4a2d-9aec-74f89366b077",
   "metadata": {},
   "source": [
    "22. Write a program that simulates a rock-paper-scissors game against the computer"
   ]
  },
  {
   "cell_type": "code",
   "execution_count": 3,
   "id": "b043bd35-f065-4f4b-8a59-097a7ccb6450",
   "metadata": {},
   "outputs": [
    {
     "name": "stdin",
     "output_type": "stream",
     "text": [
      "Enter your choice (rock, paper, or scissors):  rock\n"
     ]
    },
    {
     "name": "stdout",
     "output_type": "stream",
     "text": [
      "Your choice: rock\n",
      "Computer's choice: paper\n",
      "Computer wins!\n"
     ]
    }
   ],
   "source": [
    "import random\n",
    "\n",
    "# Define the choices\n",
    "choices = [\"rock\", \"paper\", \"scissors\"]\n",
    "\n",
    "# Get user's choice\n",
    "user_choice = input(\"Enter your choice (rock, paper, or scissors): \").lower()\n",
    "\n",
    "# Check if the user's choice is valid\n",
    "if user_choice not in choices:\n",
    "    print(\"Invalid choice. Please choose from rock, paper, or scissors.\")\n",
    "else:\n",
    "    # Generate a random choice for the computer\n",
    "    computer_choice = random.choice(choices)\n",
    "\n",
    "    # Display the choices\n",
    "    print(f\"Your choice: {user_choice}\")\n",
    "    print(f\"Computer's choice: {computer_choice}\")\n",
    "\n",
    "    # Determine the winner\n",
    "    if user_choice == computer_choice:\n",
    "        print(\"It's a tie!\")\n",
    "    elif (\n",
    "        (user_choice == \"rock\" and computer_choice == \"scissors\")\n",
    "        or (user_choice == \"paper\" and computer_choice == \"rock\")\n",
    "        or (user_choice == \"scissors\" and computer_choice == \"paper\")\n",
    "    ):\n",
    "        print(\"You win!\")\n",
    "    else:\n",
    "        print(\"Computer wins!\")"
   ]
  },
  {
   "cell_type": "markdown",
   "id": "0ea47ee4-75d9-41fa-bafb-948f9dcb6e4f",
   "metadata": {},
   "source": [
    "23. Develop a program that generates a random password based on user preferences (length, complexity)."
   ]
  },
  {
   "cell_type": "code",
   "execution_count": 18,
   "id": "533e5b39-fe22-4c98-98eb-3ecbca8d892b",
   "metadata": {},
   "outputs": [
    {
     "name": "stdin",
     "output_type": "stream",
     "text": [
      "Enter the length of the password:  5\n",
      "Include lowercase letters? (yes/no):  no\n",
      "Include uppercase letters? (yes/no):  yes\n",
      "Include digits? (yes/no):  no\n",
      "Include special characters? (yes/no):  yes\n"
     ]
    },
    {
     "name": "stdout",
     "output_type": "stream",
     "text": [
      "Generated Password: /O`,J\n"
     ]
    }
   ],
   "source": [
    "import random\n",
    "import string\n",
    "\n",
    "# Get user preferences\n",
    "length = int(input(\"Enter the length of the password: \"))\n",
    "use_lowercase = input(\"Include lowercase letters? (yes/no): \").lower() == \"yes\"\n",
    "use_uppercase = input(\"Include uppercase letters? (yes/no): \").lower() == \"yes\"\n",
    "use_digits = input(\"Include digits? (yes/no): \").lower() == \"yes\"\n",
    "use_special_chars = input(\"Include special characters? (yes/no): \").lower() == \"yes\"\n",
    "\n",
    "# Define character sets\n",
    "characters = \"\"\n",
    "if use_lowercase:\n",
    "    characters += string.ascii_lowercase\n",
    "if use_uppercase:\n",
    "    characters += string.ascii_uppercase\n",
    "if use_digits:\n",
    "    characters += string.digits\n",
    "if use_special_chars:\n",
    "    characters += string.punctuation\n",
    "\n",
    "# Check if at least one character set is selected\n",
    "if not characters:\n",
    "    print(\"Please select at least one character set.\")\n",
    "else:\n",
    "    # Generate the password\n",
    "    password = ''.join(random.choice(characters)  for i in range(length))\n",
    "    print(\"Generated Password:\", password)"
   ]
  },
  {
   "cell_type": "markdown",
   "id": "8512bca3-f3ad-4c35-8710-f4db2e239098",
   "metadata": {},
   "source": [
    "24. Create a program that implements a simple text-based adventure game with branching scenarios."
   ]
  },
  {
   "cell_type": "code",
   "execution_count": 19,
   "id": "7d956b3b-85ca-4eb6-b1ff-732cbc608f87",
   "metadata": {},
   "outputs": [
    {
     "name": "stdout",
     "output_type": "stream",
     "text": [
      "Welcome to the Adventure Game!\n",
      "\n",
      "You find yourself standing in front of a mysterious cave.\n"
     ]
    },
    {
     "name": "stdin",
     "output_type": "stream",
     "text": [
      "Do you want to enter the cave? (yes/no):  no\n"
     ]
    },
    {
     "name": "stdout",
     "output_type": "stream",
     "text": [
      "\n",
      "You decide not to enter the cave and go home instead. Game over!\n",
      "\n",
      "Thanks for playing the Adventure Game!\n"
     ]
    }
   ],
   "source": [
    "print(\"Welcome to the Adventure Game!\")\n",
    "\n",
    "# Start of the game\n",
    "print(\"\\nYou find yourself standing in front of a mysterious cave.\")\n",
    "choice = input(\"Do you want to enter the cave? (yes/no): \").lower()\n",
    "\n",
    "if choice == \"yes\":\n",
    "    print(\"\\nYou enter the cave and it's very dark inside.\")\n",
    "    choice = input(\"Do you want to use a flashlight? (yes/no): \").lower()\n",
    "\n",
    "    if choice == \"yes\":\n",
    "        print(\"\\nYou turn on the flashlight and see a fork in the path ahead.\")\n",
    "        choice = input(\"Do you want to go left or right? (left/right): \").lower()\n",
    "\n",
    "        if choice == \"left\":\n",
    "            print(\"\\nYou encounter a treasure chest filled with gold! You're rich!\")\n",
    "        elif choice == \"right\":\n",
    "            print(\"\\nYou stumble into a trap and fall into a pit. Game over!\")\n",
    "        else:\n",
    "            print(\"Invalid choice. Game over!\")\n",
    "\n",
    "    elif choice == \"no\":\n",
    "        print(\"\\nYou decide to proceed in the dark. Unfortunately, you trip and fall into a pit. Game over!\")\n",
    "\n",
    "    else:\n",
    "        print(\"Invalid choice. Game over!\")\n",
    "\n",
    "elif choice == \"no\":\n",
    "    print(\"\\nYou decide not to enter the cave and go home instead. Game over!\")\n",
    "\n",
    "else:\n",
    "    print(\"Invalid choice. Game over!\")\n",
    "\n",
    "print(\"\\nThanks for playing the Adventure Game!\")"
   ]
  },
  {
   "cell_type": "markdown",
   "id": "27ddc852-d45c-44a8-8220-2d2fed02cf32",
   "metadata": {},
   "source": [
    "25. Build a program that solves a linear equation  for x, considering different cases."
   ]
  },
  {
   "cell_type": "code",
   "execution_count": 17,
   "id": "3883186c-0f2c-4e46-90e4-614a2feb3c7d",
   "metadata": {},
   "outputs": [
    {
     "name": "stdout",
     "output_type": "stream",
     "text": [
      "The solution to the linear equation 5*x + 1 = 0 is x = -0.20\n"
     ]
    }
   ],
   "source": [
    "def sol_linear(a, b):\n",
    "    if a == 0 and b == 0:\n",
    "        print(\"Infinite solutions. The equation is trivial (0*x = 0).\")\n",
    "\n",
    "    elif a == 0 and b != 0:\n",
    "        print(\"No solution. The equation is inconsistent (0*x + b = 0, where b is not 0).\")\n",
    "\n",
    "    else:\n",
    "        x = -b / a\n",
    "        print(f\"The solution to the linear equation {a}*x + {b} = 0 is x = {x:.2f}\")\n",
    "        \n",
    "sol_linear(5,1)"
   ]
  },
  {
   "cell_type": "markdown",
   "id": "e63df4fb-2f3c-4135-9895-80b28ce1d322",
   "metadata": {},
   "source": [
    "26. Write a program that simulates a basic quiz game with multiple-choice questions and scoring."
   ]
  },
  {
   "cell_type": "code",
   "execution_count": 1,
   "id": "da787355-f654-44fe-9bb1-d5ebd13b0f29",
   "metadata": {},
   "outputs": [
    {
     "name": "stdout",
     "output_type": "stream",
     "text": [
      "\n",
      "Question 1: Who is the Prime Minister of India?\n",
      "A) Draupadi Murmu\n",
      "B) Narendra Modi\n",
      "C) Gandhiji\n",
      "D) Manmohan Singh\n"
     ]
    },
    {
     "name": "stdin",
     "output_type": "stream",
     "text": [
      "Your answer (A/B/C/D):  b\n"
     ]
    },
    {
     "name": "stdout",
     "output_type": "stream",
     "text": [
      "Correct!\n",
      "\n",
      "Question 2: Who is the founder of Facebook?\n",
      "A) Mark Zuckerberg\n",
      "B) Larry Page\n",
      "C) Gustav Van Rosuum\n",
      "D) Stieve Jobs\n"
     ]
    },
    {
     "name": "stdin",
     "output_type": "stream",
     "text": [
      "Your answer (A/B/C/D):  a\n"
     ]
    },
    {
     "name": "stdout",
     "output_type": "stream",
     "text": [
      "Correct!\n",
      "\n",
      "Question 3: Who is the Founder of PW Skills?\n",
      "A) Alakh pandey\n",
      "B) sunil varma\n",
      "C) sai charan\n",
      "D) Bhavani\n"
     ]
    },
    {
     "name": "stdin",
     "output_type": "stream",
     "text": [
      "Your answer (A/B/C/D):  a\n"
     ]
    },
    {
     "name": "stdout",
     "output_type": "stream",
     "text": [
      "Correct!\n",
      "\n",
      "Quiz completed!\n",
      "Your score: 3/3\n"
     ]
    }
   ],
   "source": [
    "questions = [\n",
    "    {\n",
    "        \"question\": \"Who is the Prime Minister of India?\",\n",
    "        \"options\": [\"A) Draupadi Murmu\", \"B) Narendra Modi\", \"C) Gandhiji\", \"D) Manmohan Singh\"],\n",
    "        \"correct_answer\": \"B\",\n",
    "    },\n",
    "    {\n",
    "        \"question\": \"Who is the founder of Facebook?\",\n",
    "        \"options\": [\"A) Mark Zuckerberg\", \"B) Larry Page\", \"C) Gustav Van Rosuum\", \"D) Stieve Jobs\"],\n",
    "        \"correct_answer\": \"A\",\n",
    "    },\n",
    "    {\n",
    "        \"question\": \"Who is the Founder of PW Skills?\",\n",
    "        \"options\": [\"A) Alakh pandey\", \"B) sunil varma\", \"C) sai charan\", \"D) Bhavani\"],\n",
    "        \"correct_answer\": \"A\",\n",
    "    },\n",
    "]\n",
    "\n",
    "# Initialize the score\n",
    "score = 0\n",
    "\n",
    "# Quiz loop\n",
    "for i, question in enumerate(questions, 1):\n",
    "    print(f\"\\nQuestion {i}: {question['question']}\")\n",
    "    for option in question[\"options\"]:\n",
    "        print(option)\n",
    "    \n",
    "    user_answer = input(\"Your answer (A/B/C/D): \").upper()\n",
    "\n",
    "    if user_answer == question[\"correct_answer\"]:\n",
    "        print(\"Correct!\")\n",
    "        score += 1\n",
    "    else:\n",
    "        print(f\"Wrong! The correct answer is {question['correct_answer']}.\")\n",
    "\n",
    "# Display the final score\n",
    "print(\"\\nQuiz completed!\")\n",
    "print(f\"Your score: {score}/{len(questions)}\")"
   ]
  },
  {
   "cell_type": "markdown",
   "id": "2fe3ac44-2461-49e9-a962-c7d8b19f0dfa",
   "metadata": {},
   "source": [
    "27. Develop a program that determines whether a given year is a prime number or not."
   ]
  },
  {
   "cell_type": "code",
   "execution_count": 33,
   "id": "19449937-3cf6-497d-9896-98ecd67a05e0",
   "metadata": {},
   "outputs": [
    {
     "data": {
      "text/plain": [
       "True"
      ]
     },
     "execution_count": 33,
     "metadata": {},
     "output_type": "execute_result"
    }
   ],
   "source": [
    "def check_prime(year):\n",
    "    if year<=1:\n",
    "        return False\n",
    "    for i in range(2,int(year**0.5) +1):\n",
    "        if year%i==0:\n",
    "            return False\n",
    "    return True\n",
    "\n",
    "check_prime(2017)\n",
    "    "
   ]
  },
  {
   "cell_type": "markdown",
   "id": "a7db8832-fafc-45b2-8550-80233be0e464",
   "metadata": {},
   "source": [
    "28. Create a program that sorts three numbers in ascending order using conditional statements"
   ]
  },
  {
   "cell_type": "code",
   "execution_count": 26,
   "id": "724d185b-5b98-49b0-a0a3-bb11c430cd06",
   "metadata": {},
   "outputs": [
    {
     "name": "stdout",
     "output_type": "stream",
     "text": [
      "1 4 5\n",
      "11 23 23\n"
     ]
    }
   ],
   "source": [
    "def sort(a,b,c):\n",
    "    if a<b:\n",
    "        if b<c:\n",
    "            print(a,b,c)\n",
    "        else:\n",
    "            if a<c:\n",
    "                print(a,c,b)\n",
    "            else:\n",
    "                print(c,a,b)\n",
    "    if a>b:\n",
    "        if b>c:\n",
    "            print(c,b,a)\n",
    "        else:\n",
    "            if a>c:\n",
    "                print(b,c,a)\n",
    "            else:\n",
    "                print(b,a,c)\n",
    "sort(4,5,1)\n",
    "sort(23,11,23)"
   ]
  },
  {
   "cell_type": "markdown",
   "id": "91a24dbe-6159-40e4-bc03-25ec2c86af98",
   "metadata": {},
   "source": [
    "29. Build a program that determines the roots of a quartic equation using numerical methods."
   ]
  },
  {
   "cell_type": "code",
   "execution_count": 24,
   "id": "81146826-c510-4e27-88ec-fde518079586",
   "metadata": {},
   "outputs": [
    {
     "name": "stdout",
     "output_type": "stream",
     "text": [
      "Root 1 = -0.3944487245360109\n",
      "Root 2 = -7.60555127546399\n",
      "Root 1 = -0.75 + 1.1989578808281798 i\n",
      "Root 2 = -0.75 - 1.1989578808281798 i\n"
     ]
    }
   ],
   "source": [
    "import math\n",
    "\n",
    "def find_roots(a,b,c):\n",
    "\n",
    "    # Calculate the discriminant\n",
    "    discriminant = b**2 - 4*a*c\n",
    "\n",
    "    # Check the discriminant to determine the nature of roots\n",
    "    if discriminant > 0:\n",
    "        # Two real and distinct roots\n",
    "        root1 = (-b + math.sqrt(discriminant)) / (2*a)\n",
    "        root2 = (-b - math.sqrt(discriminant)) / (2*a)\n",
    "        print(\"Root 1 =\", root1)\n",
    "        print(\"Root 2 =\", root2)\n",
    "    elif discriminant == 0:\n",
    "        # One real root (repeated)\n",
    "        root = -b / (2*a)\n",
    "        print(\"Root =\", root)\n",
    "    else:\n",
    "        # Complex roots\n",
    "        real_part = -b / (2*a)\n",
    "        imaginary_part = math.sqrt(abs(discriminant)) / (2*a)\n",
    "        print(\"Root 1 =\", real_part, \"+\", imaginary_part, \"i\")\n",
    "        print(\"Root 2 =\", real_part, \"-\", imaginary_part, \"i\")\n",
    "        \n",
    "find_roots(1,8,3)\n",
    "find_roots(2,3,4)"
   ]
  },
  {
   "cell_type": "markdown",
   "id": "3660e4f1-cc65-4b45-95e5-7501f93e1dc9",
   "metadata": {},
   "source": [
    "30. Write a program that calculates the BMI (Body Mass Index) and provides health recommendations based\n",
    "on the user's input."
   ]
  },
  {
   "cell_type": "code",
   "execution_count": 21,
   "id": "10e9b94e-9a54-4cfc-ae6f-264ec398d87d",
   "metadata": {},
   "outputs": [
    {
     "name": "stdout",
     "output_type": "stream",
     "text": [
      "Healthy\n"
     ]
    }
   ],
   "source": [
    "def check_bmi(height, weight):\n",
    "    bmi = weight/(height**2)\n",
    "    \n",
    "    if bmi<18.5:\n",
    "        print(\"Underweight\")\n",
    "    elif bmi>=18.5 and bmi<25:\n",
    "        print(\"Healthy\")\n",
    "    elif bmi>=25 and bmi<30:\n",
    "        print(\"Overweight\")\n",
    "    elif bmi>=30:\n",
    "        print(\"Obese\")\n",
    "    else:\n",
    "        print(\"Invalid Input\")\n",
    "\n",
    "check_bmi(1.56,60)"
   ]
  },
  {
   "cell_type": "markdown",
   "id": "0ad39f69-f19e-49cf-940d-84c5dd043ed4",
   "metadata": {},
   "source": [
    "Challenge Level:"
   ]
  },
  {
   "cell_type": "markdown",
   "id": "79c26a71-2d8a-482e-8dbe-a5156db4288b",
   "metadata": {},
   "source": [
    "31. Create a program that validates a password based on complexity rules (length, characters, etc.)"
   ]
  },
  {
   "cell_type": "code",
   "execution_count": 20,
   "id": "ae71b258-cf83-49bc-9e32-babd23637fe2",
   "metadata": {},
   "outputs": [
    {
     "name": "stdin",
     "output_type": "stream",
     "text": [
      "Enter your password:  Shalini@0909\n"
     ]
    },
    {
     "name": "stdout",
     "output_type": "stream",
     "text": [
      "\n",
      "Password is valid and meets the complexity requirements.\n"
     ]
    }
   ],
   "source": [
    "# Define password complexity rules\n",
    "min_length = 8\n",
    "requires_lowercase = True\n",
    "requires_uppercase = True\n",
    "requires_digit = True\n",
    "requires_special_char = True\n",
    "\n",
    "# Get user input for the password\n",
    "password = input(\"Enter your password: \")\n",
    "\n",
    "# Initialize error messages list\n",
    "errors = []\n",
    "\n",
    "# Check password length\n",
    "if len(password) < min_length:\n",
    "    errors.append(f\"Password should be at least {min_length} characters long.\")\n",
    "\n",
    "# Check lowercase requirement\n",
    "if requires_lowercase and not any(char.islower() for char in password):\n",
    "    errors.append(\"Password should contain at least one lowercase letter.\")\n",
    "\n",
    "# Check uppercase requirement\n",
    "if requires_uppercase and not any(char.isupper() for char in password):\n",
    "    errors.append(\"Password should contain at least one uppercase letter.\")\n",
    "\n",
    "# Check digit requirement\n",
    "if requires_digit and not any(char.isdigit() for char in password):\n",
    "    errors.append(\"Password should contain at least one digit.\")\n",
    "\n",
    "# Check special character requirement\n",
    "if requires_special_char and not any(char in \"!@#$%^&*()_+[]{}|;:'\\\"<>,.?/~`\" for char in password):\n",
    "    errors.append(\"Password should contain at least one special character.\")\n",
    "\n",
    "# Check if there are any errors\n",
    "if errors:\n",
    "    print(\"\\nPassword validation failed. Please correct the following issues:\")\n",
    "    for error in errors:\n",
    "        print(error)\n",
    "else:\n",
    "    print(\"\\nPassword is valid and meets the complexity requirements.\")"
   ]
  },
  {
   "cell_type": "markdown",
   "id": "b3ded5c1-8d96-498e-851f-3ed0c0bc02e9",
   "metadata": {},
   "source": [
    "32. Develop a program that performs matrix addition and subtraction based on user input."
   ]
  },
  {
   "cell_type": "code",
   "execution_count": 21,
   "id": "354bc68c-b018-4964-9e28-837d7219ea33",
   "metadata": {},
   "outputs": [
    {
     "name": "stdin",
     "output_type": "stream",
     "text": [
      "Enter the number of rows for matrices:  2\n",
      "Enter the number of columns for matrices:  2\n"
     ]
    },
    {
     "name": "stdout",
     "output_type": "stream",
     "text": [
      "Matrix A:\n"
     ]
    },
    {
     "name": "stdin",
     "output_type": "stream",
     "text": [
      "Enter element at position (1,1):  1\n",
      "Enter element at position (1,2):  2\n",
      "Enter element at position (2,1):  3\n",
      "Enter element at position (2,2):  4\n"
     ]
    },
    {
     "name": "stdout",
     "output_type": "stream",
     "text": [
      "Matrix B:\n"
     ]
    },
    {
     "name": "stdin",
     "output_type": "stream",
     "text": [
      "Enter element at position (1,1):  1\n",
      "Enter element at position (1,2):  2\n",
      "Enter element at position (2,1):  3\n",
      "Enter element at position (2,2):  4\n",
      "Choose operation (addition or subtraction):  addition\n"
     ]
    },
    {
     "name": "stdout",
     "output_type": "stream",
     "text": [
      "Result:\n",
      "2.0 4.0\n",
      "6.0 8.0\n"
     ]
    }
   ],
   "source": [
    "# Input matrix dimensions\n",
    "rows = int(input(\"Enter the number of rows for matrices: \"))\n",
    "cols = int(input(\"Enter the number of columns for matrices: \"))\n",
    "\n",
    "# Input two matrices\n",
    "print(\"Matrix A:\")\n",
    "matrix_a = []\n",
    "for i in range(rows):\n",
    "    row = []\n",
    "    for j in range(cols):\n",
    "        element = float(input(f\"Enter element at position ({i+1},{j+1}): \"))\n",
    "        row.append(element)\n",
    "    matrix_a.append(row)\n",
    "\n",
    "print(\"Matrix B:\")\n",
    "matrix_b = []\n",
    "for i in range(rows):\n",
    "    row = []\n",
    "    for j in range(cols):\n",
    "        element = float(input(f\"Enter element at position ({i+1},{j+1}): \"))\n",
    "        row.append(element)\n",
    "    matrix_b.append(row)\n",
    "\n",
    "# Choose operation\n",
    "operation = input(\"Choose operation (addition or subtraction): \").lower()\n",
    "\n",
    "# Perform the chosen operation\n",
    "result_matrix = []\n",
    "if operation == \"addition\":\n",
    "    for i in range(rows):\n",
    "        row = []\n",
    "        for j in range(cols):\n",
    "            row.append(matrix_a[i][j] + matrix_b[i][j])\n",
    "        result_matrix.append(row)\n",
    "elif operation == \"subtraction\":\n",
    "    for i in range(rows):\n",
    "        row = []\n",
    "        for j in range(cols):\n",
    "            row.append(matrix_a[i][j] - matrix_b[i][j])\n",
    "        result_matrix.append(row)\n",
    "else:\n",
    "    result_matrix = None\n",
    "    print(\"Invalid operation!\")\n",
    "\n",
    "# Display the result\n",
    "if result_matrix:\n",
    "    print(\"Result:\")\n",
    "    for row in result_matrix:\n",
    "        print(\" \".join(map(str, row)))\n",
    "else:\n",
    "    print(\"Matrix dimensions are not compatible for the chosen operation.\")"
   ]
  },
  {
   "cell_type": "markdown",
   "id": "f2caf42c-b5e0-4df8-a162-922da9652340",
   "metadata": {},
   "source": [
    "33. Write a program that calculates the greatest common divisor (GCD) of two numbers using the Euclidean\n",
    "algorithm."
   ]
  },
  {
   "cell_type": "code",
   "execution_count": 8,
   "id": "8f6be85a-dbaa-41dc-9ef7-12f3354c3f96",
   "metadata": {},
   "outputs": [
    {
     "data": {
      "text/plain": [
       "15"
      ]
     },
     "execution_count": 8,
     "metadata": {},
     "output_type": "execute_result"
    }
   ],
   "source": [
    "def gcd_euclidean(a, b):\n",
    "    while b:\n",
    "        a, b = b, a % b\n",
    "    return a\n",
    "\n",
    "gcd_euclidean(135, 30)"
   ]
  },
  {
   "cell_type": "markdown",
   "id": "710f592c-82ab-4950-bd1b-7f47d13ec8c9",
   "metadata": {},
   "source": [
    "34. Build a program that performs matrix multiplication using nested loops and conditional statements"
   ]
  },
  {
   "cell_type": "code",
   "execution_count": 26,
   "id": "fd82f7ef-9ba4-460e-bfdd-464a3dc7571a",
   "metadata": {},
   "outputs": [
    {
     "name": "stdout",
     "output_type": "stream",
     "text": [
      "Resultant Matrix:\n",
      "[65, 400]\n",
      "[139, 810]\n"
     ]
    }
   ],
   "source": [
    " # Function to multiply two matrices\n",
    "def matrix_multiply(matrix1, matrix2):\n",
    "    # Get the dimensions of the input matrices\n",
    "    rows1, cols1 = len(matrix1), len(matrix1[0])\n",
    "    rows2, cols2 = len(matrix2), len(matrix2[0])\n",
    "    if cols1 != rows2:\n",
    "        print(\"Matrix multiplication is not possible. Number of columns in matrix 1 must be equal to the number of rows in matrix 2.\")\n",
    "        return None\n",
    "\n",
    "    # Initialize the result matrix with zeros\n",
    "    result = [[0 for _ in range(cols2)] for _ in range(rows1)]\n",
    "\n",
    "    # Perform matrix multiplication using nested loops\n",
    "    for i in range(rows1):\n",
    "        for j in range(cols2):\n",
    "            for k in range(cols1):\n",
    "                result[i][j] += matrix1[i][k] * matrix2[k][j]\n",
    "\n",
    "    return result\n",
    "\n",
    "# Example matrices for testing\n",
    "matrix_A = [\n",
    "    [2, 2, 3],\n",
    "    [4, 5, 6]\n",
    "]\n",
    "\n",
    "matrix_B = [\n",
    "    [7, 10],\n",
    "    [9, 10],\n",
    "    [11, 120]\n",
    "]\n",
    "\n",
    "# Perform matrix multiplication\n",
    "result_matrix = matrix_multiply(matrix_A, matrix_B)\n",
    "\n",
    "# Display the result matrix\n",
    "if result_matrix:\n",
    "    print(\"Resultant Matrix:\")\n",
    "    for row in result_matrix:\n",
    "        print(row)"
   ]
  },
  {
   "cell_type": "markdown",
   "id": "5de8f770-8996-43aa-87e3-10180b196a30",
   "metadata": {},
   "source": [
    "35. Create a program that simulates a basic text-based tic-tac-toe game against the computer"
   ]
  },
  {
   "cell_type": "code",
   "execution_count": 9,
   "id": "c3f32646-571d-4e87-a812-c05abb5e40f2",
   "metadata": {},
   "outputs": [
    {
     "name": "stdout",
     "output_type": "stream",
     "text": [
      "[[0 0 0]\n",
      " [0 0 0]\n",
      " [0 0 0]]\n",
      "Board after 1 move\n",
      "[[0 0 0]\n",
      " [0 0 0]\n",
      " [0 1 0]]\n",
      "Board after 2 move\n",
      "[[0 0 0]\n",
      " [2 0 0]\n",
      " [0 1 0]]\n",
      "Board after 3 move\n",
      "[[0 0 0]\n",
      " [2 0 1]\n",
      " [0 1 0]]\n",
      "Board after 4 move\n",
      "[[0 2 0]\n",
      " [2 0 1]\n",
      " [0 1 0]]\n",
      "Board after 5 move\n",
      "[[0 2 0]\n",
      " [2 1 1]\n",
      " [0 1 0]]\n",
      "Board after 6 move\n",
      "[[2 2 0]\n",
      " [2 1 1]\n",
      " [0 1 0]]\n",
      "Board after 7 move\n",
      "[[2 2 1]\n",
      " [2 1 1]\n",
      " [0 1 0]]\n",
      "Board after 8 move\n",
      "[[2 2 1]\n",
      " [2 1 1]\n",
      " [0 1 2]]\n",
      "Board after 9 move\n",
      "[[2 2 1]\n",
      " [2 1 1]\n",
      " [1 1 2]]\n",
      "Winner is: 1\n"
     ]
    }
   ],
   "source": [
    "# Tic-Tac-Toe Program using\n",
    "# random number in Python\n",
    "\n",
    "# importing all necessary libraries\n",
    "import numpy as np\n",
    "import random\n",
    "from time import sleep\n",
    "\n",
    "# Creates an empty board\n",
    "\n",
    "\n",
    "def create_board():\n",
    "\treturn(np.array([[0, 0, 0],\n",
    "\t\t\t\t\t[0, 0, 0],\n",
    "\t\t\t\t\t[0, 0, 0]]))\n",
    "\n",
    "# Check for empty places on board\n",
    "\n",
    "\n",
    "def possibilities(board):\n",
    "\tl = []\n",
    "\n",
    "\tfor i in range(len(board)):\n",
    "\t\tfor j in range(len(board)):\n",
    "\n",
    "\t\t\tif board[i][j] == 0:\n",
    "\t\t\t\tl.append((i, j))\n",
    "\treturn(l)\n",
    "\n",
    "# Select a random place for the player\n",
    "\n",
    "\n",
    "def random_place(board, player):\n",
    "\tselection = possibilities(board)\n",
    "\tcurrent_loc = random.choice(selection)\n",
    "\tboard[current_loc] = player\n",
    "\treturn(board)\n",
    "\n",
    "# Checks whether the player has three\n",
    "# of their marks in a horizontal row\n",
    "\n",
    "\n",
    "def row_win(board, player):\n",
    "\tfor x in range(len(board)):\n",
    "\t\twin = True\n",
    "\n",
    "\t\tfor y in range(len(board)):\n",
    "\t\t\tif board[x, y] != player:\n",
    "\t\t\t\twin = False\n",
    "\t\t\t\tcontinue\n",
    "\n",
    "\t\tif win == True:\n",
    "\t\t\treturn(win)\n",
    "\treturn(win)\n",
    "\n",
    "# Checks whether the player has three\n",
    "# of their marks in a vertical row\n",
    "\n",
    "\n",
    "def col_win(board, player):\n",
    "\tfor x in range(len(board)):\n",
    "\t\twin = True\n",
    "\n",
    "\t\tfor y in range(len(board)):\n",
    "\t\t\tif board[y][x] != player:\n",
    "\t\t\t\twin = False\n",
    "\t\t\t\tcontinue\n",
    "\n",
    "\t\tif win == True:\n",
    "\t\t\treturn(win)\n",
    "\treturn(win)\n",
    "\n",
    "# Checks whether the player has three\n",
    "# of their marks in a diagonal row\n",
    "\n",
    "\n",
    "def diag_win(board, player):\n",
    "\twin = True\n",
    "\ty = 0\n",
    "\tfor x in range(len(board)):\n",
    "\t\tif board[x, x] != player:\n",
    "\t\t\twin = False\n",
    "\tif win:\n",
    "\t\treturn win\n",
    "\twin = True\n",
    "\tif win:\n",
    "\t\tfor x in range(len(board)):\n",
    "\t\t\ty = len(board) - 1 - x\n",
    "\t\t\tif board[x, y] != player:\n",
    "\t\t\t\twin = False\n",
    "\treturn win\n",
    "\n",
    "# Evaluates whether there is\n",
    "# a winner or a tie\n",
    "\n",
    "\n",
    "def evaluate(board):\n",
    "\twinner = 0\n",
    "\n",
    "\tfor player in [1, 2]:\n",
    "\t\tif (row_win(board, player) or\n",
    "\t\t\t\tcol_win(board, player) or\n",
    "\t\t\t\tdiag_win(board, player)):\n",
    "\n",
    "\t\t\twinner = player\n",
    "\n",
    "\tif np.all(board != 0) and winner == 0:\n",
    "\t\twinner = -1\n",
    "\treturn winner\n",
    "\n",
    "# Main function to start the game\n",
    "\n",
    "\n",
    "def play_game():\n",
    "\tboard, winner, counter = create_board(), 0, 1\n",
    "\tprint(board)\n",
    "\tsleep(2)\n",
    "\n",
    "\twhile winner == 0:\n",
    "\t\tfor player in [1, 2]:\n",
    "\t\t\tboard = random_place(board, player)\n",
    "\t\t\tprint(\"Board after \" + str(counter) + \" move\")\n",
    "\t\t\tprint(board)\n",
    "\t\t\tsleep(2)\n",
    "\t\t\tcounter += 1\n",
    "\t\t\twinner = evaluate(board)\n",
    "\t\t\tif winner != 0:\n",
    "\t\t\t\tbreak\n",
    "\treturn(winner)\n",
    "\n",
    "\n",
    "# Driver Code\n",
    "print(\"Winner is: \" + str(play_game()))\n"
   ]
  },
  {
   "cell_type": "markdown",
   "id": "583df887-eaf9-49c7-8eb2-2fec944740f7",
   "metadata": {},
   "source": [
    "36. Write a program that generates Fibonacci numbers up to a specified term using iterative methods."
   ]
  },
  {
   "cell_type": "code",
   "execution_count": 2,
   "id": "4c753cce-5946-4066-b2ac-6c8085ccafbc",
   "metadata": {},
   "outputs": [
    {
     "name": "stdout",
     "output_type": "stream",
     "text": [
      "Fibonacci Series: 0 1 1 2 3 5 8 13 21 34 \n"
     ]
    }
   ],
   "source": [
    "num = 10\n",
    "n1, n2 = 0, 1\n",
    "print(\"Fibonacci Series:\", n1, n2, end=\" \")\n",
    "for i in range(2, num):\n",
    "    n3 = n1 + n2\n",
    "    n1 = n2\n",
    "    n2 = n3\n",
    "    print(n3, end=\" \")\n",
    "\n",
    "print()"
   ]
  },
  {
   "cell_type": "markdown",
   "id": "cbfb1c66-5a7a-4309-87a6-5fa1d347f59f",
   "metadata": {},
   "source": [
    "37. Develop a program that calculates the nth term of the Fibonacci sequence using memoization."
   ]
  },
  {
   "cell_type": "code",
   "execution_count": 17,
   "id": "bd1a8f7b-8203-4450-9a59-d7a44189f310",
   "metadata": {},
   "outputs": [
    {
     "name": "stdout",
     "output_type": "stream",
     "text": [
      "fibonacci of 1:   0\n",
      "fibonacci of 3:   1\n",
      "fibonacci of 20:  4181\n",
      "fibonacci of 40:  63245986\n"
     ]
    }
   ],
   "source": [
    "def memoization_fib(n, memo={}):\n",
    "    if n in memo:\n",
    "        return memo[n]\n",
    "    if n == 1:\n",
    "        return 0\n",
    "    if n==3 or n==2:\n",
    "        return 1\n",
    "\n",
    "    memo[n] = memoization_fib(n - 1, memo) + memoization_fib(n - 2, memo)\n",
    "    return memo[n]\n",
    "\n",
    "print(\"fibonacci of 1:  \", memoization_fib(1))\n",
    "print(\"fibonacci of 3:  \", memoization_fib(3))\n",
    "print(\"fibonacci of 20: \", memoization_fib(20))\n",
    "print(\"fibonacci of 40: \", memoization_fib(40))"
   ]
  },
  {
   "cell_type": "markdown",
   "id": "467f3b04-cad7-4e4c-a02a-7ecc1fdc9308",
   "metadata": {},
   "source": [
    "38. Create a program that generates a calendar for a given month and year using conditional statements."
   ]
  },
  {
   "cell_type": "code",
   "execution_count": 8,
   "id": "de76e358-a63e-471c-90d4-220503f5e2f8",
   "metadata": {},
   "outputs": [
    {
     "name": "stdin",
     "output_type": "stream",
     "text": [
      "Please enter the Year:  2023\n",
      "Please enter the month:  9\n"
     ]
    },
    {
     "name": "stdout",
     "output_type": "stream",
     "text": [
      "The Calendar of:     September 2023\n",
      "Mo Tu We Th Fr Sa Su\n",
      "             1  2  3\n",
      " 4  5  6  7  8  9 10\n",
      "11 12 13 14 15 16 17\n",
      "18 19 20 21 22 23 24\n",
      "25 26 27 28 29 30\n",
      "\n"
     ]
    }
   ],
   "source": [
    "import calendar  \n",
    "  \n",
    "year = int(input (\"Please enter the Year: \")) \n",
    "month = int(input (\"Please enter the month: \"))     \n",
    "  \n",
    "# Now, we will display the calendar  \n",
    "print(\"The Calendar of: \", calendar.month(year, month)) "
   ]
  },
  {
   "cell_type": "markdown",
   "id": "3be0cd68-ffe4-4de5-8cef-6538c60bbd11",
   "metadata": {},
   "source": [
    "39. Build a program that simulates a basic text-based blackjack game against the computer."
   ]
  },
  {
   "cell_type": "code",
   "execution_count": 6,
   "id": "52a7e170-5e08-4dee-b1e3-ada443e55c25",
   "metadata": {},
   "outputs": [
    {
     "name": "stdout",
     "output_type": "stream",
     "text": [
      "Cards Player Has: [('5', 'Clubs'), ('4', 'Clubs')]\n",
      "Score Of The Player: 9\n",
      "\n",
      "\n"
     ]
    },
    {
     "name": "stdin",
     "output_type": "stream",
     "text": [
      "What do you want? [\"play\" to request another card, \"stop\" to stop]:  play\n"
     ]
    },
    {
     "name": "stdout",
     "output_type": "stream",
     "text": [
      "Cards Player Has: [('5', 'Clubs'), ('4', 'Clubs'), ('2', 'Spades')]\n",
      "Score Of The Player: 11\n",
      "\n",
      "\n"
     ]
    },
    {
     "name": "stdin",
     "output_type": "stream",
     "text": [
      "What do you want? [\"play\" to request another card, \"stop\" to stop]:  play\n"
     ]
    },
    {
     "name": "stdout",
     "output_type": "stream",
     "text": [
      "Cards Player Has: [('5', 'Clubs'), ('4', 'Clubs'), ('2', 'Spades'), ('3', 'Clubs')]\n",
      "Score Of The Player: 14\n",
      "\n",
      "\n"
     ]
    },
    {
     "name": "stdin",
     "output_type": "stream",
     "text": [
      "What do you want? [\"play\" to request another card, \"stop\" to stop]:  play\n"
     ]
    },
    {
     "name": "stdout",
     "output_type": "stream",
     "text": [
      "Cards Player Has: [('5', 'Clubs'), ('4', 'Clubs'), ('2', 'Spades'), ('3', 'Clubs'), ('4', 'Spades')]\n",
      "Score Of The Player: 18\n",
      "\n",
      "\n"
     ]
    },
    {
     "name": "stdin",
     "output_type": "stream",
     "text": [
      "What do you want? [\"play\" to request another card, \"stop\" to stop]:  play\n"
     ]
    },
    {
     "name": "stdout",
     "output_type": "stream",
     "text": [
      "Cards Player Has: [('5', 'Clubs'), ('4', 'Clubs'), ('2', 'Spades'), ('3', 'Clubs'), ('4', 'Spades'), ('Ace', 'Clubs')]\n",
      "Score Of The Player: 29\n",
      "\n",
      "\n"
     ]
    },
    {
     "name": "stdin",
     "output_type": "stream",
     "text": [
      "What do you want? [\"play\" to request another card, \"stop\" to stop]:  play\n"
     ]
    },
    {
     "name": "stdout",
     "output_type": "stream",
     "text": [
      "Cards Dealer Has: [('King', 'Hearts'), ('Ace', 'Spades')]\n",
      "Score Of The Dealer: 21\n",
      "Cards Player Has: [('5', 'Clubs'), ('4', 'Clubs'), ('2', 'Spades'), ('3', 'Clubs'), ('4', 'Spades'), ('Ace', 'Clubs'), ('4', 'Hearts')]\n",
      "Score Of The Player: 29\n",
      "Dealer wins (Player Loss Because Player Score is exceeding 21)\n",
      "Cards Dealer Has: [('King', 'Hearts'), ('Ace', 'Spades')]\n",
      "Score Of The Dealer: 21\n",
      "\n",
      "\n",
      "Cards Dealer Has: [('King', 'Hearts'), ('Ace', 'Spades')]\n",
      "Score Of The Dealer: 21\n",
      "Cards Player Has: [('5', 'Clubs'), ('4', 'Clubs'), ('2', 'Spades'), ('3', 'Clubs'), ('4', 'Spades'), ('Ace', 'Clubs'), ('4', 'Hearts')]\n",
      "Score Of The Player: 29\n",
      "Player wins (Player Has High Score than Dealer)\n"
     ]
    }
   ],
   "source": [
    "import random\n",
    "\n",
    "card_categories = ['Hearts', 'Spades', 'Clubs', 'Spades']\n",
    "cards_list = ['Ace', '2', '3', '4', '5', '6', '7', '8', '9', '10', 'Jack', 'Queen', 'King']\n",
    "deck = [(card, category) for category in card_categories for card in cards_list]\n",
    "\n",
    "def card_value(card):\n",
    "    if card[0] in ['Jack', 'Queen', 'King']:\n",
    "        return 10\n",
    "    elif card[0] == 'Ace':\n",
    "        return 11\n",
    "    else:\n",
    "        return int(card[0])\n",
    "    \n",
    "random.shuffle(deck)\n",
    "player_card = [deck.pop(), deck.pop()]\n",
    "dealer_card = [deck.pop(), deck.pop()]\n",
    "\n",
    "while True:\n",
    "    player_score = sum(card_value(card) for card in player_card)\n",
    "    dealer_score = sum(card_value(card) for card in dealer_card)\n",
    "    print(\"Cards Player Has:\", player_card)\n",
    "    print(\"Score Of The Player:\", player_score)\n",
    "    print(\"\\n\")\n",
    "    choice = input('What do you want? [\"play\" to request another card, \"stop\" to stop]: ').lower()\n",
    "    if choice == \"play\":\n",
    "        new_card = deck.pop()\n",
    "        player_card.append(new_card)\n",
    "    elif choice == \"stop\":\n",
    "        break\n",
    "    else:\n",
    "        print(\"Invalid choice. Please try again.\")\n",
    "        continue\n",
    "\n",
    "    if player_score > 21:\n",
    "        print(\"Cards Dealer Has:\", dealer_card)\n",
    "        print(\"Score Of The Dealer:\", dealer_score)\n",
    "        print(\"Cards Player Has:\", player_card)\n",
    "        print(\"Score Of The Player:\", player_score)\n",
    "        print(\"Dealer wins (Player Loss Because Player Score is exceeding 21)\")\n",
    "        break\n",
    "\n",
    "while dealer_score < 17:\n",
    "    new_card = deck.pop()\n",
    "    dealer_card.append(new_card)\n",
    "    dealer_score += card_value(new_card)\n",
    "\n",
    "print(\"Cards Dealer Has:\", dealer_card)\n",
    "print(\"Score Of The Dealer:\", dealer_score)\n",
    "print(\"\\n\")\n",
    "\n",
    "if dealer_score > 21:\n",
    "    print(\"Cards Dealer Has:\", dealer_card)\n",
    "    print(\"Score Of The Dealer:\", dealer_score)\n",
    "    print(\"Cards Player Has:\", player_card)\n",
    "    print(\"Score Of The Player:\", player_score)\n",
    "    print(\"Player wins (Dealer Loss Because Dealer Score is exceeding 21)\")\n",
    "elif player_score > dealer_score:\n",
    "    print(\"Cards Dealer Has:\", dealer_card)\n",
    "    print(\"Score Of The Dealer:\", dealer_score)\n",
    "    print(\"Cards Player Has:\", player_card)\n",
    "    print(\"Score Of The Player:\", player_score)\n",
    "    print(\"Player wins (Player Has High Score than Dealer)\")\n",
    "elif dealer_score > player_score:\n",
    "    print(\"Cards Dealer Has:\", dealer_card)\n",
    "    print(\"Score Of The Dealer:\", dealer_score)\n",
    "    print(\"Cards Player Has:\", player_card)\n",
    "    print(\"Score Of The Player:\", player_score)\n",
    "    print(\"Dealer wins (Dealer Has High Score than Player)\")\n",
    "else:\n",
    "    print(\"Cards Dealer Has:\", dealer_card)\n",
    "    print(\"Score Of The Dealer:\", dealer_score)\n",
    "    print(\"Cards Player Has:\", player_card)\n",
    "    print(\"Score Of The Player:\", player_score)\n",
    "    print(\"It's a tie.\")\n"
   ]
  },
  {
   "cell_type": "markdown",
   "id": "d0690cf3-15a4-46ce-9b1c-0d996713fcea",
   "metadata": {},
   "source": [
    "40. Write a program that generates the prime factors of a given number using trial division."
   ]
  },
  {
   "cell_type": "code",
   "execution_count": 14,
   "id": "25106c9c-14fe-4736-a906-266ceb619d65",
   "metadata": {},
   "outputs": [
    {
     "data": {
      "text/plain": [
       "[2, 3, 5]"
      ]
     },
     "execution_count": 14,
     "metadata": {},
     "output_type": "execute_result"
    }
   ],
   "source": [
    "def prime_trial(n):\n",
    "    for i in range(2, n):\n",
    "        if n%i==0:\n",
    "            return False\n",
    "            break\n",
    "    return True\n",
    "\n",
    "def prime_factors(n):\n",
    "    prime_factors = []\n",
    "    for i in range(2, n):\n",
    "        if n%i==0 and prime_trial(i):\n",
    "            prime_factors.append(i)\n",
    "    return prime_factors\n",
    "\n",
    "\n",
    "prime_factors(30)\n",
    "            "
   ]
  }
 ],
 "metadata": {
  "kernelspec": {
   "display_name": "Python 3 (ipykernel)",
   "language": "python",
   "name": "python3"
  },
  "language_info": {
   "codemirror_mode": {
    "name": "ipython",
    "version": 3
   },
   "file_extension": ".py",
   "mimetype": "text/x-python",
   "name": "python",
   "nbconvert_exporter": "python",
   "pygments_lexer": "ipython3",
   "version": "3.10.8"
  }
 },
 "nbformat": 4,
 "nbformat_minor": 5
}
